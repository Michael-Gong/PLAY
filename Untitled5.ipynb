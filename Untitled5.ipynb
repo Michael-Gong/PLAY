{
 "cells": [
  {
   "cell_type": "code",
   "execution_count": 6,
   "metadata": {
    "collapsed": true
   },
   "outputs": [],
   "source": [
    "s='asdfaSdf'"
   ]
  },
  {
   "cell_type": "code",
   "execution_count": 7,
   "metadata": {},
   "outputs": [
    {
     "data": {
      "text/plain": [
       "'ASDFAsDF'"
      ]
     },
     "execution_count": 7,
     "metadata": {},
     "output_type": "execute_result"
    }
   ],
   "source": [
    "s.swapcase()"
   ]
  },
  {
   "cell_type": "code",
   "execution_count": 87,
   "metadata": {},
   "outputs": [
    {
     "name": "stdout",
     "output_type": "stream",
     "text": [
      "0.0 0.0\n",
      "0.0 1.0\n",
      "0.0 2.0\n",
      "1.0 3.0\n",
      "1.0 2.0\n",
      "1.0 1.0\n",
      "2.0 0.0\n",
      "2.0 1.0\n",
      "2.0 2.0\n",
      "3.0 3.0\n",
      "3.0 2.0\n",
      "3.0 1.0\n",
      "4.0 0.0\n",
      "4.0 1.0\n",
      "4.0 2.0\n",
      "(array([ 0,  6, 12]),)\n",
      "[ 0  6 12]\n",
      "s\n",
      "f\n",
      "S\n",
      "(array([ 1,  5,  7, 11, 13]),)\n",
      "[ 1  5  7 11 13]\n",
      "d\n",
      "d\n",
      "a\n",
      "a\n",
      "d\n",
      "(array([ 2,  4,  8, 10, 14]),)\n",
      "[ 2  4  8 10 14]\n",
      "f\n",
      "s\n",
      "s\n",
      "f\n",
      "f\n",
      "(array([3, 9]),)\n",
      "[3 9]\n",
      "a\n",
      "d\n",
      "(array([], dtype=int64),)\n",
      "[]\n",
      "(array([], dtype=int64),)\n",
      "[]\n",
      "(array([], dtype=int64),)\n",
      "[]\n",
      "(array([], dtype=int64),)\n",
      "[]\n",
      "(array([], dtype=int64),)\n",
      "[]\n",
      "(array([], dtype=int64),)\n",
      "[]\n",
      "(array([], dtype=int64),)\n",
      "[]\n",
      "(array([], dtype=int64),)\n",
      "[]\n",
      "(array([], dtype=int64),)\n",
      "[]\n",
      "(array([], dtype=int64),)\n",
      "[]\n",
      "(array([], dtype=int64),)\n",
      "[]\n",
      "sfSddaadfssffad\n"
     ]
    }
   ],
   "source": [
    "import numpy as np\n",
    "\n",
    "s='sdfasdfasdfaSdf'\n",
    "n=4\n",
    "\n",
    "x = np.zeros(len(s))\n",
    "y = np.zeros(len(s))\n",
    "\n",
    "for i in range(len(s)):\n",
    "    x[i] = i//(n-1)\n",
    "    if(x[i]%2==0):\n",
    "        y[i] = i-(n-1)*x[i]\n",
    "    else:\n",
    "        y[i] = n-1-(i-(n-1)*x[i])\n",
    "    print(x[i],y[i])\n",
    "result=''\n",
    "for j in range(len(s)):\n",
    "    index1 = np.where(y==j)\n",
    "    print(index1)\n",
    "    index = index1[0]\n",
    "    print(index)\n",
    "    for i in range(np.size(index)):\n",
    "        print(s[index[i]])\n",
    "        result = result + s[index[i]]\n",
    "        \n",
    "print(result)\n",
    "        "
   ]
  },
  {
   "cell_type": "code",
   "execution_count": 74,
   "metadata": {},
   "outputs": [
    {
     "data": {
      "text/plain": [
       "array([ 0,  5,  6, 11, 12])"
      ]
     },
     "execution_count": 74,
     "metadata": {},
     "output_type": "execute_result"
    }
   ],
   "source": [
    "index1[0]"
   ]
  },
  {
   "cell_type": "code",
   "execution_count": 28,
   "metadata": {},
   "outputs": [
    {
     "data": {
      "text/plain": [
       "5"
      ]
     },
     "execution_count": 28,
     "metadata": {},
     "output_type": "execute_result"
    }
   ],
   "source": [
    "np.size(np.where(y==0))"
   ]
  },
  {
   "cell_type": "code",
   "execution_count": 29,
   "metadata": {},
   "outputs": [
    {
     "data": {
      "text/plain": [
       "(array([ 0,  5,  6, 11, 12]),)"
      ]
     },
     "execution_count": 29,
     "metadata": {},
     "output_type": "execute_result"
    }
   ],
   "source": [
    "np.where(y==0)"
   ]
  },
  {
   "cell_type": "code",
   "execution_count": 31,
   "metadata": {},
   "outputs": [
    {
     "data": {
      "text/plain": [
       "'asas'"
      ]
     },
     "execution_count": 31,
     "metadata": {},
     "output_type": "execute_result"
    }
   ],
   "source": [
    "''+'as'+'as'"
   ]
  },
  {
   "cell_type": "code",
   "execution_count": 50,
   "metadata": {},
   "outputs": [
    {
     "data": {
      "text/plain": [
       "(array([ 0,  5,  6, 11, 12]),)"
      ]
     },
     "execution_count": 50,
     "metadata": {},
     "output_type": "execute_result"
    }
   ],
   "source": [
    "index"
   ]
  },
  {
   "cell_type": "code",
   "execution_count": 46,
   "metadata": {},
   "outputs": [
    {
     "data": {
      "text/plain": [
       "(array([ 0,  5,  6, 11, 12]),)"
      ]
     },
     "execution_count": 46,
     "metadata": {},
     "output_type": "execute_result"
    }
   ],
   "source": [
    "np.where(y==j)"
   ]
  },
  {
   "cell_type": "code",
   "execution_count": 101,
   "metadata": {},
   "outputs": [
    {
     "name": "stdout",
     "output_type": "stream",
     "text": [
      "0.0\n",
      "3.0\n",
      "2.0\n",
      "1.0\n",
      "-321\n"
     ]
    }
   ],
   "source": [
    "x=-1230\n",
    "y=-230\n",
    "\n",
    "\n",
    "x1=np.zeros(int(np.log10(abs(x))+1))\n",
    "result=0\n",
    "if x >= 0:\n",
    "    for i in range(len(x1)):\n",
    "        x1[i]= x%10**(i+1)//10**i\n",
    "        print(x1[i])\n",
    "        result = result + x1[i]*10**(len(x1)-i-1)\n",
    "    print(int(result))\n",
    "else:\n",
    "    x = -x\n",
    "    for i in range(len(x1)):\n",
    "        x1[i]= x%10**(i+1)//10**i\n",
    "        print(x1[i])\n",
    "        result = result + x1[i]*10**(len(x1)-i-1)\n",
    "    print(-int(result))"
   ]
  },
  {
   "cell_type": "code",
   "execution_count": 96,
   "metadata": {},
   "outputs": [
    {
     "data": {
      "text/plain": [
       "4"
      ]
     },
     "execution_count": 96,
     "metadata": {},
     "output_type": "execute_result"
    }
   ],
   "source": [
    "len(x1)"
   ]
  },
  {
   "cell_type": "code",
   "execution_count": 103,
   "metadata": {},
   "outputs": [
    {
     "data": {
      "text/plain": [
       "2147483648"
      ]
     },
     "execution_count": 103,
     "metadata": {},
     "output_type": "execute_result"
    }
   ],
   "source": [
    "2**31"
   ]
  },
  {
   "cell_type": "code",
   "execution_count": null,
   "metadata": {
    "collapsed": true
   },
   "outputs": [],
   "source": []
  }
 ],
 "metadata": {
  "kernelspec": {
   "display_name": "Python 3",
   "language": "python",
   "name": "python3"
  },
  "language_info": {
   "codemirror_mode": {
    "name": "ipython",
    "version": 3
   },
   "file_extension": ".py",
   "mimetype": "text/x-python",
   "name": "python",
   "nbconvert_exporter": "python",
   "pygments_lexer": "ipython3",
   "version": "3.6.3"
  }
 },
 "nbformat": 4,
 "nbformat_minor": 2
}
