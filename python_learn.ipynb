{
 "cells": [
  {
   "cell_type": "code",
   "execution_count": 1,
   "metadata": {},
   "outputs": [
    {
     "data": {
      "text/plain": [
       "65280"
      ]
     },
     "execution_count": 1,
     "metadata": {},
     "output_type": "execute_result"
    }
   ],
   "source": [
    "0xff00"
   ]
  },
  {
   "cell_type": "code",
   "execution_count": 3,
   "metadata": {},
   "outputs": [
    {
     "name": "stdout",
     "output_type": "stream",
     "text": [
      "line1... line2... line3\n"
     ]
    }
   ],
   "source": [
    "print('''line1... line2... line3''')"
   ]
  },
  {
   "cell_type": "code",
   "execution_count": 4,
   "metadata": {
    "scrolled": false
   },
   "outputs": [
    {
     "name": "stdout",
     "output_type": "stream",
     "text": [
      "Help on class list in module builtins:\n",
      "\n",
      "class list(object)\n",
      " |  list() -> new empty list\n",
      " |  list(iterable) -> new list initialized from iterable's items\n",
      " |  \n",
      " |  Methods defined here:\n",
      " |  \n",
      " |  __add__(self, value, /)\n",
      " |      Return self+value.\n",
      " |  \n",
      " |  __contains__(self, key, /)\n",
      " |      Return key in self.\n",
      " |  \n",
      " |  __delitem__(self, key, /)\n",
      " |      Delete self[key].\n",
      " |  \n",
      " |  __eq__(self, value, /)\n",
      " |      Return self==value.\n",
      " |  \n",
      " |  __ge__(self, value, /)\n",
      " |      Return self>=value.\n",
      " |  \n",
      " |  __getattribute__(self, name, /)\n",
      " |      Return getattr(self, name).\n",
      " |  \n",
      " |  __getitem__(...)\n",
      " |      x.__getitem__(y) <==> x[y]\n",
      " |  \n",
      " |  __gt__(self, value, /)\n",
      " |      Return self>value.\n",
      " |  \n",
      " |  __iadd__(self, value, /)\n",
      " |      Implement self+=value.\n",
      " |  \n",
      " |  __imul__(self, value, /)\n",
      " |      Implement self*=value.\n",
      " |  \n",
      " |  __init__(self, /, *args, **kwargs)\n",
      " |      Initialize self.  See help(type(self)) for accurate signature.\n",
      " |  \n",
      " |  __iter__(self, /)\n",
      " |      Implement iter(self).\n",
      " |  \n",
      " |  __le__(self, value, /)\n",
      " |      Return self<=value.\n",
      " |  \n",
      " |  __len__(self, /)\n",
      " |      Return len(self).\n",
      " |  \n",
      " |  __lt__(self, value, /)\n",
      " |      Return self<value.\n",
      " |  \n",
      " |  __mul__(self, value, /)\n",
      " |      Return self*value.n\n",
      " |  \n",
      " |  __ne__(self, value, /)\n",
      " |      Return self!=value.\n",
      " |  \n",
      " |  __new__(*args, **kwargs) from builtins.type\n",
      " |      Create and return a new object.  See help(type) for accurate signature.\n",
      " |  \n",
      " |  __repr__(self, /)\n",
      " |      Return repr(self).\n",
      " |  \n",
      " |  __reversed__(...)\n",
      " |      L.__reversed__() -- return a reverse iterator over the list\n",
      " |  \n",
      " |  __rmul__(self, value, /)\n",
      " |      Return self*value.\n",
      " |  \n",
      " |  __setitem__(self, key, value, /)\n",
      " |      Set self[key] to value.\n",
      " |  \n",
      " |  __sizeof__(...)\n",
      " |      L.__sizeof__() -- size of L in memory, in bytes\n",
      " |  \n",
      " |  append(...)\n",
      " |      L.append(object) -> None -- append object to end\n",
      " |  \n",
      " |  clear(...)\n",
      " |      L.clear() -> None -- remove all items from L\n",
      " |  \n",
      " |  copy(...)\n",
      " |      L.copy() -> list -- a shallow copy of L\n",
      " |  \n",
      " |  count(...)\n",
      " |      L.count(value) -> integer -- return number of occurrences of value\n",
      " |  \n",
      " |  extend(...)\n",
      " |      L.extend(iterable) -> None -- extend list by appending elements from the iterable\n",
      " |  \n",
      " |  index(...)\n",
      " |      L.index(value, [start, [stop]]) -> integer -- return first index of value.\n",
      " |      Raises ValueError if the value is not present.\n",
      " |  \n",
      " |  insert(...)\n",
      " |      L.insert(index, object) -- insert object before index\n",
      " |  \n",
      " |  pop(...)\n",
      " |      L.pop([index]) -> item -- remove and return item at index (default last).\n",
      " |      Raises IndexError if list is empty or index is out of range.\n",
      " |  \n",
      " |  remove(...)\n",
      " |      L.remove(value) -> None -- remove first occurrence of value.\n",
      " |      Raises ValueError if the value is not present.\n",
      " |  \n",
      " |  reverse(...)\n",
      " |      L.reverse() -- reverse *IN PLACE*\n",
      " |  \n",
      " |  sort(...)\n",
      " |      L.sort(key=None, reverse=False) -> None -- stable sort *IN PLACE*\n",
      " |  \n",
      " |  ----------------------------------------------------------------------\n",
      " |  Data and other attributes defined here:\n",
      " |  \n",
      " |  __hash__ = None\n",
      "\n"
     ]
    }
   ],
   "source": [
    "help(list)"
   ]
  },
  {
   "cell_type": "code",
   "execution_count": 6,
   "metadata": {},
   "outputs": [
    {
     "data": {
      "text/plain": [
       "4"
      ]
     },
     "execution_count": 6,
     "metadata": {},
     "output_type": "execute_result"
    }
   ],
   "source": [
    "s = ['python', 'java', ['asp', 'php'], 'scheme']\n",
    "len(s)"
   ]
  },
  {
   "cell_type": "code",
   "execution_count": 17,
   "metadata": {},
   "outputs": [
    {
     "name": "stdout",
     "output_type": "stream",
     "text": [
      "birth: 123\n",
      "00前\n"
     ]
    }
   ],
   "source": [
    "s = input('birth: ')\n",
    "birth = int(s)\n",
    "if birth < 2000:\n",
    "    print('00前')\n",
    "else:\n",
    "    print('00后')"
   ]
  },
  {
   "cell_type": "code",
   "execution_count": 18,
   "metadata": {
    "collapsed": true
   },
   "outputs": [],
   "source": [
    "d = {'Michael': 95, 'Bob': 75, 'Tracy': 85}"
   ]
  },
  {
   "cell_type": "code",
   "execution_count": 19,
   "metadata": {},
   "outputs": [
    {
     "data": {
      "text/plain": [
       "False"
      ]
     },
     "execution_count": 19,
     "metadata": {},
     "output_type": "execute_result"
    }
   ],
   "source": [
    "'Thomas' in d"
   ]
  },
  {
   "cell_type": "code",
   "execution_count": 20,
   "metadata": {},
   "outputs": [
    {
     "data": {
      "text/plain": [
       "-1"
      ]
     },
     "execution_count": 20,
     "metadata": {},
     "output_type": "execute_result"
    }
   ],
   "source": [
    "d.get('Thomas', -1)"
   ]
  },
  {
   "cell_type": "code",
   "execution_count": 21,
   "metadata": {
    "collapsed": true
   },
   "outputs": [],
   "source": [
    "d.get('Thomas')"
   ]
  },
  {
   "cell_type": "code",
   "execution_count": 22,
   "metadata": {},
   "outputs": [
    {
     "data": {
      "text/plain": [
       "{'Bob': 75, 'Michael': 95, 'Tracy': 85}"
      ]
     },
     "execution_count": 22,
     "metadata": {},
     "output_type": "execute_result"
    }
   ],
   "source": [
    "d"
   ]
  },
  {
   "cell_type": "code",
   "execution_count": 23,
   "metadata": {},
   "outputs": [
    {
     "data": {
      "text/plain": [
       "{1, 2, 3, 5, 6}"
      ]
     },
     "execution_count": 23,
     "metadata": {},
     "output_type": "execute_result"
    }
   ],
   "source": [
    "set([1,2,3,1,2,2,5,6,2])    "
   ]
  },
  {
   "cell_type": "code",
   "execution_count": 25,
   "metadata": {
    "collapsed": true
   },
   "outputs": [],
   "source": [
    "num=[1,2,3]"
   ]
  },
  {
   "cell_type": "code",
   "execution_count": 34,
   "metadata": {},
   "outputs": [
    {
     "name": "stdout",
     "output_type": "stream",
     "text": [
      "('a', 1)\n",
      "('b', 2)\n",
      "('c', 3)\n"
     ]
    }
   ],
   "source": [
    "d = {'a': 1, 'b': 2, 'c': 3}\n",
    "for key in d.items():\n",
    "    print(key)"
   ]
  },
  {
   "cell_type": "code",
   "execution_count": 35,
   "metadata": {},
   "outputs": [
    {
     "data": {
      "text/plain": [
       "True"
      ]
     },
     "execution_count": 35,
     "metadata": {},
     "output_type": "execute_result"
    }
   ],
   "source": [
    "from collections import Iterable\n",
    "isinstance('abc', Iterable)"
   ]
  },
  {
   "cell_type": "code",
   "execution_count": 37,
   "metadata": {
    "collapsed": true
   },
   "outputs": [],
   "source": [
    "a=enumerate(['A', 'B', 'C'])"
   ]
  },
  {
   "cell_type": "code",
   "execution_count": 38,
   "metadata": {},
   "outputs": [
    {
     "data": {
      "text/plain": [
       "<enumerate at 0x10be93090>"
      ]
     },
     "execution_count": 38,
     "metadata": {},
     "output_type": "execute_result"
    }
   ],
   "source": [
    "a"
   ]
  },
  {
   "cell_type": "code",
   "execution_count": 39,
   "metadata": {},
   "outputs": [
    {
     "data": {
      "text/plain": [
       "[1, 4, 9, 16, 25, 36, 49, 64, 81, 100]"
      ]
     },
     "execution_count": 39,
     "metadata": {},
     "output_type": "execute_result"
    }
   ],
   "source": [
    "[x * x for x in range(1, 11)]"
   ]
  },
  {
   "cell_type": "code",
   "execution_count": 40,
   "metadata": {},
   "outputs": [
    {
     "data": {
      "text/plain": [
       "[4, 16, 36, 64, 100]"
      ]
     },
     "execution_count": 40,
     "metadata": {},
     "output_type": "execute_result"
    }
   ],
   "source": [
    "[x * x for x in range(1, 11) if x % 2 == 0]"
   ]
  },
  {
   "cell_type": "code",
   "execution_count": 41,
   "metadata": {},
   "outputs": [
    {
     "data": {
      "text/plain": [
       "['AX', 'AY', 'AZ', 'BX', 'BY', 'BZ', 'CX', 'CY', 'CZ']"
      ]
     },
     "execution_count": 41,
     "metadata": {},
     "output_type": "execute_result"
    }
   ],
   "source": [
    "[m + n for m in 'ABC' for n in 'XYZ']"
   ]
  },
  {
   "cell_type": "code",
   "execution_count": 44,
   "metadata": {},
   "outputs": [
    {
     "ename": "SyntaxError",
     "evalue": "invalid syntax (<ipython-input-44-7bb44dfd4d45>, line 2)",
     "output_type": "error",
     "traceback": [
      "\u001b[0;36m  File \u001b[0;32m\"<ipython-input-44-7bb44dfd4d45>\"\u001b[0;36m, line \u001b[0;32m2\u001b[0m\n\u001b[0;31m    d for d in os.listdir('.')\u001b[0m\n\u001b[0m        ^\u001b[0m\n\u001b[0;31mSyntaxError\u001b[0m\u001b[0;31m:\u001b[0m invalid syntax\n"
     ]
    }
   ],
   "source": [
    "import os \n",
    "d for d in os.listdir('.')"
   ]
  },
  {
   "cell_type": "code",
   "execution_count": 45,
   "metadata": {
    "collapsed": true
   },
   "outputs": [],
   "source": [
    "d = {'x': 'A', 'y': 'B', 'z': 'C' }"
   ]
  },
  {
   "cell_type": "code",
   "execution_count": 46,
   "metadata": {},
   "outputs": [
    {
     "data": {
      "text/plain": [
       "['x=A', 'y=B', 'z=C']"
      ]
     },
     "execution_count": 46,
     "metadata": {},
     "output_type": "execute_result"
    }
   ],
   "source": [
    "[k + '=' + v for k, v in d.items()]"
   ]
  },
  {
   "cell_type": "code",
   "execution_count": 47,
   "metadata": {
    "collapsed": true
   },
   "outputs": [],
   "source": [
    "g = (x * x for x in range(10))"
   ]
  },
  {
   "cell_type": "code",
   "execution_count": 48,
   "metadata": {},
   "outputs": [
    {
     "data": {
      "text/plain": [
       "<generator object <genexpr> at 0x10bdfbdb0>"
      ]
     },
     "execution_count": 48,
     "metadata": {},
     "output_type": "execute_result"
    }
   ],
   "source": [
    "g"
   ]
  },
  {
   "cell_type": "code",
   "execution_count": 50,
   "metadata": {},
   "outputs": [
    {
     "data": {
      "text/plain": [
       "{0, 1, 4, 9, 16, 25, 36, 49, 64, 81}"
      ]
     },
     "execution_count": 50,
     "metadata": {},
     "output_type": "execute_result"
    }
   ],
   "source": [
    "{x * x for x in range(10)}"
   ]
  },
  {
   "cell_type": "code",
   "execution_count": 52,
   "metadata": {},
   "outputs": [
    {
     "data": {
      "text/plain": [
       "{1, 2, 3, 4, 5, 12}"
      ]
     },
     "execution_count": 52,
     "metadata": {},
     "output_type": "execute_result"
    }
   ],
   "source": [
    "set([1,2,3,4,5,12,1,2])"
   ]
  },
  {
   "cell_type": "code",
   "execution_count": 53,
   "metadata": {
    "collapsed": true
   },
   "outputs": [],
   "source": [
    "def fib(max):\n",
    "    n, a, b = 0, 0, 1\n",
    "    while n < max:\n",
    "        yield b\n",
    "        a, b = b, a + b\n",
    "        n = n + 1\n",
    "    return 'done'"
   ]
  },
  {
   "cell_type": "code",
   "execution_count": 58,
   "metadata": {},
   "outputs": [
    {
     "data": {
      "text/plain": [
       "<generator object fib at 0x10bd446d0>"
      ]
     },
     "execution_count": 58,
     "metadata": {},
     "output_type": "execute_result"
    }
   ],
   "source": [
    "f=fib(6)\n",
    "f"
   ]
  },
  {
   "cell_type": "code",
   "execution_count": 63,
   "metadata": {},
   "outputs": [
    {
     "data": {
      "text/plain": [
       "3"
      ]
     },
     "execution_count": 63,
     "metadata": {},
     "output_type": "execute_result"
    }
   ],
   "source": [
    "\n",
    "next(f)"
   ]
  },
  {
   "cell_type": "code",
   "execution_count": 56,
   "metadata": {
    "collapsed": true
   },
   "outputs": [],
   "source": [
    "def odd():\n",
    "    print('step 1')\n",
    "    yield 1\n",
    "    print('step 2')\n",
    "    yield(3)\n",
    "    print('step 3')\n",
    "    yield(5)"
   ]
  },
  {
   "cell_type": "code",
   "execution_count": 64,
   "metadata": {},
   "outputs": [
    {
     "data": {
      "text/plain": [
       "<function dir>"
      ]
     },
     "execution_count": 64,
     "metadata": {},
     "output_type": "execute_result"
    }
   ],
   "source": [
    "dir"
   ]
  },
  {
   "cell_type": "code",
   "execution_count": 65,
   "metadata": {},
   "outputs": [
    {
     "name": "stdout",
     "output_type": "stream",
     "text": [
      "11\n"
     ]
    }
   ],
   "source": [
    "def add(x, y, f):\n",
    "    return f(x) + f(y)\n",
    "\n",
    "print(add(-5, 6, abs))"
   ]
  },
  {
   "cell_type": "code",
   "execution_count": 66,
   "metadata": {
    "collapsed": true
   },
   "outputs": [],
   "source": [
    "def f(x):\n",
    "...     return x * x"
   ]
  },
  {
   "cell_type": "code",
   "execution_count": 67,
   "metadata": {
    "collapsed": true
   },
   "outputs": [],
   "source": [
    "r = map(f, [1, 2, 3, 4, 5, 6, 7, 8, 9])"
   ]
  },
  {
   "cell_type": "code",
   "execution_count": 70,
   "metadata": {},
   "outputs": [
    {
     "data": {
      "text/plain": [
       "['1', '2', '3', '4', '5', '6', '7', '8', '9']"
      ]
     },
     "execution_count": 70,
     "metadata": {},
     "output_type": "execute_result"
    }
   ],
   "source": [
    "list(map(str, [1, 2, 3, 4, 5, 6, 7, 8, 9]))"
   ]
  },
  {
   "cell_type": "code",
   "execution_count": 73,
   "metadata": {},
   "outputs": [
    {
     "data": {
      "text/plain": [
       "[0.8414709848078965,\n",
       " 0.90929742682568171,\n",
       " 0.14112000805986721,\n",
       " -0.7568024953079282,\n",
       " -0.95892427466313845,\n",
       " -0.27941549819892586,\n",
       " 0.65698659871878906,\n",
       " 0.98935824662338179,\n",
       " 0.41211848524175659]"
      ]
     },
     "execution_count": 73,
     "metadata": {},
     "output_type": "execute_result"
    }
   ],
   "source": [
    "import numpy as np\n",
    "list(map(np.sin,[1,2,3,4,5,6,7,8,9]))"
   ]
  },
  {
   "cell_type": "code",
   "execution_count": 81,
   "metadata": {},
   "outputs": [
    {
     "data": {
      "text/plain": [
       "13579"
      ]
     },
     "execution_count": 81,
     "metadata": {},
     "output_type": "execute_result"
    }
   ],
   "source": [
    "from functools import reduce\n",
    "def fn(x, y):\n",
    "    return x * 10 + y\n",
    "def char2num(s):\n",
    "    digits = {'0': 0, '1': 1, '2': 2, '3': 3, '4': 4, '5': 5, '6': 6, '7': 7, '8': 8, '9': 9}\n",
    "    return digits[s]\n",
    "\n",
    "reduce(fn, map(char2num, '13579'))"
   ]
  },
  {
   "cell_type": "code",
   "execution_count": 82,
   "metadata": {
    "collapsed": true
   },
   "outputs": [],
   "source": [
    "from functools import reduce\n",
    "\n",
    "DIGITS = {'0': 0, '1': 1, '2': 2, '3': 3, '4': 4, '5': 5, '6': 6, '7': 7, '8': 8, '9': 9}\n",
    "\n",
    "def str2int(s):\n",
    "    def fn(x, y):\n",
    "        return x * 10 + y\n",
    "    def char2num(s):\n",
    "        return DIGITS[s]\n",
    "    return reduce(fn, map(char2num, s))"
   ]
  },
  {
   "cell_type": "code",
   "execution_count": 90,
   "metadata": {
    "collapsed": true
   },
   "outputs": [],
   "source": [
    "x=np.array(range(1,11))"
   ]
  },
  {
   "cell_type": "code",
   "execution_count": 93,
   "metadata": {},
   "outputs": [
    {
     "data": {
      "text/plain": [
       "[1, 5, 9, 15]"
      ]
     },
     "execution_count": 93,
     "metadata": {},
     "output_type": "execute_result"
    }
   ],
   "source": [
    "def is_odd(n):\n",
    "    return n % 2 == 1\n",
    "\n",
    "list(filter(is_odd, [1, 2, 4, 5, 6, 9, 10, 15]))"
   ]
  },
  {
   "cell_type": "code",
   "execution_count": 102,
   "metadata": {
    "collapsed": true
   },
   "outputs": [],
   "source": [
    "s='    '"
   ]
  },
  {
   "cell_type": "code",
   "execution_count": 103,
   "metadata": {},
   "outputs": [
    {
     "data": {
      "text/plain": [
       "''"
      ]
     },
     "execution_count": 103,
     "metadata": {},
     "output_type": "execute_result"
    }
   ],
   "source": [
    "s.strip()"
   ]
  },
  {
   "cell_type": "code",
   "execution_count": 107,
   "metadata": {
    "collapsed": true
   },
   "outputs": [],
   "source": [
    "def _odd_iter():\n",
    "    n = 1\n",
    "    while True:\n",
    "        n = n + 2\n",
    "        yield n\n",
    "def _not_divisible(n):\n",
    "    return lambda x: x % n > 0\n",
    "def primes():\n",
    "    yield 2\n",
    "    it = _odd_iter() # 初始序列\n",
    "    while True:\n",
    "        n = next(it) # 返回序列的第一个数\n",
    "        yield n\n",
    "        it = filter(_not_divisible(n), it) # 构造新序列"
   ]
  },
  {
   "cell_type": "code",
   "execution_count": 108,
   "metadata": {
    "scrolled": false
   },
   "outputs": [
    {
     "name": "stdout",
     "output_type": "stream",
     "text": [
      "2\n",
      "3\n",
      "5\n",
      "7\n",
      "11\n",
      "13\n",
      "17\n",
      "19\n",
      "23\n",
      "29\n",
      "31\n",
      "37\n",
      "41\n",
      "43\n",
      "47\n",
      "53\n",
      "59\n",
      "61\n",
      "67\n",
      "71\n",
      "73\n",
      "79\n",
      "83\n",
      "89\n",
      "97\n",
      "101\n",
      "103\n",
      "107\n",
      "109\n",
      "113\n",
      "127\n",
      "131\n",
      "137\n",
      "139\n",
      "149\n",
      "151\n",
      "157\n",
      "163\n",
      "167\n",
      "173\n",
      "179\n",
      "181\n",
      "191\n",
      "193\n",
      "197\n",
      "199\n",
      "211\n",
      "223\n",
      "227\n",
      "229\n",
      "233\n",
      "239\n",
      "241\n",
      "251\n",
      "257\n",
      "263\n",
      "269\n",
      "271\n",
      "277\n",
      "281\n",
      "283\n",
      "293\n",
      "307\n",
      "311\n",
      "313\n",
      "317\n",
      "331\n",
      "337\n",
      "347\n",
      "349\n",
      "353\n",
      "359\n",
      "367\n",
      "373\n",
      "379\n",
      "383\n",
      "389\n",
      "397\n",
      "401\n",
      "409\n",
      "419\n",
      "421\n",
      "431\n",
      "433\n",
      "439\n",
      "443\n",
      "449\n",
      "457\n",
      "461\n",
      "463\n",
      "467\n",
      "479\n",
      "487\n",
      "491\n",
      "499\n",
      "503\n",
      "509\n",
      "521\n",
      "523\n",
      "541\n",
      "547\n",
      "557\n",
      "563\n",
      "569\n",
      "571\n",
      "577\n",
      "587\n",
      "593\n",
      "599\n",
      "601\n",
      "607\n",
      "613\n",
      "617\n",
      "619\n",
      "631\n",
      "641\n",
      "643\n",
      "647\n",
      "653\n",
      "659\n",
      "661\n",
      "673\n",
      "677\n",
      "683\n",
      "691\n",
      "701\n",
      "709\n",
      "719\n",
      "727\n",
      "733\n",
      "739\n",
      "743\n",
      "751\n",
      "757\n",
      "761\n",
      "769\n",
      "773\n",
      "787\n",
      "797\n",
      "809\n",
      "811\n",
      "821\n",
      "823\n",
      "827\n",
      "829\n",
      "839\n",
      "853\n",
      "857\n",
      "859\n",
      "863\n",
      "877\n",
      "881\n",
      "883\n",
      "887\n",
      "907\n",
      "911\n",
      "919\n",
      "929\n",
      "937\n",
      "941\n",
      "947\n",
      "953\n",
      "967\n",
      "971\n",
      "977\n",
      "983\n",
      "991\n",
      "997\n"
     ]
    }
   ],
   "source": [
    "# 打印1000以内的素数:\n",
    "for n in primes():\n",
    "    if n < 1000:\n",
    "        print(n)\n",
    "    else:\n",
    "        break"
   ]
  },
  {
   "cell_type": "code",
   "execution_count": 109,
   "metadata": {},
   "outputs": [
    {
     "data": {
      "text/plain": [
       "[5, 9, -12, -21, 36]"
      ]
     },
     "execution_count": 109,
     "metadata": {},
     "output_type": "execute_result"
    }
   ],
   "source": [
    " sorted([36, 5, -12, 9, -21], key=abs)"
   ]
  },
  {
   "cell_type": "code",
   "execution_count": 110,
   "metadata": {
    "collapsed": true
   },
   "outputs": [],
   "source": [
    "def lazy_sum(*args):\n",
    "    def sum():\n",
    "        ax = 0\n",
    "        for n in args:\n",
    "            ax = ax + n\n",
    "        return ax\n",
    "    return sum"
   ]
  },
  {
   "cell_type": "code",
   "execution_count": 112,
   "metadata": {},
   "outputs": [
    {
     "data": {
      "text/plain": [
       "True"
      ]
     },
     "execution_count": 112,
     "metadata": {},
     "output_type": "execute_result"
    }
   ],
   "source": [
    "f1 = lazy_sum(1, 3, 5, 7, 9)\n",
    "f2 = lazy_sum(1, 3, 5, 7, 9)\n",
    "f1()==f2()"
   ]
  },
  {
   "cell_type": "code",
   "execution_count": 113,
   "metadata": {
    "collapsed": true
   },
   "outputs": [],
   "source": [
    "def now():\n",
    "    print('2015-3-25')"
   ]
  },
  {
   "cell_type": "code",
   "execution_count": 114,
   "metadata": {
    "collapsed": true
   },
   "outputs": [],
   "source": [
    "f=now"
   ]
  },
  {
   "cell_type": "code",
   "execution_count": 115,
   "metadata": {},
   "outputs": [
    {
     "data": {
      "text/plain": [
       "<function __main__.now>"
      ]
     },
     "execution_count": 115,
     "metadata": {},
     "output_type": "execute_result"
    }
   ],
   "source": [
    "f"
   ]
  },
  {
   "cell_type": "code",
   "execution_count": 116,
   "metadata": {},
   "outputs": [
    {
     "name": "stdout",
     "output_type": "stream",
     "text": [
      "2015-3-25\n"
     ]
    }
   ],
   "source": [
    "f()"
   ]
  },
  {
   "cell_type": "code",
   "execution_count": 119,
   "metadata": {},
   "outputs": [
    {
     "data": {
      "text/plain": [
       "'now'"
      ]
     },
     "execution_count": 119,
     "metadata": {},
     "output_type": "execute_result"
    }
   ],
   "source": [
    "f.__name__"
   ]
  },
  {
   "cell_type": "code",
   "execution_count": 128,
   "metadata": {},
   "outputs": [
    {
     "data": {
      "text/plain": [
       "[<function __main__.<genexpr>.<lambda>>,\n",
       " <function __main__.<genexpr>.<lambda>>,\n",
       " <function __main__.<genexpr>.<lambda>>,\n",
       " <function __main__.<genexpr>.<lambda>>,\n",
       " <function __main__.<genexpr>.<lambda>>,\n",
       " <function __main__.<genexpr>.<lambda>>,\n",
       " <function __main__.<genexpr>.<lambda>>,\n",
       " <function __main__.<genexpr>.<lambda>>,\n",
       " <function __main__.<genexpr>.<lambda>>,\n",
       " <function __main__.<genexpr>.<lambda>>]"
      ]
     },
     "execution_count": 128,
     "metadata": {},
     "output_type": "execute_result"
    }
   ],
   "source": [
    "list(lambda x:int(x,base=4) for x in range(10))"
   ]
  },
  {
   "cell_type": "code",
   "execution_count": 129,
   "metadata": {},
   "outputs": [
    {
     "name": "stdout",
     "output_type": "stream",
     "text": [
      "Too many arguments!\n"
     ]
    }
   ],
   "source": [
    "#!/usr/bin/env python3\n",
    "# -*- coding: utf-8 -*-\n",
    "\n",
    "' a test module '\n",
    "\n",
    "__author__ = 'Michael Liao'\n",
    "\n",
    "import sys\n",
    "\n",
    "def test():\n",
    "    args = sys.argv\n",
    "    if len(args)==1:\n",
    "        print('Hello, world!')\n",
    "    elif len(args)==2:\n",
    "        print('Hello, %s!' % args[1])\n",
    "    else:\n",
    "        print('Too many arguments!')\n",
    "\n",
    "if __name__=='__main__':\n",
    "    test()\n"
   ]
  },
  {
   "cell_type": "code",
   "execution_count": 130,
   "metadata": {},
   "outputs": [
    {
     "data": {
      "text/plain": [
       "['',\n",
       " '/Users/michael/laser_plasma/epoch-4.8.4/SDF/utilities',\n",
       " '/Users/michael/anaconda3/lib/python36.zip',\n",
       " '/Users/michael/anaconda3/lib/python3.6',\n",
       " '/Users/michael/anaconda3/lib/python3.6/lib-dynload',\n",
       " '/Users/michael/.local/lib/python3.6/site-packages',\n",
       " '/Users/michael/anaconda3/lib/python3.6/site-packages',\n",
       " '/Users/michael/anaconda3/lib/python3.6/site-packages/aeosa',\n",
       " '/Users/michael/anaconda3/lib/python3.6/site-packages/IPython/extensions',\n",
       " '/Users/michael/.ipython']"
      ]
     },
     "execution_count": 130,
     "metadata": {},
     "output_type": "execute_result"
    }
   ],
   "source": [
    "import sys\n",
    "sys.path"
   ]
  },
  {
   "cell_type": "code",
   "execution_count": 134,
   "metadata": {
    "collapsed": true
   },
   "outputs": [],
   "source": [
    "class Student(object):\n",
    "\n",
    "    def __init__(self, name, score):\n",
    "        self.__name = name\n",
    "        self.__score = score\n",
    "\n",
    "    def print_score(self):\n",
    "        print('%s: %s' % (self.__name, self.__score))\n",
    "    def get_name(self):\n",
    "        return self.__name\n",
    "\n",
    "    def get_score(self):\n",
    "        return self.__score\n",
    "    def set_score(self, score):\n",
    "        if 0 <= score <= 100:\n",
    "            self.__score = score\n",
    "        else:\n",
    "            raise ValueError('bad score')"
   ]
  },
  {
   "cell_type": "code",
   "execution_count": 135,
   "metadata": {
    "collapsed": true
   },
   "outputs": [],
   "source": [
    "bart = Student('Bart Simpson', 59)"
   ]
  },
  {
   "cell_type": "code",
   "execution_count": 140,
   "metadata": {
    "collapsed": true
   },
   "outputs": [],
   "source": [
    "class Animal(object):\n",
    "    def run(self):\n",
    "        print('Animal is running...')\n",
    "\n",
    "class Dog(Animal):\n",
    "    def run(self):\n",
    "        print('dog is running...')\n",
    "\n",
    "class Cat(Animal):\n",
    "    def run(self):\n",
    "        print('cat is running...')"
   ]
  },
  {
   "cell_type": "code",
   "execution_count": 141,
   "metadata": {},
   "outputs": [
    {
     "name": "stdout",
     "output_type": "stream",
     "text": [
      "dog is running...\n",
      "cat is running...\n"
     ]
    }
   ],
   "source": [
    "dog = Dog()\n",
    "dog.run()\n",
    "\n",
    "cat = Cat()\n",
    "cat.run()"
   ]
  },
  {
   "cell_type": "code",
   "execution_count": 144,
   "metadata": {},
   "outputs": [
    {
     "data": {
      "text/plain": [
       "<generator object <genexpr> at 0x10cf39410>"
      ]
     },
     "execution_count": 144,
     "metadata": {},
     "output_type": "execute_result"
    }
   ],
   "source": [
    "(x for x in range(10))"
   ]
  },
  {
   "cell_type": "code",
   "execution_count": 145,
   "metadata": {},
   "outputs": [
    {
     "data": {
      "text/plain": [
       "['__abs__',\n",
       " '__add__',\n",
       " '__bool__',\n",
       " '__class__',\n",
       " '__delattr__',\n",
       " '__dir__',\n",
       " '__divmod__',\n",
       " '__doc__',\n",
       " '__eq__',\n",
       " '__float__',\n",
       " '__floordiv__',\n",
       " '__format__',\n",
       " '__ge__',\n",
       " '__getattribute__',\n",
       " '__getformat__',\n",
       " '__getnewargs__',\n",
       " '__gt__',\n",
       " '__hash__',\n",
       " '__init__',\n",
       " '__init_subclass__',\n",
       " '__int__',\n",
       " '__le__',\n",
       " '__lt__',\n",
       " '__mod__',\n",
       " '__mul__',\n",
       " '__ne__',\n",
       " '__neg__',\n",
       " '__new__',\n",
       " '__pos__',\n",
       " '__pow__',\n",
       " '__radd__',\n",
       " '__rdivmod__',\n",
       " '__reduce__',\n",
       " '__reduce_ex__',\n",
       " '__repr__',\n",
       " '__rfloordiv__',\n",
       " '__rmod__',\n",
       " '__rmul__',\n",
       " '__round__',\n",
       " '__rpow__',\n",
       " '__rsub__',\n",
       " '__rtruediv__',\n",
       " '__setattr__',\n",
       " '__setformat__',\n",
       " '__sizeof__',\n",
       " '__str__',\n",
       " '__sub__',\n",
       " '__subclasshook__',\n",
       " '__truediv__',\n",
       " '__trunc__',\n",
       " 'as_integer_ratio',\n",
       " 'conjugate',\n",
       " 'fromhex',\n",
       " 'hex',\n",
       " 'imag',\n",
       " 'is_integer',\n",
       " 'real']"
      ]
     },
     "execution_count": 145,
     "metadata": {},
     "output_type": "execute_result"
    }
   ],
   "source": [
    "dir(2.34)"
   ]
  },
  {
   "cell_type": "code",
   "execution_count": 148,
   "metadata": {
    "collapsed": true
   },
   "outputs": [],
   "source": [
    "class Student(object):\n",
    "    __slots__ = ('name', 'age')"
   ]
  },
  {
   "cell_type": "code",
   "execution_count": 149,
   "metadata": {
    "collapsed": true
   },
   "outputs": [],
   "source": [
    "s = Student()"
   ]
  },
  {
   "cell_type": "code",
   "execution_count": 150,
   "metadata": {
    "collapsed": true
   },
   "outputs": [],
   "source": [
    "s.name = 'Michael'"
   ]
  },
  {
   "cell_type": "code",
   "execution_count": 151,
   "metadata": {
    "collapsed": true
   },
   "outputs": [],
   "source": [
    "s.age = 25 "
   ]
  },
  {
   "cell_type": "code",
   "execution_count": 152,
   "metadata": {},
   "outputs": [
    {
     "ename": "AttributeError",
     "evalue": "'Student' object has no attribute 'score'",
     "output_type": "error",
     "traceback": [
      "\u001b[0;31m---------------------------------------------------------------------------\u001b[0m",
      "\u001b[0;31mAttributeError\u001b[0m                            Traceback (most recent call last)",
      "\u001b[0;32m<ipython-input-152-2329d313a8cb>\u001b[0m in \u001b[0;36m<module>\u001b[0;34m()\u001b[0m\n\u001b[0;32m----> 1\u001b[0;31m \u001b[0ms\u001b[0m\u001b[0;34m.\u001b[0m\u001b[0mscore\u001b[0m \u001b[0;34m=\u001b[0m \u001b[0;36m99\u001b[0m\u001b[0;34m\u001b[0m\u001b[0m\n\u001b[0m",
      "\u001b[0;31mAttributeError\u001b[0m: 'Student' object has no attribute 'score'"
     ]
    }
   ],
   "source": [
    "s.score = 99"
   ]
  },
  {
   "cell_type": "code",
   "execution_count": 153,
   "metadata": {
    "collapsed": true
   },
   "outputs": [],
   "source": [
    "class GraduateStudent(Student):\n",
    "    pass"
   ]
  },
  {
   "cell_type": "code",
   "execution_count": 154,
   "metadata": {
    "collapsed": true
   },
   "outputs": [],
   "source": [
    "g = GraduateStudent()"
   ]
  },
  {
   "cell_type": "code",
   "execution_count": 155,
   "metadata": {
    "collapsed": true
   },
   "outputs": [],
   "source": [
    "g.score = 9999"
   ]
  },
  {
   "cell_type": "code",
   "execution_count": 158,
   "metadata": {},
   "outputs": [
    {
     "data": {
      "text/plain": [
       "['__class__',\n",
       " '__delattr__',\n",
       " '__dict__',\n",
       " '__dir__',\n",
       " '__doc__',\n",
       " '__eq__',\n",
       " '__format__',\n",
       " '__ge__',\n",
       " '__getattribute__',\n",
       " '__gt__',\n",
       " '__hash__',\n",
       " '__init__',\n",
       " '__init_subclass__',\n",
       " '__le__',\n",
       " '__lt__',\n",
       " '__module__',\n",
       " '__ne__',\n",
       " '__new__',\n",
       " '__reduce__',\n",
       " '__reduce_ex__',\n",
       " '__repr__',\n",
       " '__setattr__',\n",
       " '__sizeof__',\n",
       " '__slots__',\n",
       " '__str__',\n",
       " '__subclasshook__',\n",
       " '__weakref__',\n",
       " 'age',\n",
       " 'name',\n",
       " 'score']"
      ]
     },
     "execution_count": 158,
     "metadata": {},
     "output_type": "execute_result"
    }
   ],
   "source": [
    "g.age = 1\n",
    "dir(g)"
   ]
  },
  {
   "cell_type": "code",
   "execution_count": 159,
   "metadata": {
    "collapsed": true
   },
   "outputs": [],
   "source": [
    "from enum import Enum\n",
    "\n",
    "Month = Enum('Month', ('Jan', 'Feb', 'Mar', 'Apr', 'May', 'Jun', 'Jul', 'Aug', 'Sep', 'Oct', 'Nov', 'Dec'))"
   ]
  },
  {
   "cell_type": "code",
   "execution_count": 160,
   "metadata": {},
   "outputs": [
    {
     "name": "stdout",
     "output_type": "stream",
     "text": [
      "Jan => Month.Jan , 1\n",
      "Feb => Month.Feb , 2\n",
      "Mar => Month.Mar , 3\n",
      "Apr => Month.Apr , 4\n",
      "May => Month.May , 5\n",
      "Jun => Month.Jun , 6\n",
      "Jul => Month.Jul , 7\n",
      "Aug => Month.Aug , 8\n",
      "Sep => Month.Sep , 9\n",
      "Oct => Month.Oct , 10\n",
      "Nov => Month.Nov , 11\n",
      "Dec => Month.Dec , 12\n"
     ]
    }
   ],
   "source": [
    "for name, member in Month.__members__.items():\n",
    "    print(name, '=>', member, ',', member.value)"
   ]
  },
  {
   "cell_type": "code",
   "execution_count": 1,
   "metadata": {
    "collapsed": true
   },
   "outputs": [],
   "source": [
    "def foo():\n",
    "    r = some_function()\n",
    "    if r==(-1):\n",
    "        return (-1)\n",
    "    # do something\n",
    "    return r\n",
    "\n",
    "def bar():\n",
    "    r = foo()\n",
    "    if r==(-1):\n",
    "        print('Error')\n",
    "    else:\n",
    "        pass"
   ]
  },
  {
   "cell_type": "code",
   "execution_count": 2,
   "metadata": {},
   "outputs": [
    {
     "name": "stdout",
     "output_type": "stream",
     "text": [
      "try...\n",
      "except: division by zero\n",
      "finally...\n",
      "END\n"
     ]
    }
   ],
   "source": [
    "try:\n",
    "    print('try...')\n",
    "    r = 10 / 0\n",
    "    print('result:', r)\n",
    "except ZeroDivisionError as e:\n",
    "    print('except:', e)\n",
    "finally:\n",
    "    print('finally...')\n",
    "print('END')"
   ]
  },
  {
   "cell_type": "code",
   "execution_count": 3,
   "metadata": {},
   "outputs": [
    {
     "name": "stdout",
     "output_type": "stream",
     "text": [
      "try...\n",
      "ValueError: invalid literal for int() with base 10: 'a'\n",
      "finally...\n",
      "END\n"
     ]
    }
   ],
   "source": [
    "try:\n",
    "    print('try...')\n",
    "    r = 10 / int('a')\n",
    "    print('result:', r)\n",
    "except ValueError as e:\n",
    "    print('ValueError:', e)\n",
    "except ZeroDivisionError as e:\n",
    "    print('ZeroDivisionError:', e)\n",
    "finally:\n",
    "    print('finally...')\n",
    "print('END')"
   ]
  },
  {
   "cell_type": "code",
   "execution_count": 4,
   "metadata": {},
   "outputs": [
    {
     "name": "stdout",
     "output_type": "stream",
     "text": [
      "try...\n",
      "result: 5.0\n",
      "no error!\n",
      "finally...\n",
      "END\n"
     ]
    }
   ],
   "source": [
    "try:\n",
    "    print('try...')\n",
    "    r = 10 / int('2')\n",
    "    print('result:', r)\n",
    "except ValueError as e:\n",
    "    print('ValueError:', e)\n",
    "except ZeroDivisionError as e:\n",
    "    print('ZeroDivisionError:', e)\n",
    "else:\n",
    "    print('no error!')\n",
    "finally:\n",
    "    print('finally...')\n",
    "print('END')"
   ]
  },
  {
   "cell_type": "code",
   "execution_count": 5,
   "metadata": {
    "collapsed": true
   },
   "outputs": [],
   "source": [
    "def foo(s):\n",
    "    return 10 / int(s)\n",
    "\n",
    "def bar(s):\n",
    "    return foo(s) * 2\n",
    "\n",
    "def main():\n",
    "    try:\n",
    "        bar('0')\n",
    "    except Exception as e:\n",
    "        print('Error:', e)\n",
    "    finally:\n",
    "        print('finally...')"
   ]
  },
  {
   "cell_type": "code",
   "execution_count": 6,
   "metadata": {},
   "outputs": [
    {
     "name": "stdout",
     "output_type": "stream",
     "text": [
      "Error: division by zero\n",
      "finally...\n"
     ]
    }
   ],
   "source": [
    "main()"
   ]
  },
  {
   "cell_type": "code",
   "execution_count": 8,
   "metadata": {},
   "outputs": [
    {
     "name": "stderr",
     "output_type": "stream",
     "text": [
      "ERROR:root:division by zero\n",
      "Traceback (most recent call last):\n",
      "  File \"<ipython-input-8-ea577b29965b>\", line 11, in main\n",
      "    bar('0')\n",
      "  File \"<ipython-input-8-ea577b29965b>\", line 7, in bar\n",
      "    return foo(s) * 2\n",
      "  File \"<ipython-input-8-ea577b29965b>\", line 4, in foo\n",
      "    return 10 / int(s)\n",
      "ZeroDivisionError: division by zero\n"
     ]
    },
    {
     "name": "stdout",
     "output_type": "stream",
     "text": [
      "END\n"
     ]
    }
   ],
   "source": [
    "import logging\n",
    "\n",
    "def foo(s):\n",
    "    return 10 / int(s)\n",
    "\n",
    "def bar(s):\n",
    "    return foo(s) * 2\n",
    "\n",
    "def main():\n",
    "    try:\n",
    "        bar('0')\n",
    "    except Exception as e:\n",
    "        logging.exception(e)\n",
    "\n",
    "main()\n",
    "print('END')"
   ]
  },
  {
   "cell_type": "code",
   "execution_count": 11,
   "metadata": {
    "collapsed": true
   },
   "outputs": [],
   "source": [
    "def foo(s):\n",
    "    n = int(s)\n",
    "    assert n != 0, 'n is zero!'\n",
    "    return 10 / n\n",
    "\n",
    "def main():\n",
    "    foo('0')"
   ]
  },
  {
   "cell_type": "code",
   "execution_count": 13,
   "metadata": {},
   "outputs": [
    {
     "name": "stdout",
     "output_type": "stream",
     "text": [
      "--Return--\n",
      "> <ipython-input-13-f0817c3d11f5>(5)<module>()->None\n",
      "-> pdb.set_trace() # 运行到这里会自动暂停\n",
      "(Pdb) p s\n",
      "'0'\n",
      "(Pdb) p n\n",
      "0\n",
      "(Pdb) n\n",
      "> /Users/michael/anaconda3/lib/python3.6/site-packages/IPython/core/interactiveshell.py(2865)run_code()\n",
      "-> sys.excepthook = old_excepthook\n",
      "(Pdb) n\n",
      "> /Users/michael/anaconda3/lib/python3.6/site-packages/IPython/core/interactiveshell.py(2881)run_code()\n",
      "-> outflag = False\n",
      "(Pdb) c\n"
     ]
    },
    {
     "ename": "ZeroDivisionError",
     "evalue": "division by zero",
     "output_type": "error",
     "traceback": [
      "\u001b[0;31m---------------------------------------------------------------------------\u001b[0m",
      "\u001b[0;31mZeroDivisionError\u001b[0m                         Traceback (most recent call last)",
      "\u001b[0;32m<ipython-input-13-f0817c3d11f5>\u001b[0m in \u001b[0;36m<module>\u001b[0;34m()\u001b[0m\n\u001b[1;32m      4\u001b[0m \u001b[0mn\u001b[0m \u001b[0;34m=\u001b[0m \u001b[0mint\u001b[0m\u001b[0;34m(\u001b[0m\u001b[0ms\u001b[0m\u001b[0;34m)\u001b[0m\u001b[0;34m\u001b[0m\u001b[0m\n\u001b[1;32m      5\u001b[0m \u001b[0mpdb\u001b[0m\u001b[0;34m.\u001b[0m\u001b[0mset_trace\u001b[0m\u001b[0;34m(\u001b[0m\u001b[0;34m)\u001b[0m \u001b[0;31m# 运行到这里会自动暂停\u001b[0m\u001b[0;34m\u001b[0m\u001b[0m\n\u001b[0;32m----> 6\u001b[0;31m \u001b[0mprint\u001b[0m\u001b[0;34m(\u001b[0m\u001b[0;36m10\u001b[0m \u001b[0;34m/\u001b[0m \u001b[0mn\u001b[0m\u001b[0;34m)\u001b[0m\u001b[0;34m\u001b[0m\u001b[0m\n\u001b[0m",
      "\u001b[0;31mZeroDivisionError\u001b[0m: division by zero"
     ]
    }
   ],
   "source": [
    "import pdb\n",
    "\n",
    "s = '0'\n",
    "n = int(s)\n",
    "pdb.set_trace() # 运行到这里会自动暂停\n",
    "print(10 / n)"
   ]
  },
  {
   "cell_type": "code",
   "execution_count": 14,
   "metadata": {
    "collapsed": true
   },
   "outputs": [],
   "source": [
    "class Dict(dict):\n",
    "\n",
    "    def __init__(self, **kw):\n",
    "        super().__init__(**kw)\n",
    "\n",
    "    def __getattr__(self, key):\n",
    "        try:\n",
    "            return self[key]\n",
    "        except KeyError:\n",
    "            raise AttributeError(r\"'Dict' object has no attribute '%s'\" % key)\n",
    "\n",
    "    def __setattr__(self, key, value):\n",
    "        self[key] = value"
   ]
  },
  {
   "cell_type": "code",
   "execution_count": 15,
   "metadata": {},
   "outputs": [
    {
     "ename": "ModuleNotFoundError",
     "evalue": "No module named 'mydict'",
     "output_type": "error",
     "traceback": [
      "\u001b[0;31m---------------------------------------------------------------------------\u001b[0m",
      "\u001b[0;31mModuleNotFoundError\u001b[0m                       Traceback (most recent call last)",
      "\u001b[0;32m<ipython-input-15-b6498cac6110>\u001b[0m in \u001b[0;36m<module>\u001b[0;34m()\u001b[0m\n\u001b[1;32m      1\u001b[0m \u001b[0;32mimport\u001b[0m \u001b[0munittest\u001b[0m\u001b[0;34m\u001b[0m\u001b[0m\n\u001b[1;32m      2\u001b[0m \u001b[0;34m\u001b[0m\u001b[0m\n\u001b[0;32m----> 3\u001b[0;31m \u001b[0;32mfrom\u001b[0m \u001b[0mmydict\u001b[0m \u001b[0;32mimport\u001b[0m \u001b[0mDict\u001b[0m\u001b[0;34m\u001b[0m\u001b[0m\n\u001b[0m\u001b[1;32m      4\u001b[0m \u001b[0;34m\u001b[0m\u001b[0m\n\u001b[1;32m      5\u001b[0m \u001b[0;32mclass\u001b[0m \u001b[0mTestDict\u001b[0m\u001b[0;34m(\u001b[0m\u001b[0munittest\u001b[0m\u001b[0;34m.\u001b[0m\u001b[0mTestCase\u001b[0m\u001b[0;34m)\u001b[0m\u001b[0;34m:\u001b[0m\u001b[0;34m\u001b[0m\u001b[0m\n",
      "\u001b[0;31mModuleNotFoundError\u001b[0m: No module named 'mydict'"
     ]
    }
   ],
   "source": [
    "import unittest\n",
    "\n",
    "from mydict import Dict\n",
    "\n",
    "class TestDict(unittest.TestCase):\n",
    "\n",
    "    def test_init(self):\n",
    "        d = Dict(a=1, b='test')\n",
    "        self.assertEqual(d.a, 1)\n",
    "        self.assertEqual(d.b, 'test')\n",
    "        self.assertTrue(isinstance(d, dict))\n",
    "\n",
    "    def test_key(self):\n",
    "        d = Dict()\n",
    "        d['key'] = 'value'\n",
    "        self.assertEqual(d.key, 'value')\n",
    "\n",
    "    def test_attr(self):\n",
    "        d = Dict()\n",
    "        d.key = 'value'\n",
    "        self.assertTrue('key' in d)\n",
    "        self.assertEqual(d['key'], 'value')\n",
    "\n",
    "    def test_keyerror(self):\n",
    "        d = Dict()\n",
    "        with self.assertRaises(KeyError):\n",
    "            value = d['empty']\n",
    "\n",
    "    def test_attrerror(self):\n",
    "        d = Dict()\n",
    "        with self.assertRaises(AttributeError):\n",
    "            value = d.empty"
   ]
  },
  {
   "cell_type": "code",
   "execution_count": 17,
   "metadata": {
    "collapsed": true
   },
   "outputs": [],
   "source": [
    "import os"
   ]
  },
  {
   "cell_type": "code",
   "execution_count": 18,
   "metadata": {},
   "outputs": [
    {
     "data": {
      "text/plain": [
       "'posix'"
      ]
     },
     "execution_count": 18,
     "metadata": {},
     "output_type": "execute_result"
    }
   ],
   "source": [
    "os.name"
   ]
  },
  {
   "cell_type": "code",
   "execution_count": 19,
   "metadata": {},
   "outputs": [
    {
     "data": {
      "text/plain": [
       "posix.uname_result(sysname='Darwin', nodename='MBP.attlocal.net', release='18.0.0', version='Darwin Kernel Version 18.0.0: Wed Aug 22 20:13:40 PDT 2018; root:xnu-4903.201.2~1/RELEASE_X86_64', machine='x86_64')"
      ]
     },
     "execution_count": 19,
     "metadata": {},
     "output_type": "execute_result"
    }
   ],
   "source": [
    "os.uname()"
   ]
  },
  {
   "cell_type": "code",
   "execution_count": 20,
   "metadata": {},
   "outputs": [
    {
     "data": {
      "text/plain": [
       "environ({'TERM_PROGRAM': 'Apple_Terminal', 'SHELL': '/bin/bash', 'TERM': 'xterm-color', 'CLICOLOR': '1', 'TMPDIR': '/var/folders/l3/cqrrszp15n1625b824k7zpkc0000gn/T/', 'Apple_PubSub_Socket_Render': '/private/tmp/com.apple.launchd.NHDM7dI2Vj/Render', 'TERM_PROGRAM_VERSION': '421', 'OLDPWD': '/Users/michael', 'TERM_SESSION_ID': '04AD433E-AE59-496D-B90E-66A11C601005', 'USER': 'michael', 'LS_COLORS': 'rs=0:di=01;34:ln=01;36:mh=00:pi=40;33:so=01;35:do=01;35:bd=40;33;01:cd=40;33;01:or=40;31;01:mi=00:su=37;41:sg=30;43:ca=30;41:tw=30;42:ow=34;42:st=37;44:ex=01;32:*.tar=01;31:*.tgz=01;31:*.arc=01;31:*.arj=01;31:*.taz=01;31:*.lha=01;31:*.lz4=01;31:*.lzh=01;31:*.lzma=01;31:*.tlz=01;31:*.txz=01;31:*.tzo=01;31:*.t7z=01;31:*.zip=01;31:*.z=01;31:*.Z=01;31:*.dz=01;31:*.gz=01;31:*.lrz=01;31:*.lz=01;31:*.lzo=01;31:*.xz=01;31:*.zst=01;31:*.tzst=01;31:*.bz2=01;31:*.bz=01;31:*.tbz=01;31:*.tbz2=01;31:*.tz=01;31:*.deb=01;31:*.rpm=01;31:*.jar=01;31:*.war=01;31:*.ear=01;31:*.sar=01;31:*.rar=01;31:*.alz=01;31:*.ace=01;31:*.zoo=01;31:*.cpio=01;31:*.7z=01;31:*.rz=01;31:*.cab=01;31:*.wim=01;31:*.swm=01;31:*.dwm=01;31:*.esd=01;31:*.jpg=01;35:*.jpeg=01;35:*.mjpg=01;35:*.mjpeg=01;35:*.gif=01;35:*.bmp=01;35:*.pbm=01;35:*.pgm=01;35:*.ppm=01;35:*.tga=01;35:*.xbm=01;35:*.xpm=01;35:*.tif=01;35:*.tiff=01;35:*.png=01;35:*.svg=01;35:*.svgz=01;35:*.mng=01;35:*.pcx=01;35:*.mov=01;35:*.mpg=01;35:*.mpeg=01;35:*.m2v=01;35:*.mkv=01;35:*.webm=01;35:*.ogm=01;35:*.mp4=01;35:*.m4v=01;35:*.mp4v=01;35:*.vob=01;35:*.qt=01;35:*.nuv=01;35:*.wmv=01;35:*.asf=01;35:*.rm=01;35:*.rmvb=01;35:*.flc=01;35:*.avi=01;35:*.fli=01;35:*.flv=01;35:*.gl=01;35:*.dl=01;35:*.xcf=01;35:*.xwd=01;35:*.yuv=01;35:*.cgm=01;35:*.emf=01;35:*.ogv=01;35:*.ogx=01;35:*.aac=00;36:*.au=00;36:*.flac=00;36:*.m4a=00;36:*.mid=00;36:*.midi=00;36:*.mka=00;36:*.mp3=00;36:*.mpc=00;36:*.ogg=00;36:*.ra=00;36:*.wav=00;36:*.oga=00;36:*.opus=00;36:*.spx=00;36:*.xspf=00;36:', 'SSH_AUTH_SOCK': '/private/tmp/com.apple.launchd.wV3hdTJ2If/Listeners', 'LSCOLORS': 'exgxfxdxcxbxfxaxaxGxGx', 'PATH': '/Users/michael/ImageMagick-7.0.7/bin:/Users/michael/anaconda3/bin:/Applications/VisIt.app/Contents/Resources/bin:/Applications/VisIt.app/Contents/MacOS:/Applications/anaconda/bin:/Library/Frameworks/Python.framework/Versions/3.5/bin:/usr/local/opt/coreutils/libexec/gnubin:/usr/local/bin:/usr/bin:/bin:/usr/sbin:/sbin:/Library/TeX/texbin:/opt/X11/bin:/User/michael/bin/:/Users/michael/bin/', 'PWD': '/Users/michael/play', 'LANG': 'en_US.UTF-8', 'XPC_FLAGS': '0x0', 'MAGICK_HOME': '/Users/michael/ImageMagick-7.0.7', 'XPC_SERVICE_NAME': '0', 'SHLVL': '1', 'HOME': '/Users/michael', 'LS_OPTIONS': '--color=auto', 'DYLD_LIBRARY_PATH': '/Users/michael/ImageMagick-7.0.7/lib/', 'PYTHONPATH': '/Users/michael/laser_plasma/epoch-4.8.4/SDF/utilities', 'LOGNAME': 'michael', 'ucsd_ip': '132.239.202.248', 'DISPLAY': '/private/tmp/com.apple.launchd.c7ah9yljkL/org.macosforge.xquartz:0', '_': '/Users/michael/anaconda3/bin/jupyter-notebook', '__CF_USER_TEXT_ENCODING': '0x1F5:0x0:0x0', 'JPY_PARENT_PID': '30610', 'PAGER': 'cat', 'GIT_PAGER': 'cat', 'MPLBACKEND': 'module://ipykernel.pylab.backend_inline'})"
      ]
     },
     "execution_count": 20,
     "metadata": {},
     "output_type": "execute_result"
    }
   ],
   "source": [
    "os.environ"
   ]
  },
  {
   "cell_type": "code",
   "execution_count": 21,
   "metadata": {},
   "outputs": [
    {
     "data": {
      "text/plain": [
       "'/Users/michael/ImageMagick-7.0.7/bin:/Users/michael/anaconda3/bin:/Applications/VisIt.app/Contents/Resources/bin:/Applications/VisIt.app/Contents/MacOS:/Applications/anaconda/bin:/Library/Frameworks/Python.framework/Versions/3.5/bin:/usr/local/opt/coreutils/libexec/gnubin:/usr/local/bin:/usr/bin:/bin:/usr/sbin:/sbin:/Library/TeX/texbin:/opt/X11/bin:/User/michael/bin/:/Users/michael/bin/'"
      ]
     },
     "execution_count": 21,
     "metadata": {},
     "output_type": "execute_result"
    }
   ],
   "source": [
    "os.environ.get('PATH')"
   ]
  },
  {
   "cell_type": "code",
   "execution_count": 22,
   "metadata": {},
   "outputs": [
    {
     "data": {
      "text/plain": [
       "('/path/to/file', '.txt')"
      ]
     },
     "execution_count": 22,
     "metadata": {},
     "output_type": "execute_result"
    }
   ],
   "source": [
    "os.path.splitext('/path/to/file.txt')"
   ]
  },
  {
   "cell_type": "code",
   "execution_count": 23,
   "metadata": {},
   "outputs": [
    {
     "data": {
      "text/plain": [
       "['Particle_Trace-master',\n",
       " 'neural_style',\n",
       " 'test1',\n",
       " 'mpitest',\n",
       " 'C-Rad_100',\n",
       " '__pycache__',\n",
       " '2015lab1-master',\n",
       " 'C-Rad_10000',\n",
       " 'youkuang',\n",
       " '.ipynb_checkpoints',\n",
       " 'test3',\n",
       " 'test2',\n",
       " 'Data',\n",
       " 'C-Rad_1',\n",
       " 'src']"
      ]
     },
     "execution_count": 23,
     "metadata": {},
     "output_type": "execute_result"
    }
   ],
   "source": [
    "[x for x in os.listdir('.') if os.path.isdir(x)]"
   ]
  },
  {
   "cell_type": "code",
   "execution_count": 24,
   "metadata": {},
   "outputs": [
    {
     "data": {
      "text/plain": [
       "['process_Rad_omega_phi.py',\n",
       " 'plot3d.py',\n",
       " 'sole.py',\n",
       " 'process_Rad_phi_theta.py',\n",
       " 'plot_trajectory.py',\n",
       " 'plot_efield_retard.py',\n",
       " 'bremsstrhlung_1.py',\n",
       " 'plot_efield.py',\n",
       " 'aaa.py',\n",
       " 'calculate_ex_epoch_retard.py',\n",
       " 'process_QED_edge_photon.py',\n",
       " 'dI_dwdphi.py',\n",
       " 'post_rr_spectral.py',\n",
       " 'plot_density.py',\n",
       " 'bremsstrhlung.py',\n",
       " 'brem_spectrum_2.py',\n",
       " 'brem_spectrum.py',\n",
       " 'plot_hist.py',\n",
       " 'dI_dw.py',\n",
       " 'process_Rad_omega_comb.py',\n",
       " 'process_Rad_omega_theta.py',\n",
       " 'plot_class.py',\n",
       " 'process_Rad_phi_theta_polar.py',\n",
       " 'cut_Rad_omega_comb.py',\n",
       " 'calculate_field_retard.py',\n",
       " 'process_QED_photon.py',\n",
       " '3d_volume.py',\n",
       " 'calculate_ex_epoch_1d.py',\n",
       " 'bremsstrhlung_2.py',\n",
       " 'calculate_ex_epoch_2d.py',\n",
       " 'calculate_ex_epoch_3d.py',\n",
       " 'process_Rad_omega_total.py',\n",
       " 'scrapy.py',\n",
       " 'calculate_field_retard_2.py']"
      ]
     },
     "execution_count": 24,
     "metadata": {},
     "output_type": "execute_result"
    }
   ],
   "source": [
    "[x for x in os.listdir('.') if os.path.isfile(x) and os.path.splitext(x)[1]=='.py']"
   ]
  },
  {
   "cell_type": "code",
   "execution_count": 25,
   "metadata": {
    "collapsed": true
   },
   "outputs": [],
   "source": [
    "d = dict(name='Bob', age=20, score=88)"
   ]
  },
  {
   "cell_type": "code",
   "execution_count": 26,
   "metadata": {},
   "outputs": [
    {
     "data": {
      "text/plain": [
       "{'age': 20, 'name': 'Bob', 'score': 88}"
      ]
     },
     "execution_count": 26,
     "metadata": {},
     "output_type": "execute_result"
    }
   ],
   "source": [
    "d"
   ]
  },
  {
   "cell_type": "code",
   "execution_count": 1,
   "metadata": {},
   "outputs": [
    {
     "name": "stdout",
     "output_type": "stream",
     "text": [
      "Process (39630) start...\n",
      "I (39630) just created a child process (39721).\n",
      "I am child process (39721) and my parent is 39630.\n"
     ]
    }
   ],
   "source": [
    "import os\n",
    "\n",
    "print('Process (%s) start...' % os.getpid())\n",
    "# Only works on Unix/Linux/Mac:\n",
    "pid = os.fork()\n",
    "if pid == 0:\n",
    "    print('I am child process (%s) and my parent is %s.' % (os.getpid(), os.getppid()))\n",
    "else:\n",
    "    print('I (%s) just created a child process (%s).' % (os.getpid(), pid))"
   ]
  },
  {
   "cell_type": "code",
   "execution_count": 2,
   "metadata": {},
   "outputs": [
    {
     "name": "stdout",
     "output_type": "stream",
     "text": [
      "Parent process 39630.\n",
      "Child process will start.\n",
      "Run child process test (39748)...\n",
      "Child process end.\n"
     ]
    }
   ],
   "source": [
    "from multiprocessing import Process\n",
    "import os\n",
    "\n",
    "# 子进程要执行的代码\n",
    "def run_proc(name):\n",
    "    print('Run child process %s (%s)...' % (name, os.getpid()))\n",
    "\n",
    "if __name__=='__main__':\n",
    "    print('Parent process %s.' % os.getpid())\n",
    "    p = Process(target=run_proc, args=('test',))\n",
    "    print('Child process will start.')\n",
    "    p.start()\n",
    "    p.join()\n",
    "    print('Child process end.')"
   ]
  },
  {
   "cell_type": "code",
   "execution_count": 5,
   "metadata": {},
   "outputs": [
    {
     "name": "stdout",
     "output_type": "stream",
     "text": [
      "Parent process 39630.\n",
      "Run task 0 (39858)...\n",
      "Run task 1 (39859)...\n",
      "Run task 2 (39860)...\n",
      "Run task 4 (39862)...\n",
      "Run task 3 (39861)...\n",
      "Waiting for all subprocesses done...\n",
      "Task 0 runs 1.25 seconds.\n",
      "Task 4 runs 1.32 seconds.\n",
      "Task 1 runs 2.24 seconds.\n",
      "Task 3 runs 2.39 seconds.\n",
      "Task 2 runs 2.91 seconds.\n",
      "All subprocesses done.\n"
     ]
    }
   ],
   "source": [
    "from multiprocessing import Pool\n",
    "import os, time, random\n",
    "\n",
    "def long_time_task(name):\n",
    "    print('Run task %s (%s)...' % (name, os.getpid()))\n",
    "    start = time.time()\n",
    "    time.sleep(random.random() * 3)\n",
    "    end = time.time()\n",
    "    print('Task %s runs %0.2f seconds.' % (name, (end - start)))\n",
    "\n",
    "if __name__=='__main__':\n",
    "    print('Parent process %s.' % os.getpid())\n",
    "    p = Pool(5)\n",
    "    for i in range(5):\n",
    "        p.apply_async(long_time_task, args=(i,))\n",
    "    print('Waiting for all subprocesses done...')\n",
    "    p.close()\n",
    "    p.join()\n",
    "    print('All subprocesses done.')"
   ]
  },
  {
   "cell_type": "code",
   "execution_count": 7,
   "metadata": {},
   "outputs": [
    {
     "name": "stdout",
     "output_type": "stream",
     "text": [
      "$ nslookup www.python.org\n",
      "Exit code: 0\n"
     ]
    }
   ],
   "source": [
    "import subprocess\n",
    "\n",
    "print('$ nslookup www.python.org')\n",
    "r = subprocess.call(['nslookup', 'www.python.org'])\n",
    "print('Exit code:', r)"
   ]
  },
  {
   "cell_type": "code",
   "execution_count": 8,
   "metadata": {},
   "outputs": [
    {
     "name": "stdout",
     "output_type": "stream",
     "text": [
      "$ nslookup\n",
      "Server:\t\t2600:1700:e680:f030::1\n",
      "Address:\t2600:1700:e680:f030::1#53\n",
      "\n",
      "Non-authoritative answer:\n",
      "python.org\tmail exchanger = 50 mail.python.org.\n",
      "\n",
      "Authoritative answers can be found from:\n",
      "\n",
      "\n",
      "Exit code: 0\n"
     ]
    }
   ],
   "source": [
    "import subprocess\n",
    "\n",
    "print('$ nslookup')\n",
    "p = subprocess.Popen(['nslookup'], stdin=subprocess.PIPE, stdout=subprocess.PIPE, stderr=subprocess.PIPE)\n",
    "output, err = p.communicate(b'set q=mx\\npython.org\\nexit\\n')\n",
    "print(output.decode('utf-8'))\n",
    "print('Exit code:', p.returncode)"
   ]
  },
  {
   "cell_type": "code",
   "execution_count": 9,
   "metadata": {},
   "outputs": [
    {
     "name": "stdout",
     "output_type": "stream",
     "text": [
      "Process to write: 39943\n",
      "Put A to queue...\n",
      "Process to read: 39944\n",
      "Get A from queue.\n",
      "Put B to queue...\n",
      "Get B from queue.\n",
      "Put C to queue...\n",
      "Get C from queue.\n"
     ]
    }
   ],
   "source": [
    "from multiprocessing import Process, Queue\n",
    "import os, time, random\n",
    "\n",
    "# 写数据进程执行的代码:\n",
    "def write(q):\n",
    "    print('Process to write: %s' % os.getpid())\n",
    "    for value in ['A', 'B', 'C']:\n",
    "        print('Put %s to queue...' % value)\n",
    "        q.put(value)\n",
    "        time.sleep(random.random())\n",
    "\n",
    "# 读数据进程执行的代码:\n",
    "def read(q):\n",
    "    print('Process to read: %s' % os.getpid())\n",
    "    while True:\n",
    "        value = q.get(True)\n",
    "        print('Get %s from queue.' % value)\n",
    "\n",
    "if __name__=='__main__':\n",
    "    # 父进程创建Queue，并传给各个子进程：\n",
    "    q = Queue()\n",
    "    pw = Process(target=write, args=(q,))\n",
    "    pr = Process(target=read, args=(q,))\n",
    "    # 启动子进程pw，写入:\n",
    "    pw.start()\n",
    "    # 启动子进程pr，读取:\n",
    "    pr.start()\n",
    "    # 等待pw结束:\n",
    "    pw.join()\n",
    "    # pr进程里是死循环，无法等待其结束，只能强行终止:\n",
    "    pr.terminate()"
   ]
  },
  {
   "cell_type": "code",
   "execution_count": 10,
   "metadata": {},
   "outputs": [
    {
     "name": "stdout",
     "output_type": "stream",
     "text": [
      "thread MainThread is running...thread LoopThread is running...\n",
      "\n",
      "thread LoopThread >>> 1\n",
      "thread LoopThread >>> 2\n",
      "thread LoopThread >>> 3\n",
      "thread LoopThread >>> 4\n",
      "thread LoopThread >>> 5\n",
      "thread LoopThread ended.thread MainThread ended.\n",
      "\n"
     ]
    }
   ],
   "source": [
    "import time, threading\n",
    "\n",
    "# 新线程执行的代码:\n",
    "def loop():\n",
    "    print('thread %s is running...' % threading.current_thread().name)\n",
    "    n = 0\n",
    "    while n < 5:\n",
    "        n = n + 1\n",
    "        print('thread %s >>> %s' % (threading.current_thread().name, n))\n",
    "        time.sleep(1)\n",
    "    print('thread %s ended.' % threading.current_thread().name)\n",
    "\n",
    "print('thread %s is running...' % threading.current_thread().name)\n",
    "t = threading.Thread(target=loop, name='LoopThread')\n",
    "t.start()\n",
    "t.join()\n",
    "print('thread %s ended.' % threading.current_thread().name)"
   ]
  },
  {
   "cell_type": "code",
   "execution_count": 14,
   "metadata": {},
   "outputs": [
    {
     "name": "stdout",
     "output_type": "stream",
     "text": [
      "0\n"
     ]
    }
   ],
   "source": [
    "import time, threading\n",
    "\n",
    "# 假定这是你的银行存款:\n",
    "balance = 0\n",
    "\n",
    "def change_it(n):\n",
    "    # 先存后取，结果应该为0:\n",
    "    global balance\n",
    "    balance = balance + n\n",
    "    balance = balance - n\n",
    "\n",
    "def run_thread(n):\n",
    "    for i in range(100000):\n",
    "        change_it(n)\n",
    "\n",
    "t1 = threading.Thread(target=run_thread, args=(5,))\n",
    "t2 = threading.Thread(target=run_thread, args=(8,))\n",
    "t1.start()\n",
    "t2.start()\n",
    "t1.join()\n",
    "t2.join()\n",
    "print(balance)"
   ]
  },
  {
   "cell_type": "code",
   "execution_count": 15,
   "metadata": {
    "collapsed": true
   },
   "outputs": [],
   "source": [
    "balance = 0\n",
    "lock = threading.Lock()\n",
    "\n",
    "def run_thread(n):\n",
    "    for i in range(100000):\n",
    "        # 先要获取锁:\n",
    "        lock.acquire()\n",
    "        try:\n",
    "            # 放心地改吧:\n",
    "            change_it(n)\n",
    "        finally:\n",
    "            # 改完了一定要释放锁:\n",
    "            lock.release()"
   ]
  },
  {
   "cell_type": "code",
   "execution_count": 16,
   "metadata": {
    "collapsed": true
   },
   "outputs": [],
   "source": [
    "import threading, multiprocessing\n",
    "\n",
    "def loop():\n",
    "    x = 0\n",
    "    while True:\n",
    "        x = x ^ 1\n",
    "\n",
    "for i in range(multiprocessing.cpu_count()):\n",
    "    t = threading.Thread(target=loop)\n",
    "    t.start()"
   ]
  },
  {
   "cell_type": "code",
   "execution_count": 1,
   "metadata": {},
   "outputs": [
    {
     "name": "stdout",
     "output_type": "stream",
     "text": [
      "Hello, Alice (in Thread-A)Hello, Bob (in Thread-B)\n",
      "\n"
     ]
    }
   ],
   "source": [
    "import threading\n",
    "\n",
    "# 创建全局ThreadLocal对象:\n",
    "local_school = threading.local()\n",
    "\n",
    "def process_student():\n",
    "    # 获取当前线程关联的student:\n",
    "    std = local_school.student\n",
    "    print('Hello, %s (in %s)' % (std, threading.current_thread().name))\n",
    "\n",
    "def process_thread(name):\n",
    "    # 绑定ThreadLocal的student:\n",
    "    local_school.student = name\n",
    "    process_student()\n",
    "\n",
    "t1 = threading.Thread(target= process_thread, args=('Alice',), name='Thread-A')\n",
    "t2 = threading.Thread(target= process_thread, args=('Bob',), name='Thread-B')\n",
    "t1.start()\n",
    "t2.start()\n",
    "t1.join()\n",
    "t2.join()"
   ]
  },
  {
   "cell_type": "code",
   "execution_count": 2,
   "metadata": {
    "collapsed": true
   },
   "outputs": [],
   "source": [
    "import re"
   ]
  },
  {
   "cell_type": "code",
   "execution_count": 3,
   "metadata": {},
   "outputs": [
    {
     "data": {
      "text/plain": [
       "<_sre.SRE_Match object; span=(0, 9), match='010-12345'>"
      ]
     },
     "execution_count": 3,
     "metadata": {},
     "output_type": "execute_result"
    }
   ],
   "source": [
    "re.match(r'^\\d{3}\\-\\d{3,8}$', '010-12345')"
   ]
  },
  {
   "cell_type": "code",
   "execution_count": 4,
   "metadata": {
    "collapsed": true
   },
   "outputs": [],
   "source": [
    " re.match(r'^\\d{3}\\-\\d{3,8}$', '010 12345')"
   ]
  },
  {
   "cell_type": "code",
   "execution_count": 5,
   "metadata": {},
   "outputs": [
    {
     "data": {
      "text/plain": [
       "['a', 'b', '', '', 'c']"
      ]
     },
     "execution_count": 5,
     "metadata": {},
     "output_type": "execute_result"
    }
   ],
   "source": [
    " 'a b   c'.split(' ')"
   ]
  },
  {
   "cell_type": "code",
   "execution_count": 6,
   "metadata": {},
   "outputs": [
    {
     "data": {
      "text/plain": [
       "['a', 'b', 'c']"
      ]
     },
     "execution_count": 6,
     "metadata": {},
     "output_type": "execute_result"
    }
   ],
   "source": [
    "re.split(r'\\s+', 'a b   c')"
   ]
  },
  {
   "cell_type": "code",
   "execution_count": 8,
   "metadata": {},
   "outputs": [
    {
     "data": {
      "text/plain": [
       "'\\\\s+'"
      ]
     },
     "execution_count": 8,
     "metadata": {},
     "output_type": "execute_result"
    }
   ],
   "source": [
    "r'\\s+'"
   ]
  },
  {
   "cell_type": "code",
   "execution_count": 9,
   "metadata": {},
   "outputs": [
    {
     "data": {
      "text/plain": [
       "['a', 'b', 'c', 'd']"
      ]
     },
     "execution_count": 9,
     "metadata": {},
     "output_type": "execute_result"
    }
   ],
   "source": [
    "re.split(r'[\\s\\,]+', 'a,b, c  d')"
   ]
  },
  {
   "cell_type": "code",
   "execution_count": 10,
   "metadata": {},
   "outputs": [
    {
     "data": {
      "text/plain": [
       "['a', 'b', 'c', 'd']"
      ]
     },
     "execution_count": 10,
     "metadata": {},
     "output_type": "execute_result"
    }
   ],
   "source": [
    "re.split(r'[\\s\\,\\;]+', 'a,b;; c  d')"
   ]
  },
  {
   "cell_type": "code",
   "execution_count": 1,
   "metadata": {
    "collapsed": true
   },
   "outputs": [],
   "source": [
    " from collections import namedtuple"
   ]
  },
  {
   "cell_type": "code",
   "execution_count": 2,
   "metadata": {},
   "outputs": [
    {
     "name": "stderr",
     "output_type": "stream",
     "text": [
      "usage: ipykernel_launcher.py [-h] [-u USER] [-c COLOR]\n",
      "ipykernel_launcher.py: error: unrecognized arguments: -f /Users/michael/Library/Jupyter/runtime/kernel-e443d297-5a3e-4818-afca-8346f906a84d.json\n"
     ]
    },
    {
     "ename": "SystemExit",
     "evalue": "2",
     "output_type": "error",
     "traceback": [
      "An exception has occurred, use %tb to see the full traceback.\n",
      "\u001b[0;31mSystemExit\u001b[0m\u001b[0;31m:\u001b[0m 2\n"
     ]
    },
    {
     "name": "stderr",
     "output_type": "stream",
     "text": [
      "/Users/michael/anaconda3/lib/python3.6/site-packages/IPython/core/interactiveshell.py:2870: UserWarning: To exit: use 'exit', 'quit', or Ctrl-D.\n",
      "  warn(\"To exit: use 'exit', 'quit', or Ctrl-D.\", stacklevel=1)\n"
     ]
    }
   ],
   "source": [
    "from collections import ChainMap\n",
    "import os, argparse\n",
    "\n",
    "# 构造缺省参数:\n",
    "defaults = {\n",
    "    'color': 'red',\n",
    "    'user': 'guest'\n",
    "}\n",
    "\n",
    "# 构造命令行参数:\n",
    "parser = argparse.ArgumentParser()\n",
    "parser.add_argument('-u', '--user')\n",
    "parser.add_argument('-c', '--color')\n",
    "namespace = parser.parse_args()\n",
    "command_line_args = { k: v for k, v in vars(namespace).items() if v }\n",
    "\n",
    "# 组合成ChainMap:\n",
    "combined = ChainMap(command_line_args, os.environ, defaults)\n",
    "\n",
    "# 打印参数:\n",
    "print('color=%s' % combined['color'])\n",
    "print('user=%s' % combined['user'])"
   ]
  },
  {
   "cell_type": "code",
   "execution_count": 8,
   "metadata": {},
   "outputs": [
    {
     "data": {
      "text/plain": [
       "Counter({'a': 1, 'g': 2, 'i': 1, 'm': 2, 'n': 1, 'o': 1, 'p': 1, 'r': 2})"
      ]
     },
     "execution_count": 8,
     "metadata": {},
     "output_type": "execute_result"
    }
   ],
   "source": [
    "from collections import Counter\n",
    "c = Counter()\n",
    "for ch in 'programming':\n",
    "        c[ch] = c[ch] + 1\n",
    "c"
   ]
  },
  {
   "cell_type": "code",
   "execution_count": 14,
   "metadata": {},
   "outputs": [
    {
     "data": {
      "text/plain": [
       "b'binary\\x00string'"
      ]
     },
     "execution_count": 14,
     "metadata": {},
     "output_type": "execute_result"
    }
   ],
   "source": [
    "import base64\n",
    "base64.b64encode(b'binary\\x00string')\n",
    "base64.b64decode(b'YmluYXJ5AHN0cmluZx==')"
   ]
  },
  {
   "cell_type": "code",
   "execution_count": 17,
   "metadata": {},
   "outputs": [
    {
     "name": "stdout",
     "output_type": "stream",
     "text": [
      "705af8480ccd59278bbca282ba8bed81\n"
     ]
    }
   ],
   "source": [
    "import hashlib\n",
    "\n",
    "md5 = hashlib.md5()\n",
    "md5.update('how to ase md5 in python hashlib?'.encode('utf-8'))\n",
    "print(md5.hexdigest())\n"
   ]
  },
  {
   "cell_type": "code",
   "execution_count": 16,
   "metadata": {},
   "outputs": [
    {
     "name": "stdout",
     "output_type": "stream",
     "text": [
      "d26a53750bc40b38b65a520292f69306\n"
     ]
    }
   ],
   "source": [
    "import hashlib\n",
    "\n",
    "md5 = hashlib.md5()\n",
    "md5.update('how to use md5 in '.encode('utf-8'))\n",
    "md5.update('python hashlib?'.encode('utf-8'))\n",
    "print(md5.hexdigest())"
   ]
  },
  {
   "cell_type": "code",
   "execution_count": 18,
   "metadata": {},
   "outputs": [
    {
     "name": "stdout",
     "output_type": "stream",
     "text": [
      "Status: 200 OK\n",
      "Date: Sat, 01 Dec 2018 16:43:48 GMT\n",
      "Content-Type: application/json; charset=utf-8\n",
      "Content-Length: 2138\n",
      "Connection: close\n",
      "Vary: Accept-Encoding\n",
      "X-Ratelimit-Remaining2: 99\n",
      "X-Ratelimit-Limit2: 100\n",
      "Expires: Sun, 1 Jan 2006 01:00:00 GMT\n",
      "Pragma: no-cache\n",
      "Cache-Control: must-revalidate, no-cache, private\n",
      "Set-Cookie: bid=h4SzNJ6PNto; Expires=Sun, 01-Dec-19 16:43:48 GMT; Domain=.douban.com; Path=/\n",
      "X-DOUBAN-NEWBID: h4SzNJ6PNto\n",
      "X-DAE-Node: brand34\n",
      "X-DAE-App: book\n",
      "Server: dae\n",
      "X-Frame-Options: SAMEORIGIN\n",
      "Data: {\"rating\":{\"max\":10,\"numRaters\":16,\"average\":\"7.4\",\"min\":0},\"subtitle\":\"\",\"author\":[\"廖雪峰\"],\"pubdate\":\"2007\",\"tags\":[{\"count\":23,\"name\":\"spring\",\"title\":\"spring\"},{\"count\":14,\"name\":\"Java\",\"title\":\"Java\"},{\"count\":6,\"name\":\"javaee\",\"title\":\"javaee\"},{\"count\":5,\"name\":\"j2ee\",\"title\":\"j2ee\"},{\"count\":4,\"name\":\"计算机\",\"title\":\"计算机\"},{\"count\":3,\"name\":\"藏书\",\"title\":\"藏书\"},{\"count\":3,\"name\":\"编程\",\"title\":\"编程\"},{\"count\":3,\"name\":\"POJO\",\"title\":\"POJO\"}],\"origin_title\":\"\",\"image\":\"https://img3.doubanio.com\\/view\\/subject\\/m\\/public\\/s2552283.jpg\",\"binding\":\"平装\",\"translator\":[],\"catalog\":\"\",\"pages\":\"509\",\"images\":{\"small\":\"https://img3.doubanio.com\\/view\\/subject\\/s\\/public\\/s2552283.jpg\",\"large\":\"https://img3.doubanio.com\\/view\\/subject\\/l\\/public\\/s2552283.jpg\",\"medium\":\"https://img3.doubanio.com\\/view\\/subject\\/m\\/public\\/s2552283.jpg\"},\"alt\":\"https:\\/\\/book.douban.com\\/subject\\/2129650\\/\",\"id\":\"2129650\",\"publisher\":\"电子工业出版社\",\"isbn10\":\"7121042622\",\"isbn13\":\"9787121042621\",\"title\":\"Spring 2.0核心技术与最佳实践\",\"url\":\"https:\\/\\/api.douban.com\\/v2\\/book\\/2129650\",\"alt_title\":\"\",\"author_intro\":\"\",\"summary\":\"本书注重实践而又深入理论，由浅入深且详细介绍了Spring 2.0框架的几乎全部的内容，并重点突出2.0版本的新特性。本书将为读者展示如何应用Spring 2.0框架创建灵活高效的JavaEE应用，并提供了一个真正可直接部署的完整的Web应用程序——Live在线书店(http:\\/\\/www.livebookstore.net)。\\n在介绍Spring框架的同时，本书还介绍了与Spring相关的大量第三方框架，涉及领域全面，实用性强。本书另一大特色是实用性强，易于上手，以实际项目为出发点，介绍项目开发中应遵循的最佳开发模式。\\n本书还介绍了大量实践性极强的例子，并给出了完整的配置步骤，几乎覆盖了Spring 2.0版本的新特性。\\n本书适合有一定Java基础的读者，对JavaEE开发人员特别有帮助。本书既可以作为Spring 2.0的学习指南，也可以作为实际项目开发的参考手册。\",\"price\":\"59.8\"}\n"
     ]
    }
   ],
   "source": [
    "from urllib import request\n",
    "\n",
    "with request.urlopen('https://api.douban.com/v2/book/2129650') as f:\n",
    "    data = f.read()\n",
    "    print('Status:', f.status, f.reason)\n",
    "    for k, v in f.getheaders():\n",
    "        print('%s: %s' % (k, v))\n",
    "    print('Data:', data.decode('utf-8'))"
   ]
  },
  {
   "cell_type": "code",
   "execution_count": 19,
   "metadata": {
    "scrolled": false
   },
   "outputs": [
    {
     "name": "stdout",
     "output_type": "stream",
     "text": [
      "Status: 200 OK\n",
      "Date: Sat, 01 Dec 2018 16:45:07 GMT\n",
      "Content-Type: text/html; charset=utf-8\n",
      "Transfer-Encoding: chunked\n",
      "Connection: close\n",
      "Vary: Accept-Encoding\n",
      "X-Xss-Protection: 1; mode=block\n",
      "X-Douban-Mobileapp: 0\n",
      "Expires: Sun, 1 Jan 2006 01:00:00 GMT\n",
      "Pragma: no-cache\n",
      "Cache-Control: must-revalidate, no-cache, private\n",
      "Set-Cookie: talionnav_show_app=\"0\"\n",
      "Set-Cookie: bid=yUcOrp5Pwgw; Expires=Sun, 01-Dec-19 16:45:07 GMT; Domain=.douban.com; Path=/\n",
      "X-DOUBAN-NEWBID: yUcOrp5Pwgw\n",
      "X-DAE-Node: anson32\n",
      "X-DAE-App: talion\n",
      "Server: dae\n",
      "X-Frame-Options: SAMEORIGIN\n",
      "Strict-Transport-Security: max-age=15552000;\n",
      "X-Content-Type-Options: nosniff\n",
      "Data: \n",
      "\n",
      "\n",
      "<!DOCTYPE html>\n",
      "<html itemscope itemtype=\"http://schema.org/WebPage\" class=\"ua-safari ua-mobile \">\n",
      "    <head>\n",
      "        <meta charset=\"UTF-8\">\n",
      "        <title>豆瓣(手机版)</title>\n",
      "        <meta name=\"google-site-verification\" content=\"ok0wCgT20tBBgo9_zat2iAcimtN4Ftf5ccsh092Xeyw\" />\n",
      "        <meta name=\"viewport\" content=\"width=device-width, height=device-height, user-scalable=no, initial-scale=1.0, minimum-scale=1.0, maximum-scale=1.0\">\n",
      "        <meta name=\"format-detection\" content=\"telephone=no\">\n",
      "        <link rel=\"canonical\" href=\"\n",
      "http://m.douban.com/\">\n",
      "        <link href=\"https://img3.doubanio.com/f/talion/4b1de333c0e597678522bd3c3af276ba6c667b95/css/card/base.css\" rel=\"stylesheet\">\n",
      "        \n",
      "    <meta name=\"description\" content=\"读书、看电影、涨知识、学穿搭...，加入兴趣小组，获得达人们的高质量生活经验，找到有相同爱好的小伙伴。\">\n",
      "    <meta name=\"keywords\" content=\"豆瓣,手机豆瓣,豆瓣手机版,豆瓣电影,豆瓣读书,豆瓣同城\">\n",
      "    \n",
      "    \n",
      "\n",
      "    <!-- Schema.org markup for Google+ -->\n",
      "    <meta itemprop=\"name\" content=\"豆瓣\">\n",
      "    <meta itemprop=\"description\" content=\"读书、看电影、涨知识、学穿搭...，加入兴趣小组，获得达人们的高质量生活经验，找到有相同爱好的小伙伴。\">\n",
      "    <meta itemprop=\"image\" content=\"https://img3.doubanio.com/f/talion/8e7b9cbd097c02972c4191aa03fdb084524505c4/pics/icon/m_logo_180.png\">\n",
      "    <!-- Twitter meta -->\n",
      "    <meta name=\"twitter:card\" content=\"summary\" />\n",
      "    <!-- Open Graph meta -->\n",
      "    <meta property=\"og:title\" content=\"豆瓣\" />\n",
      "    <meta property=\"og:description\" content=\"读书、看电影、涨知识、学穿搭...，加入兴趣小组，获得达人们的高质量生活经验，找到有相同爱好的小伙伴。\" />\n",
      "    <meta property=\"og:site_name\" content=\"豆瓣(手机版)\" />\n",
      "    <meta property=\"og:url\" content=\"https://m.douban.com/\" />\n",
      "    <meta property=\"og:image\" content=\"https://img3.doubanio.com/f/talion/8e7b9cbd097c02972c4191aa03fdb084524505c4/pics/icon/m_logo_180.png\" />\n",
      "    <meta property=\"og:image:type\" content=\"image/png\" />\n",
      "    <meta property=\"og:image:width\" content=\"300\" />\n",
      "    <meta property=\"og:image:height\" content=\"300\" />\n",
      "    <meta property=\"og:type\" content=\"article\" />\n",
      "    <!-- Wechat meta -->\n",
      "    <meta property=\"weixin:timeline_title\" content=\"豆瓣\" />\n",
      "    <meta property=\"weixin:chat_title\" content=\"豆瓣\" />\n",
      "    <meta property=\"weixin:description\" content=\"读书、看电影、涨知识、学穿搭...，加入兴趣小组，获得达人们的高质量生活经验，找到有相同爱好的小伙伴。\" />\n",
      "    <meta property=\"weixin:image\" content=\"https://img3.doubanio.com/f/talion/8e7b9cbd097c02972c4191aa03fdb084524505c4/pics/icon/m_logo_180.png\" />\n",
      "    \n",
      "\n",
      "\n",
      "        <link rel=\"stylesheet\" href=\"https://img3.doubanio.com/misc/mixed_static/468e9211d89502ad.css\">\n",
      "        <link rel=\"icon\" type=\"image/png\" sizes=\"16x16\" href=\"https://img3.doubanio.com/f/talion/c970bb0d720963a7392f7dd6c77068bb9925caaf/pics/icon/dou16.png\">\n",
      "        <link rel=\"icon\" type=\"image/png\" sizes=\"32x32\" href=\"https://img3.doubanio.com/f/talion/2f3c0bc0f35b031d4535fd993ae3936f4e40e6c8/pics/icon/dou32.png\">\n",
      "        <link rel=\"icon\" type=\"image/png\" sizes=\"48x48\" href=\"https://img3.doubanio.com/f/talion/10a4a913a5715f628e4b598f7f9f2c18621bdcb3/pics/icon/dou48.png\">\n",
      "        <!-- iOS touch icon -->\n",
      "        <link rel=\"apple-touch-icon-precomposed\" href=\"https://img3.doubanio.com/f/talion/997f2018d82979da970030a5eb84c77f0123ae5f/pics/icon/m_logo_76.png\">\n",
      "        <link rel=\"apple-touch-icon-precomposed\" sizes=\"76x76\" href=\"https://img3.doubanio.com/f/talion/997f2018d82979da970030a5eb84c77f0123ae5f/pics/icon/m_logo_76.png\">\n",
      "        <link rel=\"apple-touch-icon-precomposed\" sizes=\"120x120\" href=\"https://img3.doubanio.com/f/talion/18932a3e71a60ed7150ca2ca7ebf21ddadd7092e/pics/icon/m_logo_120.png\">\n",
      "        <link rel=\"apple-touch-icon-precomposed\" sizes=\"152x152\" href=\"https://img3.doubanio.com/f/talion/b99497ff8538c54b9ba6f40867da932396ab2562/pics/icon/m_logo_152.png\">\n",
      "        <link rel=\"apple-touch-icon-precomposed\" sizes=\"167x167\" href=\"https://img3.doubanio.com/f/talion/0c233ada957a95e632f81607e30230d16e8293e8/pics/icon/m_logo_167.png\">\n",
      "        <link rel=\"apple-touch-icon-precomposed\" sizes=\"180x180\" href=\"https://img3.doubanio.com/f/talion/8e7b9cbd097c02972c4191aa03fdb084524505c4/pics/icon/m_logo_180.png\">\n",
      "        <link rel=\"apple-touch-icon-precomposed\" sizes=\"200x200\" href=\"https://img3.doubanio.com/f/talion/7c6364aadf368dc0210173c940cfd0f64ceddc66/pics/icon/m_logo_200.png\">\n",
      "        <!-- For Android -->\n",
      "        <link rel=\"icon\" sizes=\"128x128\" href=\"https://img3.doubanio.com/f/talion/b99497ff8538c54b9ba6f40867da932396ab2562/pics/icon/m_logo_152.png\">\n",
      "        <link rel=\"icon\" sizes=\"192x192\" href=\"https://img3.doubanio.com/f/talion/7c6364aadf368dc0210173c940cfd0f64ceddc66/pics/icon/m_logo_200.png\">\n",
      "        <!-- For Web App Manifest -->\n",
      "        \n",
      "  \n",
      "  \n",
      "  <link rel=\"manifest\" href=\"/pwa/manifest?path=/&short_name=%E8%B1%86%E7%93%A3%28%E6%89%8B%E6%9C%BA%E7%89%88%29&name=%E8%B1%86%E7%93%A3%28%E6%89%8B%E6%9C%BA%E7%89%88%29\">\n",
      "  <meta name=\"theme-color\" content=\"#42bd56\">\n",
      "\n",
      "\n",
      "        <link type=\"application/opensearchdescription+xml\" rel=\"search\" href=\"/opensearch\"/>\n",
      "            <!-- hm baidu -->\n",
      "            <script type=\"text/javascript\">\n",
      "            var _hmt = _hmt || [];\n",
      "            (function() {\n",
      "              var hm = document.createElement(\"script\");\n",
      "              hm.src = \"https://hm.baidu.com/hm.js?6d4a8cfea88fa457c3127e14fb5fabc2\";\n",
      "              var s = document.getElementsByTagName(\"script\")[0];\n",
      "              s.parentNode.insertBefore(hm, s);\n",
      "            })();\n",
      "            </script>\n",
      "    </head>\n",
      "    <body ontouchstart=\"\">\n",
      "        \n",
      "        \n",
      "\n",
      "        \n",
      "    \n",
      "    \n",
      "        <div id=\"TalionNav\"><header class=\"TalionNav\"><div class=\"TalionNav-primary\"><a href=\"/\"><h1>豆瓣</h1></a><nav><ul><li><a href=\"/movie\" style=\"color: #2384E8;\">电影</a></li><li><a href=\"/book\" style=\"color: #9F7860;\">图书</a></li><li><a href=\"/status\" style=\"color: #E4A813;\">广播</a></li><li><a href=\"/group\" style=\"color: #2AB8CC;\">小组</a></li></ul><span class=\"\"></span></nav></div><div class=\"TalionNav-secondary\"><a class=\"close-nav\" href=\"javascript:;\">关闭</a><form action=\"/search\" method=\"GET\"><div><input name=\"query\" type=\"search\"></div></form><ul><li><div><a href=\"/movie\" target=\"_blank\"><strong style=\"color: #2384E8;\">电影</strong><span>影院热映</span></a><a href=\"https://douban.com/location\" target=\"\"><strong style=\"color: #E6467E;\">同城</strong><span>周末活动</span></a><a href=\"https://read.douban.com\" target=\"\"><strong style=\"color: #9F7860;\">阅读</strong><span>电子书</span></a><a href=\"/status\" target=\"_blank\"><strong style=\"color: #E1644D;\">广播</strong><span>友邻动态</span></a></div></li><li><div><a href=\"/tv\" target=\"_blank\"><strong style=\"color: #7A6ADB;\">电视</strong><span>正在热播</span></a><a href=\"/group\" target=\"_blank\"><strong style=\"color: #2AB8CC;\">小组</strong><span>志趣相投</span></a><a href=\"/game\" target=\"_blank\"><strong style=\"color: #5774C5;\">游戏</strong><span>虚拟世界</span></a><a href=\"https://douban.fm\" target=\"\"><strong style=\"color: #40CFA9;\">FM</strong><span>红心歌单</span></a></div></li><li><div><a href=\"/book\" target=\"_blank\"><strong style=\"color: #9F7860;\">图书</strong><span>畅销排行</span></a><a href=\"/music\" target=\"_blank\"><strong style=\"color: #F48F2E;\">音乐</strong><span>新碟榜</span></a><a href=\"/mobileapp\" target=\"_blank\"><strong style=\"color: #596CDD;\">应用</strong><span>玩手机</span></a><a href=\"https://market.douban.com/?utm_campaign=mobile_web_douban_nav&amp;utm_source=douban&amp;utm_medium=mobile_web\" target=\"\"><strong style=\"color: #42BD56;\">豆品</strong><span>生活美学</span></a></div></li></ul><div class=\"navBottom\"><div class=\"nav-item\"><a class=\"toUser\" href=\"/mine/\">我的豆瓣</a><a class=\"toExit\" href=\"https://accounts.douban.com/logout?ck=undefined&amp;redir=http://accounts.douban.com/passport/login\">退出豆瓣</a></div><div class=\"nav-item\"><a class=\"toPC\" href=\"/to_pc/?url=about%3Ablank\">使用桌面版</a><a class=\"toApp\">使用豆瓣App</a></div></div></div></header></div>\n",
      "\n",
      "\n",
      "        <div class=\"page\">\n",
      "            \n",
      "    <div class=\"card\">\n",
      "        <ul class=\"quick-nav\">\n",
      "            <li>\n",
      "                <a href=\"/movie/nowintheater?loc_id=108288\">影院热映</a>\n",
      "            </li>\n",
      "              <li>\n",
      "                  <a href=\"/music/newjapankorean/\">日韩新碟榜</a>\n",
      "              </li>\n",
      "            <li>\n",
      "                <a id=\"hot-topics\" href=\"https://m.douban.com/time/?dt_time_source=douban-msite_shortcut\">豆瓣时间</a>\n",
      "            </li>\n",
      "            <li>\n",
      "                <a href=\"https://www.douban.com/doubanapp/app?channel=card_home&direct_dl=1\">使用豆瓣App</a>\n",
      "            </li>\n",
      "        </ul>\n",
      "        <section id=\"recommend-feed\"></section>\n",
      "    </div>\n",
      "\n",
      "        </div>\n",
      "\n",
      "        <script src=\"https://img3.doubanio.com/f/talion/ee8e0c54293aefb5709ececbdf082f8091ad5e49/js/card/zepto.min.js\"></script>\n",
      "        <script src=\"https://img3.doubanio.com/f/talion/202dc615b9dd718d666398130056b76b4bec48ad/js/card/main.js\"></script>\n",
      "        <script src=\"https://img3.doubanio.com/f/talion/f53cc45d4a16969b8592d776f476d9784a283e4a/js/lib/douban-ad-helper.js\"></script>\n",
      "\n",
      "\n",
      "\n",
      "        \n",
      "    \n",
      "  \n",
      "\n",
      "\n",
      "        \n",
      "  \n",
      "\n",
      "  \n",
      "        <script src=\"https://img3.doubanio.com/f/talion/88fc2b21c8dda5c93aa4c011eb15b74f8850978f/js/lib/react/15.3.0/react-all.min.js\"></script>\n",
      "\n",
      "\n",
      "  <script type=\"text/javascript\">\n",
      "    var userCfg = {}\n",
      "  </script>\n",
      "\n",
      "  \n",
      "\n",
      "  \n",
      "  \n",
      "\n",
      "\n",
      "\n",
      "        <script type=\"text/javascript\" src=\"https://img3.doubanio.com/misc/mixed_static/1548c452c9748d0a.js\"></script>\n",
      "        \n",
      "\n",
      "\n",
      "<script type=\"text/javascript\" data-mobile=\"true\">\n",
      "    (function (global) {\n",
      "        var newNode = global.document.createElement('script'),\n",
      "            existingNode = global.document.getElementsByTagName('script')[0],\n",
      "            adSource = '//erebor.douban.com/',\n",
      "            userId = '',\n",
      "            browserId = 'yUcOrp5Pwgw',\n",
      "            criteria = '3:/',\n",
      "            preview = '',\n",
      "            debug = false;\n",
      "\n",
      "        global.DoubanAdRequest = {src: adSource, uid: userId, bid: browserId, crtr: criteria, prv: preview, debug: debug};\n",
      "\n",
      "        newNode.setAttribute('type', 'text/javascript');\n",
      "        newNode.setAttribute('src', 'https://img3.doubanio.com/f/adjs/039f4c0c15b5aa50e8bb29995dd17286658d78b5/ad.release.js');\n",
      "        newNode.setAttribute('async', true);\n",
      "        existingNode.parentNode.insertBefore(newNode, existingNode);\n",
      "    })(this);\n",
      "</script>\n",
      "\n",
      "\n",
      "        \n",
      "  \n",
      "\n",
      "\n",
      "        <script type='text/javascript'>\n",
      "            \n",
      "            ;(function(global) {\n",
      "                if (window.DoubanAdRequest) {\n",
      "                    window.DoubanAdRequest.filter = []\n",
      "                }\n",
      "                global.DoubanAdSlots = global.DoubanAdSlots || []\n",
      "            })(window);\n",
      "        </script>\n",
      "            <!-- Google Tag Manager -->\n",
      "<noscript><iframe src=\"//www.googletagmanager.com/ns.html?id=GTM-NZHN7H\" height=\"0\" width=\"0\" style=\"display:none;visibility:hidden\"></iframe></noscript>\n",
      "<script>(function(w,d,s,l,i){w[l]=w[l]||[];w[l].push({'gtm.start':new Date().getTime(),event:'gtm.js'});var f=d.getElementsByTagName(s)[0],j=d.createElement(s),dl=l!='dataLayer'?'&l='+l:'';j.async=true;j.src='//www.googletagmanager.com/gtm.js?id='+i+dl;f.parentNode.insertBefore(j,f);})(window,document,'script','dataLayer','GTM-NZHN7H');</script>\n",
      "<!-- End Google Tag Manager -->\n",
      "<!-- Google Analytics -->\n",
      "<script>\n",
      "window.ga=window.ga||function(){(ga.q=ga.q||[]).push(arguments)};ga.l=+new Date;\n",
      "ga('create', 'UA-53594431-3', {'sampleRate': 4});\n",
      "ga('send', 'pageview');\n",
      "</script>\n",
      "<script async src='//www.google-analytics.com/analytics.js'></script>\n",
      "<!-- End Google Analytics -->\n",
      "\n",
      "        \n",
      "\n",
      "\n",
      "\n",
      "\n",
      "\n",
      "\n",
      "        <script type='text/javascript'>\n",
      "        (function(){\n",
      "            var site_list = window.white_site_list || new RegExp ([\n",
      "                '^https?://(.+\\\\.douban\\\\.com',\n",
      "                '|web[0-9]?\\\\.qq\\\\.com',\n",
      "                '|hao\\\\.qq\\\\.com',\n",
      "                '|(hao\\\\.)*360\\\\.cn',\n",
      "                '|so\\\\.com',\n",
      "                '|www\\\\.soso\\\\.com',\n",
      "                '|(www\\\\.)?growingio\\\\.com',\n",
      "                '|m-douban-com\\\\.mipcdn\\\\.com',\n",
      "                '|.+\\\\.baidu\\\\.com',\n",
      "                ')(\\\\:[\\\\d]+)?/'\n",
      "            ].join(''));\n",
      "            if (self !== top && document.referrer.search(site_list) === -1) {\n",
      "                top.location = self.location;\n",
      "            }\n",
      "        })();\n",
      "        </script>\n",
      "    </body>\n",
      "</html>\n",
      "\n",
      "\n",
      "\n",
      "\n",
      "\n",
      "\n",
      "\n",
      "\n",
      "\n",
      "\n",
      "\n",
      "\n",
      "\n",
      "\n",
      "\n"
     ]
    }
   ],
   "source": [
    "from urllib import request\n",
    "\n",
    "req = request.Request('http://www.douban.com/')\n",
    "req.add_header('User-Agent', 'Mozilla/6.0 (iPhone; CPU iPhone OS 8_0 like Mac OS X) AppleWebKit/536.26 (KHTML, like Gecko) Version/8.0 Mobile/10A5376e Safari/8536.25')\n",
    "with request.urlopen(req) as f:\n",
    "    print('Status:', f.status, f.reason)\n",
    "    for k, v in f.getheaders():\n",
    "        print('%s: %s' % (k, v))\n",
    "    print('Data:', f.read().decode('utf-8'))"
   ]
  },
  {
   "cell_type": "code",
   "execution_count": 20,
   "metadata": {},
   "outputs": [
    {
     "name": "stdout",
     "output_type": "stream",
     "text": [
      "Login to weibo.cn...\n",
      "Email: sadf\n",
      "Password: asdf\n",
      "Status: 200 OK\n",
      "Server: nginx/1.6.1\n",
      "Date: Sat, 01 Dec 2018 16:49:04 GMT\n",
      "Content-Type: text/html\n",
      "Transfer-Encoding: chunked\n",
      "Connection: close\n",
      "Vary: Accept-Encoding\n",
      "Cache-Control: no-cache, must-revalidate\n",
      "Expires: Sat, 26 Jul 1997 05:00:00 GMT\n",
      "Pragma: no-cache\n",
      "Access-Control-Allow-Origin: https://passport.weibo.cn\n",
      "Access-Control-Allow-Credentials: true\n",
      "DPOOL_HEADER: dryad23\n",
      "SINA-LB: aGEuOTEuZzEucXhnLmxiLnNpbmFub2RlLmNvbQ==\n",
      "SINA-TS: ZTZjYTk0Y2UgMCAwIDAgMyA2NTYK\n",
      "Data: {\"retcode\":50011002,\"msg\":\"\\u7528\\u6237\\u540d\\u6216\\u5bc6\\u7801\\u9519\\u8bef\",\"data\":{\"username\":\"sadf\",\"errline\":667}}\n"
     ]
    }
   ],
   "source": [
    "from urllib import request, parse\n",
    "\n",
    "print('Login to weibo.cn...')\n",
    "email = input('Email: ')\n",
    "passwd = input('Password: ')\n",
    "login_data = parse.urlencode([\n",
    "    ('username', email),\n",
    "    ('password', passwd),\n",
    "    ('entry', 'mweibo'),\n",
    "    ('client_id', ''),\n",
    "    ('savestate', '1'),\n",
    "    ('ec', ''),\n",
    "    ('pagerefer', 'https://passport.weibo.cn/signin/welcome?entry=mweibo&r=http%3A%2F%2Fm.weibo.cn%2F')\n",
    "])\n",
    "\n",
    "req = request.Request('https://passport.weibo.cn/sso/login')\n",
    "req.add_header('Origin', 'https://passport.weibo.cn')\n",
    "req.add_header('User-Agent', 'Mozilla/6.0 (iPhone; CPU iPhone OS 8_0 like Mac OS X) AppleWebKit/536.26 (KHTML, like Gecko) Version/8.0 Mobile/10A5376e Safari/8536.25')\n",
    "req.add_header('Referer', 'https://passport.weibo.cn/signin/login?entry=mweibo&res=wel&wm=3349&r=http%3A%2F%2Fm.weibo.cn%2F')\n",
    "\n",
    "with request.urlopen(req, data=login_data.encode('utf-8')) as f:\n",
    "    print('Status:', f.status, f.reason)\n",
    "    for k, v in f.getheaders():\n",
    "        print('%s: %s' % (k, v))\n",
    "    print('Data:', f.read().decode('utf-8'))"
   ]
  },
  {
   "cell_type": "code",
   "execution_count": 22,
   "metadata": {},
   "outputs": [
    {
     "name": "stdout",
     "output_type": "stream",
     "text": [
      "Original image size: 800x680\n",
      "Resize image to: 400x340\n"
     ]
    }
   ],
   "source": [
    "from PIL import Image\n",
    "\n",
    "# 打开一个jpg图像文件，注意是当前路径:\n",
    "im = Image.open('theory_for_conductor_finish.png')\n",
    "# 获得图像尺寸:\n",
    "w, h = im.size\n",
    "print('Original image size: %sx%s' % (w, h))\n",
    "# 缩放到50%:\n",
    "im.thumbnail((w//2, h//2))\n",
    "print('Resize image to: %sx%s' % (w//2, h//2))\n",
    "# 把缩放后的图像用jpeg格式保存:\n",
    "im.save('theory_for_conductor_finish.png', 'png')"
   ]
  },
  {
   "cell_type": "code",
   "execution_count": 24,
   "metadata": {},
   "outputs": [],
   "source": [
    "from PIL import Image, ImageFilter\n",
    "\n",
    "# 打开一个jpg图像文件，注意是当前路径:\n",
    "im = Image.open('theory_for_conductor_finish.png')\n",
    "# 应用模糊滤镜:\n",
    "im2 = im.filter(ImageFilter.BLUR)\n",
    "im2.save('theory_for_conductor_finish.png', 'png')"
   ]
  },
  {
   "cell_type": "code",
   "execution_count": 25,
   "metadata": {
    "collapsed": true
   },
   "outputs": [],
   "source": [
    "from PIL import Image, ImageDraw, ImageFont, ImageFilter\n",
    "\n",
    "import random\n",
    "\n",
    "# 随机字母:\n",
    "def rndChar():\n",
    "    return chr(random.randint(65, 90))\n",
    "\n",
    "# 随机颜色1:\n",
    "def rndColor():\n",
    "    return (random.randint(64, 255), random.randint(64, 255), random.randint(64, 255))\n",
    "\n",
    "# 随机颜色2:\n",
    "def rndColor2():\n",
    "    return (random.randint(32, 127), random.randint(32, 127), random.randint(32, 127))\n",
    "\n",
    "# 240 x 60:\n",
    "width = 60 * 4\n",
    "height = 60\n",
    "image = Image.new('RGB', (width, height), (255, 255, 255))\n",
    "# 创建Font对象:\n",
    "font = ImageFont.truetype('Arial.ttf', 36)\n",
    "# 创建Draw对象:\n",
    "draw = ImageDraw.Draw(image)\n",
    "# 填充每个像素:\n",
    "for x in range(width):\n",
    "    for y in range(height):\n",
    "        draw.point((x, y), fill=rndColor())\n",
    "# 输出文字:\n",
    "for t in range(4):\n",
    "    draw.text((60 * t + 10, 10), rndChar(), font=font, fill=rndColor2())\n",
    "# 模糊:\n",
    "image = image.filter(ImageFilter.BLUR)\n",
    "image.save('code.jpg', 'jpeg')"
   ]
  },
  {
   "cell_type": "code",
   "execution_count": 27,
   "metadata": {
    "collapsed": true
   },
   "outputs": [],
   "source": [
    "import requests\n",
    "r = requests.get('https://www.douban.com/') # 豆瓣首页"
   ]
  },
  {
   "cell_type": "code",
   "execution_count": 28,
   "metadata": {},
   "outputs": [
    {
     "data": {
      "text/plain": [
       "200"
      ]
     },
     "execution_count": 28,
     "metadata": {},
     "output_type": "execute_result"
    }
   ],
   "source": [
    "r.status_code"
   ]
  },
  {
   "cell_type": "code",
   "execution_count": 29,
   "metadata": {},
   "outputs": [
    {
     "data": {
      "text/plain": [
       "'<!DOCTYPE HTML>\\n<html lang=\"zh-cmn-Hans\" class=\"\">\\n<head>\\n<meta charset=\"UTF-8\">\\n<meta name=\"google-site-verification\" content=\"ok0wCgT20tBBgo9_zat2iAcimtN4Ftf5ccsh092Xeyw\" />\\n<meta name=\"description\" content=\"提供图书、电影、音乐唱片的推荐、评论和价格比较，以及城市独特的文化生活。\">\\n<meta name=\"keywords\" content=\"豆瓣,广播,登陆豆瓣\">\\n<meta property=\"qc:admins\" content=\"2554215131764752166375\" />\\n<meta property=\"wb:webmaster\" content=\"375d4a17a4fa24c2\" />\\n<meta name=\"mobile-agent\" content=\"format=html5; url=https://m.douban.com\">\\n<title>豆瓣</title>\\n<script>\\nfunction set_cookie(t,e,o,n){var i,a,r=new Date;r.setTime(r.getTime()+24*(e||30)*60*60*1e3),i=\"; expires=\"+r.toGMTString();for(a in t)document.cookie=a+\"=\"+t[a]+i+\"; domain=\"+(o||\"douban.com\")+\"; path=\"+(n||\"/\")}function get_cookie(t){var e,o,n=t+\"=\",i=document.cookie.split(\";\");for(e=0;e<i.length;e++){for(o=i[e];\" \"==o.charAt(0);)o=o.substring(1,o.length);if(0===o.indexOf(n))return o.substring(n.length,o.length).replace(/\\\\\"/g,\"\")}return null}window.Douban=window.Douban||{};var Do=function(){Do.actions.push([].slice.call(arguments))};Do.ready=function(){Do.actions.push([].slice.call(arguments))},Do.add=Do.define=function(t,e){Do.mods[t]=e},Do.global=function(){Do.global.mods=Array.prototype.concat(Do.global.mods,[].slice.call(arguments))},Do.global.mods=[],Do.mods={},Do.actions=[],Douban.init_show_login=function(t){Do(\"dialog\",function(){var t=\"/j/misc/login_form\";dui.Dialog({title:\"登录\",url:t,width:/device-mobile/i.test(document.documentElement.className)?.9*document.documentElement.offsetWidth:350,cache:!0,callback:function(t,e){e.node.addClass(\"dialog-login\"),e.node.find(\"h2\").css(\"display\",\"none\"),e.node.find(\".hd h3\").replaceWith(e.node.find(\".bd h3\")),e.node.find(\"form\").css({border:\"none\",width:\"auto\",padding:\"0\"}),e.update()}}).open()})},Do(function(){function t(t,e){var o=[\"ref=\"+encodeURIComponent(location.pathname)];for(var n in e)e.hasOwnProperty(n)&&o.push(n+\"=\"+e[n]);window._SPLITTEST&&o.push(\"splittest=\"+window._SPLITTEST),localStorage.setItem(\"report\",(localStorage.getItem(\"report\")||\"\")+\"_moreurl_separator_\"+o.join(\"&\"))}!function(){\"localStorage\"in window||(window.localStorage=function(){var t=document;if(!t.documentElement.addBehavior)throw\"don\\'t support localstorage or userdata.\";var e=\"_localstorage_ie\",o=t.createElement(\"input\");o.type=\"hidden\";var n=function(n){return function(){t.body.appendChild(o),o.addBehavior(\"#default#userData\");var i=new Date;i.setDate(i.getDate()+365),o.expires=i.toUTCString(),o.load(e);var a=n.apply(o,arguments);return t.body.removeChild(o),a}};return{getItem:n(function(t){return this.getAttribute(t)}),setItem:n(function(t,o){this.setAttribute(t,o),this.save(e)}),removeItem:n(function(t){this.removeAttribute(t),this.save(e)}),clear:n(function(){for(var t,o=this.XMLDocument.documentElement.attributes,n=0;t=o[n];n++)this.removeAttribute(t.name);this.save(e)})}}())}(),$(window).one(\"load\",function(){var t=localStorage.getItem(\"report\");if(t){t=t.split(\"_moreurl_separator_\");var e=function(o){return\"\"==o?void e(t.shift()):void $.get(\"undefined\"==typeof _MOREURL_REQ?\"/stat.html?\"+o:_MOREURL_REQ+\"?\"+o,function(){return t.length?(e(t.shift()),void localStorage.setItem(\"report\",t.join(\"_moreurl_separator_\"))):void localStorage.removeItem(\"report\")})};e(t.shift())}}),window.moreurl=t,$(document).click(function(e){var o=e.target,n=$(o).data(\"moreurl-dict\");n&&t(o,n)}),$.ajax_withck=function(t){return\"POST\"==t.type&&(t.data=$.extend(t.data||{},{ck:get_cookie(\"ck\")})),$.ajax(t)},$.postJSON_withck=function(t,e,o){return $.post_withck(t,e,o,\"json\")},$.post_withck=function(t,e,o,n){return $.isFunction(e)&&(n=o,o=e,e={}),$.ajax({type:\"POST\",url:t,data:$.extend(e,{ck:get_cookie(\"ck\")}),success:o,dataType:n||\"text\"})},$(\"html\").click(function(t){var e=$(t.target),o=e.attr(\"class\");o&&$(o.match(/a_(\\\\w+)/gi)).each($.proxy(function(e,o){var n=Douban[o.replace(/^a_/,\"init_\")];\"function\"==typeof n&&(t.preventDefault(),n.call(this,t))},e[0]))})});\\n\\nDo.add(\\'dialog\\', {path: \\'https://img3.doubanio.com/f/shire/4ea3216519a6183c7bcd4f7d1a6d4fd57ce1a244/js/ui/dialog.js\\', type: \\'js\\', requires: [\\'https://img3.doubanio.com/f/shire/8377b9498330a2e6f056d863987cc7a37eb4d486/css/ui/dialog.css\\']});\\nDo.global(\\'https://img3.doubanio.com/f/sns/b5793c2d7c298173d57ecf7d96708b5615336def/js/sns/fp/base.js\\', \\'dialog\\');\\n</script>\\n<link rel=\"stylesheet\" href=\"https://img3.doubanio.com/f/shire/8b9fa55c839b74f72d2279a4f6839a2c8a1a9553/css/core/_init_.css\">\\n<link rel=\"stylesheet\" href=\"https://img3.doubanio.com/f/sns/0de25e1a9ee03a52724df46e62dab19ed9150c6c/css/sns/anonymous_home.css\">\\n<style type=\"text/css\">\\n.rec_topics_name{\\n    display: inline-block;\\n    margin-bottom: 6px;\\n    font-size: 14px;\\n    line-height: 1.3;\\n    color: #3377aa;\\n}\\n.rec_topics_subtitle{\\n    display: block;\\n    margin-bottom: 15px;\\n    font-size: 13px;\\n    line-height: 1;\\n    color: #aaaaaa;\\n    white-space: nowrap;\\n    overflow: hidden;\\n    text-overflow: ellipsis;\\n}\\n.rec_topics_label{\\n    transform: translateY(-0.5px);\\n    display: inline-block;\\n    font-size: 13px;\\n    margin-left: 2px;\\n}\\n.rec_topics{\\n    line-height: 1;\\n    margin-bottom: 15px;\\n}\\n.rec_topics:last-child{\\n    margin-bottom: 0;\\n}\\n.rec_topics_label_ad{\\n    color: #c9c9c9;\\n    -moz-transform: scale(0.91);\\n    -webkit-transform: scale(0.91);\\n    transform: scale(0.91);\\n}\\n\\nhtml[class*=ua-ff] .rec_topics_subtitle{\\n    line-height: 14px;\\n}\\n\\n</style>\\n</head>\\n\\n<body>\\n\\n\\n  <div id=\"anony-nav\">\\n    <div class=\"anony-nav-links\">\\n    <ul>\\n    <li> <a target=\"_blank\" class=\"lnk-book\" href=\"https://book.douban.com\">豆瓣读书</a></li>\\n    <li> <a target=\"_blank\" class=\"lnk-movie\" href=\"https://movie.douban.com\">豆瓣电影</a></li>\\n    <li> <a target=\"_blank\" class=\"lnk-music\" href=\"https://music.douban.com\">豆瓣音乐</a></li>\\n    <li> <a target=\"_blank\" class=\"lnk-group\" href=\"https://www.douban.com/group/\">豆瓣小组</a></li>\\n    <li> <a target=\"_blank\" class=\"lnk-events\" href=\"https://www.douban.com/location/\">豆瓣同城</a></li>\\n    <li> <a target=\"_blank\" class=\"lnk-fm\" href=\"https://douban.fm\">豆瓣FM</a></li>\\n    <li> <a target=\"_blank\" class=\"lnk-shijian\" href=\"https://time.douban.com/?dt_time_source=douban-web_anonymous_index_top_nav\">豆瓣时间</a></li>\\n    <li> <a target=\"_blank\" class=\"lnk-market\" href=\"https://market.douban.com?utm_campaign=anonymous_top_nav&utm_source=douban&utm_medium=pc_web\">豆瓣豆品</a></li>\\n    </ul>\\n    </div>\\n\\n    <h1><a href=\"https://www.douban.com\">豆瓣</a></h1>\\n\\n    <div class=\"anony-srh\">\\n    <form action=\"https://www.douban.com/search\" method=\"get\">\\n      <span class=\"inp\"><input type=\"text\" maxlength=\"60\" size=\"12\" placeholder=\"书籍、电影、音乐、小组、小站、成员\" name=\"q\" autocomplete=\"off\"></span>\\n    <span class=\"bn\"><input type=\"submit\" value=\"搜索\"></span>\\n    </form>\\n    </div>\\n  </div>\\n\\n\\n\\n<div id=\"anony-reg-new\" style=\"background-image: url(https://img1.doubanio.com/view/puppy_image/raw/public/1653ca7fe02u04zlerm.jpg)\">\\n  <div class=\"wrapper\">\\n    \\n<div class=\"login\">\\n    <form id=\"lzform\" name=\"lzform\" method=\"post\" action=\"https://www.douban.com/accounts/login\">\\n        <fieldset>\\n            <legend>登录</legend>\\n            <input type=\"hidden\" value=\"index_nav\" name=\"source\">\\n            <div class=\"item item-account\">\\n                <input type=\"text\" name=\"form_email\" id=\"form_email\" value=\"\" class=\"inp\" placeholder=\"邮箱 / 手机号\" tabIndex=\"1\">\\n            </div>\\n            <div class=\"item item-passwd\">\\n                <input name=\"form_password\" placeholder=\"密码\" id=\"form_password\" class=\"inp\" type=\"password\" tabIndex=\"2\">\\n                <div class=\"opt\">\\n                    <a href=\"https://www.douban.com/accounts/resetpassword\">帮助</a>\\n                </div>\\n            </div>\\n            <div class=\"item item-submit\">\\n                <input value=\"登录豆瓣\" type=\"submit\" class=\"bn-submit\" tabIndex=\"4\">\\n                <a href=\"/accounts/register\" class=\"lnk-reg\">注册帐号</a>\\n            </div>\\n            <div class=\"item-action\">\\n                <label for=\"form_remember\">\\n                    <input name=\"remember\" type=\"checkbox\" id=\"form_remember\" tabIndex=\"4\">记住我\\n                </label>\\n                <ul class=\"item-action-third\">\\n                    <li><a class=\"wechat\" href=\"https://www.douban.com/accounts/connect/wechat/?from=douban-web-anony-home\" target=\"_blank\" title=\"微信登录\">微信登录</a></li>\\n                    <li><a class=\"weibo\" href=\"https://www.douban.com/accounts/connect/sina_weibo/?from=douban-web-anony-home\" target=\"_blank\" title=\"微博登录\">微博登录</a></li>\\n                </ul>\\n            </div>\\n        </fieldset>\\n    </form>\\n    <div style=\"display:none;\">\\n        <img src=\"https://www.douban.com/pics/blank.gif\" onload=\"(function(url){document.getElementById(\\'lzform\\').action=url;})(\\'https://www.douban.com/accounts/login\\')\"/>\\n    </div>\\n</div>\\n\\n    <div class=\"app\">\\n      <p class=\"app-title\">豆瓣<span>6.0</span></p>\\n      <p class=\"app-slogan\"></p>\\n      <a href=\"https://www.douban.com/doubanapp/app?channel=nimingye\" class=\"lnk-app\">下载豆瓣 App</a>\\n      <div class=\"app-qr\">\\n        <a href=\"javascript: void 0;\" class=\"lnk-qr\" id=\"expand-qr\"><img src=\"https://img3.doubanio.com/f/sns/0c708de69ce692883c1310053c5748c538938cb0/pics/sns/anony_home/icon_qrcode_green.png\" width=\"28\" height=\"28\" /></a>\\n        <div class=\"app-qr-expand\">\\n          <img src=\"https://img3.doubanio.com/f/sns/1cad523e614ec4ecb6bf91b054436bb79098a958/pics/sns/anony_home/doubanapp_qrcode.png\" width=\"160\" height=\"160\" />\\n          <p>iOS / Android 扫码直接下载</p>\\n        </div>\\n      </div>\\n    </div>\\n  </div>\\n  <script>\\n  Do(function() {\\n    var app_qr = $(\\'.app-qr\\');\\n    app_qr.hover(function() {\\n      app_qr.addClass(\\'open\\');\\n    }, function() {\\n      app_qr.removeClass(\\'open\\');\\n    });\\n  });\\n  </script>\\n</div>\\n\\n\\n\\n\\n\\n\\n\\n      \\n<div id=\"anony-sns\" class=\"section\">\\n  <div class=\"wrapper\">\\n  \\n<!-- douban ad begin -->\\n<div id=\"dale_anonymous_homepage_top_for_crazy_ad\"></div>\\n<!-- douban ad end -->\\n\\n  \\n  <div class=\"side\">\\n  <div style=\"margin:10px 0px;\">\\n    <div id=\"dale_anonymous_homepage_right_top\"></div>\\n  </div>\\n  <div class=\"online\">\\n    <ul>\\n      \\n\\n\\n\\n\\n\\n\\n<div class=\"mod\">\\n    \\n    <h2>\\n        热门话题\\n            &nbsp;&middot;&nbsp;&middot;&nbsp;&middot;&nbsp;&middot;&nbsp;&middot;&nbsp;&middot;\\n            <span class=\"pl\">&nbsp;(\\n                \\n                    <a href=\"/gallery/\" target=\"_self\">去话题广场</a>\\n                ) </span>\\n    </h2>\\n\\n\\n    <ul>\\n        \\n            <li class=\"rec_topics\">\\n                    <a href=\"https://www.douban.com/gallery/topic/35365/?from=hot_topic_anony_sns\" class=\"rec_topics_name\">豆瓣不露脸乐器表演大赛</a>\\n                    \\n                    <span class=\"rec_topics_subtitle\">视频话题 · 898857人浏览</span>\\n            </li>\\n            <li class=\"rec_topics\">\\n                    <a href=\"https://www.douban.com/gallery/topic/37518/?from=hot_topic_anony_sns\" class=\"rec_topics_name\">最难忘的考证经历</a>\\n                    \\n                    <span class=\"rec_topics_subtitle\">新话题</span>\\n            </li>\\n            <li class=\"rec_topics\">\\n                    <a href=\"https://www.douban.com/gallery/topic/36831/?from=hot_topic_anony_sns\" class=\"rec_topics_name\">视频·城市中的赛博朋克元素</a>\\n                    \\n                    <span class=\"rec_topics_subtitle\">新话题 · 310人浏览</span>\\n            </li>\\n            <li class=\"rec_topics\">\\n                    <a href=\"https://www.douban.com/gallery/topic/35068/?from=hot_topic_anony_sns\" class=\"rec_topics_name\">我最爱的名著改编电影</a>\\n                    \\n                    <span class=\"rec_topics_subtitle\">21913人浏览</span>\\n            </li>\\n            <li class=\"rec_topics\">\\n                    <a href=\"https://www.douban.com/gallery/topic/34608/?from=hot_topic_anony_sns\" class=\"rec_topics_name\">你最喜欢的影视作品里的奔跑片段</a>\\n                    \\n                    <span class=\"rec_topics_subtitle\">19849人浏览</span>\\n            </li>\\n            <li class=\"rec_topics\">\\n                    <a href=\"https://www.douban.com/gallery/topic/37062/?from=hot_topic_anony_sns\" class=\"rec_topics_name\">视频·城市夜晚的霓虹灯收集</a>\\n                    \\n                    <span class=\"rec_topics_subtitle\">新话题 · 322人浏览</span>\\n            </li>\\n    </ul>\\n</div>\\n\\n      <!-- douban ad begin -->\\n      <li>\\n        <div id=\"dale_homepage_online_activity_promo_1\"></div>\\n      </li>\\n      <li>\\n        <div id=\"dale_anonymous_homepage_doublemint\"></div>\\n      </li>\\n      <!-- douban ad end -->\\n    </ul>\\n  </div>\\n</div>\\n  <div class=\"main\">\\n<div class=\"mod\">\\n\\n  \\n    <h2>\\n        热点内容\\n            &nbsp;&middot;&nbsp;&middot;&nbsp;&middot;&nbsp;&middot;&nbsp;&middot;&nbsp;&middot;\\n            <span class=\"pl\">&nbsp;(\\n                \\n                    <a href=\"https://www.douban.com/explore/\" target=\"_self\">更多</a>\\n                ) </span>\\n    </h2>\\n\\n  <div class=\"albums\">\\n    <ul>\\n      <li>\\n      <div class=\"pic\">\\n          <a href=\"https://www.douban.com/photos/album/1660477859/\"><img src=\"https://img3.doubanio.com/f/shire/a1fdee122b95748d81cee426d717c05b5174fe96/pics/blank.gif\" data-origin=\"https://img1.doubanio.com/view/photo/albumcover/public/p2518957227.jpg\" alt=\"\" /></a>\\n      </div>\\n      <a href=\"https://www.douban.com/photos/album/1660477859/\">清明-贰</a>\\n      <span class=\"num\">115张照片</span>\\n      <li>\\n      <div class=\"pic\">\\n          <a href=\"https://www.douban.com/photos/album/153740994/\"><img src=\"https://img3.doubanio.com/f/shire/a1fdee122b95748d81cee426d717c05b5174fe96/pics/blank.gif\" data-origin=\"https://img3.doubanio.com/view/photo/albumcover/public/p2538461411.jpg\" alt=\"\" /></a>\\n      </div>\\n      <a href=\"https://www.douban.com/photos/album/153740994/\">对生活热爱如昨。</a>\\n      <span class=\"num\">176张照片</span>\\n      <li>\\n      <div class=\"pic\">\\n          <a href=\"https://www.douban.com/photos/album/1660178564/\"><img src=\"https://img3.doubanio.com/f/shire/a1fdee122b95748d81cee426d717c05b5174fe96/pics/blank.gif\" data-origin=\"https://img3.doubanio.com/view/photo/albumcover/public/p2518183490.jpg\" alt=\"\" /></a>\\n      </div>\\n      <a href=\"https://www.douban.com/photos/album/1660178564/\">柬埔寨</a>\\n      <span class=\"num\">267张照片</span>\\n      <li>\\n      <div class=\"pic\">\\n          <a href=\"https://www.douban.com/photos/album/53755301/\"><img src=\"https://img3.doubanio.com/f/shire/a1fdee122b95748d81cee426d717c05b5174fe96/pics/blank.gif\" data-origin=\"https://img1.doubanio.com/view/photo/albumcover/public/p1139666687.jpg\" alt=\"\" /></a>\\n      </div>\\n      <a href=\"https://www.douban.com/photos/album/53755301/\">父亲的画—母亲的画</a>\\n      <span class=\"num\">67张照片</span>\\n    </ul>\\n  </div>\\n  <div class=\"notes\">\\n    <ul>\\n      <li class=\"first\">\\n      <div class=\"title\">\\n          <a href=\"https://www.douban.com/note/681291646/\">上一次，你感到快乐是什么时候？|马男波杰克，现代人的精神创伤病理手册</a>\\n      </div>\\n      <div class=\"author\">\\n        豆瓣时间的日记\\n      </div>\\n      <p>在某种程度上，《马男波杰克》可以被看作是现代社会各种类型的精神创伤的集大成者...</p>\\n      </li>\\n\\n      <li><a href=\"https://www.douban.com/note/691557420/\">来自僧侣的声音</a></li>\\n      <li><a href=\"https://www.douban.com/note/696433924/\">无尽的秋气</a></li>\\n      <li><a href=\"https://www.douban.com/note/622826805/\">小白放火</a></li>\\n      <li><a href=\"https://www.douban.com/note/624450483/\">在这里，爸爸变成了离开水的鱼</a></li>\\n      <li><a href=\"https://www.douban.com/note/663729807/\">在女巫镇过万圣节</a></li>\\n      <li><a href=\"https://www.douban.com/note/680758842/\">别去羡慕那些大作家，他们曾经和你一样不想动笔</a></li>\\n      <li><a href=\"https://www.douban.com/note/288282840/\">永远是孩子——Michael Jackson（上）</a></li>\\n      <li><a href=\"https://www.douban.com/note/628477228/\">【手绘游记】滇西南之行-享受宁静的夏日时光</a></li>\\n      <li><a href=\"https://www.douban.com/note/628510374/\">日本七夕：从传说到现代</a></li>\\n    </ul>\\n  </div>\\n</div>\\n</div>\\n  </div>\\n  \\n\\n</div>\\n\\n\\n\\n\\n\\n\\n\\n\\n      \\n<div id=\"anony-time\" class=\"section\">\\n  <div class=\"wrapper\">\\n  \\n  \\n    <div class=\"sidenav\">\\n        <h2 class=\"section-title\"><a href=\"https://time.douban.com?dt_time_source=douban-web_anonymous\">豆瓣时间</a></h2>\\n    </div>\\n\\n  <div class=\"side\"></div>\\n  <div class=\"main\">\\n    \\n    <h2>\\n        热门专栏\\n            &nbsp;&middot;&nbsp;&middot;&nbsp;&middot;&nbsp;&middot;&nbsp;&middot;&nbsp;&middot;\\n            <span class=\"pl\">&nbsp;(\\n                \\n                    <a href=\"https://time.douban.com?dt_time_source=douban-web_anonymous\" target=\"_self\">更多</a>\\n                ) </span>\\n    </h2>\\n\\n\\n    \\n\\n\\n\\n<ul class=\"time-list\">\\n        <li>\\n            \\n            <a class=\"cover activity  \" href=\"https://m.douban.com/time/column/118?dt_time_source=douban-web_anonymous\" target=\"_blank\">\\n                <img src=\"https://img3.doubanio.com/dae/niffler/niffler/images/dd941a5e-e7c0-11e8-9b4d-0242ac110015.jpg\" alt=\"写手好字·硬笔楷书30日课\">\\n            </a>\\n            <a class=\"title\" href=\"https://m.douban.com/time/column/118?dt_time_source=douban-web_anonymous\" target=\"_blank\">写手好字·硬笔楷书30日课</a>\\n            <span class=\"type\">成长营</span>\\n        </li>\\n        <li>\\n            \\n            <a class=\"cover audio  \" href=\"https://m.douban.com/time/column/120?dt_time_source=douban-web_anonymous\" target=\"_blank\">\\n                <img src=\"https://img3.doubanio.com/dae/niffler/niffler/images/5c4501cc-e340-11e8-af34-0242ac110016.jpg\" alt=\"一个作家的养成——写作成长营名师直播课精选\">\\n            </a>\\n            <a class=\"title\" href=\"https://m.douban.com/time/column/120?dt_time_source=douban-web_anonymous\" target=\"_blank\">一个作家的养成——写作成长营名师直播课精选</a>\\n            <span class=\"type\">音频专栏</span>\\n        </li>\\n        <li>\\n            \\n            <a class=\"cover audio new \" href=\"https://m.douban.com/time/column/111?dt_time_source=douban-web_anonymous\" target=\"_blank\">\\n                <img src=\"https://img3.doubanio.com/dae/niffler/niffler/images/155d88ce-b0d7-11e8-b24b-0242ac11000e.jpg\" alt=\"黑泽明与杨德昌——焦雄屏电影大师手册\">\\n            </a>\\n            <a class=\"title\" href=\"https://m.douban.com/time/column/111?dt_time_source=douban-web_anonymous\" target=\"_blank\">黑泽明与杨德昌——焦雄屏电影大师手册</a>\\n            <span class=\"type\">音频专栏</span>\\n        </li>\\n        <li>\\n            \\n            <a class=\"cover audio new \" href=\"https://m.douban.com/time/column/99?dt_time_source=douban-web_anonymous\" target=\"_blank\">\\n                <img src=\"https://img1.doubanio.com/dae/niffler/niffler/images/81c6658c-6341-11e8-b830-0242ac110019.jpg\" alt=\"古典音乐的奇幻之旅——从入门到上瘾的108堂课\">\\n            </a>\\n            <a class=\"title\" href=\"https://m.douban.com/time/column/99?dt_time_source=douban-web_anonymous\" target=\"_blank\">古典音乐的奇幻之旅——从入门到上瘾的108堂课</a>\\n            <span class=\"type\">音频专栏</span>\\n        </li>\\n        <li>\\n            \\n            <a class=\"cover video new \" href=\"https://m.douban.com/time/column/100?dt_time_source=douban-web_anonymous\" target=\"_blank\">\\n                <img src=\"https://img1.doubanio.com/dae/niffler/niffler/images/66a7d756-698e-11e8-b8c5-0242ac11002c.jpg\" alt=\"花知道答案——中日名师插花课\">\\n            </a>\\n            <a class=\"title\" href=\"https://m.douban.com/time/column/100?dt_time_source=douban-web_anonymous\" target=\"_blank\">花知道答案——中日名师插花课</a>\\n            <span class=\"type\">视频专栏</span>\\n        </li>\\n        <li>\\n            \\n            <a class=\"cover audio  new\" href=\"https://m.douban.com/time/column/76?dt_time_source=douban-web_anonymous\" target=\"_blank\">\\n                <img src=\"https://img3.doubanio.com/dae/niffler/niffler/images/f90e218a-b8aa-11e7-9cc5-0242ac110021.jpg\" alt=\"52倍人生——戴锦华大师电影课\">\\n            </a>\\n            <a class=\"title\" href=\"https://m.douban.com/time/column/76?dt_time_source=douban-web_anonymous\" target=\"_blank\">52倍人生——戴锦华大师电影课</a>\\n            <span class=\"type\">音频专栏</span>\\n        </li>\\n        <li>\\n            \\n            <a class=\"cover audio new \" href=\"https://m.douban.com/time/column/101?dt_time_source=douban-web_anonymous\" target=\"_blank\">\\n                <img src=\"https://img3.doubanio.com/dae/niffler/niffler/images/a1e1fedc-73ac-11e8-b5f7-0242ac110013.png\" alt=\"花鸟鱼虫的生活意见——博物君的自然笔记\">\\n            </a>\\n            <a class=\"title\" href=\"https://m.douban.com/time/column/101?dt_time_source=douban-web_anonymous\" target=\"_blank\">花鸟鱼虫的生活意见——博物君的自然笔记</a>\\n            <span class=\"type\">音频专栏</span>\\n        </li>\\n        <li>\\n            \\n            <a class=\"cover audio new \" href=\"https://m.douban.com/time/column/98?dt_time_source=douban-web_anonymous\" target=\"_blank\">\\n                <img src=\"https://img1.doubanio.com/dae/niffler/niffler/images/3a845768-5da8-11e8-b5f8-0242ac110008.jpg\" alt=\"美剧大爆炸——创作、脑洞与文化密码\">\\n            </a>\\n            <a class=\"title\" href=\"https://m.douban.com/time/column/98?dt_time_source=douban-web_anonymous\" target=\"_blank\">美剧大爆炸——创作、脑洞与文化密码</a>\\n            <span class=\"type\">音频专栏</span>\\n        </li>\\n        <li>\\n            \\n            <a class=\"cover audio  new\" href=\"https://m.douban.com/time/column/83?dt_time_source=douban-web_anonymous\" target=\"_blank\">\\n                <img src=\"https://img3.doubanio.com/dae/niffler/niffler/images/6da43bc4-cdd7-11e7-bb25-0242ac110014.png\" alt=\"哲学闪耀时——不一样的西方哲学史\">\\n            </a>\\n            <a class=\"title\" href=\"https://m.douban.com/time/column/83?dt_time_source=douban-web_anonymous\" target=\"_blank\">哲学闪耀时——不一样的西方哲学史</a>\\n            <span class=\"type\">音频专栏</span>\\n        </li>\\n        <li>\\n            \\n            <a class=\"cover audio  new\" href=\"https://m.douban.com/time/column/85?dt_time_source=douban-web_anonymous\" target=\"_blank\">\\n                <img src=\"https://img3.doubanio.com/dae/niffler/niffler/images/f9493ac4-d428-11e7-a75c-0242ac11002e.jpg\" alt=\"黑镜人生——网络生活的传播学肖像\">\\n            </a>\\n            <a class=\"title\" href=\"https://m.douban.com/time/column/85?dt_time_source=douban-web_anonymous\" target=\"_blank\">黑镜人生——网络生活的传播学肖像</a>\\n            <span class=\"type\">音频专栏</span>\\n        </li>\\n</ul>\\n\\n</div>\\n  </div>\\n  \\n</div>\\n\\n\\n\\n\\n\\n\\n\\n\\n      \\n<div id=\"anony-video\" class=\"section\">\\n  <div class=\"wrapper\">\\n  \\n  \\n    <div class=\"sidenav\">\\n        <h2 class=\"section-title\"><a href=\"https://video.douban.com?dt_time_source=douban-web_anonymous\">视频</a></h2>\\n    </div>\\n\\n  <div class=\"side\"></div>\\n  <div class=\"main\">\\n    \\n    <a href=\"https://video.douban.com/column/10018/\">\\n        \\n    <h2>\\n        瓣嘴\\n            &nbsp;&middot;&nbsp;&middot;&nbsp;&middot;&nbsp;&middot;&nbsp;&middot;&nbsp;&middot;\\n    </h2>\\n\\n    </a>\\n    \\n    <ul class=\"video-list video-rushi\" data-id=\"10018\">\\n        <li>\\n            <div class=\"video-cover\"><a><span></span></a></div>\\n            <a class=\"video-title\"></a>\\n        </li>\\n        <li>\\n            <div class=\"video-cover\"><a><span></span></a></div>\\n            <a class=\"video-title\"></a>\\n        </li>\\n        <li>\\n            <div class=\"video-cover\"><a><span></span></a></div>\\n            <a class=\"video-title\"></a>\\n        </li>\\n    </ul>\\n\\n\\n    <a href=\"https://video.douban.com/column/10008/\">\\n        \\n    <h2>\\n        观影会客厅\\n            &nbsp;&middot;&nbsp;&middot;&nbsp;&middot;&nbsp;&middot;&nbsp;&middot;&nbsp;&middot;\\n    </h2>\\n\\n    </a>\\n    \\n    <ul class=\"video-list video-banzui\" data-id=\"10008\">\\n        <li>\\n            <div class=\"video-cover\"><a><span></span></a></div>\\n            <a class=\"video-title\"></a>\\n        </li>\\n        <li>\\n            <div class=\"video-cover\"><a><span></span></a></div>\\n            <a class=\"video-title\"></a>\\n        </li>\\n        <li>\\n            <div class=\"video-cover\"><a><span></span></a></div>\\n            <a class=\"video-title\"></a>\\n        </li>\\n    </ul>\\n\\n</div>\\n  </div>\\n  \\n</div>\\n\\n\\n\\n\\n\\n\\n\\n\\n      \\n<div id=\"anony-movie\" class=\"section\">\\n  <div class=\"wrapper\">\\n  \\n  \\n<div class=\"sidenav\">\\n  <h2 class=\"section-title\"><a href=\"https://movie.douban.com\">电影</a></h2>\\n  \\n  \\n  <div class=\"side-links nav-anon\">\\n      <ul>\\n                          \\n                 <li><a href=\"https://movie.douban.com/nowplaying/\">影讯&amp;购票</a></li>\\n             \\n                 <li class=\"site-nav-bt\">\\n                     <a href=\"https://movie.douban.com/explore\">选电影</a>\\n                     <img style=\"top: -5px; position: relative;\" src=\"https://img3.doubanio.com/pics/new_menu.gif\"/>\\n                 </li>\\n             \\n                 <li><a href=\"https://movie.douban.com/tv/\">电视剧</a></li>\\n             \\n                 <li><a href=\"https://movie.douban.com/chart\">排行榜</a></li>\\n             \\n                 <li><a href=\"https://movie.douban.com/tag/\">分类</a></li>\\n             \\n                 <li><a href=\"https://movie.douban.com/review/best/\">影评</a></li>\\n             \\n                 <li class=\"site-nav-bt\"><a href=\"https://movie.douban.com/trailers\">预告片</a></li>\\n             \\n                 <li><a href=\"https://movie.douban.com/askmatrix/hot_questions/all\">问答</a></li>\\n      \\n      </ul>\\n  </div>\\n \\n  \\n\\n\\n    <div class=\"apps-list\">\\n    <ul>\\n    </ul>\\n    </div>\\n\\n</div>\\n\\n  <div class=\"side\">\\n<div class=\"mod\">\\n\\n\\n    <h2>\\n        影片分类\\n            &nbsp;&middot;&nbsp;&middot;&nbsp;&middot;&nbsp;&middot;&nbsp;&middot;&nbsp;&middot;\\n            <span class=\"pl\">&nbsp;(\\n                \\n                    <a href=\"https://movie.douban.com/tag/?view=type\" target=\"_self\">更多</a>\\n                ) </span>\\n    </h2>\\n\\n<div class=\"tags list\">\\n  <ul>\\n    <li><a href=\"https://movie.douban.com/tag/爱情\">爱情</a></li>\\n    <li><a href=\"https://movie.douban.com/tag/喜剧\">喜剧</a></li>\\n    <li><a href=\"https://movie.douban.com/tag/剧情\">剧情</a></li>\\n    <li><a href=\"https://movie.douban.com/tag/动画\">动画</a></li>\\n    <li><a href=\"https://movie.douban.com/tag/科幻\">科幻</a></li>\\n    <li><a href=\"https://movie.douban.com/tag/动作\">动作</a></li>\\n    <li><a href=\"https://movie.douban.com/tag/经典\">经典</a></li>\\n    <li><a href=\"https://movie.douban.com/tag/悬疑\">悬疑</a></li>\\n    <li><a href=\"https://movie.douban.com/tag/犯罪\">犯罪</a></li>\\n    <li><a href=\"https://movie.douban.com/tag/青春\">青春</a></li>\\n    <li><a href=\"https://movie.douban.com/tag/惊悚\">惊悚</a></li>\\n    <li><a href=\"https://movie.douban.com/tag/文艺\">文艺</a></li>\\n    <li><a href=\"https://movie.douban.com/tag/搞笑\">搞笑</a></li>\\n    <li><a href=\"https://movie.douban.com/tag/励志\">励志</a></li>\\n    <li><a href=\"https://movie.douban.com/tag/纪录片\">纪录片</a></li>\\n    <li><a href=\"https://movie.douban.com/tag/战争\">战争</a></li>\\n    <li><a href=\"https://movie.douban.com/tag/恐怖\">恐怖</a></li>\\n    <li><a href=\"https://movie.douban.com/tag/黑色幽默\">黑色幽默</a></li>\\n    <li><a href=\"https://movie.douban.com/tag/美国\">美国</a></li>\\n    <li><a href=\"https://movie.douban.com/tag/日本\">日本</a></li>\\n    <li><a href=\"https://movie.douban.com/tag/香港\">香港</a></li>\\n    <li><a href=\"https://movie.douban.com/tag/英国\">英国</a></li>\\n    <li><a href=\"https://movie.douban.com/tag/中国\">中国</a></li>\\n    <li><a href=\"https://movie.douban.com/tag/韩国\">韩国</a></li>\\n    <li><a href=\"https://movie.douban.com/tag/法国\">法国</a></li>\\n    <li><a href=\"https://movie.douban.com/tag/中国大陆\">中国大陆</a></li>\\n    <li><a href=\"https://movie.douban.com/tag/台湾\">台湾</a></li>\\n    <li><a href=\"https://movie.douban.com/tag/意大利\">意大利</a></li>\\n  </ul>\\n</div>\\n</div>\\n\\n<div class=\"mod\">\\n\\n\\n    <h2>\\n        近期热门\\n            &nbsp;&middot;&nbsp;&middot;&nbsp;&middot;&nbsp;&middot;&nbsp;&middot;&nbsp;&middot;\\n            <span class=\"pl\">&nbsp;(\\n                \\n                    <a href=\"https://movie.douban.com/chart\" target=\"_self\">更多</a>\\n                ) </span>\\n    </h2>\\n\\n<div class=\"list1 movie-charts\">\\n  <ol>\\n    <li>\\n    <a href=\"https://movie.douban.com/subject/27615441/\">网络谜踪</a>\\n    </li>\\n    <li>\\n    <a href=\"https://movie.douban.com/subject/26916229/\">镰仓物语</a>\\n    </li>\\n    <li>\\n    <a href=\"https://movie.douban.com/subject/26636712/\">蚁人2：黄蜂女现身</a>\\n    </li>\\n    <li>\\n    <a href=\"https://movie.douban.com/subject/30361134/\">9号秘事 万圣节特别篇</a>\\n    </li>\\n    <li>\\n    <a href=\"https://movie.douban.com/subject/26331700/\">大轰炸</a>\\n    </li>\\n    <li>\\n    <a href=\"https://movie.douban.com/subject/27069427/\">黄金兄弟</a>\\n    </li>\\n    <li>\\n    <a href=\"https://movie.douban.com/subject/26725678/\">解除好友：暗网</a>\\n    </li>\\n    <li>\\n    <a href=\"https://movie.douban.com/subject/26825664/\">修女</a>\\n    </li>\\n    <li>\\n    <a href=\"https://movie.douban.com/subject/26630714/\">精灵旅社3：疯狂假期</a>\\n    </li>\\n    <li>\\n    <a href=\"https://movie.douban.com/subject/26336252/\">碟中谍6：全面瓦解</a>\\n    </li>\\n  </ol>\\n</div>\\n</div>\\n</div>\\n  <div class=\"main\">\\n\\n\\n    <h2>\\n        正在热映\\n            &nbsp;&middot;&nbsp;&middot;&nbsp;&middot;&nbsp;&middot;&nbsp;&middot;&nbsp;&middot;\\n            <span class=\"pl\">&nbsp;(\\n                \\n                    <a href=\"https://movie.douban.com/showtimes/\" target=\"_self\">更多</a>\\n                ) </span>\\n    </h2>\\n\\n<div class=\"movie-list list\">\\n  <ul>\\n  </ul>\\n</div>\\n</div>\\n  </div>\\n  \\n    <div id=\"dale_anonymous_homepage_movie_bottom\" class=\"extra\"></div>\\n\\n</div>\\n\\n\\n\\n\\n\\n\\n\\n\\n      \\n<div id=\"anony-group\" class=\"section\">\\n  <div class=\"wrapper\">\\n  \\n  \\n<div class=\"sidenav\">\\n  <h2 class=\"section-title\"><a href=\"https://www.douban.com/group/\">小组</a></h2>\\n  \\n  \\n  <div class=\"side-links nav-anon\">\\n      <ul>\\n                          \\n                 <li><a href=\"/group/explore\">精选</a></li>\\n             \\n                 <li><a href=\"/group/explore/culture\">文化</a></li>\\n             \\n                 <li><a href=\"/group/explore/travel\">行摄</a></li>\\n             \\n                 <li><a href=\"/group/explore/ent\">娱乐</a></li>\\n             \\n                 <li><a href=\"/group/explore/fashion\">时尚</a></li>\\n             \\n                 <li><a href=\"/group/explore/life\">生活</a></li>\\n             \\n                 <li><a href=\"/group/explore/tech\">科技</a></li>\\n      \\n      </ul>\\n  </div>\\n \\n  \\n\\n\\n    <div class=\"apps-list\">\\n    <ul>\\n    </ul>\\n    </div>\\n\\n</div>\\n\\n  <div class=\"side\">\\n<div class=\"mod\">\\n\\n    <h2>\\n        小组分类\\n            &nbsp;&middot;&nbsp;&middot;&nbsp;&middot;&nbsp;&middot;&nbsp;&middot;&nbsp;&middot;\\n    </h2>\\n\\n   <div class=\"cate group-cate\">\\n       <ul>\\n       <li class=\"cate-label\"><a href=\"https://www.douban.com/group/explore?tag=兴趣\">兴趣&raquo; </a></li>\\n       <li><a href=\"https://www.douban.com/group/explore?tag=旅行\">旅行</a></li>\\n       <li><a href=\"https://www.douban.com/group/explore?tag=摄影\">摄影</a></li>\\n       <li><a href=\"https://www.douban.com/group/explore?tag=影视\">影视</a></li>\\n       <li><a href=\"https://www.douban.com/group/explore?tag=音乐\">音乐</a></li>\\n       <li><a href=\"https://www.douban.com/group/explore?tag=文学\">文学</a></li>\\n       <li><a href=\"https://www.douban.com/group/explore?tag=游戏\">游戏</a></li>\\n       <li><a href=\"https://www.douban.com/group/explore?tag=动漫\">动漫</a></li>\\n       <li><a href=\"https://www.douban.com/group/explore?tag=运动\">运动</a></li>\\n       <li><a href=\"https://www.douban.com/group/explore?tag=戏曲\">戏曲</a></li>\\n       <li><a href=\"https://www.douban.com/group/explore?tag=桌游\">桌游</a></li>\\n       <li><a href=\"https://www.douban.com/group/explore?tag=怪癖\">怪癖</a></li>\\n       </ul>\\n    </div>\\n   <div class=\"cate group-cate\">\\n       <ul>\\n       <li class=\"cate-label\"><a href=\"https://www.douban.com/group/explore?tag=生活\">生活&raquo; </a></li>\\n       <li><a href=\"https://www.douban.com/group/explore?tag=健康\">健康</a></li>\\n       <li><a href=\"https://www.douban.com/group/explore?tag=美食\">美食</a></li>\\n       <li><a href=\"https://www.douban.com/group/explore?tag=宠物\">宠物</a></li>\\n       <li><a href=\"https://www.douban.com/group/explore?tag=美容\">美容</a></li>\\n       <li><a href=\"https://www.douban.com/group/explore?tag=化妆\">化妆</a></li>\\n       <li><a href=\"https://www.douban.com/group/explore?tag=护肤\">护肤</a></li>\\n       <li><a href=\"https://www.douban.com/group/explore?tag=服饰\">服饰</a></li>\\n       <li><a href=\"https://www.douban.com/group/explore?tag=公益\">公益</a></li>\\n       <li><a href=\"https://www.douban.com/group/explore?tag=家庭\">家庭</a></li>\\n       <li><a href=\"https://www.douban.com/group/explore?tag=育儿\">育儿</a></li>\\n       <li><a href=\"https://www.douban.com/group/explore?tag=汽车\">汽车</a></li>\\n       </ul>\\n    </div>\\n   <div class=\"cate group-cate\">\\n       <ul>\\n       <li class=\"cate-label\"><a href=\"https://www.douban.com/group/explore?tag=购物\">购物&raquo; </a></li>\\n       <li><a href=\"https://www.douban.com/group/explore?tag=淘宝\">淘宝</a></li>\\n       <li><a href=\"https://www.douban.com/group/explore?tag=二手\">二手</a></li>\\n       <li><a href=\"https://www.douban.com/group/explore?tag=团购\">团购</a></li>\\n       <li><a href=\"https://www.douban.com/group/explore?tag=数码\">数码</a></li>\\n       <li><a href=\"https://www.douban.com/group/explore?tag=品牌\">品牌</a></li>\\n       <li><a href=\"https://www.douban.com/group/explore?tag=文具\">文具</a></li>\\n       </ul>\\n    </div>\\n   <div class=\"cate group-cate\">\\n       <ul>\\n       <li class=\"cate-label\"><a href=\"https://www.douban.com/group/explore?tag=社会\">社会&raquo; </a></li>\\n       <li><a href=\"https://www.douban.com/group/explore?tag=求职\">求职</a></li>\\n       <li><a href=\"https://www.douban.com/group/explore?tag=租房\">租房</a></li>\\n       <li><a href=\"https://www.douban.com/group/explore?tag=励志\">励志</a></li>\\n       <li><a href=\"https://www.douban.com/group/explore?tag=留学\">留学</a></li>\\n       <li><a href=\"https://www.douban.com/group/explore?tag=出国\">出国</a></li>\\n       <li><a href=\"https://www.douban.com/group/explore?tag=理财\">理财</a></li>\\n       <li><a href=\"https://www.douban.com/group/explore?tag=传媒\">传媒</a></li>\\n       <li><a href=\"https://www.douban.com/group/explore?tag=创业\">创业</a></li>\\n       <li><a href=\"https://www.douban.com/group/explore?tag=考试\">考试</a></li>\\n       </ul>\\n    </div>\\n   <div class=\"cate group-cate\">\\n       <ul>\\n       <li class=\"cate-label\"><a href=\"https://www.douban.com/group/explore?tag=艺术\">艺术&raquo; </a></li>\\n       <li><a href=\"https://www.douban.com/group/explore?tag=设计\">设计</a></li>\\n       <li><a href=\"https://www.douban.com/group/explore?tag=手工\">手工</a></li>\\n       <li><a href=\"https://www.douban.com/group/explore?tag=展览\">展览</a></li>\\n       <li><a href=\"https://www.douban.com/group/explore?tag=曲艺\">曲艺</a></li>\\n       <li><a href=\"https://www.douban.com/group/explore?tag=舞蹈\">舞蹈</a></li>\\n       <li><a href=\"https://www.douban.com/group/explore?tag=雕塑\">雕塑</a></li>\\n       <li><a href=\"https://www.douban.com/group/explore?tag=纹身\">纹身</a></li>\\n       </ul>\\n    </div>\\n   <div class=\"cate group-cate\">\\n       <ul>\\n       <li class=\"cate-label\"><a href=\"https://www.douban.com/group/explore?tag=学术\">学术&raquo; </a></li>\\n       <li><a href=\"https://www.douban.com/group/explore?tag=人文\">人文</a></li>\\n       <li><a href=\"https://www.douban.com/group/explore?tag=社科\">社科</a></li>\\n       <li><a href=\"https://www.douban.com/group/explore?tag=自然\">自然</a></li>\\n       <li><a href=\"https://www.douban.com/group/explore?tag=建筑\">建筑</a></li>\\n       <li><a href=\"https://www.douban.com/group/explore?tag=国学\">国学</a></li>\\n       <li><a href=\"https://www.douban.com/group/explore?tag=语言\">语言</a></li>\\n       <li><a href=\"https://www.douban.com/group/explore?tag=宗教\">宗教</a></li>\\n       <li><a href=\"https://www.douban.com/group/explore?tag=哲学\">哲学</a></li>\\n       <li><a href=\"https://www.douban.com/group/explore?tag=软件\">软件</a></li>\\n       <li><a href=\"https://www.douban.com/group/explore?tag=硬件\">硬件</a></li>\\n       <li><a href=\"https://www.douban.com/group/explore?tag=互联网\">互联网</a></li>\\n       </ul>\\n    </div>\\n   <div class=\"cate group-cate\">\\n       <ul>\\n       <li class=\"cate-label\"><a href=\"https://www.douban.com/group/explore?tag=情感\">情感&raquo; </a></li>\\n       <li><a href=\"https://www.douban.com/group/explore?tag=恋爱\">恋爱</a></li>\\n       <li><a href=\"https://www.douban.com/group/explore?tag=心情\">心情</a></li>\\n       <li><a href=\"https://www.douban.com/group/explore?tag=心理学\">心理学</a></li>\\n       <li><a href=\"https://www.douban.com/group/explore?tag=星座\">星座</a></li>\\n       <li><a href=\"https://www.douban.com/group/explore?tag=塔罗\">塔罗</a></li>\\n       <li><a href=\"https://www.douban.com/group/explore?tag=LES\">LES</a></li>\\n       <li><a href=\"https://www.douban.com/group/explore?tag=GAY\">GAY</a></li>\\n       </ul>\\n    </div>\\n   <div class=\"cate group-cate\">\\n       <ul>\\n       <li class=\"cate-label\"><a href=\"https://www.douban.com/group/explore?tag=闲聊\">闲聊&raquo; </a></li>\\n       <li><a href=\"https://www.douban.com/group/explore?tag=吐槽\">吐槽</a></li>\\n       <li><a href=\"https://www.douban.com/group/explore?tag=笑话\">笑话</a></li>\\n       <li><a href=\"https://www.douban.com/group/explore?tag=直播\">直播</a></li>\\n       <li><a href=\"https://www.douban.com/group/explore?tag=八卦\">八卦</a></li>\\n       <li><a href=\"https://www.douban.com/group/explore?tag=发泄\">发泄</a></li>\\n       </ul>\\n    </div>\\n</div>\\n</div>\\n  <div class=\"main\">\\n\\n\\n    <h2>\\n        热门小组\\n            &nbsp;&middot;&nbsp;&middot;&nbsp;&middot;&nbsp;&middot;&nbsp;&middot;&nbsp;&middot;\\n            <span class=\"pl\">&nbsp;(\\n                \\n                    <a href=\"https://www.douban.com/group/explore\" target=\"_self\">更多</a>\\n                ) </span>\\n    </h2>\\n\\n<div class=\"group-list list\">\\n  <ul>\\n    <li>\\n    <div class=\"pic\">\\n        <a href=\"https://www.douban.com/group/407193/\"><img src=\"https://img3.doubanio.com/f/shire/a1fdee122b95748d81cee426d717c05b5174fe96/pics/blank.gif\" data-origin=\"https://img1.doubanio.com/view/group/sqxs/public/c285ce8ca3631db.jpg\" alt=\"\" width=\"48\" /></a>\\n    </div>\\n    <div class=\"info\">\\n      <div class=\"title\">\\n        <a href=\"https://www.douban.com/group/407193/\">帮帮组™加入这个组就有人帮你了！</a>\\n      </div>\\n      15764 个成员\\n    </div>\\n    <li>\\n    <div class=\"pic\">\\n        <a href=\"https://www.douban.com/group/echofans/\"><img src=\"https://img3.doubanio.com/f/shire/a1fdee122b95748d81cee426d717c05b5174fe96/pics/blank.gif\" data-origin=\"https://img3.doubanio.com/view/group/sqxs/public/ef4bd6235a7c6c2.jpg\" alt=\"\" width=\"48\" /></a>\\n    </div>\\n    <div class=\"info\">\\n      <div class=\"title\">\\n        <a href=\"https://www.douban.com/group/echofans/\">我爱三毛</a>\\n      </div>\\n      45326 个成员\\n    </div>\\n    <li>\\n    <div class=\"pic\">\\n        <a href=\"https://www.douban.com/group/shafake/\"><img src=\"https://img3.doubanio.com/f/shire/a1fdee122b95748d81cee426d717c05b5174fe96/pics/blank.gif\" data-origin=\"https://img3.doubanio.com/view/group/sqxs/public/063bb07a807a340.jpg\" alt=\"\" width=\"48\" /></a>\\n    </div>\\n    <div class=\"info\">\\n      <div class=\"title\">\\n        <a href=\"https://www.douban.com/group/shafake/\">沙发客</a>\\n      </div>\\n      23355 个成员\\n    </div>\\n    <li>\\n    <div class=\"pic\">\\n        <a href=\"https://www.douban.com/group/liucixin/\"><img src=\"https://img3.doubanio.com/f/shire/a1fdee122b95748d81cee426d717c05b5174fe96/pics/blank.gif\" data-origin=\"https://img1.doubanio.com/view/group/sqxs/public/68b08f0f3595407.jpg\" alt=\"\" width=\"48\" /></a>\\n    </div>\\n    <div class=\"info\">\\n      <div class=\"title\">\\n        <a href=\"https://www.douban.com/group/liucixin/\">刘慈欣</a>\\n      </div>\\n      27012 个成员\\n    </div>\\n    <li>\\n    <div class=\"pic\">\\n        <a href=\"https://www.douban.com/group/20618/\"><img src=\"https://img3.doubanio.com/f/shire/a1fdee122b95748d81cee426d717c05b5174fe96/pics/blank.gif\" data-origin=\"https://img3.doubanio.com/view/group/sqxs/public/8f11b2285655782.jpg\" alt=\"\" width=\"48\" /></a>\\n    </div>\\n    <div class=\"info\">\\n      <div class=\"title\">\\n        <a href=\"https://www.douban.com/group/20618/\">西双版纳</a>\\n      </div>\\n      10873 个成员\\n    </div>\\n    <li>\\n    <div class=\"pic\">\\n        <a href=\"https://www.douban.com/group/402725/\"><img src=\"https://img3.doubanio.com/f/shire/a1fdee122b95748d81cee426d717c05b5174fe96/pics/blank.gif\" data-origin=\"https://img1.doubanio.com/view/group/sqxs/public/17fdb616ff143d8.jpg\" alt=\"\" width=\"48\" /></a>\\n    </div>\\n    <div class=\"info\">\\n      <div class=\"title\">\\n        <a href=\"https://www.douban.com/group/402725/\">记事本圆梦小组</a>\\n      </div>\\n      113760 个成员\\n    </div>\\n    <li>\\n    <div class=\"pic\">\\n        <a href=\"https://www.douban.com/group/dashan/\"><img src=\"https://img3.doubanio.com/f/shire/a1fdee122b95748d81cee426d717c05b5174fe96/pics/blank.gif\" data-origin=\"https://img3.doubanio.com/icon/g33120-3.jpg\" alt=\"\" width=\"48\" /></a>\\n    </div>\\n    <div class=\"info\">\\n      <div class=\"title\">\\n        <a href=\"https://www.douban.com/group/dashan/\">搭讪学</a>\\n      </div>\\n      93614 个成员\\n    </div>\\n    <li>\\n    <div class=\"pic\">\\n        <a href=\"https://www.douban.com/group/170177/\"><img src=\"https://img3.doubanio.com/f/shire/a1fdee122b95748d81cee426d717c05b5174fe96/pics/blank.gif\" data-origin=\"https://img3.doubanio.com/view/group/sqxs/public/2e49d167d4322c2.jpg\" alt=\"\" width=\"48\" /></a>\\n    </div>\\n    <div class=\"info\">\\n      <div class=\"title\">\\n        <a href=\"https://www.douban.com/group/170177/\">这辈子一定要做几件疯狂的事</a>\\n      </div>\\n      93830 个成员\\n    </div>\\n    <li>\\n    <div class=\"pic\">\\n        <a href=\"https://www.douban.com/group/cuthair/\"><img src=\"https://img3.doubanio.com/f/shire/a1fdee122b95748d81cee426d717c05b5174fe96/pics/blank.gif\" data-origin=\"https://img3.doubanio.com/icon/g109498-1.jpg\" alt=\"\" width=\"48\" /></a>\\n    </div>\\n    <div class=\"info\">\\n      <div class=\"title\">\\n        <a href=\"https://www.douban.com/group/cuthair/\">自己给自己剪头发</a>\\n      </div>\\n      35093 个成员\\n    </div>\\n    <li>\\n    <div class=\"pic\">\\n        <a href=\"https://www.douban.com/group/83759/\"><img src=\"https://img3.doubanio.com/f/shire/a1fdee122b95748d81cee426d717c05b5174fe96/pics/blank.gif\" data-origin=\"https://img3.doubanio.com/icon/g83759-2.jpg\" alt=\"\" width=\"48\" /></a>\\n    </div>\\n    <div class=\"info\">\\n      <div class=\"title\">\\n        <a href=\"https://www.douban.com/group/83759/\">我们就是要做衣服给自己穿</a>\\n      </div>\\n      3780 个成员\\n    </div>\\n    <li>\\n    <div class=\"pic\">\\n        <a href=\"https://www.douban.com/group/362263/\"><img src=\"https://img3.doubanio.com/f/shire/a1fdee122b95748d81cee426d717c05b5174fe96/pics/blank.gif\" data-origin=\"https://img3.doubanio.com/view/group/sqxs/public/e6ba9bc4c8facbe.jpg\" alt=\"\" width=\"48\" /></a>\\n    </div>\\n    <div class=\"info\">\\n      <div class=\"title\">\\n        <a href=\"https://www.douban.com/group/362263/\">对象太他妈难找了党-单身凸^-^凸</a>\\n      </div>\\n      15762 个成员\\n    </div>\\n  </ul>\\n</div>\\n</div>\\n  </div>\\n  \\n</div>\\n\\n\\n\\n\\n\\n\\n\\n\\n      \\n<div id=\"anony-book\" class=\"section\">\\n  <div class=\"wrapper\">\\n  \\n  \\n<div class=\"sidenav\">\\n  <div class=\"mod\">\\n  <h2 class=\"section-title\"><a href=\"https://book.douban.com\">读书</a></h2>\\n  \\n  \\n  <div class=\"side-links nav-anon\">\\n      <ul>\\n                                                    \\n                 <li><a href=\"https://book.douban.com/tag/\">分类浏览</a></li>\\n             \\n                <li>\\n                    <a target=\"_blank\" href=\"https://read.douban.com?dcn=entry&amp;dcs=book-nav&amp;dcm=douban\">阅读</a>\\n                    <img style=\"top: 4px; position: absolute;\" src=\"https://img3.doubanio.com/pics/new_menu.gif\"/>\\n                </li>\\n             \\n                 <li><a href=\"https://book.douban.com/writers/\">作者</a></li>\\n             \\n                 <li><a href=\"https://book.douban.com/review/best/\">书评</a></li>\\n      \\n          <li class=\"site-nav-prom\">\\n              <a class=\"lnk-buy\" href=\"https://book.douban.com/cart\">\\n                  <em>购书单</em>\\n              </a>\\n          </li>\\n      </ul>\\n  </div>\\n \\n  </div>\\n\\n  \\n\\n\\n    <div class=\"apps-list\">\\n    <ul>\\n    <li><a href=\"https://read.douban.com/app/\" class=\"lnk-icon\"><i class=\"app-icon app-icon-read\"></i></a><a href=\"https://read.douban.com/app/\">豆瓣阅读</a></li>\\n    </ul>\\n    </div>\\n\\n</div>\\n\\n  <div class=\"side\">\\n\\n<div class=\"mod\">\\n\\n    <h2>\\n        热门标签\\n            &nbsp;&middot;&nbsp;&middot;&nbsp;&middot;&nbsp;&middot;&nbsp;&middot;&nbsp;&middot;\\n            <span class=\"pl\">&nbsp;(\\n                \\n                    <a href=\"https://book.douban.com/tag/?view=type\" target=\"_self\">更多</a>\\n                ) </span>\\n    </h2>\\n\\n<div class=\"book-cate-mod\">\\n<div class=\"cate book-cate\">\\n  <ul>\\n  <li class=\"cate-label\">[文学]</li>\\n  <li><a href=\"https://book.douban.com/tag/小说\">小说</a></li>\\n  <li><a href=\"https://book.douban.com/tag/随笔\">随笔</a></li>\\n  <li><a href=\"https://book.douban.com/tag/日本文学\">日本文学</a></li>\\n  <li><a href=\"https://book.douban.com/tag/散文\">散文</a></li>\\n  <li><a href=\"https://book.douban.com/tag/诗歌\">诗歌</a></li>\\n  <li><a href=\"https://book.douban.com/tag/童话\">童话</a></li>\\n  <li><a href=\"https://book.douban.com/tag/名著\">名著</a></li>\\n  <li><a href=\"https://book.douban.com/tag/港台\">港台</a></li>\\n  <li><a href=\"https://book.douban.com/tag/?view=type#文学\">更多</a></li>\\n  </ul>\\n</div>\\n<div class=\"cate book-cate\">\\n  <ul>\\n  <li class=\"cate-label\">[流行]</li>\\n  <li><a href=\"https://book.douban.com/tag/漫画\">漫画</a></li>\\n  <li><a href=\"https://book.douban.com/tag/推理\">推理</a></li>\\n  <li><a href=\"https://book.douban.com/tag/绘本\">绘本</a></li>\\n  <li><a href=\"https://book.douban.com/tag/青春\">青春</a></li>\\n  <li><a href=\"https://book.douban.com/tag/科幻\">科幻</a></li>\\n  <li><a href=\"https://book.douban.com/tag/言情\">言情</a></li>\\n  <li><a href=\"https://book.douban.com/tag/奇幻\">奇幻</a></li>\\n  <li><a href=\"https://book.douban.com/tag/武侠\">武侠</a></li>\\n  <li><a href=\"https://book.douban.com/tag/?view=type#流行\">更多</a></li>\\n  </ul>\\n</div>\\n<div class=\"cate book-cate\">\\n  <ul>\\n  <li class=\"cate-label\">[文化]</li>\\n  <li><a href=\"https://book.douban.com/tag/历史\">历史</a></li>\\n  <li><a href=\"https://book.douban.com/tag/哲学\">哲学</a></li>\\n  <li><a href=\"https://book.douban.com/tag/传记\">传记</a></li>\\n  <li><a href=\"https://book.douban.com/tag/设计\">设计</a></li>\\n  <li><a href=\"https://book.douban.com/tag/建筑\">建筑</a></li>\\n  <li><a href=\"https://book.douban.com/tag/电影\">电影</a></li>\\n  <li><a href=\"https://book.douban.com/tag/回忆录\">回忆录</a></li>\\n  <li><a href=\"https://book.douban.com/tag/音乐\">音乐</a></li>\\n  <li><a href=\"https://book.douban.com/tag/?view=type#文化\">更多</a></li>\\n  </ul>\\n</div>\\n<div class=\"cate book-cate\">\\n  <ul>\\n  <li class=\"cate-label\">[生活]</li>\\n  <li><a href=\"https://book.douban.com/tag/旅行\">旅行</a></li>\\n  <li><a href=\"https://book.douban.com/tag/励志\">励志</a></li>\\n  <li><a href=\"https://book.douban.com/tag/教育\">教育</a></li>\\n  <li><a href=\"https://book.douban.com/tag/职场\">职场</a></li>\\n  <li><a href=\"https://book.douban.com/tag/美食\">美食</a></li>\\n  <li><a href=\"https://book.douban.com/tag/灵修\">灵修</a></li>\\n  <li><a href=\"https://book.douban.com/tag/健康\">健康</a></li>\\n  <li><a href=\"https://book.douban.com/tag/家居\">家居</a></li>\\n  <li><a href=\"https://book.douban.com/tag/?view=type#生活\">更多</a></li>\\n  </ul>\\n</div>\\n<div class=\"cate book-cate\">\\n  <ul>\\n  <li class=\"cate-label\">[经管]</li>\\n  <li><a href=\"https://book.douban.com/tag/经济学\">经济学</a></li>\\n  <li><a href=\"https://book.douban.com/tag/管理\">管理</a></li>\\n  <li><a href=\"https://book.douban.com/tag/商业\">商业</a></li>\\n  <li><a href=\"https://book.douban.com/tag/金融\">金融</a></li>\\n  <li><a href=\"https://book.douban.com/tag/营销\">营销</a></li>\\n  <li><a href=\"https://book.douban.com/tag/理财\">理财</a></li>\\n  <li><a href=\"https://book.douban.com/tag/股票\">股票</a></li>\\n  <li><a href=\"https://book.douban.com/tag/企业史\">企业史</a></li>\\n  <li><a href=\"https://book.douban.com/tag/?view=type#经管\">更多</a></li>\\n  </ul>\\n</div>\\n<div class=\"cate book-cate\">\\n  <ul>\\n  <li class=\"cate-label\">[科技]</li>\\n  <li><a href=\"https://book.douban.com/tag/科普\">科普</a></li>\\n  <li><a href=\"https://book.douban.com/tag/互联网\">互联网</a></li>\\n  <li><a href=\"https://book.douban.com/tag/编程\">编程</a></li>\\n  <li><a href=\"https://book.douban.com/tag/交互设计\">交互设计</a></li>\\n  <li><a href=\"https://book.douban.com/tag/算法\">算法</a></li>\\n  <li><a href=\"https://book.douban.com/tag/通信\">通信</a></li>\\n  <li><a href=\"https://book.douban.com/tag/神经网络\">神经网络</a></li>\\n  <li><a href=\"https://book.douban.com/tag/?view=type#科技\">更多</a></li>\\n  </ul>\\n</div>\\n</div>\\n</div>\\n</div>\\n  <div class=\"main\">\\n\\n<div class=\"mod\">\\n\\n    <h2>\\n        新书速递\\n            &nbsp;&middot;&nbsp;&middot;&nbsp;&middot;&nbsp;&middot;&nbsp;&middot;&nbsp;&middot;\\n            <span class=\"pl\">&nbsp;(\\n                \\n                    <a href=\"https://book.douban.com/latest\" target=\"_self\">更多</a>\\n                ) </span>\\n    </h2>\\n\\n<div class=\"book-list list\">\\n  <ul>\\n      <li>\\n      <div class=\"pic\">\\n          <a href=\"https://book.douban.com/subject/30285035/\"><img src=\"https://img3.doubanio.com/f/shire/a1fdee122b95748d81cee426d717c05b5174fe96/pics/blank.gif\" data-origin=\"https://img3.doubanio.com/view/subject/m/public/s29928015.jpg\" alt=\"蜜蜂与远雷\" /></a>\\n      </div>\\n      <div class=\"title\">\\n        <a href=\"https://book.douban.com/subject/30285035/\" >蜜蜂与远雷</a>\\n      </div>\\n      <div class=\"author\">〔日〕恩田陆</div>\\n      <a href=\"https://read.douban.com/reader/ebook/60216482/\" target=\"_blank\" class=\"bn-link\">免费试读</a>\\n      <li>\\n      <div class=\"pic\">\\n          <a href=\"https://book.douban.com/subject/30282306/\"><img src=\"https://img3.doubanio.com/f/shire/a1fdee122b95748d81cee426d717c05b5174fe96/pics/blank.gif\" data-origin=\"https://img3.doubanio.com/view/subject/m/public/s29881481.jpg\" alt=\"泰坦的女妖\" /></a>\\n      </div>\\n      <div class=\"title\">\\n        <a href=\"https://book.douban.com/subject/30282306/\" >泰坦的女妖</a>\\n      </div>\\n      <div class=\"author\">〔美 〕库尔特...</div>\\n      <a href=\"https://read.douban.com/reader/ebook/60304269/\" target=\"_blank\" class=\"bn-link\">免费试读</a>\\n      <li>\\n      <div class=\"pic\">\\n          <a href=\"https://book.douban.com/subject/30231924/\"><img src=\"https://img3.doubanio.com/f/shire/a1fdee122b95748d81cee426d717c05b5174fe96/pics/blank.gif\" data-origin=\"https://img3.doubanio.com/view/subject/m/public/s29905205.jpg\" alt=\"沃普萧丑闻\" /></a>\\n      </div>\\n      <div class=\"title\">\\n        <a href=\"https://book.douban.com/subject/30231924/\" >沃普萧丑闻</a>\\n      </div>\\n      <div class=\"author\">〔美〕约翰·契...</div>\\n      <a href=\"https://read.douban.com/reader/ebook/59169086/\" target=\"_blank\" class=\"bn-link\">免费试读</a>\\n      <li>\\n      <div class=\"pic\">\\n          <a href=\"https://book.douban.com/subject/28355275/\"><img src=\"https://img3.doubanio.com/f/shire/a1fdee122b95748d81cee426d717c05b5174fe96/pics/blank.gif\" data-origin=\"https://img1.doubanio.com/view/subject/m/public/s29879117.jpg\" alt=\"摇摆时光\" /></a>\\n      </div>\\n      <div class=\"title\">\\n        <a href=\"https://book.douban.com/subject/28355275/\" >摇摆时光</a>\\n      </div>\\n      <div class=\"author\">〔英〕扎迪·史...</div>\\n      <a href=\"https://read.douban.com/reader/ebook/59191215/\" target=\"_blank\" class=\"bn-link\">免费试读</a>\\n  </ul>\\n</div>\\n</div>\\n\\n<div class=\"mod\">\\n\\n    <h2>\\n        原创数字作品\\n            &nbsp;&middot;&nbsp;&middot;&nbsp;&middot;&nbsp;&middot;&nbsp;&middot;&nbsp;&middot;\\n            <span class=\"pl\">&nbsp;(\\n                \\n                    <a href=\"https://read.douban.com/ebooks/\" target=\"_self\">更多</a>\\n                ) </span>\\n    </h2>\\n\\n<div class=\"book-list list\">\\n  <ul>\\n    <li>\\n    <div class=\"pic\">\\n        <a href=\"https://read.douban.com/ebook/53171779\" target=\"_blank\"><img src=\"https://img3.doubanio.com/f/shire/a1fdee122b95748d81cee426d717c05b5174fe96/pics/blank.gif\" data-origin=\"https://img1.doubanio.com/view/ark_article_cover/large/public/53171779.jpg?v=1535941076.0\" alt=\"到床上去\" /></a>\\n    </div>\\n    <div class=\"title\">\\n      <a href=\"https://read.douban.com/ebook/53171779\" target=\"_blank\">到床上去</a>\\n    </div>\\n    <div class=\"author\">清水旬</div>\\n    <div class=\"price\">\\n        1.99元\\n    </div>\\n    <a href=\"https://read.douban.com/reader/ebook/53171779/\" target=\"_blank\" class=\"bn-link\">免费试读</a>\\n    <li>\\n    <div class=\"pic\">\\n        <a href=\"https://read.douban.com/ebook/53745549\" target=\"_blank\"><img src=\"https://img3.doubanio.com/f/shire/a1fdee122b95748d81cee426d717c05b5174fe96/pics/blank.gif\" data-origin=\"https://img1.doubanio.com/view/ark_article_cover/large/public/53745549.jpg?v=1531102770.0\" alt=\"罪恶的枷锁 Ⅰ\" /></a>\\n    </div>\\n    <div class=\"title\">\\n      <a href=\"https://read.douban.com/ebook/53745549\" target=\"_blank\">罪恶的枷锁 Ⅰ...</a>\\n    </div>\\n    <div class=\"author\">艾石</div>\\n    <div class=\"price\">\\n        2.99元\\n    </div>\\n    <a href=\"https://read.douban.com/reader/ebook/53745549/\" target=\"_blank\" class=\"bn-link\">免费试读</a>\\n    <li>\\n    <div class=\"pic\">\\n        <a href=\"https://read.douban.com/ebook/11189054\" target=\"_blank\"><img src=\"https://img3.doubanio.com/f/shire/a1fdee122b95748d81cee426d717c05b5174fe96/pics/blank.gif\" data-origin=\"https://img3.doubanio.com/view/ark_article_cover/large/public/11189054.jpg?v=1437558158.0\" alt=\"高棉的微笑：吴哥传奇\" /></a>\\n    </div>\\n    <div class=\"title\">\\n      <a href=\"https://read.douban.com/ebook/11189054\" target=\"_blank\">高棉的微笑：吴...</a>\\n    </div>\\n    <div class=\"author\">〔香港〕小康</div>\\n    <div class=\"price\">\\n        4.99元\\n    </div>\\n    <a href=\"https://read.douban.com/reader/ebook/11189054/\" target=\"_blank\" class=\"bn-link\">免费试读</a>\\n    <li>\\n    <div class=\"pic\">\\n        <a href=\"https://read.douban.com/ebook/57695843\" target=\"_blank\"><img src=\"https://img3.doubanio.com/f/shire/a1fdee122b95748d81cee426d717c05b5174fe96/pics/blank.gif\" data-origin=\"https://img3.doubanio.com/view/ark_article_cover/large/public/57695843.jpg?v=1540779924.0\" alt=\"中日之间：日本朝贡之路与大明朝倭患\" /></a>\\n    </div>\\n    <div class=\"title\">\\n      <a href=\"https://read.douban.com/ebook/57695843\" target=\"_blank\">中日之间：日本...</a>\\n    </div>\\n    <div class=\"author\">长歌一曲</div>\\n    <div class=\"price\">\\n        1.99元\\n    </div>\\n    <a href=\"https://read.douban.com/reader/ebook/57695843/\" target=\"_blank\" class=\"bn-link\">免费试读</a>\\n  </ul>\\n</div>\\n</div>\\n</div>\\n  </div>\\n  \\n</div>\\n\\n\\n\\n\\n\\n\\n\\n\\n      \\n<div id=\"anony-music\" class=\"section\">\\n  <div class=\"wrapper\">\\n  \\n  \\n  <div class=\"sidenav\">\\n    <h2 class=\"section-title\"><a href=\"https://music.douban.com\">音乐</a></h2>\\n    \\n  \\n  <div class=\"side-links nav-anon\">\\n      <ul>\\n                          \\n                 <li><a href=\"https://music.douban.com/artists/\">音乐人</a></li>\\n             \\n                 <li><a href=\"https://www.douban.com/wetware/\">潮潮豆瓣音乐周</a></li>\\n             \\n                 <li><a href=\"https://music.douban.com/artists/royalty/\">金羊毛计划</a></li>\\n             \\n                 <li><a href=\"https://music.douban.com/topics/\">专题</a></li>\\n             \\n                 <li><a href=\"https://music.douban.com/chart\">排行榜</a></li>\\n             \\n                 <li><a href=\"https://music.douban.com/tag/\">分类浏览</a></li>\\n             \\n                 <li><a href=\"https://music.douban.com/review/latest/\">乐评</a></li>\\n             \\n                 <li><a href=\"https://douban.fm/?from_=music_nav\">豆瓣FM</a></li>\\n             \\n                 <li><a href=\"https://douban.fm/explore/songlists/\">歌单</a></li>\\n             \\n                 <li><a href=\"https://artist.douban.com/abilu/\">阿比鹿音乐奖</a></li>\\n      \\n      </ul>\\n  </div>\\n\\n    \\n\\n\\n    <div class=\"apps-list\">\\n    <ul>\\n    <li><a href=\"https://douban.fm/app?from_=shire_anonymous_home\" class=\"lnk-icon\"><i class=\"app-icon app-icon-fm\"></i></a><a href=\"https://douban.fm/app?from_=shire_anonymous_home\">豆瓣FM</a></li>\\n    <li><a href=\"https://artist.douban.com/app\" class=\"lnk-icon\"><i class=\"app-icon app-icon-artists\"></i></a><a href=\"https://artist.douban.com/app\">豆瓣音乐人</a></li>\\n    </ul>\\n    </div>\\n\\n  </div>\\n\\n  <div class=\"side\">\\n  <div class=\"mod\">\\n    \\n    \\n    <h2>\\n        本周流行音乐人\\n            ······\\n            <span class=\"pl\">&nbsp;(\\n                \\n                    <a href=\"https://music.douban.com/artists/\" target=\"_self\">更多</a>\\n                ) </span>\\n    </h2>\\n\\n    <div class=\"list1 artist-charts\">\\n      <ul>\\n          <li>\\n            <span class=\"num\">1.</span>\\n            <div class=\"pic artist-song-play\" data-sids=\"[&#34;738137&#34;, &#34;44029&#34;, &#34;116103&#34;]\">\\n              <a href=\"https://site.douban.com/dannv/\"><img src=\"https://img3.doubanio.com/f/shire/a1fdee122b95748d81cee426d717c05b5174fe96/pics/blank.gif\" data-origin=\"https://img3.doubanio.com/view/site/small/public/98d65025a6b030d.jpg\" width=\"48\"></a>\\n              <i class=\"icon icon-bg\"></i>\\n              <i class=\"icon icon-stat icon-play\"></i>\\n            </div>\\n            <div class=\"content\">\\n              <a href=\"https://site.douban.com/dannv/\">邵夷贝</a>\\n              <div class=\"desc\">\\n                流派: 民谣 Folk\\n                <br>200995人关注\\n              </div>\\n            </div>\\n          </li>\\n          <li>\\n            <span class=\"num\">2.</span>\\n            <div class=\"pic artist-song-play\" data-sids=\"[&#34;738002&#34;, &#34;736657&#34;, &#34;391639&#34;]\">\\n              <a href=\"https://site.douban.com/nomads/\"><img src=\"https://img3.doubanio.com/f/shire/a1fdee122b95748d81cee426d717c05b5174fe96/pics/blank.gif\" data-origin=\"https://img3.doubanio.com/view/site/small/public/181f15e895d3001.jpg\" width=\"48\"></a>\\n              <i class=\"icon icon-bg\"></i>\\n              <i class=\"icon icon-stat icon-play\"></i>\\n            </div>\\n            <div class=\"content\">\\n              <a href=\"https://site.douban.com/nomads/\">天格思</a>\\n              <div class=\"desc\">\\n                流派: 轻音乐 Easy Listening\\n                <br>1109人关注\\n              </div>\\n            </div>\\n          </li>\\n          <li>\\n            <span class=\"num\">3.</span>\\n            <div class=\"pic artist-song-play\" data-sids=\"[&#34;737865&#34;, &#34;610065&#34;, &#34;488171&#34;]\">\\n              <a href=\"https://site.douban.com/howhy/\"><img src=\"https://img3.doubanio.com/f/shire/a1fdee122b95748d81cee426d717c05b5174fe96/pics/blank.gif\" data-origin=\"https://img1.doubanio.com/view/site/small/public/e75fe37ec5ebc0c.jpg\" width=\"48\"></a>\\n              <i class=\"icon icon-bg\"></i>\\n              <i class=\"icon icon-stat icon-play\"></i>\\n            </div>\\n            <div class=\"content\">\\n              <a href=\"https://site.douban.com/howhy/\">號外 HOWHY</a>\\n              <div class=\"desc\">\\n                流派: 爵士 Jazz\\n                <br>409人关注\\n              </div>\\n            </div>\\n          </li>\\n          <li>\\n            <span class=\"num\">4.</span>\\n            <div class=\"pic artist-song-play\" data-sids=\"[&#34;737557&#34;, &#34;601102&#34;, &#34;53928&#34;]\">\\n              <a href=\"https://site.douban.com/theanna/\"><img src=\"https://img3.doubanio.com/f/shire/a1fdee122b95748d81cee426d717c05b5174fe96/pics/blank.gif\" data-origin=\"https://img1.doubanio.com/view/site/small/public/5cb725ac1ba13b9.jpg\" width=\"48\"></a>\\n              <i class=\"icon icon-bg\"></i>\\n              <i class=\"icon icon-stat icon-play\"></i>\\n            </div>\\n            <div class=\"content\">\\n              <a href=\"https://site.douban.com/theanna/\">Shekhinah | 安娜与陈飙</a>\\n              <div class=\"desc\">\\n                流派: 摇滚 Rock\\n                <br>5229人关注\\n              </div>\\n            </div>\\n          </li>\\n          <li>\\n            <span class=\"num\">5.</span>\\n            <div class=\"pic artist-song-play\" data-sids=\"[&#34;738091&#34;, &#34;709559&#34;, &#34;708572&#34;]\">\\n              <a href=\"https://site.douban.com/AfB/\"><img src=\"https://img3.doubanio.com/f/shire/a1fdee122b95748d81cee426d717c05b5174fe96/pics/blank.gif\" data-origin=\"https://img3.doubanio.com/view/site/small/public/2594de49af52f55.jpg\" width=\"48\"></a>\\n              <i class=\"icon icon-bg\"></i>\\n              <i class=\"icon icon-stat icon-play\"></i>\\n            </div>\\n            <div class=\"content\">\\n              <a href=\"https://site.douban.com/AfB/\">Alternative for Baroque</a>\\n              <div class=\"desc\">\\n                流派: 轻音乐 Easy Listening\\n                <br>343人关注\\n              </div>\\n            </div>\\n          </li>\\n      </ul>\\n    </div>\\n  </div>\\n</div>\\n  <div class=\"main\">\\n\\n  \\n    \\n    <h2>\\n        豆瓣新碟榜\\n            &nbsp;&middot;&nbsp;&middot;&nbsp;&middot;&nbsp;&middot;&nbsp;&middot;&nbsp;&middot;\\n            <span class=\"pl\">&nbsp;(\\n                \\n                    <a href=\"https://music.douban.com#new1\" target=\"_self\">更多</a>\\n                ) </span>\\n    </h2>\\n\\n    <div class=\"album-list list\">\\n      <ul>\\n          <li>\\n            <div class=\"pic\">\\n              <a href=\"https://music.douban.com/subject/30348533/\">\\n                <img src=\"https://img3.doubanio.com/f/shire/a1fdee122b95748d81cee426d717c05b5174fe96/pics/blank.gif\" data-origin=\"https://img3.doubanio.com/view/subject/s/public/s29895024.jpg\" alt=\"耳朵\" style=\"width: 80px; max-height: 120px;\"/>\\n              </a>\\n            </div>\\n            <div class=\"title\">\\n              1. <a href=\"https://music.douban.com/subject/30348533/\">耳朵</a>\\n            </div>\\n            <div class=\"artist\">\\n              <a href=\"\">李荣浩</a>\\n            </div>\\n            <div class=\"rating\">\\n              <span class=\"allstar40\"></span><i>7.5</i>\\n            </div>\\n          </li>\\n          <li>\\n            <div class=\"pic\">\\n              <a href=\"https://music.douban.com/subject/30374999/\">\\n                <img src=\"https://img3.doubanio.com/f/shire/a1fdee122b95748d81cee426d717c05b5174fe96/pics/blank.gif\" data-origin=\"https://img3.doubanio.com/view/subject/s/public/s29927153.jpg\" alt=\"TO THE NINES\" style=\"width: 80px; max-height: 120px;\"/>\\n              </a>\\n            </div>\\n            <div class=\"title\">\\n              2. <a href=\"https://music.douban.com/subject/30374999/\">TO THE NINES</a>\\n            </div>\\n            <div class=\"artist\">\\n              <a href=\"\">NINE PERCENT</a>\\n            </div>\\n            <div class=\"rating\">\\n              <span class=\"allstar35\"></span><i>6.4</i>\\n            </div>\\n          </li>\\n          <li>\\n            <div class=\"pic\">\\n              <a href=\"https://music.douban.com/subject/30348863/\">\\n                <img src=\"https://img3.doubanio.com/f/shire/a1fdee122b95748d81cee426d717c05b5174fe96/pics/blank.gif\" data-origin=\"https://img3.doubanio.com/view/subject/s/public/s29900234.jpg\" alt=\"答案之书\" style=\"width: 80px; max-height: 120px;\"/>\\n              </a>\\n            </div>\\n            <div class=\"title\">\\n              3. <a href=\"https://music.douban.com/subject/30348863/\">答案之书</a>\\n            </div>\\n            <div class=\"artist\">\\n              <a href=\"\">容祖儿</a>\\n            </div>\\n            <div class=\"rating\">\\n              <span class=\"allstar30\"></span><i>6.1</i>\\n            </div>\\n          </li>\\n          <li>\\n            <div class=\"pic\">\\n              <a href=\"https://music.douban.com/subject/30373804/\">\\n                <img src=\"https://img3.doubanio.com/f/shire/a1fdee122b95748d81cee426d717c05b5174fe96/pics/blank.gif\" data-origin=\"https://img3.doubanio.com/view/subject/s/public/s29935464.jpg\" alt=\"沙发海\" style=\"width: 80px; max-height: 120px;\"/>\\n              </a>\\n            </div>\\n            <div class=\"title\">\\n              4. <a href=\"https://music.douban.com/subject/30373804/\">沙发海</a>\\n            </div>\\n            <div class=\"artist\">\\n              <a href=\"\">陈绮贞</a>\\n            </div>\\n            <div class=\"rating\">\\n              <span class=\"allstar40\"></span><i>8.0</i>\\n            </div>\\n          </li>\\n          <li>\\n            <div class=\"pic\">\\n              <a href=\"https://music.douban.com/subject/30323012/\">\\n                <img src=\"https://img3.doubanio.com/f/shire/a1fdee122b95748d81cee426d717c05b5174fe96/pics/blank.gif\" data-origin=\"https://img3.doubanio.com/view/subject/s/public/s29866473.jpg\" alt=\"A Brief Inquiry Into Online Relationships\" style=\"width: 80px; max-height: 120px;\"/>\\n              </a>\\n            </div>\\n            <div class=\"title\">\\n              5. <a href=\"https://music.douban.com/subject/30323012/\">A Brief Inquiry Into Online Relationships</a>\\n            </div>\\n            <div class=\"artist\">\\n              <a href=\"\">The 1975</a>\\n            </div>\\n            <div class=\"rating\">\\n              <span class=\"allstar45\"></span><i>8.5</i>\\n            </div>\\n          </li>\\n          <li>\\n            <div class=\"pic\">\\n              <a href=\"https://music.douban.com/subject/30355352/\">\\n                <img src=\"https://img3.doubanio.com/f/shire/a1fdee122b95748d81cee426d717c05b5174fe96/pics/blank.gif\" data-origin=\"https://img1.doubanio.com/view/subject/s/public/s29924147.jpg\" alt=\"Caution\" style=\"width: 80px; max-height: 120px;\"/>\\n              </a>\\n            </div>\\n            <div class=\"title\">\\n              6. <a href=\"https://music.douban.com/subject/30355352/\">Caution</a>\\n            </div>\\n            <div class=\"artist\">\\n              <a href=\"\">Mariah Carey</a>\\n            </div>\\n            <div class=\"rating\">\\n              <span class=\"allstar40\"></span><i>7.9</i>\\n            </div>\\n          </li>\\n          <li>\\n            <div class=\"pic\">\\n              <a href=\"https://music.douban.com/subject/30383491/\">\\n                <img src=\"https://img3.doubanio.com/f/shire/a1fdee122b95748d81cee426d717c05b5174fe96/pics/blank.gif\" data-origin=\"https://img1.doubanio.com/view/subject/s/public/s29932189.jpg\" alt=\"MINO FIRST SOLO ALBUM : XX\" style=\"width: 80px; max-height: 120px;\"/>\\n              </a>\\n            </div>\\n            <div class=\"title\">\\n              7. <a href=\"https://music.douban.com/subject/30383491/\">MINO FIRST SOLO ALBUM : XX</a>\\n            </div>\\n            <div class=\"artist\">\\n              <a href=\"\">송민호 宋旻浩 Mino</a>\\n            </div>\\n            <div class=\"rating\">\\n              <span class=\"allstar40\"></span><i>7.4</i>\\n            </div>\\n          </li>\\n          <li>\\n            <div class=\"pic\">\\n              <a href=\"https://music.douban.com/subject/30376093/\">\\n                <img src=\"https://img3.doubanio.com/f/shire/a1fdee122b95748d81cee426d717c05b5174fe96/pics/blank.gif\" data-origin=\"https://img3.doubanio.com/view/subject/s/public/s29936201.jpg\" alt=\"RBB the 5th Mini Album\" style=\"width: 80px; max-height: 120px;\"/>\\n              </a>\\n            </div>\\n            <div class=\"title\">\\n              8. <a href=\"https://music.douban.com/subject/30376093/\">RBB the 5th Mini Album</a>\\n            </div>\\n            <div class=\"artist\">\\n              <a href=\"\">Red Velvet 레드벨벳</a>\\n            </div>\\n            <div class=\"rating\">\\n              <span class=\"allstar35\"></span><i>6.9</i>\\n            </div>\\n          </li>\\n      </ul>\\n    </div>\\n\\n  \\n  \\n    <h2>\\n        热门歌单\\n            &nbsp;&middot;&nbsp;&middot;&nbsp;&middot;&nbsp;&middot;&nbsp;&middot;&nbsp;&middot;\\n            <span class=\"pl\">&nbsp;(\\n                \\n                    <a href=\"https://music.douban.com/programmes/\" target=\"_self\">更多</a>\\n                ) </span>\\n    </h2>\\n\\n  <div class=\"programme-list list\">\\n    <ul>\\n        \\n          <li>\\n            <div class=\"pic cover\"><img width=80 src=\"https://img1.doubanio.com/img/songlist/large/433008-7.jpg\"><a href=\"https://music.douban.com/programme/433008\" target=\"_blank\"><i></i></a></div>\\n            <div class=\"title\">属于寂静空间里的音乐</div>\\n          </li>\\n        \\n          <li>\\n            <div class=\"pic cover\"><img width=80 src=\"https://img3.doubanio.com/img/songlist/large/435987-1.jpg\"><a href=\"https://music.douban.com/programme/435987\" target=\"_blank\"><i></i></a></div>\\n            <div class=\"title\">一个人的下午茶</div>\\n          </li>\\n        \\n          <li>\\n            <div class=\"pic cover\"><img width=80 src=\"https://img3.doubanio.com/img/songlist/large/1332938-1.jpg\"><a href=\"https://music.douban.com/programme/1332938\" target=\"_blank\"><i></i></a></div>\\n            <div class=\"title\">金玟岐 Vanessa</div>\\n          </li>\\n        \\n          <li>\\n            <div class=\"pic cover\"><img width=80 src=\"https://img3.doubanio.com/img/songlist/large/33237-1.jpg\"><a href=\"https://music.douban.com/programme/33237\" target=\"_blank\"><i></i></a></div>\\n            <div class=\"title\">塞壬之歌</div>\\n          </li>\\n        \\n          <li>\\n            <div class=\"pic cover\"><img width=80 src=\"https://img3.doubanio.com/img/songlist/large/14110480-1.jpg\"><a href=\"https://music.douban.com/programme/14110480\" target=\"_blank\"><i></i></a></div>\\n            <div class=\"title\">玛丽玛丽 de 乐园</div>\\n          </li>\\n        \\n          <li>\\n            <div class=\"pic cover\"><img width=80 src=\"https://img3.doubanio.com/img/songlist/large/463258-1.jpg\"><a href=\"https://music.douban.com/programme/463258\" target=\"_blank\"><i></i></a></div>\\n            <div class=\"title\">它撩动人心。</div>\\n          </li>\\n    </ul>\\n  </div>\\n\\n</div>\\n  </div>\\n  \\n  <div id=\"dale_anonymous_home_page_middle_2\" class=\"extra\"></div>\\n\\n</div>\\n\\n\\n\\n\\n\\n\\n\\n\\n      \\n<div id=\"anony-market\" class=\"section\">\\n  <div class=\"wrapper\">\\n  \\n  \\n<div class=\"sidenav\">\\n  <h2 class=\"section-title\">\\n    <a href=\"https://market.douban.com?dcs=anonymous-home-sidenav&amp;dcm=douban\">\\n      豆品\\n    </a>\\n  </h2>\\n</div>\\n\\n  <div class=\"side\">\\n<div class=\"mod\">\\n  \\n    <h2>\\n        热门活动\\n            &nbsp;&middot;&nbsp;&middot;&nbsp;&middot;&nbsp;&middot;&nbsp;&middot;&nbsp;&middot;\\n    </h2>\\n\\n  <ul class=\"market-topics\">\\n      <li class=\"market-topic-item\" >\\n        <a href=\"https://www.douban.com/gallery/topic/761/?index=2&amp;r=topic?dcm=douban&dcs=anonymous-home-topic\"\\n          target=\"_blank\">\\n          <div class=\"market-topic-pic\"\\n            style=\"background-image:url(https://img3.doubanio.com/img/files/file-1513305186-3.jpg)\">\\n          </div>\\n        </a>\\n        <p class=\"market-topic-footer\">\\n          <a href=\"https://www.douban.com/gallery/topic/761/?index=2&amp;r=topic?dcm=douban&dcs=anonymous-home-topic\"\\n            target=\"_blank\">\\n          我的豆瓣收藏夹里有什么\\n          </a>\\n        </p>\\n      </li>\\n  </ul>\\n</div>\\n\\n  <div class=\"mod\">\\n    \\n    <h2>\\n        官方小组\\n            &nbsp;&middot;&nbsp;&middot;&nbsp;&middot;&nbsp;&middot;&nbsp;&middot;&nbsp;&middot;\\n            <span class=\"pl\">&nbsp;(\\n                \\n                    <a href=\"https://www.douban.com/group/588598?dcs=anonymous-home-more-shops&amp;dcm=douban#hot-shop-wrapper\" target=\"_self\">更多</a>\\n                ) </span>\\n    </h2>\\n\\n    <ul class=\"market-group-topics\">\\n        <li>\\n          <p class=\"market-group-topic-title\">\\n            <a href=\"https://www.douban.com/group/topic/123170768?dcm=douban&dcs=anonymous-home-group\"\\n              target=\"_blank\">\\n              2019豆瓣电影日历即将上线，参与转发活动得新品豆瓣日历\\n            </a>\\n          </p>\\n          <p class=\"market-group-topic-footer\">\\n            <span class=\"market-group-topic-date\">\\n              09-24\\n            </span>\\n            <span class=\"market-group-topic-amount\">\\n              70 人参与\\n            </span>\\n          </p>\\n        </li>\\n        <li>\\n          <p class=\"market-group-topic-title\">\\n            <a href=\"https://www.douban.com/group/topic/120464785?dcm=douban&dcs=anonymous-home-group\"\\n              target=\"_blank\">\\n              「豆瓣市集」升级为「豆瓣豆品」\\n            </a>\\n          </p>\\n          <p class=\"market-group-topic-footer\">\\n            <span class=\"market-group-topic-date\">\\n              08-30\\n            </span>\\n            <span class=\"market-group-topic-amount\">\\n              62 人参与\\n            </span>\\n          </p>\\n        </li>\\n        <li>\\n          <p class=\"market-group-topic-title\">\\n            <a href=\"https://www.douban.com/group/topic/109121959?dcm=douban&dcs=anonymous-home-group\"\\n              target=\"_blank\">\\n              【组规】emmmm...这是豆瓣豆品官方小组组规\\n            </a>\\n          </p>\\n          <p class=\"market-group-topic-footer\">\\n            <span class=\"market-group-topic-date\">\\n              10-19\\n            </span>\\n            <span class=\"market-group-topic-amount\">\\n              34 人参与\\n            </span>\\n          </p>\\n        </li>\\n    </ul>\\n  </div>\\n</div>\\n  <div class=\"main\">\\n  \\n    <h2>\\n        热卖商品\\n            &nbsp;&middot;&nbsp;&middot;&nbsp;&middot;&nbsp;&middot;&nbsp;&middot;&nbsp;&middot;\\n            <span class=\"pl\">&nbsp;(\\n                \\n                    <a href=\"https://market.douban.com?dcs=anonymous-home-more-skus&amp;dcm=douban\" target=\"_self\">更多</a>\\n                ) </span>\\n    </h2>\\n\\n  <ul class=\"market-spu-list\">\\n      \\n      <li class=\"main-sku\">\\n        <a href=\"https://market.douban.com/campaign/calendar2019?dcm=douban&dcs=anonymous-home-spu\"\\n          target=\"_blank\">\\n          <div class=\"market-spu-pic\"\\n            style=\"background-image: url(https://img3.doubanio.com/img/files/file-1537365946-0.jpg)\">\\n          </div>\\n        </a>\\n        <div class=\"market-spu-footer\">\\n          <span class=\"market-spu-price\">\\n            ￥99.00\\n          </span>\\n          <a href=\"https://market.douban.com/campaign/calendar2019?dcm=douban&dcs=anonymous-home-spu\"\\n            target=\"_blank\"\\n            class=\"market-spu-title\">\\n            豆瓣电影日历2019\\n          </a>\\n        </div>\\n    </li>\\n      \\n      <li class=\"main-sku\">\\n        <a href=\"https://market.douban.com/campaign/notebook?dcm=douban&dcs=anonymous-home-spu\"\\n          target=\"_blank\">\\n          <div class=\"market-spu-pic\"\\n            style=\"background-image: url(https://img3.doubanio.com/img/files/file-1513305186-5.jpg)\">\\n          </div>\\n        </a>\\n        <div class=\"market-spu-footer\">\\n          <span class=\"market-spu-price\">\\n            ￥48.00\\n          </span>\\n          <a href=\"https://market.douban.com/campaign/notebook?dcm=douban&dcs=anonymous-home-spu\"\\n            target=\"_blank\"\\n            class=\"market-spu-title\">\\n            布面精装本\\n          </a>\\n        </div>\\n    </li>\\n      \\n      <li class=\"main-sku\">\\n        <a href=\"https://market.douban.com/campaign/collection?dcm=douban&dcs=anonymous-home-spu\"\\n          target=\"_blank\">\\n          <div class=\"market-spu-pic\"\\n            style=\"background-image: url(https://img3.doubanio.com/img/files/file-1513305186-4.jpg)\">\\n          </div>\\n        </a>\\n        <div class=\"market-spu-footer\">\\n          <span class=\"market-spu-price\">\\n            ￥99.00\\n          </span>\\n          <a href=\"https://market.douban.com/campaign/collection?dcm=douban&dcs=anonymous-home-spu\"\\n            target=\"_blank\"\\n            class=\"market-spu-title\">\\n            豆瓣收藏夹\\n          </a>\\n        </div>\\n    </li>\\n      \\n      <li class=\"main-sku\">\\n        <a href=\"https://market.douban.com/campaign/notebook2019?dcm=douban&dcs=anonymous-home-spu\"\\n          target=\"_blank\">\\n          <div class=\"market-spu-pic\"\\n            style=\"background-image: url(https://img3.doubanio.com/img/files/file-1540202754-1.jpg)\">\\n          </div>\\n        </a>\\n        <div class=\"market-spu-footer\">\\n          <span class=\"market-spu-price\">\\n            ￥88.00\\n          </span>\\n          <a href=\"https://market.douban.com/campaign/notebook2019?dcm=douban&dcs=anonymous-home-spu\"\\n            target=\"_blank\"\\n            class=\"market-spu-title\">\\n            豆瓣2019日程本\\n          </a>\\n        </div>\\n    </li>\\n    </ul>\\n</div>\\n  </div>\\n  \\n</div>\\n\\n\\n\\n\\n\\n\\n\\n\\n      \\n<div id=\"anony-events\" class=\"section\">\\n  <div class=\"wrapper\">\\n  \\n  \\n<div class=\"sidenav\">\\n  <h2 class=\"section-title\"><a href=\"https://www.douban.com/location/\">同城</a></h2>\\n  \\n  \\n  <div class=\"side-links nav-anon\">\\n      <ul>\\n        \\n  \\n    \\n    <li>\\n        <a\\n        href=\"https://www.douban.com/location/usa/events\">近期活动</a>\\n    </li>\\n    \\n    <li>\\n        <a\\n        href=\"https://www.douban.com/location/usa/hosts\">主办方</a>\\n    </li>\\n    \\n    <li>\\n        <a\\n        href=\"https://www.douban.com/location/drama/\">舞台剧</a>\\n    </li>\\n\\n      \\n      </ul>\\n  </div>\\n \\n  \\n\\n\\n    <div class=\"apps-list\">\\n    <ul>\\n    </ul>\\n    </div>\\n\\n</div>\\n\\n  <div class=\"side\">\\n\\n<div class=\"mod\">\\n\\n    <h2>\\n        活动标签\\n            &nbsp;&middot;&nbsp;&middot;&nbsp;&middot;&nbsp;&middot;&nbsp;&middot;&nbsp;&middot;\\n    </h2>\\n\\n<div class=\"cate events-cate\">\\n  <ul>\\n  <li class=\"cate-label\"><a href=\"https://www.douban.com/location/usa/events/week-music\">音乐&raquo;</a></li>\\n    <li><a href=\"https://www.douban.com/location/usa/events/week-1001\">小型现场</a></li>\\n    <li><a href=\"https://www.douban.com/location/usa/events/week-1002\">音乐会</a></li>\\n    <li><a href=\"https://www.douban.com/location/usa/events/week-1003\">演唱会</a></li>\\n    <li><a href=\"https://www.douban.com/location/usa/events/week-1004\">音乐节</a></li>\\n  </ul>\\n</div>\\n<div class=\"cate events-cate\">\\n  <ul>\\n  <li class=\"cate-label\"><a href=\"https://www.douban.com/location/usa/events/week-drama\">戏剧&raquo;</a></li>\\n    <li><a href=\"https://www.douban.com/location/usa/events/week-1101\">话剧</a></li>\\n    <li><a href=\"https://www.douban.com/location/usa/events/week-1102\">音乐剧</a></li>\\n    <li><a href=\"https://www.douban.com/location/usa/events/week-1103\">舞剧</a></li>\\n    <li><a href=\"https://www.douban.com/location/usa/events/week-1104\">歌剧</a></li>\\n    <li><a href=\"https://www.douban.com/location/usa/events/week-1105\">戏曲</a></li>\\n    <li><a href=\"https://www.douban.com/location/usa/events/week-1106\">其他</a></li>\\n  </ul>\\n</div>\\n<div class=\"cate events-cate\">\\n  <ul>\\n  <li class=\"cate-label\"><a href=\"https://www.douban.com/location/usa/events/week-party\">聚会&raquo;</a></li>\\n    <li><a href=\"https://www.douban.com/location/usa/events/week-1401\">生活</a></li>\\n    <li><a href=\"https://www.douban.com/location/usa/events/week-1402\">集市</a></li>\\n    <li><a href=\"https://www.douban.com/location/usa/events/week-1403\">摄影</a></li>\\n    <li><a href=\"https://www.douban.com/location/usa/events/week-1404\">外语</a></li>\\n    <li><a href=\"https://www.douban.com/location/usa/events/week-1405\">桌游</a></li>\\n    <li><a href=\"https://www.douban.com/location/usa/events/week-1406\">夜店</a></li>\\n    <li><a href=\"https://www.douban.com/location/usa/events/week-1407\">交友</a></li>\\n    <li><a href=\"https://www.douban.com/location/usa/events/week-1408\">美食</a></li>\\n    <li><a href=\"https://www.douban.com/location/usa/events/week-1409\">派对</a></li>\\n  </ul>\\n</div>\\n<div class=\"cate events-cate\">\\n  <ul>\\n  <li class=\"cate-label\"><a href=\"https://www.douban.com/location/usa/events/week-film\">电影&raquo;</a></li>\\n    <li><a href=\"https://www.douban.com/location/usa/events/week-1801\">主题放映</a></li>\\n    <li><a href=\"https://www.douban.com/location/usa/events/week-1802\">影展</a></li>\\n    <li><a href=\"https://www.douban.com/location/usa/events/week-1803\">影院活动</a></li>\\n  </ul>\\n</div>\\n<div class=\"cate events-cate\">\\n  <ul>\\n  <li class=\"cate-label\"><a href=\"https://www.douban.com/location/usa/events/week-all\">其他&raquo;</a></li>\\n    <li><a href=\"https://www.douban.com/location/usa/events/week-salon\">讲座</a></li>\\n    <li><a href=\"https://www.douban.com/location/usa/events/week-exhibition\">展览</a></li>\\n    <li><a href=\"https://www.douban.com/location/usa/events/week-sports\">运动</a></li>\\n    <li><a href=\"https://www.douban.com/location/usa/events/week-travel\">旅行</a></li>\\n    <li><a href=\"https://www.douban.com/location/usa/events/week-commonweal\">公益</a></li>\\n  </ul>\\n</div>\\n</div>\\n</div>\\n  <div class=\"main\">\\n\\n\\n    <h2>\\n        北京 · 本周热门活动\\n            &nbsp;&middot;&nbsp;&middot;&nbsp;&middot;&nbsp;&middot;&nbsp;&middot;&nbsp;&middot;\\n            <span class=\"pl\">&nbsp;(\\n                \\n                    <a href=\"https://www.douban.com/location/\" target=\"_self\">更多</a>\\n                ) </span>\\n    </h2>\\n\\n<div class=\"events-list list\">\\n  <ul>\\n    <li>\\n      <div class=\"pic\">\\n        <a href=\"https://www.douban.com/event/31518473/\">\\n            <img data-origin=\"https://img3.doubanio.com/pview/event_poster/small/public/8567a1c68528cc5.jpg\" src=\"https://img3.doubanio.com/f/shire/a1fdee122b95748d81cee426d717c05b5174fe96/pics/blank.gif\" width=\"70\">\\n        </a>\\n      </div>\\n      <div class=\"info\">\\n        <div class=\"title\">\\n          <a href=\"https://www.douban.com/event/31518473/\" title=\"【北京站】2018[A CLASSIC TOUR 学友·经典]张学友巡回演唱会\">\\n            【北京站】2018[A CLASSIC TOUR 学友·经典]张学友巡...\\n          </a>\\n        </div>\\n        <div class=\"datetime\">\\n            12月14日 周五 - 12月16日 周日\\n        </div>\\n        <address title=\"北京市海淀区复兴路69号 凯迪拉克中心\">\\n          北京市海淀区复兴路69号 凯...\\n        </address>\\n        <div class=\"follow\">\\n          74人关注\\n        </div>\\n      </div>\\n    <li>\\n      <div class=\"pic\">\\n        <a href=\"https://www.douban.com/event/30934585/\">\\n            <img data-origin=\"https://img1.doubanio.com/pview/event_poster/small/public/27f76c776c61539.jpg\" src=\"https://img3.doubanio.com/f/shire/a1fdee122b95748d81cee426d717c05b5174fe96/pics/blank.gif\" width=\"70\">\\n        </a>\\n      </div>\\n      <div class=\"info\">\\n        <div class=\"title\">\\n          <a href=\"https://www.douban.com/event/30934585/\" title=\"2018小野丽莎北京演唱会\">\\n            2018小野丽莎北京演唱会\\n          </a>\\n        </div>\\n        <div class=\"datetime\">\\n            12月25日 周二 20:00 - 21:30\\n        </div>\\n        <address title=\"北京展览馆剧场 北京西城区西直门外大街135号\">\\n          北京展览馆剧场 北京西城区...\\n        </address>\\n        <div class=\"follow\">\\n          351人关注\\n        </div>\\n      </div>\\n    <li>\\n      <div class=\"pic\">\\n        <a href=\"https://www.douban.com/event/31459393/\">\\n            <img data-origin=\"https://img3.doubanio.com/pview/event_poster/small/public/b86b53a31da5210.jpg\" src=\"https://img3.doubanio.com/f/shire/a1fdee122b95748d81cee426d717c05b5174fe96/pics/blank.gif\" width=\"70\">\\n        </a>\\n      </div>\\n      <div class=\"info\">\\n        <div class=\"title\">\\n          <a href=\"https://www.douban.com/event/31459393/\" title=\"“不止，是李健”2018-2019李健巡回演唱会 北京站\">\\n            “不止，是李健”2018-2019李健巡回演唱会 北京站\\n          </a>\\n        </div>\\n        <div class=\"datetime\">\\n            12月22日 周六 19:00 - 21:30\\n        </div>\\n        <address title=\"工人体育馆 北京朝阳区三里屯工体北路\">\\n          工人体育馆 北京朝阳区三里...\\n        </address>\\n        <div class=\"follow\">\\n          133人关注\\n        </div>\\n      </div>\\n    <li>\\n      <div class=\"pic\">\\n        <a href=\"https://www.douban.com/event/31376357/\">\\n            <img data-origin=\"https://img3.doubanio.com/pview/event_poster/small/public/b1208a4cfb139a4.jpg\" src=\"https://img3.doubanio.com/f/shire/a1fdee122b95748d81cee426d717c05b5174fe96/pics/blank.gif\" width=\"70\">\\n        </a>\\n      </div>\\n      <div class=\"info\">\\n        <div class=\"title\">\\n          <a href=\"https://www.douban.com/event/31376357/\" title=\"原生（声） 温度 2018囚牛乐队全国巡回演唱会\">\\n            原生（声） 温度 2018囚牛乐队全国巡回演唱会\\n          </a>\\n        </div>\\n        <div class=\"datetime\">\\n            12月23日 周日 19:30 - 23:00\\n        </div>\\n        <address title=\"五棵松体育馆\">\\n          五棵松体育馆\\n        </address>\\n        <div class=\"follow\">\\n          39人关注\\n        </div>\\n      </div>\\n  </ul>\\n</div>\\n</div>\\n  </div>\\n  \\n</div>\\n\\n\\n\\n\\n\\n\\n\\n\\n\\n<div class=\"wrapper\">\\n  <div id=\"dale_anonymous_home_page_bottom\" class=\"extra\"></div>\\n  <div id=\"ft\">\\n  \\n  \\n<span id=\"icp\" class=\"fleft gray-link\">\\n    &copy; 2005－2018 douban.com, all rights reserved 北京豆网科技有限公司\\n  <br>\\n  <a href=\"http://www.miibeian.gov.cn/\">京ICP证090015号</a> 京ICP备11027288号 网络视听许可证<a href=\"https://www.douban.com/about?topic=licence\" target=\"_blank\">0110418</a>号\\n  <br>京网文[2015]2026-368号 <img src=\"https://img3.doubanio.com/pics/biaoshi.gif\" align=\"absmiddle\"> <a href=\"http://www.beian.gov.cn/portal/registerSystemInfo?recordcode=11010502000728\">京公网安备11010502000728</a>&nbsp;&nbsp;新出网证(京)字129号\\n  <br>违法和不良信息举报电话：4008353331-9&nbsp;<img src=\"https://img3.doubanio.com/img/files/file-1423193113.png\" height=\"16\" align=\"top\"/>\\n  <br><img src=\"https://img3.doubanio.com/pics/icon/jubao.png\" align=\"absmiddle\" width=\"15px\"> <a href=\"http://www.12377.cn/\">中国互联网举报中心</a> 电话：12377 <a href=\"https://img3.doubanio.com/f/shire/80d71f876c40a3ecdfde2fe2afe3b1983a2cac64/pics/licence/publication2018.png\">新出发京批字第直160029号</a>\\n</span>\\n\\n<a href=\"https://www.douban.com/hnypt/variformcyst.py\" style=\"display: none;\"></a>\\n\\n<span class=\"fright\">\\n    <a href=\"https://www.douban.com/about\">关于豆瓣</a>\\n    · <a href=\"https://www.douban.com/jobs\">在豆瓣工作</a>\\n    · <a href=\"https://www.douban.com/about?topic=contactus\">联系我们</a>\\n    · <a href=\"https://www.douban.com/about?policy=disclaimer\">免责声明</a>\\n    \\n    · <a href=\"https://help.douban.com/?app=main\" target=\"_blank\">帮助中心</a>\\n    · <a href=\"https://www.douban.com/doubanapp/\">移动应用</a>\\n    · <a href=\"https://www.douban.com/partner/\">豆瓣广告</a>\\n    <a href=\"http://report.12377.cn:13225/toreportinputNormal_anis.do\" target=\"_blank\" style=\"display: block; margin-top: 20px; width: 150px\">\\n      <img src=\"https://img3.doubanio.com/img/files/file-1489464722.jpg\" alt=\"网上有害信息举报专区\">\\n    </a>\\n</span>\\n\\n  </div>\\n</div>\\n\\n\\n\\n\\n\\n\\n<script src=\"https://img3.doubanio.com/f/shire/4b1bbfaa49f8fb30d2719ec0ec08a11f24412ff5/js/core/do/_init_.js\" data-cfg-corelib=\"https://img3.doubanio.com/f/shire/72ced6df41d4d158420cebdd254f9562942464e3/js/jquery.min.js\"></script>\\n<script type=\"text/javascript\" src=\"https://img3.doubanio.com/misc/mixed_static/757ba9430af74113.js\"></script>\\n\\n    <!-- douban ad begin -->\\n    \\n\\n\\n\\n\\n    \\n<script type=\"text/javascript\">\\n    (function (global) {\\n        var newNode = global.document.createElement(\\'script\\'),\\n            existingNode = global.document.getElementsByTagName(\\'script\\')[0],\\n            adSource = \\'//erebor.douban.com/\\',\\n            userId = \\'\\',\\n            browserId = \\'NjidpLA4dxY\\',\\n            criteria = \\'3:/\\',\\n            preview = \\'\\',\\n            debug = false,\\n            adSlots = [\\'dale_anonymous_homepage_top_for_crazy_ad\\', \\'dale_anonymous_homepage_right_top\\', \\'dale_anonymous_homepage_movie_bottom\\', \\'dale_anonymous_home_page_top\\', \\'dale_homepage_online_activity_promo_1\\', \\'dale_anonymous_homepage_doublemint\\', \\'dale_anonymous_home_page_middle\\', \\'dale_anonymous_home_page_middle_2\\', \\'dale_anonymous_home_page_bottom\\'];\\n\\n        global.DoubanAdRequest = {src: adSource, uid: userId, bid: browserId, crtr: criteria, prv: preview, debug: debug};\\n        global.DoubanAdSlots = (global.DoubanAdSlots || []).concat(adSlots);\\n\\n        newNode.setAttribute(\\'type\\', \\'text/javascript\\');\\n        newNode.setAttribute(\\'src\\', \\'https://img3.doubanio.com/f/adjs/039f4c0c15b5aa50e8bb29995dd17286658d78b5/ad.release.js\\');\\n        newNode.setAttribute(\\'async\\', true);\\n        existingNode.parentNode.insertBefore(newNode, existingNode);\\n    })(this);\\n</script>\\n\\n\\n\\n\\n\\n\\n\\n\\n\\n\\n    <!-- douban ad end -->\\n    \\n\\n\\n\\n\\n\\n\\n\\n\\n\\n<!-- Google Tag Manager -->\\n<noscript><iframe src=\"//www.googletagmanager.com/ns.html?id=GTM-5WP579\" height=\"0\" width=\"0\" style=\"display:none;visibility:hidden\"></iframe></noscript>\\n<script>(function(w,d,s,l,i){w[l]=w[l]||[];w[l].push({\\'gtm.start\\':new Date().getTime(),event:\\'gtm.js\\'});var f=d.getElementsByTagName(s)[0],j=d.createElement(s),dl=l!=\\'dataLayer\\'?\\'&l=\\'+l:\\'\\';j.async=true;j.src=\\'//www.googletagmanager.com/gtm.js?id=\\'+i+dl;f.parentNode.insertBefore(j,f);})(window,document,\\'script\\',\\'dataLayer\\',\\'GTM-5WP579\\');</script>\\n<!-- End Google Tag Manager -->\\n\\n\\n<script type=\"text/javascript\">\\nvar _paq = _paq || [];\\n_paq.push([\\'trackPageView\\']);\\n_paq.push([\\'enableLinkTracking\\']);\\n(function() {\\n    var p=((\\'https:\\' == document.location.protocol) ? \\'https\\' : \\'http\\'), u=p+\\'://fundin.douban.com/\\';\\n    _paq.push([\\'setTrackerUrl\\', u+\\'piwik\\']);\\n    _paq.push([\\'setSiteId\\', \\'100001\\']);\\n    var d=document, g=d.createElement(\\'script\\'), s=d.getElementsByTagName(\\'script\\')[0];\\n    g.type=\\'text/javascript\\';\\n    g.defer=true;\\n    g.async=true;\\n    g.src=p+\\'://img3.doubanio.com/dae/fundin/piwik.js\\';\\n    s.parentNode.insertBefore(g,s);\\n})();\\n</script>\\n\\n<script type=\"text/javascript\">\\nvar _gaq = _gaq || [];\\n_gaq.push([\\'_setAccount\\', \\'UA-7019765-1\\']);\\n_gaq.push([\\'_setCampNameKey\\', \\'dcn\\']);\\n_gaq.push([\\'_setCampSourceKey\\', \\'dcs\\']);\\n_gaq.push([\\'_setCampMediumKey\\', \\'dcm\\']);\\n_gaq.push([\\'_setCampTermKey\\', \\'dct\\']);\\n_gaq.push([\\'_setCampContentKey\\', \\'dcc\\']);\\n_gaq.push([\\'_addOrganic\\', \\'baidu\\', \\'word\\']);\\n_gaq.push([\\'_addOrganic\\', \\'soso\\', \\'w\\']);\\n_gaq.push([\\'_addOrganic\\', \\'3721\\', \\'name\\']);\\n_gaq.push([\\'_addOrganic\\', \\'youdao\\', \\'q\\']);\\n_gaq.push([\\'_addOrganic\\', \\'so.360.cn\\', \\'q\\']);\\n_gaq.push([\\'_addOrganic\\', \\'vnet\\', \\'kw\\']);\\n_gaq.push([\\'_addOrganic\\', \\'sogou\\', \\'query\\']);\\n_gaq.push([\\'_addIgnoredOrganic\\', \\'豆瓣\\']);\\n_gaq.push([\\'_addIgnoredOrganic\\', \\'douban\\']);\\n_gaq.push([\\'_addIgnoredOrganic\\', \\'豆瓣网\\']);\\n_gaq.push([\\'_addIgnoredOrganic\\', \\'www.douban.com\\']);\\n_gaq.push([\\'_setDomainName\\', \\'.douban.com\\']);\\n\\n\\n    _gaq.push([\\'_setCustomVar\\', 1, \\'responsive_view_mode\\', \\'desktop\\', 3]);\\n\\n_gaq.push([\\'_trackPageview\\']);\\n_gaq.push([\\'_trackPageLoadTime\\']);\\n\\nwindow._ga_init = function() {\\n    var ga = document.createElement(\\'script\\');\\n    ga.src = (\\'https:\\' == document.location.protocol ? \\'https://ssl\\' : \\'http://www\\') + \\'.google-analytics.com/ga.js\\';\\n    ga.setAttribute(\\'async\\', \\'true\\');\\n    document.documentElement.firstChild.appendChild(ga);\\n};\\nif (window.addEventListener) {\\n    window.addEventListener(\\'load\\', _ga_init, false);\\n} else {\\n    window.attachEvent(\\'onload\\', _ga_init);\\n}\\n</script>\\n\\n\\n\\n\\n\\n\\n</body>\\n</html>\\n\\n\\n\\n'"
      ]
     },
     "execution_count": 29,
     "metadata": {},
     "output_type": "execute_result"
    }
   ],
   "source": [
    "r.text"
   ]
  },
  {
   "cell_type": "code",
   "execution_count": 30,
   "metadata": {
    "collapsed": true
   },
   "outputs": [],
   "source": [
    "r = requests.get('https://www.douban.com/search', params={'q': 'python', 'cat': '1001'})"
   ]
  },
  {
   "cell_type": "code",
   "execution_count": 31,
   "metadata": {},
   "outputs": [
    {
     "data": {
      "text/plain": [
       "'https://www.douban.com/search?q=python&cat=1001'"
      ]
     },
     "execution_count": 31,
     "metadata": {},
     "output_type": "execute_result"
    }
   ],
   "source": [
    "r.url "
   ]
  },
  {
   "cell_type": "code",
   "execution_count": 32,
   "metadata": {},
   "outputs": [
    {
     "data": {
      "text/plain": [
       "'utf-8'"
      ]
     },
     "execution_count": 32,
     "metadata": {},
     "output_type": "execute_result"
    }
   ],
   "source": [
    "r.encoding"
   ]
  },
  {
   "cell_type": "code",
   "execution_count": 33,
   "metadata": {},
   "outputs": [
    {
     "data": {
      "text/plain": [
       "b'<!DOCTYPE html>\\n<html lang=\"zh-cmn-Hans\" class=\"\">\\n<head>\\n    <meta http-equiv=\"Content-Type\" content=\"text/html; charset=utf-8\">\\n    <meta name=\"renderer\" content=\"webkit\">\\n    <meta name=\"referrer\" content=\"always\">\\n    <meta name=\"google-site-verification\" content=\"ok0wCgT20tBBgo9_zat2iAcimtN4Ftf5ccsh092Xeyw\" />\\n    <title>\\n  \\xe6\\x90\\x9c\\xe7\\xb4\\xa2: python\\n</title>\\n    \\n  \\n    <meta http-equiv=\"Pragma\" content=\"no-cache\">\\n    <meta http-equiv=\"Expires\" content=\"Sun, 6 Mar 2005 01:00:00 GMT\">\\n    \\n<link rel=\"search\" type=\"application/opensearchdescription+xml\" title=\"\\xe8\\xb1\\x86\\xe7\\x93\\xa3\\xe6\\x90\\x9c\\xe7\\xb4\\xa2\" href=\"/opensearch\">\\n\\n    <script >var _head_start = new Date();</script>\\n    <script src=\"https://img3.doubanio.com/f/shire/72ced6df41d4d158420cebdd254f9562942464e3/js/jquery.min.js\"></script>\\n    <script src=\"https://img3.doubanio.com/f/shire/f010949d3f23dd7c972ad7cb40b800bf70723c93/js/douban.js\"></script>\\n    <link href=\"https://img3.doubanio.com/f/shire/bf61b1fa02f564a4a8f809da7c7179b883a56146/css/douban.css\" rel=\"stylesheet\" type=\"text/css\">\\n    <style type=\"text/css\">\\n    \\n        \\n  h1{display:none}.mod-search{position:relative;overflow:hidden;zoom:1;margin-bottom:28px;background-color:#f7f7f8;padding:7px}.mod-search input{-webkit-appearance:none;border:0;background:transparent}.mod-search label{position:absolute;left:12px;top:10px;line-height:30px;cursor:text;color:#bbb}.mod-search legend{display:none}.mod-search fieldset{border:0;padding:0;margin:0}.mod-search .inp{height:30px;cursor:text;border:1px solid #dcdcdc;background-color:#fff}.mod-search .inp input{background:#fff;width:94%;margin:0;text-align:left;height:30px;padding-left:6px;height:28px\\\\9;line-height:28px\\\\9;outline:0}.mod-search .inp-btn{position:absolute;top:6px;right:6px;width:30px;height:30px;zoom:1;overflow:hidden}.mod-search .inp-btn input{width:100%;height:100%;font-size:0;padding:35px 0 0 0;overflow:hidden;background:url(https://img3.doubanio.com/f/sns/f71f15922ebd7c0ff0ea0e7a25577529efd8981a/pics/icon/bn_srh_1.png) no-repeat 45% 45%;color:transparent;cursor:pointer}.search-cate{float:left;margin-right:35px;width:65px;font-size:0}.search-cate li{width:65px;display:inline-block;*display:inline;zoom:1;margin-bottom:12px;line-height:1.2;font-size:12px}.search-cate li a{display:block;padding:3px 0;text-align:center}.search-cate li a:link,.search-cate li a:visited{color:#111}.search-cate li a:hover{color:#fff;background-color:#8cd379;border-radius:3px}.search-cate .on a:link,.search-cate .on a:visited,.search-cate .on a:hover,.search-cate .on a:active{background:#7fc06e;color:#fff;border-radius:3px}.search-cate .new a{background:url(https://img3.doubanio.com/f/sns/e49eca1517424a941871a2667a8957fd6c72d632/pics/new_menu.gif) no-repeat right 0}.search-result{overflow:hidden;zoom:1}.search-result .no-result{font-size:12px}.no-result{margin-bottom:40px;font-size:14px;color:#999}.frm-find{margin-bottom:30px}.frm-find .item{position:relative;margin-bottom:10px;color:#666}.frm-find .item label{position:absolute;top:2px;left:2px;line-height:20px;color:#999;cursor:text}.frm-find .item input{padding:5px;border:1px solid #ccc}.frm-find .item-accounts{border:1px solid #ccc}.frm-find .item-accounts input{width:60%;border:0}.frm-find .item-accounts .mail-domain{position:absolute;top:0;right:2px}.frm-find .item-accounts .mail-domain select{padding:2px;border:0;font-size:13px;background:transparent;-webkit-appearance:none}.frm-find .item-password input{width:98%}.result .ic-movie-mark{background-color:#71b5de}.result .ic-read-mark{background-color:#825d5b}\\n  .search_report { float:right; margin-top:15px; margin-right:10px;}\\n  .search_report a:link,\\n  .search_report a:hover,\\n  .search_report a:visited,\\n  .search_report a:active { color:#bbb; }\\n  .search_report a:hover { color:#fff; background-color:#bbb; }\\n  .search-list-item a{color:#666}\\n  .search-list-item a:hover{color:#fff}\\n  .topic-promotion {font-size: 13px; border-bottom: 1px dashed #CCC; padding-bottom: 15px; margin-bottom: 10px}\\n  .topic-promotion a:hover {color: #37A; background-color: #E8E8E8}\\n  .topic-promotion a {display: inline-block; padding: 3px 23px; margin-right: 10px; background: #F5F5F5}\\n  .topic-promotion a.new-icon {background: #F5F5F5 url(\\'https://img3.doubanio.com/f/shire/e49eca1517424a941871a2667a8957fd6c72d632/pics/new_menu.gif\\') no-repeat right 0}\\n  .topic-promotion span {font-size: 12px; color: gray}\\n  .topic-promotion .related-topics {margin-top: 20px}\\n  .result > .pic {position: relative;}\\n  .user-verify-icon {\\n    display: block;\\n    background: url(\\'https://img3.doubanio.com/f/shire/8cff6c7f0bfa5a9dbe604b51f4de62f655c233ce/pics/ic_verify@2x.png\\') no-repeat center;\\n    background-size: contain;\\n    border-radius: 50%;\\n    width: 20px;\\n    height: 20px;\\n    position: absolute;\\n    right: -4px;\\n    bottom: -4px;\\n  }\\n\\n    </style>\\n    \\n    <style type=\"text/css\">\\n    .back-to-top {\\n    display: none;\\n    position: fixed;\\n    width: 100px;\\n    height: 40px;\\n    overflow:hidden;\\n    _position:absolute;\\n}\\n\\n.back-to-top a {\\n    position:absolute;\\n    left: 0;\\n    top: 40px;\\n}\\n* html{\\n    background-image:url(about:blank);\\n    background-attachment:fixed;\\n}\\n\\n    .back-to-top { margin-top:22px; }\\n  \\n    .search_report { float:none; }\\n  \\n    #feedback-iframe {\\n      position: fixed;\\n      left: 0;\\n      top: 0;\\n      width: 100%;\\n      height: 100%;\\n      border: none;\\n      display: none;\\n      z-index: 999;\\n    }\\n  </style>\\n    <script>\\n  var o={},PEOPLE_ID=\"\",currTagId=\"\",totallen=16,newGroupNum=0,groupNameArr=[],isDuplicate=!1,mlist=$(\".menu-list\"),olist=$(\".group-opts-list\"),sglist=$(\".set-group-list\"),sgarrow=$(\".user-group-arrow\"),addGroup=$(\"#add-new-group\"),TEMPL_NEW_TAG=\\'<li><a href=\"?tag={ID}\">{NAME}</a></li>\\',TEMPL_MENU_LIST=\\'<li><a href=\"?tag=0\">\\xe5\\x85\\xa8\\xe9\\x83\\xa8</a></li>{CUSTOM_TAGS}<li class=\"last\"><a href=\"?tag=2\">\\xe6\\x9c\\xaa\\xe5\\x88\\x86\\xe7\\xbb\\x84</a></li>\\',TEMPL_NEW_GROUP_ITEM=\\'<li><input type=\"checkbox\" id=\"{GID}\" value=\"{GID}\" {CHECKED}><label for=\"{GID}\">{GNAME}</label></li>\\',TEMPL_SET_LIST_ITEMS=\\'{CUSTOM_ITEMS}<li class=\"last\"><span class=\"create-new\">\\xe6\\x96\\xb0\\xe5\\x88\\x86\\xe7\\xbb\\x84</span></li>\\',TEMPL_GROUP_OPTS=\\'<ul class=\"group-opts-list\"><li id=\"del-group\">\\xe5\\x88\\xa0\\xe9\\x99\\xa4\\xe5\\x88\\x86\\xe7\\xbb\\x84</li><li id=\"rename-group\">\\xe6\\x94\\xb9\\xe7\\xbb\\x84\\xe5\\x90\\x8d</li></ul>\\',TEMPL_FRIEND_TIPS=\\'<span class=\"tips\">(\\xe5\\x8f\\xaf\\xe7\\x9c\\x8b\\xe4\\xbb\\x85\\xe6\\x9c\\x8b\\xe5\\x8f\\x8b\\xe5\\x8f\\xaf\\xe8\\xa7\\x81\\xe5\\x86\\x85\\xe5\\xae\\xb9)</span>\\',TEMPL_EDIT_ICON=\\'&nbsp;<em class=\"icon-edit\"></em>\\',TEMPL_TIPS=\\'<span class=\"tips tlimit\">{TIPS}</span>\\',CSS_LAST_ITEM=\".set-group-list .last\",CSS_INPUT_CREATE=\".input-create\",CSS_ARROW_SELECT=\"arrow-select\",CSS_LOADER=\".gray-loader\",CSS_SET_GROUP_LIST=\".set-group-list\",CSS_EM_TIPS=\".tlimit\",TXT_DUP_NAME=\"\\xe5\\xb7\\xb2\\xe6\\x9c\\x89\\xe5\\x90\\x8c\\xe5\\x90\\x8d\\xe5\\x88\\x86\\xe7\\xbb\\x84\",TXT_NULL_NAME=\"\\xe8\\xaf\\xb7\\xe8\\xbe\\x93\\xe5\\x85\\xa5\\xe5\\x88\\x86\\xe7\\xbb\\x84\\xe5\\x90\\x8d\",TXT_BAN_WORDS=\"\\xe5\\x88\\x86\\xe7\\xbb\\x84\\xe5\\x90\\x8d\\xe7\\xa7\\xb0\\xe5\\x90\\xab\\xe6\\x9c\\x89\\xe8\\xa2\\xab\\xe7\\xa6\\x81\\xe6\\xad\\xa2\\xe7\\x9a\\x84\\xe5\\x86\\x85\\xe5\\xae\\xb9\",isIE6=!(!$.browser.msie||\"6.0\"!==$.browser.version),collectGroupName=function(){var e=$(\"#db-timeline-hd a\").toArray();$.each(e,function(e,t){groupNameArr[e]=$.trim($(t).text())})},countNum=function(){var e=$(\"input[type=checkbox]:checked\").length;e>0?$(\".sel-wrapper .user-rs\").html(\"\\xe5\\x8a\\xa0\\xe5\\x85\\xa5\"+e+\"\\xe4\\xb8\\xaa\\xe5\\x88\\x86\\xe7\\xbb\\x84\"):$(\".sel-wrapper .user-rs\").html(\"\\xe5\\x8a\\xa0\\xe5\\x85\\xa5\\xe5\\x88\\x86\\xe7\\xbb\\x84\")},changeGroupShow=function(e){var t=e.parents(\".user-group-arrow\").prev(\".user-rs\"),a=e.closest(CSS_SET_GROUP_LIST).children().children(\":checked\"),r=a.length,_=a.toArray(),l=$.map(_,function(e){return $(e).next().text().escapeHTML()});r>0?(t.html(l.join(\", \").substring(0,totallen)).show(),l.join(\", \").length>=totallen&&t.append(\"...\")):t.text(\"\\xe6\\x9c\\xaa\\xe5\\x88\\x86\\xe7\\xbb\\x84\")},createNewGroup=function(e,t,a,r){$.each(groupNameArr,function(t,r){return a===r||\"\\xe5\\x85\\xa8\\xe9\\x83\\xa8\"===a||\"\\xe6\\x9c\\xaa\\xe5\\x88\\x86\\xe7\\xbb\\x84\"===a?(isDuplicate=!0,$(CSS_EM_TIPS,e).length?$(CSS_EM_TIPS,e).text(TXT_DUP_NAME):$(CSS_INPUT_CREATE,e).after(TEMPL_TIPS.replace(\"{TIPS}\",TXT_DUP_NAME)),!1):void(isDuplicate=!1)}),a&&!isDuplicate?($(CSS_EM_TIPS).remove(),$.post_withck(\"/j/contact/newtag\",{name:a,people:t},function(t){if(t.result){var a=[],_=[],l=\"\",T=\"\",S=\"\",n=t.data.newtag.id,i=t.data.newtag.name;mlist.length&&($.each(t.data.all,function(e,t){a[e]=TEMPL_NEW_TAG.replace(\"{ID}\",t.id).replace(\"{NAME}\",t.name.escapeHTML())}),mlist.html(TEMPL_MENU_LIST.replace(\"{CUSTOM_TAGS}\",a.join(\"\"))),l=$(\".menu-list a:contains(\"+currGroupName+\")\"),l.parent().addClass(\"on\"),\"\\xe5\\x85\\xa8\\xe9\\x83\\xa8\"!==currGroupName&&\"\\xe6\\x9c\\x8b\\xe5\\x8f\\x8b\"!==currGroupName&&\"\\xe6\\x9c\\xaa\\xe5\\x88\\x86\\xe7\\xbb\\x84\"!==currGroupName&&l.append(TEMPL_EDIT_ICON).after(TEMPL_GROUP_OPTS)),$.each(t.data.all,function(e,t){_[e]=TEMPL_NEW_GROUP_ITEM.replace(/{GID}/g,t.id).replace(\"{GNAME}\",t.name.escapeHTML()).replace(\"{CHECKED}\",t.status?\\'checked=\"checked\"\\':\"\")}),$(CSS_SET_GROUP_LIST,e).html(TEMPL_SET_LIST_ITEMS.replace(\"{CUSTOM_ITEMS}\",_.join(\"\"))),$(CSS_SET_GROUP_LIST+\" li:first\",e).append(TEMPL_FRIEND_TIPS),$(CSS_SET_GROUP_LIST).length>1&&(S=$(\"#\"+n).parent().next().children(\"label\").text()||\"\",T=TEMPL_NEW_GROUP_ITEM.replace(/{GID}/g,n).replace(/{GNAME}/g,i.escapeHTML()).replace(\"{CHECKED}\",\"\"),S?$(CSS_SET_GROUP_LIST+\\' li:contains(\"\\'+S+\\'\")\\').before(T):$(CSS_LAST_ITEM).before(T),$(CSS_SET_GROUP_LIST+\" input[id=\"+n+\"]\",e).eq(1).parent().remove()),newGroupNum=$(CSS_SET_GROUP_LIST+\" input[type=checkbox]\",e).length,newGroupNum>=r&&$(CSS_LAST_ITEM).remove();var s=$(e).children().children(\"li:first\");$(\".custom-popwin\").length?countNum(s):changeGroupShow(s),collectGroupName()}else\"ban\"===t.msg&&($(CSS_EM_TIPS,e).length?$(CSS_EM_TIPS,e).text(TXT_BAN_WORDS):$(CSS_INPUT_CREATE,e).after(TEMPL_TIPS.replace(\"{TIPS}\",TXT_BAN_WORDS)))},\"json\")):a||($(CSS_EM_TIPS,e).length?$(CSS_EM_TIPS,e).text(TXT_NULL_NAME):$(CSS_INPUT_CREATE,e).after(TEMPL_TIPS.replace(\"{TIPS}\",TXT_NULL_NAME)))};collectGroupName(),isIE6&&$(CSS_SET_GROUP_LIST+\\' li:not(\".last\")\\').hover(function(){$(this).addClass(\"hover\")},function(){$(this).removeClass(\"hover\")});\\n\\n</script>\\n\\n  <link rel=\"stylesheet\" href=\"https://img3.doubanio.com/f/shire/75ba35fadc87ea9d052896f99e9de067746f9788/css/core/large.css\">\\n\\n    <link rel=\"shortcut icon\" href=\"https://img3.doubanio.com/favicon.ico\" type=\"image/x-icon\">\\n</head>\\n\\n<body>\\n  \\n    <script type=\"text/javascript\">var _body_start = new Date();</script>\\n    \\n   \\n\\n\\n\\n    <link href=\"//img3.doubanio.com/dae/accounts/resources/984c231/shire/bundle.css\" rel=\"stylesheet\" type=\"text/css\">\\n\\n\\n\\n<div id=\"db-global-nav\" class=\"global-nav\">\\n  <div class=\"bd\">\\n    \\n<div class=\"top-nav-info\">\\n  <a href=\"https://www.douban.com/accounts/login?source=main\" class=\"nav-login\" rel=\"nofollow\">\\xe7\\x99\\xbb\\xe5\\xbd\\x95</a>\\n  <a href=\"https://www.douban.com/accounts/register?source=main\" class=\"nav-register\" rel=\"nofollow\">\\xe6\\xb3\\xa8\\xe5\\x86\\x8c</a>\\n</div>\\n\\n\\n    <div class=\"top-nav-doubanapp\">\\n  <a href=\"https://www.douban.com/doubanapp/app?channel=top-nav\" class=\"lnk-doubanapp\">\\xe4\\xb8\\x8b\\xe8\\xbd\\xbd\\xe8\\xb1\\x86\\xe7\\x93\\xa3\\xe5\\xae\\xa2\\xe6\\x88\\xb7\\xe7\\xab\\xaf</a>\\n  <div id=\"doubanapp-tip\">\\n    <a href=\"https://www.douban.com/doubanapp/app?channel=qipao\" class=\"tip-link\">\\xe8\\xb1\\x86\\xe7\\x93\\xa3 <span class=\"version\">6.0</span> \\xe5\\x85\\xa8\\xe6\\x96\\xb0\\xe5\\x8f\\x91\\xe5\\xb8\\x83</a>\\n    <a href=\"javascript: void 0;\" class=\"tip-close\">\\xc3\\x97</a>\\n  </div>\\n  <div id=\"top-nav-appintro\" class=\"more-items\">\\n    <p class=\"appintro-title\">\\xe8\\xb1\\x86\\xe7\\x93\\xa3</p>\\n    <p class=\"qrcode\">\\xe6\\x89\\xab\\xe7\\xa0\\x81\\xe7\\x9b\\xb4\\xe6\\x8e\\xa5\\xe4\\xb8\\x8b\\xe8\\xbd\\xbd</p>\\n    <div class=\"download\">\\n      <a href=\"https://www.douban.com/doubanapp/redirect?channel=top-nav&direct_dl=1&download=iOS\">iPhone</a>\\n      <span>\\xc2\\xb7</span>\\n      <a href=\"https://www.douban.com/doubanapp/redirect?channel=top-nav&direct_dl=1&download=Android\" class=\"download-android\">Android</a>\\n    </div>\\n  </div>\\n</div>\\n\\n    \\n\\n\\n<div class=\"global-nav-items\">\\n  <ul>\\n    <li class=\"on\">\\n      <a href=\"https://www.douban.com\"  data-moreurl-dict=\"{&quot;from&quot;:&quot;top-nav-click-main&quot;,&quot;uid&quot;:&quot;0&quot;}\">\\xe8\\xb1\\x86\\xe7\\x93\\xa3</a>\\n    </li>\\n    <li class=\"\">\\n      <a href=\"https://book.douban.com\" target=\"_blank\" data-moreurl-dict=\"{&quot;from&quot;:&quot;top-nav-click-book&quot;,&quot;uid&quot;:&quot;0&quot;}\">\\xe8\\xaf\\xbb\\xe4\\xb9\\xa6</a>\\n    </li>\\n    <li class=\"\">\\n      <a href=\"https://movie.douban.com\" target=\"_blank\" data-moreurl-dict=\"{&quot;from&quot;:&quot;top-nav-click-movie&quot;,&quot;uid&quot;:&quot;0&quot;}\">\\xe7\\x94\\xb5\\xe5\\xbd\\xb1</a>\\n    </li>\\n    <li class=\"\">\\n      <a href=\"https://music.douban.com\" target=\"_blank\" data-moreurl-dict=\"{&quot;from&quot;:&quot;top-nav-click-music&quot;,&quot;uid&quot;:&quot;0&quot;}\">\\xe9\\x9f\\xb3\\xe4\\xb9\\x90</a>\\n    </li>\\n    <li class=\"\">\\n      <a href=\"https://www.douban.com/location\" target=\"_blank\" data-moreurl-dict=\"{&quot;from&quot;:&quot;top-nav-click-location&quot;,&quot;uid&quot;:&quot;0&quot;}\">\\xe5\\x90\\x8c\\xe5\\x9f\\x8e</a>\\n    </li>\\n    <li class=\"\">\\n      <a href=\"https://www.douban.com/group\" target=\"_blank\" data-moreurl-dict=\"{&quot;from&quot;:&quot;top-nav-click-group&quot;,&quot;uid&quot;:&quot;0&quot;}\">\\xe5\\xb0\\x8f\\xe7\\xbb\\x84</a>\\n    </li>\\n    <li class=\"\">\\n      <a href=\"https://read.douban.com&#47;?dcs=top-nav&amp;dcm=douban\" target=\"_blank\" data-moreurl-dict=\"{&quot;from&quot;:&quot;top-nav-click-read&quot;,&quot;uid&quot;:&quot;0&quot;}\">\\xe9\\x98\\x85\\xe8\\xaf\\xbb</a>\\n    </li>\\n    <li class=\"\">\\n      <a href=\"https://douban.fm&#47;?from_=shire_top_nav\" target=\"_blank\" data-moreurl-dict=\"{&quot;from&quot;:&quot;top-nav-click-fm&quot;,&quot;uid&quot;:&quot;0&quot;}\">FM</a>\\n    </li>\\n    <li class=\"\">\\n      <a href=\"https://time.douban.com&#47;?dt_time_source=douban-web_top_nav\" target=\"_blank\" data-moreurl-dict=\"{&quot;from&quot;:&quot;top-nav-click-time&quot;,&quot;uid&quot;:&quot;0&quot;}\">\\xe6\\x97\\xb6\\xe9\\x97\\xb4</a>\\n    </li>\\n    <li class=\"\">\\n      <a href=\"https://market.douban.com&#47;?utm_campaign=douban_top_nav&amp;utm_source=douban&amp;utm_medium=pc_web\" target=\"_blank\" data-moreurl-dict=\"{&quot;from&quot;:&quot;top-nav-click-market&quot;,&quot;uid&quot;:&quot;0&quot;}\">\\xe8\\xb1\\x86\\xe5\\x93\\x81</a>\\n    </li>\\n    <li>\\n      <a href=\"#more\" class=\"bn-more\"><span>\\xe6\\x9b\\xb4\\xe5\\xa4\\x9a</span></a>\\n      <div class=\"more-items\">\\n        <table cellpadding=\"0\" cellspacing=\"0\">\\n          <tbody>\\n            <tr>\\n              <td>\\n                <a href=\"https://ypy.douban.com\" target=\"_blank\" data-moreurl-dict=\"{&quot;from&quot;:&quot;top-nav-click-ypy&quot;,&quot;uid&quot;:&quot;0&quot;}\">\\xe8\\xb1\\x86\\xe7\\x93\\xa3\\xe6\\x91\\x84\\xe5\\xbd\\xb1</a>\\n              </td>\\n            </tr>\\n          </tbody>\\n        </table>\\n      </div>\\n    </li>\\n  </ul>\\n</div>\\n\\n  </div>\\n</div>\\n<script>\\n  ;window._GLOBAL_NAV = {\\n    DOUBAN_URL: \"https://www.douban.com\",\\n    N_NEW_NOTIS: 0,\\n    N_NEW_DOUMAIL: 0\\n  };\\n</script>\\n\\n\\n\\n    <script src=\"//img3.doubanio.com/dae/accounts/resources/984c231/shire/bundle.js\" defer=\"defer\"></script>\\n\\n\\n\\n\\n      \\n    \\n\\n\\n\\n    <link href=\"//img3.doubanio.com/dae/accounts/resources/321e246/sns/bundle.css\" rel=\"stylesheet\" type=\"text/css\">\\n\\n\\n\\n<div id=\"db-nav-sns\" class=\"nav\">\\n  <div class=\"nav-wrap\">\\n    <div class=\"nav-primary\">\\n     \\n      <div class=\"nav-logo\">\\n        <a href=\"https://www.douban.com\">\\xe8\\xb1\\x86\\xe7\\x93\\xa3\\xe7\\xa4\\xbe\\xe5\\x8c\\xba</a>\\n      </div>\\n\\n      <div class=\"nav-search\">\\n  <form action=\"https://www.douban.com/search\" method=\"get\">\\n\\t<fieldset>\\n      <legend>\\xe6\\x90\\x9c\\xe7\\xb4\\xa2\\xef\\xbc\\x9a</legend>\\n\\t  <label for=\"inp-query\">\\xe6\\x90\\x9c\\xe7\\xb4\\xa2\\xe4\\xbd\\xa0\\xe6\\x84\\x9f\\xe5\\x85\\xb4\\xe8\\xb6\\xa3\\xe7\\x9a\\x84\\xe5\\x86\\x85\\xe5\\xae\\xb9\\xe5\\x92\\x8c\\xe4\\xba\\xba...</label>\\n\\t  <div class=\"inp\">\\n\\t    <input type=\"hidden\" name=\"source\" value=\"suggest\">\\n\\t\\t<input id=\"inp-query\" name=\"q\" size=\"22\" maxlength=\"60\" autocomplete=\"off\" value=\"\">\\n\\t  </div>\\n\\t  <div class=\"inp-btn\"><input type=\"submit\" value=\"\\xe6\\x90\\x9c\\xe7\\xb4\\xa2\"></div>\\n\\t</fieldset>\\n  </form>\\n</div>\\n\\n      \\n\\n<div class=\"nav-items\">\\n  <ul>\\n    <li><a href=\"https://www.douban.com\">\\xe9\\xa6\\x96\\xe9\\xa1\\xb5</a></li>\\n      <li>\\n        <a href=\"https://www.douban.com/explore\">\\n          \\xe6\\xb5\\x8f\\xe8\\xa7\\x88\\xe5\\x8f\\x91\\xe7\\x8e\\xb0\\n        </a>\\n      </li>\\n      <li>\\n        <a href=\"https://www.douban.com/gallery\">\\n          \\xe8\\xaf\\x9d\\xe9\\xa2\\x98\\xe5\\xb9\\xbf\\xe5\\x9c\\xba\\n          <img src=\"https://img3.doubanio.com/f/shire/e49eca1517424a941871a2667a8957fd6c72d632/pics/new_menu.gif\" alt=\"new\" style=\"position: absolute; top: -7px; right: -13px;\" />\\n        </a>\\n      </li>\\n  </ul>\\n</div>\\n\\n    </div>\\n  </div>\\n</div>\\n\\n\\n\\n    <script src=\"//img3.doubanio.com/dae/accounts/resources/321e246/sns/bundle.js\" defer=\"defer\"></script>\\n\\n\\n\\n\\n\\n\\n    <div id=\"wrapper\">\\n        \\n\\n        \\n<div id=\"content\">\\n    \\n    <h1>\\xe6\\x90\\x9c\\xe7\\xb4\\xa2: python</h1>\\n\\n    <div class=\"grid-16-8 clearfix\">\\n        \\n        \\n        <div class=\"article\">\\n               \\n\\n  <div class=\"mod-search\">\\n    <form action=\"https://www.douban.com/search\" method=\"get\">\\n      <fieldset>\\n        <legend>\\xe6\\x90\\x9c\\xe7\\xb4\\xa2\\xef\\xbc\\x9a</legend>\\n          <input type=\"hidden\" name=\"cat\" value=\"1001\">\\n        <div class=\"inp\"><input placeholder=\"\\xe6\\x90\\x9c\\xe7\\xb4\\xa2\\xe4\\xbd\\xa0\\xe6\\x84\\x9f\\xe5\\x85\\xb4\\xe8\\xb6\\xa3\\xe7\\x9a\\x84\\xe5\\x86\\x85\\xe5\\xae\\xb9\\xe5\\x92\\x8c\\xe4\\xba\\xba\" autofocus name=\"q\" size=\"22\" maxlength=\"60\" value=\"python\"></div>\\n        <div class=\"inp-btn\"><input type=\"submit\" value=\"\\xe6\\x90\\x9c\\xe7\\xb4\\xa2\"></div>\\n      </fieldset>\\n    </form>\\n  </div>\\n\\n  <div class=\"search-cate\">\\n    <ul>\\n      <li><a href=\"/search?q=python\">\\xe5\\x85\\xa8\\xe9\\x83\\xa8</a></li>\\n        <li><a href=\"/search?cat=1002&amp;q=python\">\\xe7\\x94\\xb5\\xe5\\xbd\\xb1</a></li>\\n        <li class=on><a href=\"/search?cat=1001&amp;q=python\">\\xe4\\xb9\\xa6\\xe7\\xb1\\x8d</a></li>\\n        <li><a href=\"/search?cat=1003&amp;q=python\">\\xe9\\x9f\\xb3\\xe4\\xb9\\x90</a></li>\\n        <li><a href=\"/search?cat=1019&amp;q=python\">\\xe5\\xb0\\x8f\\xe7\\xbb\\x84</a></li>\\n        <li><a href=\"/search?cat=1005&amp;q=python\">\\xe6\\x88\\x90\\xe5\\x91\\x98</a></li>\\n        <li><a href=\"/search?cat=1015&amp;q=python\">\\xe6\\x97\\xa5\\xe8\\xae\\xb0</a></li>\\n        <li><a href=\"/search?cat=1025&amp;q=python\">\\xe5\\x9b\\xbe\\xe7\\x89\\x87</a></li>\\n        <li><a href=\"/search?cat=2012&amp;q=python\">\\xe5\\xb0\\x8f\\xe7\\xab\\x99</a></li>\\n        <li><a href=\"/search?cat=1011&amp;q=python\">\\xe5\\x90\\x8c\\xe5\\x9f\\x8e\\xe6\\xb4\\xbb\\xe5\\x8a\\xa8</a></li>\\n        <li><a href=\"/search?cat=3069&amp;q=python\">\\xe8\\x88\\x9e\\xe5\\x8f\\xb0\\xe5\\x89\\xa7</a></li>\\n        <li><a href=\"/search?cat=3114&amp;q=python\">\\xe6\\xb8\\xb8\\xe6\\x88\\x8f</a></li>\\n        <li><a href=\"/search?cat=3064&amp;q=python\">\\xe7\\xa7\\xbb\\xe5\\x8a\\xa8\\xe5\\xba\\x94\\xe7\\x94\\xa8</a></li>\\n        <li><a href=\"/search?cat=8018&amp;q=python\">\\xe8\\xb1\\x86\\xe5\\x93\\x81</a></li>\\n    </ul>\\n  </div>\\n  <script>\\n    Do(function(){\\n      if ($.browser.msie && ($.browser.version|0) === 6) {\\n          return;\\n      }\\n      $(window).scroll((function(){var g=$(document);var d=$(\".search-cate\");var f=d.find(\"ul\");var e=parseInt($(\"body\").css(\"padding-top\"))+5;var c=d.offset().top-e;var b=d.width();var a;return function(h){if(a){window.clearTimeout(a)}a=window.setTimeout(function(){if(g.scrollTop()>=c){d.css({height:1});f.css({position:\"fixed\",width:b,top:e})}else{d.css({height:\"auto\"});f.css({position:\"static\",width:\"auto\"})}},0)}})());\\n    });\\n  </script>\\n\\n  <div class=\"search-result\">\\n    <!-- douban ad begin -->\\n    <div id=\"dale_search_promo\"></div>\\n    <!-- douban ad end -->\\n    \\n\\n\\n        \\n    <h2>\\n        \\xe7\\x9b\\xb8\\xe5\\x85\\xb3\\xe4\\xb9\\xa6\\xe7\\xb1\\x8d:\\n            \\n    </h2>\\n\\n        <div class=\"result-list\">\\n              \\n  \\n  <div class=\"result\">\\n    <div class=\"pic\">\\n      <a class=\"nbg\" href=\"https://www.douban.com/link2/?url=https%3A%2F%2Fbook.douban.com%2Fsubject%2F26829016%2F&amp;query=python&amp;cat_id=1001&amp;type=search&amp;pos=0\" target=\"_blank\" onclick=\"moreurl(this,{i: \\'0\\', query: \\'python\\', from: \\'dou_search_book\\', sid: 26829016, qcat: \\'1001\\'})\" title=\"Python\\xe7\\xbc\\x96\\xe7\\xa8\\x8b\\xef\\xbc\\x9a\\xe4\\xbb\\x8e\\xe5\\x85\\xa5\\xe9\\x97\\xa8\\xe5\\x88\\xb0\\xe5\\xae\\x9e\\xe8\\xb7\\xb5\" ><img src=\"https://img3.doubanio.com/view/subject/s/public/s28891775.jpg\"></a>\\n    </div>\\n    <div class=\"content\">\\n      <div class=\"title\">\\n        <h3>\\n          <span>[\\xe4\\xb9\\xa6\\xe7\\xb1\\x8d]</span>&nbsp;<a href=\"https://www.douban.com/link2/?url=https%3A%2F%2Fbook.douban.com%2Fsubject%2F26829016%2F&amp;query=python&amp;cat_id=1001&amp;type=search&amp;pos=0\" target=\"_blank\" onclick=\"moreurl(this,{i: \\'0\\', query: \\'python\\', from: \\'dou_search_book\\', sid: 26829016, qcat: \\'1001\\'})\" >Python\\xe7\\xbc\\x96\\xe7\\xa8\\x8b\\xef\\xbc\\x9a\\xe4\\xbb\\x8e\\xe5\\x85\\xa5\\xe9\\x97\\xa8\\xe5\\x88\\xb0\\xe5\\xae\\x9e\\xe8\\xb7\\xb5 </a>\\n            <span class=\"ic-mark ic-book-mark\">\\xe5\\x8f\\xaf\\xe8\\xaf\\x95\\xe8\\xaf\\xbb</span>\\n            <span class=\"ic-mark ic-read-mark\">\\xe6\\x9c\\x89\\xe7\\x94\\xb5\\xe5\\xad\\x90\\xe7\\x89\\x88</span>\\n        </h3>\\n        \\n  <div class=\"rating-info\">\\n      \\n        <span class=\"allstar45\"></span>\\n        <span class=\"rating_nums\">9.1</span>\\n        <span>(1037\\xe4\\xba\\xba\\xe8\\xaf\\x84\\xe4\\xbb\\xb7)</span>\\n\\n        <span class=\"subject-cast\">[\\xe7\\xbe\\x8e]\\xe5\\x9f\\x83\\xe9\\x87\\x8c\\xe5\\x85\\x8b\\xc2\\xb7\\xe9\\xa9\\xac\\xe7\\x91\\x9f\\xe6\\x96\\xaf / \\xe8\\xa2\\x81\\xe5\\x9b\\xbd\\xe5\\xbf\\xa0 / \\xe4\\xba\\xba\\xe6\\xb0\\x91\\xe9\\x82\\xae\\xe7\\x94\\xb5\\xe5\\x87\\xba\\xe7\\x89\\x88\\xe7\\xa4\\xbe / 2016</span>\\n  </div>\\n\\n      </div>\\n        <p>\\xe6\\x9c\\xac\\xe4\\xb9\\xa6\\xe6\\x98\\xaf\\xe4\\xb8\\x80\\xe6\\x9c\\xac\\xe9\\x92\\x88\\xe5\\xaf\\xb9\\xe6\\x89\\x80\\xe6\\x9c\\x89\\xe5\\xb1\\x82\\xe6\\xac\\xa1\\xe7\\x9a\\x84Python \\xe8\\xaf\\xbb\\xe8\\x80\\x85\\xe8\\x80\\x8c\\xe4\\xbd\\x9c\\xe7\\x9a\\x84Python \\xe5\\x85\\xa5\\xe9\\x97\\xa8\\xe4\\xb9\\xa6\\xe3\\x80\\x82\\xe5\\x85\\xa8\\xe4\\xb9\\xa6\\xe5\\x88\\x86\\xe4\\xb8\\xa4\\xe9\\x83\\xa8\\xe5\\x88\\x86\\xef\\xbc\\x9a\\xe7\\xac\\xac\\xe4\\xb8\\x80\\xe9\\x83\\xa8\\xe5\\x88\\x86\\xe4\\xbb\\x8b\\xe7\\xbb\\x8d\\xe7\\x94\\xa8Python \\xe7\\xbc\\x96\\xe7\\xa8\\x8b\\xe6\\x89\\x80\\xe5\\xbf\\x85\\xe9\\xa1\\xbb\\xe4\\xba\\x86\\xe8\\xa7\\xa3\\xe7\\x9a\\x84\\xe5\\x9f\\xba\\xe6\\x9c\\xac\\xe6\\xa6\\x82\\xe5\\xbf\\xb5\\xef\\xbc\\x8c\\xe5\\x8c\\x85\\xe6\\x8b\\xacmatplotlib\\xe3\\x80\\x81NumPy \\xe5\\x92\\x8cPygal \\xe7\\xad\\x89\\xe5\\xbc\\xba\\xe5\\xa4\\xa7\\xe7\\x9a\\x84Py...</p>\\n    </div>\\n  </div>\\n\\n              \\n  \\n  <div class=\"result\">\\n    <div class=\"pic\">\\n      <a class=\"nbg\" href=\"https://www.douban.com/link2/?url=https%3A%2F%2Fbook.douban.com%2Fsubject%2F25779298%2F&amp;query=python&amp;cat_id=1001&amp;type=search&amp;pos=1\" target=\"_blank\" onclick=\"moreurl(this,{i: \\'1\\', query: \\'python\\', from: \\'dou_search_book\\', sid: 25779298, qcat: \\'1001\\'})\" title=\"\\xe5\\x88\\xa9\\xe7\\x94\\xa8Python\\xe8\\xbf\\x9b\\xe8\\xa1\\x8c\\xe6\\x95\\xb0\\xe6\\x8d\\xae\\xe5\\x88\\x86\\xe6\\x9e\\x90\" ><img src=\"https://img3.doubanio.com/view/subject/s/public/s27275372.jpg\"></a>\\n    </div>\\n    <div class=\"content\">\\n      <div class=\"title\">\\n        <h3>\\n          <span>[\\xe4\\xb9\\xa6\\xe7\\xb1\\x8d]</span>&nbsp;<a href=\"https://www.douban.com/link2/?url=https%3A%2F%2Fbook.douban.com%2Fsubject%2F25779298%2F&amp;query=python&amp;cat_id=1001&amp;type=search&amp;pos=1\" target=\"_blank\" onclick=\"moreurl(this,{i: \\'1\\', query: \\'python\\', from: \\'dou_search_book\\', sid: 25779298, qcat: \\'1001\\'})\" >\\xe5\\x88\\xa9\\xe7\\x94\\xa8Python\\xe8\\xbf\\x9b\\xe8\\xa1\\x8c\\xe6\\x95\\xb0\\xe6\\x8d\\xae\\xe5\\x88\\x86\\xe6\\x9e\\x90 </a>\\n        </h3>\\n        \\n  <div class=\"rating-info\">\\n      \\n        <span class=\"allstar45\"></span>\\n        <span class=\"rating_nums\">8.5</span>\\n        <span>(890\\xe4\\xba\\xba\\xe8\\xaf\\x84\\xe4\\xbb\\xb7)</span>\\n\\n        <span class=\"subject-cast\">Wes McKinney / \\xe5\\x94\\x90\\xe5\\xad\\xa6\\xe9\\x9f\\xac / \\xe6\\x9c\\xba\\xe6\\xa2\\xb0\\xe5\\xb7\\xa5\\xe4\\xb8\\x9a\\xe5\\x87\\xba\\xe7\\x89\\x88\\xe7\\xa4\\xbe / 2013</span>\\n  </div>\\n\\n      </div>\\n        <p>\\xe3\\x80\\x90\\xe5\\x90\\x8d\\xe4\\xba\\xba\\xe6\\x8e\\xa8\\xe8\\x8d\\x90\\xe3\\x80\\x91\\n\\xe2\\x80\\x9c\\xe7\\xa7\\x91\\xe5\\xad\\xa6\\xe8\\xae\\xa1\\xe7\\xae\\x97\\xe5\\x92\\x8c\\xe6\\x95\\xb0\\xe6\\x8d\\xae\\xe5\\x88\\x86\\xe6\\x9e\\x90\\xe7\\xa4\\xbe\\xe5\\x8c\\xba\\xe5\\xb7\\xb2\\xe7\\xbb\\x8f\\xe7\\xad\\x89\\xe5\\xbe\\x85\\xe8\\xbf\\x99\\xe6\\x9c\\xac\\xe4\\xb9\\xa6\\xe5\\xbe\\x88\\xe5\\xa4\\x9a\\xe5\\xb9\\xb4\\xe4\\xba\\x86\\xef\\xbc\\x9a\\xe5\\xa4\\xa7\\xe9\\x87\\x8f\\xe5\\x85\\xb7\\xe4\\xbd\\x93\\xe7\\x9a\\x84\\xe5\\xae\\x9e\\xe8\\xb7\\xb5\\xe5\\xbb\\xba\\xe8\\xae\\xae\\xef\\xbc\\x8c\\xe4\\xbb\\xa5\\xe5\\x8f\\x8a\\xe5\\xa4\\xa7\\xe9\\x87\\x8f\\xe7\\xbb\\xbc\\xe5\\x90\\x88\\xe5\\xba\\x94\\xe7\\x94\\xa8\\xe6\\x96\\xb9\\xe6\\xb3\\x95\\xe3\\x80\\x82\\xe6\\x9c\\xac\\xe4\\xb9\\xa6\\xe5\\x9c\\xa8\\xe6\\x9c\\xaa\\xe6\\x9d\\xa5\\xe5\\x87\\xa0\\xe5\\xb9\\xb4\\xe9\\x87\\x8c\\xe8\\x82\\xaf\\xe5\\xae\\x9a\\xe4\\xbc\\x9a\\xe6\\x88\\x90\\xe4\\xb8\\xbaPython\\xe9\\xa2\\x86\\xe5\\x9f\\x9f\\xe4\\xb8\\xad\\xe6\\x8a\\x80\\xe6\\x9c\\xaf\\xe8\\xae\\xa1\\xe7\\xae\\x97\\xe7\\x9a\\x84\\xe6\\x9d\\x83\\xe5\\xa8\\x81\\xe6\\x8c\\x87...</p>\\n    </div>\\n  </div>\\n\\n              \\n  \\n  <div class=\"result\">\\n    <div class=\"pic\">\\n      <a class=\"nbg\" href=\"https://www.douban.com/link2/?url=https%3A%2F%2Fbook.douban.com%2Fsubject%2F4866934%2F&amp;query=python&amp;cat_id=1001&amp;type=search&amp;pos=2\" target=\"_blank\" onclick=\"moreurl(this,{i: \\'2\\', query: \\'python\\', from: \\'dou_search_book\\', sid: 4866934, qcat: \\'1001\\'})\" title=\"Python\\xe5\\x9f\\xba\\xe7\\xa1\\x80\\xe6\\x95\\x99\\xe7\\xa8\\x8b\" ><img src=\"https://img3.doubanio.com/view/subject/s/public/s4387251.jpg\"></a>\\n    </div>\\n    <div class=\"content\">\\n      <div class=\"title\">\\n        <h3>\\n          <span>[\\xe4\\xb9\\xa6\\xe7\\xb1\\x8d]</span>&nbsp;<a href=\"https://www.douban.com/link2/?url=https%3A%2F%2Fbook.douban.com%2Fsubject%2F4866934%2F&amp;query=python&amp;cat_id=1001&amp;type=search&amp;pos=2\" target=\"_blank\" onclick=\"moreurl(this,{i: \\'2\\', query: \\'python\\', from: \\'dou_search_book\\', sid: 4866934, qcat: \\'1001\\'})\" >Python\\xe5\\x9f\\xba\\xe7\\xa1\\x80\\xe6\\x95\\x99\\xe7\\xa8\\x8b </a>\\n        </h3>\\n        \\n  <div class=\"rating-info\">\\n      \\n        <span class=\"allstar40\"></span>\\n        <span class=\"rating_nums\">8.0</span>\\n        <span>(1690\\xe4\\xba\\xba\\xe8\\xaf\\x84\\xe4\\xbb\\xb7)</span>\\n\\n        <span class=\"subject-cast\">Magnus Lie Hetland / \\xe5\\x8f\\xb8\\xe7\\xbb\\xb4 / \\xe4\\xba\\xba\\xe6\\xb0\\x91\\xe9\\x82\\xae\\xe7\\x94\\xb5\\xe5\\x87\\xba\\xe7\\x89\\x88\\xe7\\xa4\\xbe / 2010</span>\\n  </div>\\n\\n      </div>\\n        <p>\\xe6\\x9c\\xac\\xe4\\xb9\\xa6\\xe6\\x98\\xaf\\xe7\\xbb\\x8f\\xe5\\x85\\xb8\\xe6\\x95\\x99\\xe7\\xa8\\x8b\\xe7\\x9a\\x84\\xe5\\x85\\xa8\\xe6\\x96\\xb0\\xe6\\x94\\xb9\\xe7\\x89\\x88\\xef\\xbc\\x8c\\xe4\\xbd\\x9c\\xe8\\x80\\x85\\xe6\\xa0\\xb9\\xe6\\x8d\\xaePython 3.0\\xe7\\x89\\x88\\xe6\\x9c\\xac\\xe7\\x9a\\x84\\xe7\\xa7\\x8d\\xe7\\xa7\\x8d\\xe5\\x8f\\x98\\xe5\\x8c\\x96\\xef\\xbc\\x8c\\xe5\\x85\\xa8\\xe9\\x9d\\xa2\\xe6\\x94\\xb9\\xe5\\x86\\x99\\xe4\\xba\\x86\\xe4\\xb9\\xa6\\xe4\\xb8\\xad\\xe5\\x86\\x85\\xe5\\xae\\xb9\\xef\\xbc\\x8c\\xe5\\x81\\x9a\\xe5\\x88\\xb0\\xe6\\x97\\xa2\\xe8\\x83\\xbd\\xe2\\x80\\x9c\\xe7\\x9e\\xbb\\xe5\\x89\\x8d\\xe2\\x80\\x9d\\xe4\\xb9\\x9f\\xe8\\x83\\xbd\\xe2\\x80\\x9c\\xe9\\xa1\\xbe\\xe5\\x90\\x8e\\xe2\\x80\\x9d\\xe3\\x80\\x82\\xe6\\x9c\\xac\\xe4\\xb9\\xa6\\xe5\\xb1\\x82\\xe6\\xac\\xa1\\xe9\\xb2\\x9c\\xe6\\x98\\x8e\\xe3\\x80\\x81\\xe7\\xbb\\x93\\xe6\\x9e\\x84\\xe4\\xb8\\xa5\\xe8\\xb0\\xa8\\xe3\\x80\\x81\\xe5\\x86\\x85\\xe5\\xae\\xb9\\xe7\\xbf\\x94\\xe5\\xae\\x9e\\xef\\xbc\\x8c\\xe7\\x89\\xb9\\xe5\\x88\\xab\\xe6\\x98\\xaf\\xe5\\x9c\\xa8\\xe6\\x9c\\x80\\xe5\\x90\\x8e...</p>\\n    </div>\\n  </div>\\n\\n              \\n  \\n  <div class=\"result\">\\n    <div class=\"pic\">\\n      <a class=\"nbg\" href=\"https://www.douban.com/link2/?url=https%3A%2F%2Fbook.douban.com%2Fsubject%2F27028517%2F&amp;query=python&amp;cat_id=1001&amp;type=search&amp;pos=3\" target=\"_blank\" onclick=\"moreurl(this,{i: \\'3\\', query: \\'python\\', from: \\'dou_search_book\\', sid: 27028517, qcat: \\'1001\\'})\" title=\"\\xe6\\xb5\\x81\\xe7\\x95\\x85\\xe7\\x9a\\x84Python\" ><img src=\"https://img3.doubanio.com/view/subject/s/public/s29434304.jpg\"></a>\\n    </div>\\n    <div class=\"content\">\\n      <div class=\"title\">\\n        <h3>\\n          <span>[\\xe4\\xb9\\xa6\\xe7\\xb1\\x8d]</span>&nbsp;<a href=\"https://www.douban.com/link2/?url=https%3A%2F%2Fbook.douban.com%2Fsubject%2F27028517%2F&amp;query=python&amp;cat_id=1001&amp;type=search&amp;pos=3\" target=\"_blank\" onclick=\"moreurl(this,{i: \\'3\\', query: \\'python\\', from: \\'dou_search_book\\', sid: 27028517, qcat: \\'1001\\'})\" >\\xe6\\xb5\\x81\\xe7\\x95\\x85\\xe7\\x9a\\x84Python </a>\\n            <span class=\"ic-mark ic-book-mark\">\\xe5\\x8f\\xaf\\xe8\\xaf\\x95\\xe8\\xaf\\xbb</span>\\n        </h3>\\n        \\n  <div class=\"rating-info\">\\n      \\n        <span class=\"allstar45\"></span>\\n        <span class=\"rating_nums\">9.4</span>\\n        <span>(304\\xe4\\xba\\xba\\xe8\\xaf\\x84\\xe4\\xbb\\xb7)</span>\\n\\n        <span class=\"subject-cast\">[\\xe5\\xb7\\xb4\\xe8\\xa5\\xbf] Luciano Ramalho / \\xe5\\xae\\x89\\xe9\\x81\\x93 / \\xe4\\xba\\xba\\xe6\\xb0\\x91\\xe9\\x82\\xae\\xe7\\x94\\xb5\\xe5\\x87\\xba\\xe7\\x89\\x88\\xe7\\xa4\\xbe / 2017</span>\\n  </div>\\n\\n      </div>\\n        <p>\\xe3\\x80\\x90\\xe6\\x8a\\x80\\xe6\\x9c\\xaf\\xe5\\xa4\\xa7\\xe5\\x92\\x96\\xe6\\x8e\\xa8\\xe8\\x8d\\x90\\xe3\\x80\\x91\\n\\xe2\\x80\\x9c\\xe5\\xbe\\x88\\xe8\\x8d\\xa3\\xe5\\xb9\\xb8\\xe6\\x8b\\x85\\xe4\\xbb\\xbb\\xe8\\xbf\\x99\\xe6\\x9c\\xac\\xe4\\xbc\\x98\\xe7\\xa7\\x80\\xe5\\x9b\\xbe\\xe4\\xb9\\xa6\\xe7\\x9a\\x84\\xe6\\x8a\\x80\\xe6\\x9c\\xaf\\xe5\\xae\\xa1\\xe6\\xa0\\xa1\\xe3\\x80\\x82\\xe8\\xbf\\x99\\xe6\\x9c\\xac\\xe4\\xb9\\xa6\\xe8\\x83\\xbd\\xe5\\xb8\\xae\\xe5\\x8a\\xa9\\xe5\\xbe\\x88\\xe5\\xa4\\x9a\\xe4\\xb8\\xad\\xe7\\xba\\xa7Python\\xe7\\xa8\\x8b\\xe5\\xba\\x8f\\xe5\\x91\\x98\\xe6\\x8e\\x8c\\xe6\\x8f\\xa1\\xe8\\xbf\\x99\\xe9\\x97\\xa8\\xe8\\xaf\\xad\\xe8\\xa8\\x80\\xef\\xbc\\x8c\\xe6\\x88\\x91\\xe4\\xb9\\x9f\\xe4\\xbb\\x8e\\xe4\\xb8\\xad\\xe5\\xad\\xa6\\xe5\\x88\\xb0\\xe4\\xba\\x86\\xe7\\x9b\\xb8\\xe5\\xbd\\x93\\xe5\\xa4\\x9a\\xe7\\x9a\\x84\\xe7\\x9f\\xa5\\xe8\\xaf\\x86\\xef\\xbc\\x81\\xe2\\x80\\x9d\\xe2\\x80\\x94\\xe2\\x80\\x94Alex Martelli\\xef\\xbc\\x8cPython\\xe8\\xbd\\xaf...</p>\\n    </div>\\n  </div>\\n\\n              \\n  \\n  <div class=\"result\">\\n    <div class=\"pic\">\\n      <a class=\"nbg\" href=\"https://www.douban.com/link2/?url=https%3A%2F%2Fbook.douban.com%2Fsubject%2F3117898%2F&amp;query=python&amp;cat_id=1001&amp;type=search&amp;pos=4\" target=\"_blank\" onclick=\"moreurl(this,{i: \\'4\\', query: \\'python\\', from: \\'dou_search_book\\', sid: 3117898, qcat: \\'1001\\'})\" title=\"Python\\xe6\\xba\\x90\\xe7\\xa0\\x81\\xe5\\x89\\x96\\xe6\\x9e\\x90\" ><img src=\"https://img3.doubanio.com/view/subject/s/public/s3435132.jpg\"></a>\\n    </div>\\n    <div class=\"content\">\\n      <div class=\"title\">\\n        <h3>\\n          <span>[\\xe4\\xb9\\xa6\\xe7\\xb1\\x8d]</span>&nbsp;<a href=\"https://www.douban.com/link2/?url=https%3A%2F%2Fbook.douban.com%2Fsubject%2F3117898%2F&amp;query=python&amp;cat_id=1001&amp;type=search&amp;pos=4\" target=\"_blank\" onclick=\"moreurl(this,{i: \\'4\\', query: \\'python\\', from: \\'dou_search_book\\', sid: 3117898, qcat: \\'1001\\'})\" >Python\\xe6\\xba\\x90\\xe7\\xa0\\x81\\xe5\\x89\\x96\\xe6\\x9e\\x90 </a>\\n            <span class=\"ic-mark ic-book-mark\">\\xe5\\x8f\\xaf\\xe8\\xaf\\x95\\xe8\\xaf\\xbb</span>\\n            <span class=\"ic-mark ic-read-mark\">\\xe6\\x9c\\x89\\xe7\\x94\\xb5\\xe5\\xad\\x90\\xe7\\x89\\x88</span>\\n        </h3>\\n        \\n  <div class=\"rating-info\">\\n      \\n        <span class=\"allstar45\"></span>\\n        <span class=\"rating_nums\">8.7</span>\\n        <span>(709\\xe4\\xba\\xba\\xe8\\xaf\\x84\\xe4\\xbb\\xb7)</span>\\n\\n        <span class=\"subject-cast\">\\xe9\\x99\\x88\\xe5\\x84\\x92 / \\xe7\\x94\\xb5\\xe5\\xad\\x90\\xe5\\xb7\\xa5\\xe4\\xb8\\x9a\\xe5\\x87\\xba\\xe7\\x89\\x88\\xe7\\xa4\\xbe / 2008</span>\\n  </div>\\n\\n      </div>\\n        <p>\\xe4\\xbd\\x9c\\xe4\\xb8\\xba\\xe4\\xb8\\xbb\\xe6\\xb5\\x81\\xe7\\x9a\\x84\\xe5\\x8a\\xa8\\xe6\\x80\\x81\\xe8\\xaf\\xad\\xe8\\xa8\\x80\\xef\\xbc\\x8cPython\\xe4\\xb8\\x8d\\xe4\\xbb\\x85\\xe7\\xae\\x80\\xe5\\x8d\\x95\\xe6\\x98\\x93\\xe5\\xad\\xa6\\xe3\\x80\\x81\\xe7\\xa7\\xbb\\xe6\\xa4\\x8d\\xe6\\x80\\xa7\\xe5\\xa5\\xbd\\xef\\xbc\\x8c\\xe8\\x80\\x8c\\xe4\\xb8\\x94\\xe6\\x8b\\xa5\\xe6\\x9c\\x89\\xe5\\xbc\\xba\\xe5\\xa4\\xa7\\xe4\\xb8\\xb0\\xe5\\xaf\\x8c\\xe7\\x9a\\x84\\xe5\\xba\\x93\\xe7\\x9a\\x84\\xe6\\x94\\xaf\\xe6\\x8c\\x81\\xe3\\x80\\x82\\xe6\\xad\\xa4\\xe5\\xa4\\x96\\xef\\xbc\\x8cPython\\xe5\\xbc\\xba\\xe5\\xa4\\xa7\\xe7\\x9a\\x84\\xe5\\x8f\\xaf\\xe6\\x89\\xa9\\xe5\\xb1\\x95\\xe6\\x80\\xa7\\xef\\xbc\\x8c\\xe8\\xae\\xa9\\xe5\\xbc\\x80\\xe5\\x8f\\x91\\xe4\\xba\\xba\\xe5\\x91\\x98\\xe6\\x97\\xa2\\xe5\\x8f\\xaf\\xe4\\xbb\\xa5\\xe9\\x9d\\x9e\\xe5\\xb8\\xb8\\xe5\\xae\\xb9\\xe6\\x98\\x93\\xe5\\x9c\\xb0\\xe5\\x88\\xa9\\xe7\\x94\\xa8C/C++\\xe7\\xbc\\x96\\xe5\\x86\\x99Python\\xe7\\x9a\\x84\\xe6\\x89\\xa9\\xe5\\xb1\\x95...</p>\\n    </div>\\n  </div>\\n\\n              \\n  \\n  <div class=\"result\">\\n    <div class=\"pic\">\\n      <a class=\"nbg\" href=\"https://www.douban.com/link2/?url=https%3A%2F%2Fbook.douban.com%2Fsubject%2F10561367%2F&amp;query=python&amp;cat_id=1001&amp;type=search&amp;pos=5\" target=\"_blank\" onclick=\"moreurl(this,{i: \\'5\\', query: \\'python\\', from: \\'dou_search_book\\', sid: 10561367, qcat: \\'1001\\'})\" title=\"Head First Python\\xef\\xbc\\x88\\xe4\\xb8\\xad\\xe6\\x96\\x87\\xe7\\x89\\x88\\xef\\xbc\\x89\" ><img src=\"https://img3.doubanio.com/view/subject/s/public/s27262723.jpg\"></a>\\n    </div>\\n    <div class=\"content\">\\n      <div class=\"title\">\\n        <h3>\\n          <span>[\\xe4\\xb9\\xa6\\xe7\\xb1\\x8d]</span>&nbsp;<a href=\"https://www.douban.com/link2/?url=https%3A%2F%2Fbook.douban.com%2Fsubject%2F10561367%2F&amp;query=python&amp;cat_id=1001&amp;type=search&amp;pos=5\" target=\"_blank\" onclick=\"moreurl(this,{i: \\'5\\', query: \\'python\\', from: \\'dou_search_book\\', sid: 10561367, qcat: \\'1001\\'})\" >Head First Python\\xef\\xbc\\x88\\xe4\\xb8\\xad\\xe6\\x96\\x87\\xe7\\x89\\x88\\xef\\xbc\\x89 </a>\\n        </h3>\\n        \\n  <div class=\"rating-info\">\\n      \\n        <span class=\"allstar40\"></span>\\n        <span class=\"rating_nums\">7.9</span>\\n        <span>(543\\xe4\\xba\\xba\\xe8\\xaf\\x84\\xe4\\xbb\\xb7)</span>\\n\\n        <span class=\"subject-cast\">\\xe5\\xb7\\xb4\\xe9\\x87\\x8c\\xef\\xbc\\x88Barry.P.\\xef\\xbc\\x89 / \\xe6\\x9e\\x97\\xe7\\x90\\xaa \\xe7\\xad\\x89 / \\xe4\\xb8\\xad\\xe5\\x9b\\xbd\\xe7\\x94\\xb5\\xe5\\x8a\\x9b\\xe5\\x87\\xba\\xe7\\x89\\x88\\xe7\\xa4\\xbe / 2012</span>\\n  </div>\\n\\n      </div>\\n        <p>\\xe4\\xbd\\xa0\\xe6\\x83\\xb3\\xe8\\xbf\\x87\\xe5\\x8f\\xaf\\xe4\\xbb\\xa5\\xe9\\x80\\x9a\\xe8\\xbf\\x87\\xe4\\xb8\\x80\\xe6\\x9c\\xac\\xe4\\xb9\\xa6\\xe5\\xb0\\xb1\\xe5\\xad\\xa6\\xe4\\xbc\\x9aPython\\xe5\\x90\\x97\\xef\\xbc\\x9f\\xe3\\x80\\x8aHead First Python(\\xe4\\xb8\\xad\\xe6\\x96\\x87\\xe7\\x89\\x88)\\xe3\\x80\\x8b\\xe8\\xb6\\x85\\xe8\\xb6\\x8a\\xe6\\x9e\\xaf\\xe7\\x87\\xa5\\xe7\\x9a\\x84\\xe8\\xaf\\xad\\xe6\\xb3\\x95\\xe5\\x92\\x8c\\xe7\\x94\\xa9\\xe6\\xb3\\x95\\xe6\\x89\\x8b\\xe5\\x86\\x8c\\xef\\xbc\\x8c\\xe9\\x80\\x9a\\xe8\\xbf\\x87\\xe4\\xb8\\x80\\xe7\\xa7\\x8d\\xe7\\x8b\\xac\\xe7\\x89\\xb9\\xe7\\x9a\\x84\\xe6\\x96\\xb9\\xe6\\xb3\\x95\\xe6\\x95\\x99\\xe4\\xbd\\xa0\\xe5\\xad\\xa6\\xe4\\xb9\\xa0\\xe8\\xbf\\x99\\xe7\\xa7\\x8d\\xe8\\xaf\\xad\\xe8\\xa8\\x80\\xe3\\x80\\x82\\xe4\\xbd\\xa0\\xe4\\xbc\\x9a\\xe8\\xbf\\x85\\xe9\\x80\\x9f\\xe6\\x8e\\x8c\\xe6\\x8f\\xa1Python\\xe7\\x9a\\x84\\xe5\\x9f\\xba\\xe7\\xa1\\x80\\xe7\\x9f\\xa5\\xe8\\xaf\\x86\\xef\\xbc\\x8c...</p>\\n    </div>\\n  </div>\\n\\n              \\n  \\n  <div class=\"result\">\\n    <div class=\"pic\">\\n      <a class=\"nbg\" href=\"https://www.douban.com/link2/?url=https%3A%2F%2Fbook.douban.com%2Fsubject%2F26836700%2F&amp;query=python&amp;cat_id=1001&amp;type=search&amp;pos=6\" target=\"_blank\" onclick=\"moreurl(this,{i: \\'6\\', query: \\'python\\', from: \\'dou_search_book\\', sid: 26836700, qcat: \\'1001\\'})\" title=\"Python\\xe7\\xbc\\x96\\xe7\\xa8\\x8b\\xe5\\xbf\\xab\\xe9\\x80\\x9f\\xe4\\xb8\\x8a\\xe6\\x89\\x8b\" ><img src=\"https://img1.doubanio.com/view/subject/s/public/s28895767.jpg\"></a>\\n    </div>\\n    <div class=\"content\">\\n      <div class=\"title\">\\n        <h3>\\n          <span>[\\xe4\\xb9\\xa6\\xe7\\xb1\\x8d]</span>&nbsp;<a href=\"https://www.douban.com/link2/?url=https%3A%2F%2Fbook.douban.com%2Fsubject%2F26836700%2F&amp;query=python&amp;cat_id=1001&amp;type=search&amp;pos=6\" target=\"_blank\" onclick=\"moreurl(this,{i: \\'6\\', query: \\'python\\', from: \\'dou_search_book\\', sid: 26836700, qcat: \\'1001\\'})\" >Python\\xe7\\xbc\\x96\\xe7\\xa8\\x8b\\xe5\\xbf\\xab\\xe9\\x80\\x9f\\xe4\\xb8\\x8a\\xe6\\x89\\x8b </a>\\n        </h3>\\n        \\n  <div class=\"rating-info\">\\n      \\n        <span class=\"allstar45\"></span>\\n        <span class=\"rating_nums\">9.0</span>\\n        <span>(367\\xe4\\xba\\xba\\xe8\\xaf\\x84\\xe4\\xbb\\xb7)</span>\\n\\n        <span class=\"subject-cast\">Albert Sweigart / \\xe7\\x8e\\x8b\\xe6\\xb5\\xb7\\xe9\\xb9\\x8f / \\xe4\\xba\\xba\\xe6\\xb0\\x91\\xe9\\x82\\xae\\xe7\\x94\\xb5\\xe5\\x87\\xba\\xe7\\x89\\x88\\xe7\\xa4\\xbe / 2016</span>\\n  </div>\\n\\n      </div>\\n        <p>\\xe5\\xa6\\x82\\xe4\\xbb\\x8a\\xef\\xbc\\x8c\\xe4\\xba\\xba\\xe4\\xbb\\xac\\xe9\\x9d\\xa2\\xe4\\xb8\\xb4\\xe7\\x9a\\x84\\xe5\\xa4\\xa7\\xe5\\xa4\\x9a\\xe6\\x95\\xb0\\xe4\\xbb\\xbb\\xe5\\x8a\\xa1\\xe9\\x83\\xbd\\xe5\\x8f\\xaf\\xe4\\xbb\\xa5\\xe9\\x80\\x9a\\xe8\\xbf\\x87\\xe7\\xbc\\x96\\xe5\\x86\\x99\\xe8\\xae\\xa1\\xe7\\xae\\x97\\xe6\\x9c\\xba\\xe8\\xbd\\xaf\\xe4\\xbb\\xb6\\xe6\\x9d\\xa5\\xe5\\xae\\x8c\\xe6\\x88\\x90\\xe3\\x80\\x82Python\\xe6\\x98\\xaf\\xe4\\xb8\\x80\\xe7\\xa7\\x8d\\xe8\\xa7\\xa3\\xe9\\x87\\x8a\\xe5\\x9e\\x8b\\xe3\\x80\\x81\\xe9\\x9d\\xa2\\xe5\\x90\\x91\\xe5\\xaf\\xb9\\xe8\\xb1\\xa1\\xe3\\x80\\x81\\xe5\\x8a\\xa8\\xe6\\x80\\x81\\xe6\\x95\\xb0\\xe6\\x8d\\xae\\xe7\\xb1\\xbb\\xe5\\x9e\\x8b\\xe7\\x9a\\x84\\xe9\\xab\\x98\\xe7\\xba\\xa7\\xe7\\xa8\\x8b\\xe5\\xba\\x8f\\xe8\\xae\\xbe\\xe8\\xae\\xa1\\xe8\\xaf\\xad\\xe8\\xa8\\x80\\xe3\\x80\\x82\\xe9\\x80\\x9a\\xe8\\xbf\\x87Python\\xe7\\xbc\\x96\\xe7\\xa8\\x8b\\xef\\xbc\\x8c\\xe6\\x88\\x91\\xe4\\xbb\\xac\\xe8\\x83\\xbd\\xe5\\xa4\\x9f\\xe8\\xa7\\xa3\\xe5\\x86\\xb3\\xe7\\x8e\\xb0\\xe5\\xae\\x9e\\xe7\\x94\\x9f\\xe6\\xb4\\xbb...</p>\\n    </div>\\n  </div>\\n\\n              \\n  \\n  <div class=\"result\">\\n    <div class=\"pic\">\\n      <a class=\"nbg\" href=\"https://www.douban.com/link2/?url=https%3A%2F%2Fbook.douban.com%2Fsubject%2F26274202%2F&amp;query=python&amp;cat_id=1001&amp;type=search&amp;pos=7\" target=\"_blank\" onclick=\"moreurl(this,{i: \\'7\\', query: \\'python\\', from: \\'dou_search_book\\', sid: 26274202, qcat: \\'1001\\'})\" title=\"Flask Web\\xe5\\xbc\\x80\\xe5\\x8f\\x91\\xef\\xbc\\x9a\\xe5\\x9f\\xba\\xe4\\xba\\x8ePython\\xe7\\x9a\\x84Web\\xe5\\xba\\x94\\xe7\\x94\\xa8\\xe5\\xbc\\x80\\xe5\\x8f\\x91\\xe5\\xae\\x9e\\xe6\\x88\\x98\" ><img src=\"https://img3.doubanio.com/view/subject/s/public/s27906700.jpg\"></a>\\n    </div>\\n    <div class=\"content\">\\n      <div class=\"title\">\\n        <h3>\\n          <span>[\\xe4\\xb9\\xa6\\xe7\\xb1\\x8d]</span>&nbsp;<a href=\"https://www.douban.com/link2/?url=https%3A%2F%2Fbook.douban.com%2Fsubject%2F26274202%2F&amp;query=python&amp;cat_id=1001&amp;type=search&amp;pos=7\" target=\"_blank\" onclick=\"moreurl(this,{i: \\'7\\', query: \\'python\\', from: \\'dou_search_book\\', sid: 26274202, qcat: \\'1001\\'})\" >Flask Web\\xe5\\xbc\\x80\\xe5\\x8f\\x91\\xef\\xbc\\x9a\\xe5\\x9f\\xba\\xe4\\xba\\x8ePython\\xe7\\x9a\\x84Web\\xe5\\xba\\x94\\xe7\\x94\\xa8\\xe5\\xbc\\x80\\xe5\\x8f\\x91\\xe5\\xae\\x9e\\xe6\\x88\\x98 </a>\\n            <span class=\"ic-mark ic-book-mark\">\\xe5\\x8f\\xaf\\xe8\\xaf\\x95\\xe8\\xaf\\xbb</span>\\n            <span class=\"ic-mark ic-read-mark\">\\xe6\\x9c\\x89\\xe7\\x94\\xb5\\xe5\\xad\\x90\\xe7\\x89\\x88</span>\\n        </h3>\\n        \\n  <div class=\"rating-info\">\\n      \\n        <span class=\"allstar45\"></span>\\n        <span class=\"rating_nums\">8.7</span>\\n        <span>(483\\xe4\\xba\\xba\\xe8\\xaf\\x84\\xe4\\xbb\\xb7)</span>\\n\\n        <span class=\"subject-cast\">[\\xe7\\xbe\\x8e] Miguel Grinberg / \\xe5\\xae\\x89\\xe9\\x81\\x93 / \\xe4\\xba\\xba\\xe6\\xb0\\x91\\xe9\\x82\\xae\\xe7\\x94\\xb5\\xe5\\x87\\xba\\xe7\\x89\\x88\\xe7\\xa4\\xbe / 2014</span>\\n  </div>\\n\\n      </div>\\n        <p>\\xe6\\x9c\\xac\\xe4\\xb9\\xa6\\xe4\\xb8\\x8d\\xe4\\xbb\\x85\\xe9\\x80\\x82\\xe5\\x90\\x88\\xe5\\x88\\x9d\\xe7\\xba\\xa7Web\\xe5\\xbc\\x80\\xe5\\x8f\\x91\\xe4\\xba\\xba\\xe5\\x91\\x98\\xe5\\xad\\xa6\\xe4\\xb9\\xa0\\xe9\\x98\\x85\\xe8\\xaf\\xbb\\xef\\xbc\\x8c\\xe6\\x9b\\xb4\\xe6\\x98\\xafPython\\xe7\\xa8\\x8b\\xe5\\xba\\x8f\\xe5\\x91\\x98\\xe7\\x94\\xa8\\xe6\\x9d\\xa5\\xe5\\xad\\xa6\\xe4\\xb9\\xa0\\xe9\\xab\\x98\\xe7\\xba\\xa7Web\\xe5\\xbc\\x80\\xe5\\x8f\\x91\\xe6\\x8a\\x80\\xe6\\x9c\\xaf\\xe7\\x9a\\x84\\xe4\\xbc\\x98\\xe7\\xa7\\x80\\xe5\\x8f\\x82\\xe8\\x80\\x83\\xe4\\xb9\\xa6\\xe3\\x80\\x82\\n\\xe2\\x80\\xa2\\t\\xe5\\xad\\xa6\\xe4\\xb9\\xa0Flask\\xe5\\xba\\x94\\xe7\\x94\\xa8\\xe7\\x9a\\x84\\xe5\\x9f\\xba\\xe6\\x9c\\xac\\xe7\\xbb\\x93\\xe6\\x9e\\x84\\xef\\xbc\\x8c\\xe7\\xbc\\x96\\xe5\\x86\\x99\\xe7\\xa4\\xba\\xe4\\xbe\\x8b\\xe5\\xba\\x94\\xe7\\x94\\xa8\\xef\\xbc\\x9b\\n\\xe2\\x80\\xa2\\t\\xe4\\xbd\\xbf\\xe7\\x94\\xa8\\xe5\\xbf\\x85\\xe5\\xa4\\x87\\xe7\\x9a\\x84\\xe7\\xbb\\x84\\xe4\\xbb\\xb6\\xef\\xbc\\x8c...</p>\\n    </div>\\n  </div>\\n\\n              \\n  \\n  <div class=\"result\">\\n    <div class=\"pic\">\\n      <a class=\"nbg\" href=\"https://www.douban.com/link2/?url=https%3A%2F%2Fbook.douban.com%2Fsubject%2F3112503%2F&amp;query=python&amp;cat_id=1001&amp;type=search&amp;pos=8\" target=\"_blank\" onclick=\"moreurl(this,{i: \\'8\\', query: \\'python\\', from: \\'dou_search_book\\', sid: 3112503, qcat: \\'1001\\'})\" title=\"Python\\xe6\\xa0\\xb8\\xe5\\xbf\\x83\\xe7\\xbc\\x96\\xe7\\xa8\\x8b\\xef\\xbc\\x88\\xe7\\xac\\xac\\xe4\\xba\\x8c\\xe7\\x89\\x88\\xef\\xbc\\x89\" ><img src=\"https://img3.doubanio.com/view/subject/s/public/s3140466.jpg\"></a>\\n    </div>\\n    <div class=\"content\">\\n      <div class=\"title\">\\n        <h3>\\n          <span>[\\xe4\\xb9\\xa6\\xe7\\xb1\\x8d]</span>&nbsp;<a href=\"https://www.douban.com/link2/?url=https%3A%2F%2Fbook.douban.com%2Fsubject%2F3112503%2F&amp;query=python&amp;cat_id=1001&amp;type=search&amp;pos=8\" target=\"_blank\" onclick=\"moreurl(this,{i: \\'8\\', query: \\'python\\', from: \\'dou_search_book\\', sid: 3112503, qcat: \\'1001\\'})\" >Python\\xe6\\xa0\\xb8\\xe5\\xbf\\x83\\xe7\\xbc\\x96\\xe7\\xa8\\x8b\\xef\\xbc\\x88\\xe7\\xac\\xac\\xe4\\xba\\x8c\\xe7\\x89\\x88\\xef\\xbc\\x89 </a>\\n        </h3>\\n        \\n  <div class=\"rating-info\">\\n      \\n        <span class=\"allstar40\"></span>\\n        <span class=\"rating_nums\">7.7</span>\\n        <span>(1489\\xe4\\xba\\xba\\xe8\\xaf\\x84\\xe4\\xbb\\xb7)</span>\\n\\n        <span class=\"subject-cast\">[\\xe7\\xbe\\x8e]Wesley J. Chun\\xef\\xbc\\x88\\xe9\\x99\\xb3\\xe4\\xbb\\xb2\\xe6\\x89\\x8d\\xef\\xbc\\x89 / CPUG / \\xe4\\xba\\xba\\xe6\\xb0\\x91\\xe9\\x82\\xae\\xe7\\x94\\xb5\\xe5\\x87\\xba\\xe7\\x89\\x88\\xe7\\xa4\\xbe / 2008</span>\\n  </div>\\n\\n      </div>\\n        <p>\\xe6\\x9c\\xac\\xe4\\xb9\\xa6\\xe6\\x98\\xafPython\\xe5\\xbc\\x80\\xe5\\x8f\\x91\\xe8\\x80\\x85\\xe7\\x9a\\x84\\xe5\\xae\\x8c\\xe5\\x85\\xa8\\xe6\\x8c\\x87\\xe5\\x8d\\x97\\xe2\\x80\\x94\\xe2\\x80\\x94\\xe9\\x92\\x88\\xe5\\xaf\\xb9 Python 2.5\\xe5\\x85\\xa8\\xe9\\x9d\\xa2\\xe5\\x8d\\x87\\xe7\\xba\\xa7\\n\\xc2\\xb7\\xe5\\xad\\xa6\\xe4\\xb9\\xa0\\xe4\\xb8\\x93\\xe4\\xb8\\x9a\\xe7\\x9a\\x84Python\\xe9\\xa3\\x8e\\xe6\\xa0\\xbc\\xe3\\x80\\x81\\xe6\\x9c\\x80\\xe4\\xbd\\xb3\\xe5\\xae\\x9e\\xe8\\xb7\\xb5\\xe5\\x92\\x8c\\xe5\\xa5\\xbd\\xe7\\x9a\\x84\\xe7\\xbc\\x96\\xe7\\xa8\\x8b\\xe4\\xb9\\xa0\\xe6\\x83\\xaf\\xef\\xbc\\x9b\\n\\xc2\\xb7\\xe5\\x8a\\xa0\\xe5\\xbc\\xba\\xe5\\xaf\\xb9Python\\xe5\\xaf\\xb9\\xe8\\xb1\\xa1\\xe3\\x80\\x81\\xe5\\x86\\x85\\xe5\\xad\\x98\\xe6\\xa8\\xa1\\xe5\\x9e\\x8b\\xe5\\x92\\x8cPython\\xe9\\x9d\\xa2\\xe5\\x90\\x91\\xe5\\xaf\\xb9\\xe8\\xb1\\xa1\\xe7\\x89\\xb9\\xe6\\x80\\xa7\\xe7\\x9a\\x84\\xe6\\xb7\\xb1...</p>\\n    </div>\\n  </div>\\n\\n              \\n  \\n  <div class=\"result\">\\n    <div class=\"pic\">\\n      <a class=\"nbg\" href=\"https://www.douban.com/link2/?url=https%3A%2F%2Fbook.douban.com%2Fsubject%2F6025284%2F&amp;query=python&amp;cat_id=1001&amp;type=search&amp;pos=9\" target=\"_blank\" onclick=\"moreurl(this,{i: \\'9\\', query: \\'python\\', from: \\'dou_search_book\\', sid: 6025284, qcat: \\'1001\\'})\" title=\"Python\\xe7\\x81\\xb0\\xe5\\xb8\\xbd\\xe5\\xad\\x90\" ><img src=\"https://img3.doubanio.com/view/subject/s/public/s4676930.jpg\"></a>\\n    </div>\\n    <div class=\"content\">\\n      <div class=\"title\">\\n        <h3>\\n          <span>[\\xe4\\xb9\\xa6\\xe7\\xb1\\x8d]</span>&nbsp;<a href=\"https://www.douban.com/link2/?url=https%3A%2F%2Fbook.douban.com%2Fsubject%2F6025284%2F&amp;query=python&amp;cat_id=1001&amp;type=search&amp;pos=9\" target=\"_blank\" onclick=\"moreurl(this,{i: \\'9\\', query: \\'python\\', from: \\'dou_search_book\\', sid: 6025284, qcat: \\'1001\\'})\" >Python\\xe7\\x81\\xb0\\xe5\\xb8\\xbd\\xe5\\xad\\x90 </a>\\n        </h3>\\n        \\n  <div class=\"rating-info\">\\n      \\n        <span class=\"allstar40\"></span>\\n        <span class=\"rating_nums\">7.5</span>\\n        <span>(181\\xe4\\xba\\xba\\xe8\\xaf\\x84\\xe4\\xbb\\xb7)</span>\\n\\n        <span class=\"subject-cast\">[\\xe7\\xbe\\x8e] Justin Seitz / \\xe4\\xb8\\x81\\xe8\\xb5\\x9f\\xe5\\x8d\\xbf \\xe8\\xaf\\x91 / \\xe7\\x94\\xb5\\xe5\\xad\\x90\\xe5\\xb7\\xa5\\xe4\\xb8\\x9a\\xe5\\x87\\xba\\xe7\\x89\\x88\\xe7\\xa4\\xbe / 2011</span>\\n  </div>\\n\\n      </div>\\n        <p>\\xe3\\x80\\x8aPython\\xe7\\x81\\xb0\\xe5\\xb8\\xbd\\xe5\\xad\\x90\\xe3\\x80\\x8b\\xe6\\x98\\xaf\\xe7\\x94\\xb1\\xe7\\x9f\\xa5\\xe5\\x90\\x8d\\xe5\\xae\\x89\\xe5\\x85\\xa8\\xe6\\x9c\\xba\\xe6\\x9e\\x84Immunity Inc\\xe7\\x9a\\x84\\xe8\\xb5\\x84\\xe6\\xb7\\xb1\\xe9\\xbb\\x91\\xe5\\xb8\\xbdJustin Seitz\\xe4\\xb8\\xbb\\xe7\\xac\\x94\\xe6\\x92\\xb0\\xe5\\x86\\x99\\xe7\\x9a\\x84\\xe4\\xb8\\x80\\xe6\\x9c\\xac\\xe5\\x85\\xb3\\xe4\\xba\\x8e\\xe7\\xbc\\x96\\xe7\\xa8\\x8b\\xe8\\xaf\\xad\\xe8\\xa8\\x80Python\\xe5\\xa6\\x82\\xe4\\xbd\\x95\\xe8\\xa2\\xab\\xe5\\xb9\\xbf\\xe6\\xb3\\x9b\\xe5\\xba\\x94\\xe7\\x94\\xa8\\xe4\\xba\\x8e\\xe9\\xbb\\x91\\xe5\\xae\\xa2\\xe4\\xb8\\x8e\\xe9\\x80\\x86\\xe5\\x90\\x91\\xe5\\xb7\\xa5\\xe7\\xa8\\x8b\\xe9\\xa2\\x86\\xe5\\x9f\\x9f\\xe7\\x9a\\x84\\xe4\\xb9\\xa6\\xe7\\xb1\\x8d\\xe3\\x80\\x82\\xe8\\x80\\x81\\xe7\\x89\\x8c\\xe9\\xbb\\x91\\xe5\\xae\\xa2\\xef\\xbc\\x8c\\xe5\\x90\\x8c\\xe6\\x97\\xb6\\xe4\\xb9\\x9f...</p>\\n    </div>\\n  </div>\\n\\n              \\n  \\n  <div class=\"result\">\\n    <div class=\"pic\">\\n      <a class=\"nbg\" href=\"https://www.douban.com/link2/?url=https%3A%2F%2Fbook.douban.com%2Fsubject%2F3948354%2F&amp;query=python&amp;cat_id=1001&amp;type=search&amp;pos=10\" target=\"_blank\" onclick=\"moreurl(this,{i: \\'10\\', query: \\'python\\', from: \\'dou_search_book\\', sid: 3948354, qcat: \\'1001\\'})\" title=\"Python\\xe5\\xad\\xa6\\xe4\\xb9\\xa0\\xe6\\x89\\x8b\\xe5\\x86\\x8c\" ><img src=\"https://img1.doubanio.com/view/subject/s/public/s3952568.jpg\"></a>\\n    </div>\\n    <div class=\"content\">\\n      <div class=\"title\">\\n        <h3>\\n          <span>[\\xe4\\xb9\\xa6\\xe7\\xb1\\x8d]</span>&nbsp;<a href=\"https://www.douban.com/link2/?url=https%3A%2F%2Fbook.douban.com%2Fsubject%2F3948354%2F&amp;query=python&amp;cat_id=1001&amp;type=search&amp;pos=10\" target=\"_blank\" onclick=\"moreurl(this,{i: \\'10\\', query: \\'python\\', from: \\'dou_search_book\\', sid: 3948354, qcat: \\'1001\\'})\" >Python\\xe5\\xad\\xa6\\xe4\\xb9\\xa0\\xe6\\x89\\x8b\\xe5\\x86\\x8c </a>\\n        </h3>\\n        \\n  <div class=\"rating-info\">\\n      \\n        <span class=\"allstar40\"></span>\\n        <span class=\"rating_nums\">8.2</span>\\n        <span>(865\\xe4\\xba\\xba\\xe8\\xaf\\x84\\xe4\\xbb\\xb7)</span>\\n\\n        <span class=\"subject-cast\">Mark Lutz / \\xe4\\xbe\\xaf\\xe9\\x9d\\x96 / \\xe6\\x9c\\xba\\xe6\\xa2\\xb0\\xe5\\xb7\\xa5\\xe4\\xb8\\x9a\\xe5\\x87\\xba\\xe7\\x89\\x88\\xe7\\xa4\\xbe / 2009</span>\\n  </div>\\n\\n      </div>\\n        <p>\\xe3\\x80\\x8aPython\\xe5\\xad\\xa6\\xe4\\xb9\\xa0\\xe6\\x89\\x8b\\xe5\\x86\\x8c(\\xe7\\xac\\xac3\\xe7\\x89\\x88)\\xe3\\x80\\x8b\\xe8\\xae\\xb2\\xe8\\xbf\\xb0\\xe4\\xba\\x86\\xef\\xbc\\x9aPython\\xe5\\x8f\\xaf\\xe7\\xa7\\xbb\\xe6\\xa4\\x8d\\xe3\\x80\\x81\\xe5\\x8a\\x9f\\xe8\\x83\\xbd\\xe5\\xbc\\xba\\xe5\\xa4\\xa7\\xe3\\x80\\x81\\xe6\\x98\\x93\\xe4\\xba\\x8e\\xe4\\xbd\\xbf\\xe7\\x94\\xa8\\xef\\xbc\\x8c\\xe6\\x98\\xaf\\xe7\\xbc\\x96\\xe5\\x86\\x99\\xe7\\x8b\\xac\\xe7\\xab\\x8b\\xe5\\xba\\x94\\xe7\\x94\\xa8\\xe7\\xa8\\x8b\\xe5\\xba\\x8f\\xe5\\x92\\x8c\\xe8\\x84\\x9a\\xe6\\x9c\\xac\\xe5\\xba\\x94\\xe7\\x94\\xa8\\xe7\\xa8\\x8b\\xe5\\xba\\x8f\\xe7\\x9a\\x84\\xe7\\x90\\x86\\xe6\\x83\\xb3\\xe9\\x80\\x89\\xe6\\x8b\\xa9\\xe3\\x80\\x82\\xe6\\x97\\xa0\\xe8\\xae\\xba\\xe4\\xbd\\xa0\\xe6\\x98\\xaf\\xe5\\x88\\x9a\\xe6\\x8e\\xa5\\xe8\\xa7\\xa6\\xe7\\xbc\\x96\\xe7\\xa8\\x8b\\xe6\\x88\\x96\\xe8\\x80\\x85\\xe5\\x88\\x9a\\xe6\\x8e\\xa5\\xe8\\xa7\\xa6Python\\xef\\xbc\\x8c\\xe9\\x80\\x9a\\xe8\\xbf\\x87\\xe5\\xad\\xa6\\xe4\\xb9\\xa0\\xe3\\x80\\x8a...</p>\\n    </div>\\n  </div>\\n\\n              \\n  \\n  <div class=\"result\">\\n    <div class=\"pic\">\\n      <a class=\"nbg\" href=\"https://www.douban.com/link2/?url=https%3A%2F%2Fbook.douban.com%2Fsubject%2F26264642%2F&amp;query=python&amp;cat_id=1001&amp;type=search&amp;pos=11\" target=\"_blank\" onclick=\"moreurl(this,{i: \\'11\\', query: \\'python\\', from: \\'dou_search_book\\', sid: 26264642, qcat: \\'1001\\'})\" title=\"&#34;\\xe7\\xac\\xa8\\xe5\\x8a\\x9e\\xe6\\xb3\\x95&#34;\\xe5\\xad\\xa6Python\" ><img src=\"https://img1.doubanio.com/view/subject/s/public/s27836847.jpg\"></a>\\n    </div>\\n    <div class=\"content\">\\n      <div class=\"title\">\\n        <h3>\\n          <span>[\\xe4\\xb9\\xa6\\xe7\\xb1\\x8d]</span>&nbsp;<a href=\"https://www.douban.com/link2/?url=https%3A%2F%2Fbook.douban.com%2Fsubject%2F26264642%2F&amp;query=python&amp;cat_id=1001&amp;type=search&amp;pos=11\" target=\"_blank\" onclick=\"moreurl(this,{i: \\'11\\', query: \\'python\\', from: \\'dou_search_book\\', sid: 26264642, qcat: \\'1001\\'})\" >&#34;\\xe7\\xac\\xa8\\xe5\\x8a\\x9e\\xe6\\xb3\\x95&#34;\\xe5\\xad\\xa6Python </a>\\n            <span class=\"ic-mark ic-book-mark\">\\xe5\\x8f\\xaf\\xe8\\xaf\\x95\\xe8\\xaf\\xbb</span>\\n        </h3>\\n        \\n  <div class=\"rating-info\">\\n      \\n        <span class=\"allstar40\"></span>\\n        <span class=\"rating_nums\">7.9</span>\\n        <span>(533\\xe4\\xba\\xba\\xe8\\xaf\\x84\\xe4\\xbb\\xb7)</span>\\n\\n        <span class=\"subject-cast\">\\xe8\\x82\\x96 (Zed A.Shaw) / \\xe7\\x8e\\x8b\\xe5\\xb7\\x8d\\xe5\\xb7\\x8d / \\xe4\\xba\\xba\\xe6\\xb0\\x91\\xe9\\x82\\xae\\xe7\\x94\\xb5\\xe5\\x87\\xba\\xe7\\x89\\x88\\xe7\\xa4\\xbe / 2014</span>\\n  </div>\\n\\n      </div>\\n        <p>\\xe6\\x9c\\xac\\xe4\\xb9\\xa6\\xe6\\x98\\xaf\\xe4\\xb8\\x80\\xe6\\x9c\\xacPython\\xe5\\x85\\xa5\\xe9\\x97\\xa8\\xe4\\xb9\\xa6\\xe7\\xb1\\x8d\\xef\\xbc\\x8c\\xe9\\x80\\x82\\xe5\\x90\\x88\\xe5\\xaf\\xb9\\xe8\\xae\\xa1\\xe7\\xae\\x97\\xe6\\x9c\\xba\\xe4\\xba\\x86\\xe8\\xa7\\xa3\\xe4\\xb8\\x8d\\xe5\\xa4\\x9a\\xef\\xbc\\x8c\\xe6\\xb2\\xa1\\xe6\\x9c\\x89\\xe5\\xad\\xa6\\xe8\\xbf\\x87\\xe7\\xbc\\x96\\xe7\\xa8\\x8b\\xef\\xbc\\x8c\\xe4\\xbd\\x86\\xe5\\xaf\\xb9\\xe7\\xbc\\x96\\xe7\\xa8\\x8b\\xe6\\x84\\x9f\\xe5\\x85\\xb4\\xe8\\xb6\\xa3\\xe7\\x9a\\x84\\xe8\\xaf\\xbb\\xe8\\x80\\x85\\xe5\\xad\\xa6\\xe4\\xb9\\xa0\\xe4\\xbd\\xbf\\xe7\\x94\\xa8\\xe3\\x80\\x82\\xe8\\xbf\\x99\\xe6\\x9c\\xac\\xe4\\xb9\\xa6\\xe4\\xbb\\xa5\\xe4\\xb9\\xa0\\xe9\\xa2\\x98\\xe7\\x9a\\x84\\xe6\\x96\\xb9\\xe5\\xbc\\x8f\\xe5\\xbc\\x95\\xe5\\xaf\\xbc\\xe8\\xaf\\xbb\\xe8\\x80\\x85\\xe4\\xb8\\x80\\xe6\\xad\\xa5\\xe4\\xb8\\x80\\xe6\\xad\\xa5\\xe5\\xad\\xa6\\xe4\\xb9\\xa0\\xe7\\xbc\\x96\\xe7\\xa8\\x8b\\xef\\xbc\\x8c\\xe4\\xbb\\x8e\\xe7\\xae\\x80\\xe5\\x8d\\x95\\xe7\\x9a\\x84\\xe6\\x89\\x93\\xe5\\x8d\\xb0\\xe4\\xb8\\x80\\xe7\\x9b\\xb4\\xe8\\xae\\xb2\\xe5\\x88\\xb0...</p>\\n    </div>\\n  </div>\\n\\n              \\n  \\n  <div class=\"result\">\\n    <div class=\"pic\">\\n      <a class=\"nbg\" href=\"https://www.douban.com/link2/?url=https%3A%2F%2Fbook.douban.com%2Fsubject%2F26005639%2F&amp;query=python&amp;cat_id=1001&amp;type=search&amp;pos=12\" target=\"_blank\" onclick=\"moreurl(this,{i: \\'12\\', query: \\'python\\', from: \\'dou_search_book\\', sid: 26005639, qcat: \\'1001\\'})\" title=\"\\xe7\\x88\\xb6\\xe4\\xb8\\x8e\\xe5\\xad\\x90\\xe7\\x9a\\x84\\xe7\\xbc\\x96\\xe7\\xa8\\x8b\\xe4\\xb9\\x8b\\xe6\\x97\\x85\" ><img src=\"https://img3.doubanio.com/view/subject/s/public/s28825823.jpg\"></a>\\n    </div>\\n    <div class=\"content\">\\n      <div class=\"title\">\\n        <h3>\\n          <span>[\\xe4\\xb9\\xa6\\xe7\\xb1\\x8d]</span>&nbsp;<a href=\"https://www.douban.com/link2/?url=https%3A%2F%2Fbook.douban.com%2Fsubject%2F26005639%2F&amp;query=python&amp;cat_id=1001&amp;type=search&amp;pos=12\" target=\"_blank\" onclick=\"moreurl(this,{i: \\'12\\', query: \\'python\\', from: \\'dou_search_book\\', sid: 26005639, qcat: \\'1001\\'})\" >\\xe7\\x88\\xb6\\xe4\\xb8\\x8e\\xe5\\xad\\x90\\xe7\\x9a\\x84\\xe7\\xbc\\x96\\xe7\\xa8\\x8b\\xe4\\xb9\\x8b\\xe6\\x97\\x85 </a>\\n            <span class=\"ic-mark ic-book-mark\">\\xe5\\x8f\\xaf\\xe8\\xaf\\x95\\xe8\\xaf\\xbb</span>\\n            <span class=\"ic-mark ic-read-mark\">\\xe6\\x9c\\x89\\xe7\\x94\\xb5\\xe5\\xad\\x90\\xe7\\x89\\x88</span>\\n        </h3>\\n        \\n  <div class=\"rating-info\">\\n      \\n        <span class=\"allstar45\"></span>\\n        <span class=\"rating_nums\">8.5</span>\\n        <span>(151\\xe4\\xba\\xba\\xe8\\xaf\\x84\\xe4\\xbb\\xb7)</span>\\n\\n        <span class=\"subject-cast\">\\xe6\\xa1\\x91\\xe5\\xbe\\xb7 (Warren Sande) / \\xe8\\x8b\\x8f\\xe9\\x87\\x91\\xe5\\x9b\\xbd / \\xe4\\xba\\xba\\xe6\\xb0\\x91\\xe9\\x82\\xae\\xe7\\x94\\xb5\\xe5\\x87\\xba\\xe7\\x89\\x88\\xe7\\xa4\\xbe / 2014</span>\\n  </div>\\n\\n      </div>\\n        <p>\\xe6\\x9c\\xac\\xe4\\xb9\\xa6\\xe6\\x98\\xaf\\xe4\\xb8\\x80\\xe6\\x9c\\xac\\xe5\\xae\\xb6\\xe9\\x95\\xbf\\xe4\\xb8\\x8e\\xe5\\xad\\xa9\\xe5\\xad\\x90\\xe5\\x85\\xb1\\xe5\\x90\\x8c\\xe5\\xad\\xa6\\xe4\\xb9\\xa0\\xe7\\xbc\\x96\\xe7\\xa8\\x8b\\xe7\\x9a\\x84\\xe5\\x85\\xa5\\xe9\\x97\\xa8\\xe4\\xb9\\xa6\\xe3\\x80\\x82\\xe4\\xbd\\x9c\\xe8\\x80\\x85\\xe6\\x98\\xaf\\xe4\\xb8\\x80\\xe5\\xaf\\xb9\\xe7\\x88\\xb6\\xe5\\xad\\x90\\xef\\xbc\\x8c\\xe4\\xbb\\x96\\xe4\\xbb\\xac\\xe4\\xbb\\xa5Python\\xe8\\xaf\\xad\\xe8\\xa8\\x80\\xe4\\xb8\\xba\\xe4\\xbe\\x8b\\xef\\xbc\\x8c\\xe8\\xaf\\xa6\\xe5\\xb0\\xbd\\xe7\\xbb\\x86\\xe8\\x87\\xb4\\xe5\\x9c\\xb0\\xe4\\xbb\\x8b\\xe7\\xbb\\x8d\\xe4\\xba\\x86Python\\xe5\\xa6\\x82\\xe4\\xbd\\x95\\xe5\\xae\\x89\\xe8\\xa3\\x85\\xe3\\x80\\x81\\xe5\\xad\\x97\\xe7\\xac\\xa6\\xe4\\xb8\\xb2\\xe5\\x92\\x8c\\xe6\\x93\\x8d\\xe4\\xbd\\x9c\\xe7\\xac\\xa6\\xe7\\xad\\x89\\xe7\\xa8\\x8b\\xe5\\xba\\x8f\\xe8\\xae\\xbe\\xe8\\xae\\xa1\\xe7\\x9a\\x84\\xe5\\x9f\\xba\\xe6\\x9c\\xac\\xe6\\xa6\\x82\\xe5\\xbf\\xb5\\xef\\xbc\\x8c\\xe4\\xbb\\x8b\\xe7\\xbb\\x8d\\xe4\\xba\\x86\\xe6\\x9d\\xa1...</p>\\n    </div>\\n  </div>\\n\\n              \\n  \\n  <div class=\"result\">\\n    <div class=\"pic\">\\n      <a class=\"nbg\" href=\"https://www.douban.com/link2/?url=https%3A%2F%2Fbook.douban.com%2Fsubject%2F26740503%2F&amp;query=python&amp;cat_id=1001&amp;type=search&amp;pos=13\" target=\"_blank\" onclick=\"moreurl(this,{i: \\'13\\', query: \\'python\\', from: \\'dou_search_book\\', sid: 26740503, qcat: \\'1001\\'})\" title=\"Python\\xe7\\xbd\\x91\\xe7\\xbb\\x9c\\xe6\\x95\\xb0\\xe6\\x8d\\xae\\xe9\\x87\\x87\\xe9\\x9b\\x86\" ><img src=\"https://img1.doubanio.com/view/subject/s/public/s29086659.jpg\"></a>\\n    </div>\\n    <div class=\"content\">\\n      <div class=\"title\">\\n        <h3>\\n          <span>[\\xe4\\xb9\\xa6\\xe7\\xb1\\x8d]</span>&nbsp;<a href=\"https://www.douban.com/link2/?url=https%3A%2F%2Fbook.douban.com%2Fsubject%2F26740503%2F&amp;query=python&amp;cat_id=1001&amp;type=search&amp;pos=13\" target=\"_blank\" onclick=\"moreurl(this,{i: \\'13\\', query: \\'python\\', from: \\'dou_search_book\\', sid: 26740503, qcat: \\'1001\\'})\" >Python\\xe7\\xbd\\x91\\xe7\\xbb\\x9c\\xe6\\x95\\xb0\\xe6\\x8d\\xae\\xe9\\x87\\x87\\xe9\\x9b\\x86 </a>\\n            <span class=\"ic-mark ic-book-mark\">\\xe5\\x8f\\xaf\\xe8\\xaf\\x95\\xe8\\xaf\\xbb</span>\\n            <span class=\"ic-mark ic-read-mark\">\\xe6\\x9c\\x89\\xe7\\x94\\xb5\\xe5\\xad\\x90\\xe7\\x89\\x88</span>\\n        </h3>\\n        \\n  <div class=\"rating-info\">\\n      \\n        <span class=\"allstar40\"></span>\\n        <span class=\"rating_nums\">7.7</span>\\n        <span>(317\\xe4\\xba\\xba\\xe8\\xaf\\x84\\xe4\\xbb\\xb7)</span>\\n\\n        <span class=\"subject-cast\">\\xe7\\xb1\\xb3\\xe5\\x88\\x87\\xe5\\xb0\\x94 (Ryan Mitchell) / \\xe9\\x99\\xb6\\xe4\\xbf\\x8a\\xe6\\x9d\\xb0 / \\xe4\\xba\\xba\\xe6\\xb0\\x91\\xe9\\x82\\xae\\xe7\\x94\\xb5\\xe5\\x87\\xba\\xe7\\x89\\x88\\xe7\\xa4\\xbe / 2016</span>\\n  </div>\\n\\n      </div>\\n        <p>\\xe6\\x9c\\xac\\xe4\\xb9\\xa6\\xe9\\x87\\x87\\xe7\\x94\\xa8\\xe7\\xae\\x80\\xe6\\xb4\\x81\\xe5\\xbc\\xba\\xe5\\xa4\\xa7\\xe7\\x9a\\x84Python\\xe8\\xaf\\xad\\xe8\\xa8\\x80\\xef\\xbc\\x8c\\xe4\\xbb\\x8b\\xe7\\xbb\\x8d\\xe4\\xba\\x86\\xe7\\xbd\\x91\\xe7\\xbb\\x9c\\xe6\\x95\\xb0\\xe6\\x8d\\xae\\xe9\\x87\\x87\\xe9\\x9b\\x86\\xef\\xbc\\x8c\\xe5\\xb9\\xb6\\xe4\\xb8\\xba\\xe9\\x87\\x87\\xe9\\x9b\\x86\\xe6\\x96\\xb0\\xe5\\xbc\\x8f\\xe7\\xbd\\x91\\xe7\\xbb\\x9c\\xe4\\xb8\\xad\\xe7\\x9a\\x84\\xe5\\x90\\x84\\xe7\\xa7\\x8d\\xe6\\x95\\xb0\\xe6\\x8d\\xae\\xe7\\xb1\\xbb\\xe5\\x9e\\x8b\\xe6\\x8f\\x90\\xe4\\xbe\\x9b\\xe4\\xba\\x86\\xe5\\x85\\xa8\\xe9\\x9d\\xa2\\xe7\\x9a\\x84\\xe6\\x8c\\x87\\xe5\\xaf\\xbc\\xe3\\x80\\x82\\xe7\\xac\\xac\\xe4\\xb8\\x80\\xe9\\x83\\xa8\\xe5\\x88\\x86\\xe9\\x87\\x8d\\xe7\\x82\\xb9\\xe4\\xbb\\x8b\\xe7\\xbb\\x8d\\xe7\\xbd\\x91\\xe7\\xbb\\x9c\\xe6\\x95\\xb0\\xe6\\x8d\\xae\\xe9\\x87\\x87\\xe9\\x9b\\x86\\xe7\\x9a\\x84\\xe5\\x9f\\xba\\xe6\\x9c\\xac\\xe5\\x8e\\x9f\\xe7\\x90\\x86\\xef\\xbc\\x9a\\xe5\\xa6\\x82\\xe4\\xbd\\x95\\xe7\\x94\\xa8Python\\xe4\\xbb\\x8e\\xe7\\xbd\\x91...</p>\\n    </div>\\n  </div>\\n\\n              \\n  \\n  <div class=\"result\">\\n    <div class=\"pic\">\\n      <a class=\"nbg\" href=\"https://www.douban.com/link2/?url=https%3A%2F%2Fbook.douban.com%2Fsubject%2F2152386%2F&amp;query=python&amp;cat_id=1001&amp;type=search&amp;pos=14\" target=\"_blank\" onclick=\"moreurl(this,{i: \\'14\\', query: \\'python\\', from: \\'dou_search_book\\', sid: 2152386, qcat: \\'1001\\'})\" title=\"Python\\xe7\\xbd\\x91\\xe7\\xbb\\x9c\\xe7\\xbc\\x96\\xe7\\xa8\\x8b\\xe5\\x9f\\xba\\xe7\\xa1\\x80\" ><img src=\"https://img3.doubanio.com/view/subject/s/public/s2604186.jpg\"></a>\\n    </div>\\n    <div class=\"content\">\\n      <div class=\"title\">\\n        <h3>\\n          <span>[\\xe4\\xb9\\xa6\\xe7\\xb1\\x8d]</span>&nbsp;<a href=\"https://www.douban.com/link2/?url=https%3A%2F%2Fbook.douban.com%2Fsubject%2F2152386%2F&amp;query=python&amp;cat_id=1001&amp;type=search&amp;pos=14\" target=\"_blank\" onclick=\"moreurl(this,{i: \\'14\\', query: \\'python\\', from: \\'dou_search_book\\', sid: 2152386, qcat: \\'1001\\'})\" >Python\\xe7\\xbd\\x91\\xe7\\xbb\\x9c\\xe7\\xbc\\x96\\xe7\\xa8\\x8b\\xe5\\x9f\\xba\\xe7\\xa1\\x80 </a>\\n        </h3>\\n        \\n  <div class=\"rating-info\">\\n      \\n        <span class=\"allstar35\"></span>\\n        <span class=\"rating_nums\">7.2</span>\\n        <span>(294\\xe4\\xba\\xba\\xe8\\xaf\\x84\\xe4\\xbb\\xb7)</span>\\n\\n        <span class=\"subject-cast\">John Goerzen / \\xe8\\x8e\\xab\\xe8\\xbf\\x9f \\xe7\\xad\\x89 / \\xe7\\x94\\xb5\\xe5\\xad\\x90\\xe5\\xb7\\xa5\\xe4\\xb8\\x9a\\xe5\\x87\\xba\\xe7\\x89\\x88\\xe7\\xa4\\xbe / 2007</span>\\n  </div>\\n\\n      </div>\\n        <p>\\xe3\\x80\\x8aPython\\xe7\\xbd\\x91\\xe7\\xbb\\x9c\\xe7\\xbc\\x96\\xe7\\xa8\\x8b\\xe5\\x9f\\xba\\xe7\\xa1\\x80\\xe3\\x80\\x8b\\xe5\\x8f\\xaf\\xe4\\xbb\\xa5\\xe4\\xbd\\x9c\\xe4\\xb8\\xba\\xe5\\x90\\x84\\xe5\\xb1\\x82\\xe6\\xac\\xa1Python\\xe3\\x80\\x81Web\\xe5\\x92\\x8c\\xe7\\xbd\\x91\\xe7\\xbb\\x9c\\xe7\\xa8\\x8b\\xe5\\xba\\x8f\\xe7\\x9a\\x84\\xe5\\xbc\\x80\\xe5\\x8f\\x91\\xe4\\xba\\xba\\xe5\\x91\\x98\\xe7\\x9a\\x84\\xe5\\x8f\\x82\\xe8\\x80\\x83\\xe4\\xb9\\xa6\\xef\\xbc\\x8c\\xe5\\x9c\\xa8\\xe5\\xae\\x9e\\xe9\\x99\\x85\\xe5\\xb7\\xa5\\xe4\\xbd\\x9c\\xe4\\xb8\\xad\\xe4\\xbd\\xbf\\xe7\\x94\\xa8\\xe4\\xb9\\xa6\\xe4\\xb8\\xad\\xe7\\x9a\\x84\\xe6\\x8a\\x80\\xe6\\x9c\\xaf\\xef\\xbc\\x8c\\xe6\\x95\\x88\\xe6\\x9e\\x9c\\xe6\\x9b\\xb4\\xe4\\xbd\\xb3\\xe3\\x80\\x82</p>\\n    </div>\\n  </div>\\n\\n              \\n  \\n  <div class=\"result\">\\n    <div class=\"pic\">\\n      <a class=\"nbg\" href=\"https://www.douban.com/link2/?url=https%3A%2F%2Fbook.douban.com%2Fsubject%2F26709315%2F&amp;query=python&amp;cat_id=1001&amp;type=search&amp;pos=15\" target=\"_blank\" onclick=\"moreurl(this,{i: \\'15\\', query: \\'python\\', from: \\'dou_search_book\\', sid: 26709315, qcat: \\'1001\\'})\" title=\"Effective Python\" ><img src=\"https://img3.doubanio.com/view/subject/s/public/s28384052.jpg\"></a>\\n    </div>\\n    <div class=\"content\">\\n      <div class=\"title\">\\n        <h3>\\n          <span>[\\xe4\\xb9\\xa6\\xe7\\xb1\\x8d]</span>&nbsp;<a href=\"https://www.douban.com/link2/?url=https%3A%2F%2Fbook.douban.com%2Fsubject%2F26709315%2F&amp;query=python&amp;cat_id=1001&amp;type=search&amp;pos=15\" target=\"_blank\" onclick=\"moreurl(this,{i: \\'15\\', query: \\'python\\', from: \\'dou_search_book\\', sid: 26709315, qcat: \\'1001\\'})\" >Effective Python </a>\\n        </h3>\\n        \\n  <div class=\"rating-info\">\\n      \\n        <span class=\"allstar45\"></span>\\n        <span class=\"rating_nums\">8.8</span>\\n        <span>(141\\xe4\\xba\\xba\\xe8\\xaf\\x84\\xe4\\xbb\\xb7)</span>\\n\\n        <span class=\"subject-cast\">\\xe5\\xb8\\x83\\xe9\\x9b\\xb7\\xe7\\x89\\xb9\\xc2\\xb7\\xe6\\x96\\xaf\\xe6\\x8b\\x89\\xe7\\x89\\xb9\\xe9\\x87\\x91\\xef\\xbc\\x88Brett Slatkin\\xef\\xbc\\x89 / \\xe7\\x88\\xb1\\xe9\\xa3\\x9e\\xe7\\xbf\\x94 / \\xe6\\x9c\\xba\\xe6\\xa2\\xb0\\xe5\\xb7\\xa5\\xe4\\xb8\\x9a\\xe5\\x87\\xba\\xe7\\x89\\x88\\xe7\\xa4\\xbe / 2016</span>\\n  </div>\\n\\n      </div>\\n        <p>\\xe7\\x94\\xa8Python\\xe7\\xbc\\x96\\xe5\\x86\\x99\\xe7\\xa8\\x8b\\xe5\\xba\\x8f\\xef\\xbc\\x8c\\xe6\\x98\\xaf\\xe7\\x9b\\xb8\\xe5\\xbd\\x93\\xe5\\xae\\xb9\\xe6\\x98\\x93\\xe7\\x9a\\x84\\xef\\xbc\\x8c\\xe6\\x89\\x80\\xe4\\xbb\\xa5\\xe8\\xbf\\x99\\xe9\\x97\\xa8\\xe8\\xaf\\xad\\xe8\\xa8\\x80\\xe9\\x9d\\x9e\\xe5\\xb8\\xb8\\xe6\\xb5\\x81\\xe8\\xa1\\x8c\\xe3\\x80\\x82\\xe4\\xbd\\x86\\xe8\\x8b\\xa5\\xe6\\x83\\xb3\\xe6\\x8e\\x8c\\xe6\\x8f\\xa1Python\\xe6\\x89\\x80\\xe7\\x89\\xb9\\xe6\\x9c\\x89\\xe7\\x9a\\x84\\xe4\\xbc\\x98\\xe5\\x8a\\xbf\\xe3\\x80\\x81\\xe9\\xad\\x85\\xe5\\x8a\\x9b\\xe5\\x92\\x8c\\xe8\\xa1\\xa8\\xe8\\xbe\\xbe\\xe8\\x83\\xbd\\xe5\\x8a\\x9b\\xef\\xbc\\x8c\\xe5\\x88\\x99\\xe7\\x9b\\xb8\\xe5\\xbd\\x93\\xe5\\x9b\\xb0\\xe9\\x9a\\xbe\\xef\\xbc\\x8c\\xe8\\x80\\x8c\\xe4\\xb8\\x94\\xe8\\xaf\\xad\\xe8\\xa8\\x80\\xe4\\xb8\\xad\\xe8\\xbf\\x98\\xe6\\x9c\\x89\\xe5\\xbe\\x88\\xe5\\xa4\\x9a\\xe9\\x9a\\x90\\xe8\\x97\\x8f\\xe7\\x9a\\x84\\xe9\\x99\\xb7\\xe9\\x98\\xb1\\xef\\xbc\\x8c\\xe5\\xae\\xb9\\xe6\\x98\\x93\\xe4\\xbb\\xa4\\xe5\\xbc\\x80\\xe5\\x8f\\x91\\xe8\\x80\\x85\\xe7\\x8a\\xaf...</p>\\n    </div>\\n  </div>\\n\\n              \\n  \\n  <div class=\"result\">\\n    <div class=\"pic\">\\n      <a class=\"nbg\" href=\"https://www.douban.com/link2/?url=https%3A%2F%2Fbook.douban.com%2Fsubject%2F26340992%2F&amp;query=python&amp;cat_id=1001&amp;type=search&amp;pos=16\" target=\"_blank\" onclick=\"moreurl(this,{i: \\'16\\', query: \\'python\\', from: \\'dou_search_book\\', sid: 26340992, qcat: \\'1001\\'})\" title=\"\\xe8\\xb4\\x9d\\xe5\\x8f\\xb6\\xe6\\x96\\xaf\\xe6\\x80\\x9d\\xe7\\xbb\\xb4\" ><img src=\"https://img3.doubanio.com/view/subject/s/public/s28023092.jpg\"></a>\\n    </div>\\n    <div class=\"content\">\\n      <div class=\"title\">\\n        <h3>\\n          <span>[\\xe4\\xb9\\xa6\\xe7\\xb1\\x8d]</span>&nbsp;<a href=\"https://www.douban.com/link2/?url=https%3A%2F%2Fbook.douban.com%2Fsubject%2F26340992%2F&amp;query=python&amp;cat_id=1001&amp;type=search&amp;pos=16\" target=\"_blank\" onclick=\"moreurl(this,{i: \\'16\\', query: \\'python\\', from: \\'dou_search_book\\', sid: 26340992, qcat: \\'1001\\'})\" >\\xe8\\xb4\\x9d\\xe5\\x8f\\xb6\\xe6\\x96\\xaf\\xe6\\x80\\x9d\\xe7\\xbb\\xb4 </a>\\n        </h3>\\n        \\n  <div class=\"rating-info\">\\n      \\n        <span class=\"allstar35\"></span>\\n        <span class=\"rating_nums\">7.4</span>\\n        <span>(77\\xe4\\xba\\xba\\xe8\\xaf\\x84\\xe4\\xbb\\xb7)</span>\\n\\n        <span class=\"subject-cast\">[\\xe7\\xbe\\x8e]Allen B. Downey\\xef\\xbc\\x88\\xe8\\x89\\xbe\\xe4\\xbc\\xa6\\xc2\\xb7\\xe5\\x94\\x90\\xe5\\xb0\\xbc\\xef\\xbc\\x89 / \\xe8\\xae\\xb8\\xe6\\x9d\\xa8\\xe6\\xaf\\x85 / \\xe4\\xba\\xba\\xe6\\xb0\\x91\\xe9\\x82\\xae\\xe7\\x94\\xb5\\xe5\\x87\\xba\\xe7\\x89\\x88\\xe7\\xa4\\xbe / 2015</span>\\n  </div>\\n\\n      </div>\\n        <p>\\xe8\\xbf\\x99\\xe6\\x9c\\xac\\xe4\\xb9\\xa6\\xe5\\xb8\\xae\\xe5\\x8a\\xa9\\xe9\\x82\\xa3\\xe4\\xba\\x9b\\xe5\\xb8\\x8c\\xe6\\x9c\\x9b\\xe7\\x94\\xa8\\xe6\\x95\\xb0\\xe5\\xad\\xa6\\xe5\\xb7\\xa5\\xe5\\x85\\xb7\\xe8\\xa7\\xa3\\xe5\\x86\\xb3\\xe5\\xae\\x9e\\xe9\\x99\\x85\\xe9\\x97\\xae\\xe9\\xa2\\x98\\xe7\\x9a\\x84\\xe4\\xba\\xba\\xe4\\xbb\\xac\\xef\\xbc\\x8c\\xe4\\xbb\\x85\\xe6\\x9c\\x89\\xe7\\x9a\\x84\\xe8\\xa6\\x81\\xe6\\xb1\\x82\\xe5\\x8f\\xaf\\xe8\\x83\\xbd\\xe5\\xb0\\xb1\\xe6\\x98\\xaf\\xe6\\x87\\x82\\xe4\\xb8\\x80\\xe7\\x82\\xb9\\xe6\\xa6\\x82\\xe7\\x8e\\x87\\xe7\\x9f\\xa5\\xe8\\xaf\\x86\\xe5\\x92\\x8c\\xe7\\xa8\\x8b\\xe5\\xba\\x8f\\xe8\\xae\\xbe\\xe8\\xae\\xa1\\xe3\\x80\\x82\\xe8\\x80\\x8c\\xe8\\xb4\\x9d\\xe5\\x8f\\xb6\\xe6\\x96\\xaf\\xe6\\x96\\xb9\\xe6\\xb3\\x95\\xe6\\x98\\xaf\\xe4\\xb8\\x80\\xe7\\xa7\\x8d\\xe5\\xb8\\xb8\\xe8\\xa7\\x81\\xe7\\x9a\\x84\\xe5\\x88\\xa9\\xe7\\x94\\xa8\\xe6\\xa6\\x82\\xe7\\x8e\\x87\\xe5\\xad\\xa6\\xe7\\x9f\\xa5\\xe8\\xaf\\x86\\xe5\\x8e\\xbb\\xe8\\xa7\\xa3\\xe5\\x86\\xb3\\xe4\\xb8\\x8d\\xe7\\xa1\\xae\\xe5\\xae\\x9a\\xe6\\x80\\xa7\\xe9\\x97\\xae\\xe9\\xa2\\x98\\xe7\\x9a\\x84\\xe6\\x95\\xb0\\xe5\\xad\\xa6\\xe6\\x96\\xb9...</p>\\n    </div>\\n  </div>\\n\\n              \\n  \\n  <div class=\"result\">\\n    <div class=\"pic\">\\n      <a class=\"nbg\" href=\"https://www.douban.com/link2/?url=https%3A%2F%2Fbook.douban.com%2Fsubject%2F4212921%2F&amp;query=python&amp;cat_id=1001&amp;type=search&amp;pos=17\" target=\"_blank\" onclick=\"moreurl(this,{i: \\'17\\', query: \\'python\\', from: \\'dou_search_book\\', sid: 4212921, qcat: \\'1001\\'})\" title=\"Python\\xe9\\xab\\x98\\xe7\\xba\\xa7\\xe7\\xbc\\x96\\xe7\\xa8\\x8b\" ><img src=\"https://img3.doubanio.com/view/subject/s/public/s4163751.jpg\"></a>\\n    </div>\\n    <div class=\"content\">\\n      <div class=\"title\">\\n        <h3>\\n          <span>[\\xe4\\xb9\\xa6\\xe7\\xb1\\x8d]</span>&nbsp;<a href=\"https://www.douban.com/link2/?url=https%3A%2F%2Fbook.douban.com%2Fsubject%2F4212921%2F&amp;query=python&amp;cat_id=1001&amp;type=search&amp;pos=17\" target=\"_blank\" onclick=\"moreurl(this,{i: \\'17\\', query: \\'python\\', from: \\'dou_search_book\\', sid: 4212921, qcat: \\'1001\\'})\" >Python\\xe9\\xab\\x98\\xe7\\xba\\xa7\\xe7\\xbc\\x96\\xe7\\xa8\\x8b </a>\\n        </h3>\\n        \\n  <div class=\"rating-info\">\\n      \\n        <span class=\"allstar40\"></span>\\n        <span class=\"rating_nums\">7.6</span>\\n        <span>(235\\xe4\\xba\\xba\\xe8\\xaf\\x84\\xe4\\xbb\\xb7)</span>\\n\\n        <span class=\"subject-cast\">Tarek Ziad\\xc3\\xa9 / \\xe5\\xa7\\x9a\\xe5\\x86\\x9b / \\xe4\\xba\\xba\\xe6\\xb0\\x91\\xe9\\x82\\xae\\xe7\\x94\\xb5\\xe5\\x87\\xba\\xe7\\x89\\x88\\xe7\\xa4\\xbe / 2010</span>\\n  </div>\\n\\n      </div>\\n        <p>\\xe3\\x80\\x8aPython\\xe9\\xab\\x98\\xe7\\xba\\xa7\\xe7\\xbc\\x96\\xe7\\xa8\\x8b\\xe3\\x80\\x8b\\xe9\\x80\\x9a\\xe8\\xbf\\x87\\xe5\\xa4\\xa7\\xe9\\x87\\x8f\\xe7\\x9a\\x84\\xe5\\xae\\x9e\\xe4\\xbe\\x8b\\xef\\xbc\\x8c\\xe4\\xbb\\x8b\\xe7\\xbb\\x8d\\xe4\\xba\\x86Python\\xe8\\xaf\\xad\\xe8\\xa8\\x80\\xe7\\x9a\\x84\\xe6\\x9c\\x80\\xe4\\xbd\\xb3\\xe5\\xae\\x9e\\xe8\\xb7\\xb5\\xe5\\x92\\x8c\\xe6\\x95\\x8f\\xe6\\x8d\\xb7\\xe5\\xbc\\x80\\xe5\\x8f\\x91\\xe6\\x96\\xb9\\xe6\\xb3\\x95\\xef\\xbc\\x8c\\xe5\\xb9\\xb6\\xe6\\xb6\\x89\\xe5\\x8f\\x8a\\xe6\\x95\\xb4\\xe4\\xb8\\xaa\\xe8\\xbd\\xaf\\xe4\\xbb\\xb6\\xe7\\x94\\x9f\\xe5\\x91\\xbd\\xe5\\x91\\xa8\\xe6\\x9c\\x9f\\xe7\\x9a\\x84\\xe9\\xab\\x98\\xe7\\xba\\xa7\\xe4\\xb8\\xbb\\xe9\\xa2\\x98\\xef\\xbc\\x8c\\xe8\\xaf\\xb8\\xe5\\xa6\\x82\\xe6\\x8c\\x81\\xe7\\xbb\\xad\\xe9\\x9b\\x86\\xe6\\x88\\x90\\xe3\\x80\\x81\\xe7\\x89\\x88\\xe6\\x9c\\xac\\xe6\\x8e\\xa7\\xe5\\x88\\xb6\\xe7\\xb3\\xbb\\xe7\\xbb\\x9f\\xe3\\x80\\x81\\xe5\\x8c\\x85\\xe7\\x9a\\x84\\xe5\\x8f\\x91\\xe8\\xa1\\x8c\\xe5\\x92\\x8c\\xe5\\x88\\x86\\xe5\\x8f\\x91\\xe3\\x80\\x81\\xe5\\xbc\\x80...</p>\\n    </div>\\n  </div>\\n\\n              \\n  \\n  <div class=\"result\">\\n    <div class=\"pic\">\\n      <a class=\"nbg\" href=\"https://www.douban.com/link2/?url=https%3A%2F%2Fbook.douban.com%2Fsubject%2F26675127%2F&amp;query=python&amp;cat_id=1001&amp;type=search&amp;pos=18\" target=\"_blank\" onclick=\"moreurl(this,{i: \\'18\\', query: \\'python\\', from: \\'dou_search_book\\', sid: 26675127, qcat: \\'1001\\'})\" title=\"Python\\xe8\\xaf\\xad\\xe8\\xa8\\x80\\xe5\\x8f\\x8a\\xe5\\x85\\xb6\\xe5\\xba\\x94\\xe7\\x94\\xa8\" ><img src=\"https://img3.doubanio.com/view/subject/s/public/s28352586.jpg\"></a>\\n    </div>\\n    <div class=\"content\">\\n      <div class=\"title\">\\n        <h3>\\n          <span>[\\xe4\\xb9\\xa6\\xe7\\xb1\\x8d]</span>&nbsp;<a href=\"https://www.douban.com/link2/?url=https%3A%2F%2Fbook.douban.com%2Fsubject%2F26675127%2F&amp;query=python&amp;cat_id=1001&amp;type=search&amp;pos=18\" target=\"_blank\" onclick=\"moreurl(this,{i: \\'18\\', query: \\'python\\', from: \\'dou_search_book\\', sid: 26675127, qcat: \\'1001\\'})\" >Python\\xe8\\xaf\\xad\\xe8\\xa8\\x80\\xe5\\x8f\\x8a\\xe5\\x85\\xb6\\xe5\\xba\\x94\\xe7\\x94\\xa8 </a>\\n            <span class=\"ic-mark ic-book-mark\">\\xe5\\x8f\\xaf\\xe8\\xaf\\x95\\xe8\\xaf\\xbb</span>\\n        </h3>\\n        \\n  <div class=\"rating-info\">\\n      \\n        <span class=\"allstar45\"></span>\\n        <span class=\"rating_nums\">8.5</span>\\n        <span>(146\\xe4\\xba\\xba\\xe8\\xaf\\x84\\xe4\\xbb\\xb7)</span>\\n\\n        <span class=\"subject-cast\">[\\xe7\\xbe\\x8e] Bill Lubanovic / \\xe4\\xb8\\x81\\xe5\\x98\\x89\\xe7\\x91\\x9e / \\xe4\\xba\\xba\\xe6\\xb0\\x91\\xe9\\x82\\xae\\xe7\\x94\\xb5\\xe5\\x87\\xba\\xe7\\x89\\x88\\xe7\\xa4\\xbe / 2016</span>\\n  </div>\\n\\n      </div>\\n        <p>\\xe6\\x9c\\xac\\xe4\\xb9\\xa6\\xe4\\xbb\\x8b\\xe7\\xbb\\x8dPython \\xe8\\xaf\\xad\\xe8\\xa8\\x80\\xe7\\x9a\\x84\\xe5\\x9f\\xba\\xe7\\xa1\\x80\\xe7\\x9f\\xa5\\xe8\\xaf\\x86\\xe5\\x8f\\x8a\\xe5\\x85\\xb6\\xe5\\x9c\\xa8\\xe5\\x90\\x84\\xe4\\xb8\\xaa\\xe9\\xa2\\x86\\xe5\\x9f\\x9f\\xe7\\x9a\\x84\\xe5\\x85\\xb7\\xe4\\xbd\\x93\\xe5\\xba\\x94\\xe7\\x94\\xa8\\xef\\xbc\\x8c\\xe5\\x9f\\xba\\xe4\\xba\\x8e\\xe6\\x9c\\x80\\xe6\\x96\\xb0\\xe7\\x89\\x88\\xe6\\x9c\\xac3.x\\xe3\\x80\\x82\\xe4\\xb9\\xa6\\xe4\\xb8\\xad\\xe9\\xa6\\x96\\xe5\\x85\\x88\\xe4\\xbb\\x8b\\xe7\\xbb\\x8d\\xe4\\xba\\x86Python \\xe8\\xaf\\xad\\xe8\\xa8\\x80\\xe7\\x9a\\x84\\xe4\\xb8\\x80\\xe4\\xba\\x9b\\xe5\\xbf\\x85\\xe5\\xa4\\x87\\xe5\\x9f\\xba\\xe6\\x9c\\xac\\xe7\\x9f\\xa5\\xe8\\xaf\\x86\\xef\\xbc\\x8c\\xe7\\x84\\xb6\\xe5\\x90\\x8e\\xe4\\xbb\\x8b\\xe7\\xbb\\x8d\\xe4\\xba\\x86\\xe5\\x9c\\xa8\\xe5\\x95\\x86\\xe4\\xb8\\x9a\\xe3\\x80\\x81\\xe7\\xa7\\x91\\xe7\\xa0\\x94\\xe4\\xbb\\xa5\\xe5\\x8f\\x8a\\xe8\\x89\\xba\\xe6\\x9c\\xaf\\xe9\\xa2\\x86\\xe5\\x9f\\x9f\\xe4\\xbd\\xbf\\xe7\\x94\\xa8Py...</p>\\n    </div>\\n  </div>\\n\\n              \\n  \\n  <div class=\"result\">\\n    <div class=\"pic\">\\n      <a class=\"nbg\" href=\"https://www.douban.com/link2/?url=https%3A%2F%2Fbook.douban.com%2Fsubject%2F26702570%2F&amp;query=python&amp;cat_id=1001&amp;type=search&amp;pos=19\" target=\"_blank\" onclick=\"moreurl(this,{i: \\'19\\', query: \\'python\\', from: \\'dou_search_book\\', sid: 26702570, qcat: \\'1001\\'})\" title=\"python\\xe7\\xbb\\x9d\\xe6\\x8a\\x80\\xef\\xbc\\x9a\\xe8\\xbf\\x90\\xe7\\x94\\xa8python\\xe6\\x88\\x90\\xe4\\xb8\\xba\\xe9\\xa1\\xb6\\xe7\\xba\\xa7\\xe9\\xbb\\x91\\xe5\\xae\\xa2\" ><img src=\"https://img1.doubanio.com/view/subject/s/public/s28385338.jpg\"></a>\\n    </div>\\n    <div class=\"content\">\\n      <div class=\"title\">\\n        <h3>\\n          <span>[\\xe4\\xb9\\xa6\\xe7\\xb1\\x8d]</span>&nbsp;<a href=\"https://www.douban.com/link2/?url=https%3A%2F%2Fbook.douban.com%2Fsubject%2F26702570%2F&amp;query=python&amp;cat_id=1001&amp;type=search&amp;pos=19\" target=\"_blank\" onclick=\"moreurl(this,{i: \\'19\\', query: \\'python\\', from: \\'dou_search_book\\', sid: 26702570, qcat: \\'1001\\'})\" >python\\xe7\\xbb\\x9d\\xe6\\x8a\\x80\\xef\\xbc\\x9a\\xe8\\xbf\\x90\\xe7\\x94\\xa8python\\xe6\\x88\\x90\\xe4\\xb8\\xba\\xe9\\xa1\\xb6\\xe7\\xba\\xa7\\xe9\\xbb\\x91\\xe5\\xae\\xa2 </a>\\n        </h3>\\n        \\n  <div class=\"rating-info\">\\n      \\n        <span class=\"allstar35\"></span>\\n        <span class=\"rating_nums\">7.4</span>\\n        <span>(56\\xe4\\xba\\xba\\xe8\\xaf\\x84\\xe4\\xbb\\xb7)</span>\\n\\n        <span class=\"subject-cast\">[\\xe7\\xbe\\x8e] TJ O&#39;Connor / \\xe5\\xb4\\x94\\xe5\\xad\\x9d\\xe6\\x99\\xa8 / \\xe7\\x94\\xb5\\xe5\\xad\\x90\\xe5\\xb7\\xa5\\xe4\\xb8\\x9a\\xe5\\x87\\xba\\xe7\\x89\\x88\\xe7\\xa4\\xbe / 2016</span>\\n  </div>\\n\\n      </div>\\n        <p>Python \\xe6\\x98\\xaf\\xe4\\xb8\\x80\\xe9\\x97\\xa8\\xe5\\xb8\\xb8\\xe7\\x94\\xa8\\xe7\\x9a\\x84\\xe7\\xbc\\x96\\xe7\\xa8\\x8b\\xe8\\xaf\\xad\\xe8\\xa8\\x80\\xef\\xbc\\x8c\\xe5\\xae\\x83\\xe4\\xb8\\x8d\\xe4\\xbb\\x85\\xe4\\xb8\\x8a\\xe6\\x89\\x8b\\xe5\\xae\\xb9\\xe6\\x98\\x93\\xef\\xbc\\x8c\\xe8\\x80\\x8c\\xe4\\xb8\\x94\\xe8\\xbf\\x98\\xe6\\x8b\\xa5\\xe6\\x9c\\x89\\xe4\\xb8\\xb0\\xe5\\xaf\\x8c\\xe7\\x9a\\x84\\xe6\\x94\\xaf\\xe6\\x8c\\x81\\xe5\\xba\\x93\\xe3\\x80\\x82\\xe5\\xaf\\xb9\\xe7\\xbb\\x8f\\xe5\\xb8\\xb8\\xe9\\x9c\\x80\\xe8\\xa6\\x81\\xe9\\x92\\x88\\xe5\\xaf\\xb9\\xe8\\x87\\xaa\\xe5\\xb7\\xb1\\xe6\\x89\\x80 \\xe5\\xa4\\x84\\xe7\\x9a\\x84\\xe7\\x89\\xb9\\xe5\\xae\\x9a\\xe5\\x9c\\xba\\xe6\\x99\\xaf\\xe7\\xbc\\x96\\xe5\\x86\\x99\\xe4\\xb8\\x93\\xe7\\x94\\xa8\\xe5\\xb7\\xa5\\xe5\\x85\\xb7\\xe7\\x9a\\x84\\xe9\\xbb\\x91\\xe5\\xae\\xa2\\xe3\\x80\\x81\\xe8\\xae\\xa1\\xe7\\xae\\x97\\xe6\\x9c\\xba\\xe7\\x8a\\xaf\\xe7\\xbd\\xaa\\xe8\\xb0\\x83\\xe6\\x9f\\xa5\\xe4\\xba\\xba\\xe5\\x91\\x98\\xe3\\x80\\x81\\xe6\\xb8\\x97\\xe9\\x80\\x8f\\xe6\\xb5\\x8b\\xe8\\xaf\\x95\\xe5\\xb8\\x88\\xe5\\x92\\x8c\\xe5\\xae\\x89...</p>\\n    </div>\\n  </div>\\n\\n            <div class=\"result-list-ft\">\\n              <a href=\"#more\" class=\"j a_search_more\" data-q=\"python\" data-start=\"20\" data-cat=\"1001\">\\xe6\\x98\\xbe\\xe7\\xa4\\xba\\xe6\\x9b\\xb4\\xe5\\xa4\\x9a</a>\\n            </div>\\n        </div>\\n\\n  </div>\\n\\n  \\n  <div class=\"back-to-top\">\\n    <a href=\"#\">&#8593;\\xe5\\x9b\\x9e\\xe9\\xa1\\xb6\\xe9\\x83\\xa8</a>\\n  </div>\\n  <script>\\n    Do(function() {\\n      $(\"html\").delegate(\".a_search_more\",\"click\",function(c){c.preventDefault();var b=$(this);if(b.hasClass(\"processing\")){return}var a=b.data();b.attr(\"title\",b.text()).text(\"\\xe5\\x8a\\xa0\\xe8\\xbd\\xbd\\xe4\\xb8\\xad...\");b.addClass(\"processing\");$.get(\"/j/search\",a,function(d){if(d.r){b.text(\"\\xe5\\x8a\\xa0\\xe8\\xbd\\xbd\\xe5\\xa4\\xb1\\xe8\\xb4\\xa5...\");return}b.removeClass(\"processing\");b.text(b.attr(\"title\"));b.data(\"start\",parseInt(b.data(\"start\"),10)+d.limit);$(d.items.join(\"\")).insertBefore(b.parent());if(!d.more){b.hide()}})});\\n      (function(){var h=$(window);var k=$(document);var l;var a=$(\".back-to-top\");var b=$(\"#content\").find(\".article\");var g;var i=$(\"#content\").find(\".search-result\");var d=$.browser.msie&&$.browser.version===\"6.0\";var f=function(n){if(!f.cache){f.cache=[]}if(f.cache[n]){return}var m=new Date;(new Image()).src=\"/stat.html?source=group&action=back_top&iden=\"+n+\"&month=\"+(m.getMonth()+1)+\"&day=\"+m.getDate()+\"&timestamp=\"+(+new Date);f.cache[n]=1};var e=function(){return i.offset().top+i.outerHeight()};var c=function(m){if(m+g>=e()){a.css({position:\"absolute\",bottom:\"\",top:e()-a.outerHeight()})}else{if(!d){a.css({position:\"fixed\",top:\"\",bottom:0})}}a.show().find(\"a\").stop().animate({top:0})};var j=function(){a.hide().find(\"a\").css(\"top\",40)};h.resize(function(){g=h.height();a.css(\"left\",b.offset().left+b.width()+80);l=k.height()/g>3?Math.max(2*g,$(\".side\").height()):0});h.trigger(\"resize\");h.scroll((function(){var m;return function(){if(m){clearTimeout(m)}setTimeout(function(){if(l===0){return}var n=k.scrollTop();if(n>l){c(n)}else{j()}},100)}})());a.find(\"a\").click(function(m){m.preventDefault();k.scrollTop(0)});if(d){h.scroll(function(){if(k.scrollTop()+g>=e()){return}a.css(\"top\",k.scrollTop()+g-a.height())})}})();\\n    });\\n  </script>\\n\\n        </div>\\n        <div class=\"aside\">\\n                \\n  \\n\\n  <!-- douban ad begin -->\\n  <div id=\"dale_subject_search_top_right\"></div>\\n  <!-- douban ad end -->\\n\\n  \\n\\n    <div class=\"mod\">\\n      <div class=\"hd\">\\n        \\n    <h2>\\n        \\xe8\\xb1\\x86\\xe7\\x93\\xa3\\xe8\\xbf\\x98\\xe6\\xb2\\xa1\\xe6\\x9c\\x89\\xe8\\xbf\\x99\\xe6\\x9c\\xac\\xe4\\xb9\\xa6\\xef\\xbc\\x8c\\xe6\\x88\\x91\\xe6\\x9d\\xa5\\xe6\\xb7\\xbb\\xe5\\x8a\\xa0\\n            &nbsp;&middot;&nbsp;&middot;&nbsp;&middot;&nbsp;&middot;&nbsp;&middot;&nbsp;&middot;\\n    </h2>\\n\\n      </div>\\n      <div class=\"bd\">\\n          <p class=\"pl\">\\n            <a href=\"https://book.douban.com/new_subject?cat=1001&amp;search_text=python\" rel=\"nofollow\">&gt;&nbsp;\\xe6\\xb7\\xbb\\xe5\\x8a\\xa0\\xe4\\xb9\\xa6\\xe7\\xb1\\x8d</a>\\n          </p>\\n          <p class=\"pl\">\\n            <a href=\"https://book.douban.com/new_subject?cat=1009&amp;search_text=python\" rel=\"nofollow\">&gt;&nbsp;\\xe6\\xb7\\xbb\\xe5\\x8a\\xa0\\xe6\\x9d\\x82\\xe5\\xbf\\x97</a>\\n          </p>\\n          <p class=\"pl\">\\n            <a href=\"https://book.douban.com/series/add?name=python\" rel=\"nofollow\">&gt;&nbsp;\\xe6\\xb7\\xbb\\xe5\\x8a\\xa0\\xe4\\xb8\\x9b\\xe4\\xb9\\xa6</a>\\n          </p>\\n      </div>\\n    </div>\\n\\n  <div class=\"search_report\">\\n    <a href=\"javascript:;\" id=\"search-report-btn\">&gt; \\xe5\\xaf\\xb9\\xe7\\xbb\\x93\\xe6\\x9e\\x9c\\xe4\\xb8\\x8d\\xe6\\xbb\\xa1\\xe6\\x84\\x8f\\xef\\xbc\\x9f\\xe8\\xae\\xa9\\xe6\\x88\\x91\\xe4\\xbb\\xac\\xe7\\x9f\\xa5\\xe9\\x81\\x93</a>\\n  </div>\\n  <iframe frameborder=\"0\" id=\"feedback-iframe\"></iframe>\\n  \\n  <script type=\"text/javascript\">\\n    Do(function () {\\n\\n      $(\\'#search-report-btn\\').click(function () {\\n        var url = \\'https://help.douban.com/feedback_popup?qtype=195&tags=%E7%BB%BC%E5%90%88%2C%E5%9B%BE%E4%B9%A6&extra=\\' +\\n          encodeURIComponent(JSON.stringify({\\n              q: \\'python\\',\\n              cat_id: \\'1001\\'\\n            }))\\n        var $iframe = $(\\'#feedback-iframe\\')\\n        if ($iframe.attr(\\'src\\') !== url) {\\n          $iframe.attr(\\'src\\', url)\\n        }\\n        $(\\'#feedback-iframe\\').show()\\n      })\\n      window.addEventListener(\\'message\\', function (event) {\\n        var origin = event.origin || event.originalEvent.origin;\\n        if (!origin.match(/^https?:\\\\/\\\\/[a-z0-9-.]+\\\\.douban\\\\.com(?:\\\\/|:|$)/)) {\\n          // \\xe9\\x9d\\x9e\\xe6\\xb3\\x95\\xe5\\x9f\\x9f\\xe5\\x90\\x8d\\n          window.console && console.warn && console.warn(\\'window receive message from illegal origin: \\', origin, event)\\n          return\\n        }\\n        if (typeof event.data !== \\'string\\') {\\n          return\\n        }\\n        var data = JSON.parse(event.data)\\n        if (data.type === \\'FEEDBACK_POPUP_CLOSE\\') {\\n          $(\\'#feedback-iframe\\').hide()\\n        }\\n      })\\n    });\\n  </script>\\n\\n        </div>\\n        <div class=\"extra\">\\n            \\n        </div>\\n    </div>\\n</div>\\n\\n        \\n<div id=\"footer\">\\n    \\n<span id=\"icp\" class=\"fleft gray-link\">\\n    &copy; 2005\\xef\\xbc\\x8d2018 douban.com, all rights reserved \\xe5\\x8c\\x97\\xe4\\xba\\xac\\xe8\\xb1\\x86\\xe7\\xbd\\x91\\xe7\\xa7\\x91\\xe6\\x8a\\x80\\xe6\\x9c\\x89\\xe9\\x99\\x90\\xe5\\x85\\xac\\xe5\\x8f\\xb8\\n</span>\\n\\n<a href=\"https://www.douban.com/hnypt/variformcyst.py\" style=\"display: none;\"></a>\\n\\n<span class=\"fright\">\\n    <a href=\"https://www.douban.com/about\">\\xe5\\x85\\xb3\\xe4\\xba\\x8e\\xe8\\xb1\\x86\\xe7\\x93\\xa3</a>\\n    \\xc2\\xb7 <a href=\"https://www.douban.com/jobs\">\\xe5\\x9c\\xa8\\xe8\\xb1\\x86\\xe7\\x93\\xa3\\xe5\\xb7\\xa5\\xe4\\xbd\\x9c</a>\\n    \\xc2\\xb7 <a href=\"https://www.douban.com/about?topic=contactus\">\\xe8\\x81\\x94\\xe7\\xb3\\xbb\\xe6\\x88\\x91\\xe4\\xbb\\xac</a>\\n    \\xc2\\xb7 <a href=\"https://www.douban.com/about?policy=disclaimer\">\\xe5\\x85\\x8d\\xe8\\xb4\\xa3\\xe5\\xa3\\xb0\\xe6\\x98\\x8e</a>\\n    \\n    \\xc2\\xb7 <a href=\"https://help.douban.com/?app=main\" target=\"_blank\">\\xe5\\xb8\\xae\\xe5\\x8a\\xa9\\xe4\\xb8\\xad\\xe5\\xbf\\x83</a>\\n    \\xc2\\xb7 <a href=\"https://www.douban.com/doubanapp/\">\\xe7\\xa7\\xbb\\xe5\\x8a\\xa8\\xe5\\xba\\x94\\xe7\\x94\\xa8</a>\\n    \\xc2\\xb7 <a href=\"https://www.douban.com/partner/\">\\xe8\\xb1\\x86\\xe7\\x93\\xa3\\xe5\\xb9\\xbf\\xe5\\x91\\x8a</a>\\n</span>\\n\\n</div>\\n\\n    </div>\\n    \\n    \\n\\n    <!-- COLLECTED JS -->\\n    \\n  <!-- douban ad begin -->\\n  \\n\\n\\n\\n\\n    \\n<script type=\"text/javascript\">\\n    (function (global) {\\n        var newNode = global.document.createElement(\\'script\\'),\\n            existingNode = global.document.getElementsByTagName(\\'script\\')[0],\\n            adSource = \\'//erebor.douban.com/\\',\\n            userId = \\'\\',\\n            browserId = \\'1x0hkApEbzY\\',\\n            criteria = \\'8:python|3:/search?q=python&amp;cat=1001\\',\\n            preview = \\'\\',\\n            debug = false,\\n            adSlots = [\\'dale_subject_search_top_right\\', \\'dale_search_promo\\'];\\n\\n        global.DoubanAdRequest = {src: adSource, uid: userId, bid: browserId, crtr: criteria, prv: preview, debug: debug};\\n        global.DoubanAdSlots = (global.DoubanAdSlots || []).concat(adSlots);\\n\\n        newNode.setAttribute(\\'type\\', \\'text/javascript\\');\\n        newNode.setAttribute(\\'src\\', \\'https://img3.doubanio.com/f/adjs/039f4c0c15b5aa50e8bb29995dd17286658d78b5/ad.release.js\\');\\n        newNode.setAttribute(\\'async\\', true);\\n        existingNode.parentNode.insertBefore(newNode, existingNode);\\n    })(this);\\n</script>\\n\\n\\n\\n\\n\\n\\n\\n\\n\\n\\n  <!-- douban ad end -->\\n\\n    \\n    \\n\\n\\n\\n\\n\\n\\n\\n\\n\\n<!-- Google Tag Manager -->\\n<noscript><iframe src=\"//www.googletagmanager.com/ns.html?id=GTM-5WP579\" height=\"0\" width=\"0\" style=\"display:none;visibility:hidden\"></iframe></noscript>\\n<script>(function(w,d,s,l,i){w[l]=w[l]||[];w[l].push({\\'gtm.start\\':new Date().getTime(),event:\\'gtm.js\\'});var f=d.getElementsByTagName(s)[0],j=d.createElement(s),dl=l!=\\'dataLayer\\'?\\'&l=\\'+l:\\'\\';j.async=true;j.src=\\'//www.googletagmanager.com/gtm.js?id=\\'+i+dl;f.parentNode.insertBefore(j,f);})(window,document,\\'script\\',\\'dataLayer\\',\\'GTM-5WP579\\');</script>\\n<!-- End Google Tag Manager -->\\n\\n\\n<script type=\"text/javascript\">\\nvar _paq = _paq || [];\\n_paq.push([\\'trackPageView\\']);\\n_paq.push([\\'enableLinkTracking\\']);\\n(function() {\\n    var p=((\\'https:\\' == document.location.protocol) ? \\'https\\' : \\'http\\'), u=p+\\'://fundin.douban.com/\\';\\n    _paq.push([\\'setTrackerUrl\\', u+\\'piwik\\']);\\n    _paq.push([\\'setSiteId\\', \\'100001\\']);\\n    var d=document, g=d.createElement(\\'script\\'), s=d.getElementsByTagName(\\'script\\')[0];\\n    g.type=\\'text/javascript\\';\\n    g.defer=true;\\n    g.async=true;\\n    g.src=p+\\'://img3.doubanio.com/dae/fundin/piwik.js\\';\\n    s.parentNode.insertBefore(g,s);\\n})();\\n</script>\\n\\n<script type=\"text/javascript\">\\nvar _gaq = _gaq || [];\\n_gaq.push([\\'_setAccount\\', \\'UA-7019765-1\\']);\\n_gaq.push([\\'_setCampNameKey\\', \\'dcn\\']);\\n_gaq.push([\\'_setCampSourceKey\\', \\'dcs\\']);\\n_gaq.push([\\'_setCampMediumKey\\', \\'dcm\\']);\\n_gaq.push([\\'_setCampTermKey\\', \\'dct\\']);\\n_gaq.push([\\'_setCampContentKey\\', \\'dcc\\']);\\n_gaq.push([\\'_addOrganic\\', \\'baidu\\', \\'word\\']);\\n_gaq.push([\\'_addOrganic\\', \\'soso\\', \\'w\\']);\\n_gaq.push([\\'_addOrganic\\', \\'3721\\', \\'name\\']);\\n_gaq.push([\\'_addOrganic\\', \\'youdao\\', \\'q\\']);\\n_gaq.push([\\'_addOrganic\\', \\'so.360.cn\\', \\'q\\']);\\n_gaq.push([\\'_addOrganic\\', \\'vnet\\', \\'kw\\']);\\n_gaq.push([\\'_addOrganic\\', \\'sogou\\', \\'query\\']);\\n_gaq.push([\\'_addIgnoredOrganic\\', \\'\\xe8\\xb1\\x86\\xe7\\x93\\xa3\\']);\\n_gaq.push([\\'_addIgnoredOrganic\\', \\'douban\\']);\\n_gaq.push([\\'_addIgnoredOrganic\\', \\'\\xe8\\xb1\\x86\\xe7\\x93\\xa3\\xe7\\xbd\\x91\\']);\\n_gaq.push([\\'_addIgnoredOrganic\\', \\'www.douban.com\\']);\\n_gaq.push([\\'_setDomainName\\', \\'.douban.com\\']);\\n\\n\\n    _gaq.push([\\'_setCustomVar\\', 1, \\'responsive_view_mode\\', \\'desktop\\', 3]);\\n\\n_gaq.push([\\'_trackPageview\\']);\\n_gaq.push([\\'_trackPageLoadTime\\']);\\n\\nwindow._ga_init = function() {\\n    var ga = document.createElement(\\'script\\');\\n    ga.src = (\\'https:\\' == document.location.protocol ? \\'https://ssl\\' : \\'http://www\\') + \\'.google-analytics.com/ga.js\\';\\n    ga.setAttribute(\\'async\\', \\'true\\');\\n    document.documentElement.firstChild.appendChild(ga);\\n};\\nif (window.addEventListener) {\\n    window.addEventListener(\\'load\\', _ga_init, false);\\n} else {\\n    window.attachEvent(\\'onload\\', _ga_init);\\n}\\n</script>\\n\\n\\n\\n\\n\\n    <!-- brand60-docker-->\\n\\n  <script>_SPLITTEST=\\'\\'</script>\\n</body>\\n\\n</html>\\n\\n\\n'"
      ]
     },
     "execution_count": 33,
     "metadata": {},
     "output_type": "execute_result"
    }
   ],
   "source": [
    "r.content"
   ]
  },
  {
   "cell_type": "code",
   "execution_count": 34,
   "metadata": {
    "collapsed": true
   },
   "outputs": [],
   "source": [
    "r = requests.get('https://query.yahooapis.com/v1/public/yql?q=select%20*%20from%20weather.forecast%20where%20woeid%20%3D%202151330&format=json')"
   ]
  },
  {
   "cell_type": "code",
   "execution_count": 35,
   "metadata": {},
   "outputs": [
    {
     "data": {
      "text/plain": [
       "{'query': {'count': 1,\n",
       "  'created': '2018-12-01T16:59:48Z',\n",
       "  'lang': 'en-US',\n",
       "  'results': {'channel': {'astronomy': {'sunrise': '7:18 am',\n",
       "     'sunset': '4:50 pm'},\n",
       "    'atmosphere': {'humidity': '73',\n",
       "     'pressure': '1016.0',\n",
       "     'rising': '0',\n",
       "     'visibility': '16.1'},\n",
       "    'description': 'Yahoo! Weather for Beijing, Beijing, CN',\n",
       "    'image': {'height': '18',\n",
       "     'link': 'http://weather.yahoo.com',\n",
       "     'title': 'Yahoo! Weather',\n",
       "     'url': 'http://l.yimg.com/a/i/brand/purplelogo//uh/us/news-wea.gif',\n",
       "     'width': '142'},\n",
       "    'item': {'condition': {'code': '26',\n",
       "      'date': 'Sun, 02 Dec 2018 12:00 AM CST',\n",
       "      'temp': '40',\n",
       "      'text': 'Cloudy'},\n",
       "     'description': '<![CDATA[<img src=\"http://l.yimg.com/a/i/us/we/52/26.gif\"/>\\n<BR />\\n<b>Current Conditions:</b>\\n<BR />Cloudy\\n<BR />\\n<BR />\\n<b>Forecast:</b>\\n<BR /> Sun - Mostly Cloudy. High: 50Low: 36\\n<BR /> Mon - Mostly Cloudy. High: 48Low: 31\\n<BR /> Tue - Sunny. High: 40Low: 23\\n<BR /> Wed - Partly Cloudy. High: 36Low: 20\\n<BR /> Thu - Sunny. High: 32Low: 15\\n<BR />\\n<BR />\\n<a href=\"http://us.rd.yahoo.com/dailynews/rss/weather/Country__Country/*https://weather.yahoo.com/country/state/city-2151330/\">Full Forecast at Yahoo! Weather</a>\\n<BR />\\n<BR />\\n<BR />\\n]]>',\n",
       "     'forecast': [{'code': '28',\n",
       "       'date': '02 Dec 2018',\n",
       "       'day': 'Sun',\n",
       "       'high': '50',\n",
       "       'low': '36',\n",
       "       'text': 'Mostly Cloudy'},\n",
       "      {'code': '28',\n",
       "       'date': '03 Dec 2018',\n",
       "       'day': 'Mon',\n",
       "       'high': '48',\n",
       "       'low': '31',\n",
       "       'text': 'Mostly Cloudy'},\n",
       "      {'code': '32',\n",
       "       'date': '04 Dec 2018',\n",
       "       'day': 'Tue',\n",
       "       'high': '40',\n",
       "       'low': '23',\n",
       "       'text': 'Sunny'},\n",
       "      {'code': '30',\n",
       "       'date': '05 Dec 2018',\n",
       "       'day': 'Wed',\n",
       "       'high': '36',\n",
       "       'low': '20',\n",
       "       'text': 'Partly Cloudy'},\n",
       "      {'code': '32',\n",
       "       'date': '06 Dec 2018',\n",
       "       'day': 'Thu',\n",
       "       'high': '32',\n",
       "       'low': '15',\n",
       "       'text': 'Sunny'},\n",
       "      {'code': '32',\n",
       "       'date': '07 Dec 2018',\n",
       "       'day': 'Fri',\n",
       "       'high': '28',\n",
       "       'low': '9',\n",
       "       'text': 'Sunny'},\n",
       "      {'code': '30',\n",
       "       'date': '08 Dec 2018',\n",
       "       'day': 'Sat',\n",
       "       'high': '28',\n",
       "       'low': '9',\n",
       "       'text': 'Partly Cloudy'},\n",
       "      {'code': '30',\n",
       "       'date': '09 Dec 2018',\n",
       "       'day': 'Sun',\n",
       "       'high': '31',\n",
       "       'low': '9',\n",
       "       'text': 'Partly Cloudy'},\n",
       "      {'code': '30',\n",
       "       'date': '10 Dec 2018',\n",
       "       'day': 'Mon',\n",
       "       'high': '33',\n",
       "       'low': '12',\n",
       "       'text': 'Partly Cloudy'},\n",
       "      {'code': '30',\n",
       "       'date': '11 Dec 2018',\n",
       "       'day': 'Tue',\n",
       "       'high': '35',\n",
       "       'low': '13',\n",
       "       'text': 'Partly Cloudy'}],\n",
       "     'guid': {'isPermaLink': 'false'},\n",
       "     'lat': '39.90601',\n",
       "     'link': 'http://us.rd.yahoo.com/dailynews/rss/weather/Country__Country/*https://weather.yahoo.com/country/state/city-2151330/',\n",
       "     'long': '116.387909',\n",
       "     'pubDate': 'Sun, 02 Dec 2018 12:00 AM CST',\n",
       "     'title': 'Conditions for Beijing, Beijing, CN at 12:00 AM CST'},\n",
       "    'language': 'en-us',\n",
       "    'lastBuildDate': 'Sun, 02 Dec 2018 12:59 AM CST',\n",
       "    'link': 'http://us.rd.yahoo.com/dailynews/rss/weather/Country__Country/*https://weather.yahoo.com/country/state/city-2151330/',\n",
       "    'location': {'city': 'Beijing', 'country': 'China', 'region': ' Beijing'},\n",
       "    'title': 'Yahoo! Weather - Beijing, Beijing, CN',\n",
       "    'ttl': '60',\n",
       "    'units': {'distance': 'mi',\n",
       "     'pressure': 'in',\n",
       "     'speed': 'mph',\n",
       "     'temperature': 'F'},\n",
       "    'wind': {'chill': '39', 'direction': '45', 'speed': '5'}}}}}"
      ]
     },
     "execution_count": 35,
     "metadata": {},
     "output_type": "execute_result"
    }
   ],
   "source": [
    "r.json()"
   ]
  },
  {
   "cell_type": "code",
   "execution_count": 36,
   "metadata": {
    "collapsed": true
   },
   "outputs": [],
   "source": [
    " r = requests.get('https://www.douban.com/', headers={'User-Agent': 'Mozilla/5.0 (iPhone; CPU iPhone OS 11_0 like Mac OS X) AppleWebKit'})"
   ]
  },
  {
   "cell_type": "code",
   "execution_count": 37,
   "metadata": {},
   "outputs": [
    {
     "data": {
      "text/plain": [
       "'\\n\\n\\n<!DOCTYPE html>\\n<html itemscope itemtype=\"http://schema.org/WebPage\" class=\"ua-mobile \">\\n    <head>\\n        <meta charset=\"UTF-8\">\\n        <title>豆瓣(手机版)</title>\\n        <meta name=\"google-site-verification\" content=\"ok0wCgT20tBBgo9_zat2iAcimtN4Ftf5ccsh092Xeyw\" />\\n        <meta name=\"viewport\" content=\"width=device-width, height=device-height, user-scalable=no, initial-scale=1.0, minimum-scale=1.0, maximum-scale=1.0\">\\n        <meta name=\"format-detection\" content=\"telephone=no\">\\n        <link rel=\"canonical\" href=\"\\nhttp://m.douban.com/\">\\n        <link href=\"https://img3.doubanio.com/f/talion/4b1de333c0e597678522bd3c3af276ba6c667b95/css/card/base.css\" rel=\"stylesheet\">\\n        \\n    <meta name=\"description\" content=\"读书、看电影、涨知识、学穿搭...，加入兴趣小组，获得达人们的高质量生活经验，找到有相同爱好的小伙伴。\">\\n    <meta name=\"keywords\" content=\"豆瓣,手机豆瓣,豆瓣手机版,豆瓣电影,豆瓣读书,豆瓣同城\">\\n    \\n    \\n\\n    <!-- Schema.org markup for Google+ -->\\n    <meta itemprop=\"name\" content=\"豆瓣\">\\n    <meta itemprop=\"description\" content=\"读书、看电影、涨知识、学穿搭...，加入兴趣小组，获得达人们的高质量生活经验，找到有相同爱好的小伙伴。\">\\n    <meta itemprop=\"image\" content=\"https://img3.doubanio.com/f/talion/8e7b9cbd097c02972c4191aa03fdb084524505c4/pics/icon/m_logo_180.png\">\\n    <!-- Twitter meta -->\\n    <meta name=\"twitter:card\" content=\"summary\" />\\n    <!-- Open Graph meta -->\\n    <meta property=\"og:title\" content=\"豆瓣\" />\\n    <meta property=\"og:description\" content=\"读书、看电影、涨知识、学穿搭...，加入兴趣小组，获得达人们的高质量生活经验，找到有相同爱好的小伙伴。\" />\\n    <meta property=\"og:site_name\" content=\"豆瓣(手机版)\" />\\n    <meta property=\"og:url\" content=\"https://m.douban.com/\" />\\n    <meta property=\"og:image\" content=\"https://img3.doubanio.com/f/talion/8e7b9cbd097c02972c4191aa03fdb084524505c4/pics/icon/m_logo_180.png\" />\\n    <meta property=\"og:image:type\" content=\"image/png\" />\\n    <meta property=\"og:image:width\" content=\"300\" />\\n    <meta property=\"og:image:height\" content=\"300\" />\\n    <meta property=\"og:type\" content=\"article\" />\\n    <!-- Wechat meta -->\\n    <meta property=\"weixin:timeline_title\" content=\"豆瓣\" />\\n    <meta property=\"weixin:chat_title\" content=\"豆瓣\" />\\n    <meta property=\"weixin:description\" content=\"读书、看电影、涨知识、学穿搭...，加入兴趣小组，获得达人们的高质量生活经验，找到有相同爱好的小伙伴。\" />\\n    <meta property=\"weixin:image\" content=\"https://img3.doubanio.com/f/talion/8e7b9cbd097c02972c4191aa03fdb084524505c4/pics/icon/m_logo_180.png\" />\\n    \\n\\n\\n        <link rel=\"stylesheet\" href=\"https://img3.doubanio.com/misc/mixed_static/468e9211d89502ad.css\">\\n        <link rel=\"icon\" type=\"image/png\" sizes=\"16x16\" href=\"https://img3.doubanio.com/f/talion/c970bb0d720963a7392f7dd6c77068bb9925caaf/pics/icon/dou16.png\">\\n        <link rel=\"icon\" type=\"image/png\" sizes=\"32x32\" href=\"https://img3.doubanio.com/f/talion/2f3c0bc0f35b031d4535fd993ae3936f4e40e6c8/pics/icon/dou32.png\">\\n        <link rel=\"icon\" type=\"image/png\" sizes=\"48x48\" href=\"https://img3.doubanio.com/f/talion/10a4a913a5715f628e4b598f7f9f2c18621bdcb3/pics/icon/dou48.png\">\\n        <!-- iOS touch icon -->\\n        <link rel=\"apple-touch-icon-precomposed\" href=\"https://img3.doubanio.com/f/talion/997f2018d82979da970030a5eb84c77f0123ae5f/pics/icon/m_logo_76.png\">\\n        <link rel=\"apple-touch-icon-precomposed\" sizes=\"76x76\" href=\"https://img3.doubanio.com/f/talion/997f2018d82979da970030a5eb84c77f0123ae5f/pics/icon/m_logo_76.png\">\\n        <link rel=\"apple-touch-icon-precomposed\" sizes=\"120x120\" href=\"https://img3.doubanio.com/f/talion/18932a3e71a60ed7150ca2ca7ebf21ddadd7092e/pics/icon/m_logo_120.png\">\\n        <link rel=\"apple-touch-icon-precomposed\" sizes=\"152x152\" href=\"https://img3.doubanio.com/f/talion/b99497ff8538c54b9ba6f40867da932396ab2562/pics/icon/m_logo_152.png\">\\n        <link rel=\"apple-touch-icon-precomposed\" sizes=\"167x167\" href=\"https://img3.doubanio.com/f/talion/0c233ada957a95e632f81607e30230d16e8293e8/pics/icon/m_logo_167.png\">\\n        <link rel=\"apple-touch-icon-precomposed\" sizes=\"180x180\" href=\"https://img3.doubanio.com/f/talion/8e7b9cbd097c02972c4191aa03fdb084524505c4/pics/icon/m_logo_180.png\">\\n        <link rel=\"apple-touch-icon-precomposed\" sizes=\"200x200\" href=\"https://img3.doubanio.com/f/talion/7c6364aadf368dc0210173c940cfd0f64ceddc66/pics/icon/m_logo_200.png\">\\n        <!-- For Android -->\\n        <link rel=\"icon\" sizes=\"128x128\" href=\"https://img3.doubanio.com/f/talion/b99497ff8538c54b9ba6f40867da932396ab2562/pics/icon/m_logo_152.png\">\\n        <link rel=\"icon\" sizes=\"192x192\" href=\"https://img3.doubanio.com/f/talion/7c6364aadf368dc0210173c940cfd0f64ceddc66/pics/icon/m_logo_200.png\">\\n        <!-- For Web App Manifest -->\\n        \\n  \\n  \\n  <link rel=\"manifest\" href=\"/pwa/manifest?path=/&short_name=%E8%B1%86%E7%93%A3%28%E6%89%8B%E6%9C%BA%E7%89%88%29&name=%E8%B1%86%E7%93%A3%28%E6%89%8B%E6%9C%BA%E7%89%88%29\">\\n  <meta name=\"theme-color\" content=\"#42bd56\">\\n\\n\\n        <link type=\"application/opensearchdescription+xml\" rel=\"search\" href=\"/opensearch\"/>\\n            <!-- hm baidu -->\\n            <script type=\"text/javascript\">\\n            var _hmt = _hmt || [];\\n            (function() {\\n              var hm = document.createElement(\"script\");\\n              hm.src = \"https://hm.baidu.com/hm.js?6d4a8cfea88fa457c3127e14fb5fabc2\";\\n              var s = document.getElementsByTagName(\"script\")[0];\\n              s.parentNode.insertBefore(hm, s);\\n            })();\\n            </script>\\n    </head>\\n    <body ontouchstart=\"\">\\n        \\n        \\n\\n        \\n    \\n    \\n        <div id=\"TalionNav\"><header class=\"TalionNav\"><div class=\"TalionNav-primary\"><a href=\"/\"><h1>豆瓣</h1></a><nav><ul><li><a href=\"/movie\" style=\"color: #2384E8;\">电影</a></li><li><a href=\"/book\" style=\"color: #9F7860;\">图书</a></li><li><a href=\"/status\" style=\"color: #E4A813;\">广播</a></li><li><a href=\"/group\" style=\"color: #2AB8CC;\">小组</a></li></ul><span class=\"\"></span></nav></div><div class=\"TalionNav-secondary\"><a class=\"close-nav\" href=\"javascript:;\">关闭</a><form action=\"/search\" method=\"GET\"><div><input name=\"query\" type=\"search\"></div></form><ul><li><div><a href=\"/movie\" target=\"_blank\"><strong style=\"color: #2384E8;\">电影</strong><span>影院热映</span></a><a href=\"https://douban.com/location\" target=\"\"><strong style=\"color: #E6467E;\">同城</strong><span>周末活动</span></a><a href=\"https://read.douban.com\" target=\"\"><strong style=\"color: #9F7860;\">阅读</strong><span>电子书</span></a><a href=\"/status\" target=\"_blank\"><strong style=\"color: #E1644D;\">广播</strong><span>友邻动态</span></a></div></li><li><div><a href=\"/tv\" target=\"_blank\"><strong style=\"color: #7A6ADB;\">电视</strong><span>正在热播</span></a><a href=\"/group\" target=\"_blank\"><strong style=\"color: #2AB8CC;\">小组</strong><span>志趣相投</span></a><a href=\"/game\" target=\"_blank\"><strong style=\"color: #5774C5;\">游戏</strong><span>虚拟世界</span></a><a href=\"https://douban.fm\" target=\"\"><strong style=\"color: #40CFA9;\">FM</strong><span>红心歌单</span></a></div></li><li><div><a href=\"/book\" target=\"_blank\"><strong style=\"color: #9F7860;\">图书</strong><span>畅销排行</span></a><a href=\"/music\" target=\"_blank\"><strong style=\"color: #F48F2E;\">音乐</strong><span>新碟榜</span></a><a href=\"/mobileapp\" target=\"_blank\"><strong style=\"color: #596CDD;\">应用</strong><span>玩手机</span></a><a href=\"https://market.douban.com/?utm_campaign=mobile_web_douban_nav&amp;utm_source=douban&amp;utm_medium=mobile_web\" target=\"\"><strong style=\"color: #42BD56;\">豆品</strong><span>生活美学</span></a></div></li></ul><div class=\"navBottom\"><div class=\"nav-item\"><a class=\"toUser\" href=\"/mine/\">我的豆瓣</a><a class=\"toExit\" href=\"https://accounts.douban.com/logout?ck=undefined&amp;redir=http://accounts.douban.com/passport/login\">退出豆瓣</a></div><div class=\"nav-item\"><a class=\"toPC\" href=\"/to_pc/?url=about%3Ablank\">使用桌面版</a><a class=\"toApp\">使用豆瓣App</a></div></div></div></header></div>\\n\\n\\n        <div class=\"page\">\\n            \\n    <div class=\"card\">\\n        <ul class=\"quick-nav\">\\n            <li>\\n                <a href=\"/movie/nowintheater?loc_id=108288\">影院热映</a>\\n            </li>\\n              <li>\\n                  <a href=\"/tv/chinese/\">近期值得看的国产剧</a>\\n              </li>\\n            <li>\\n                <a id=\"hot-topics\" href=\"https://m.douban.com/time/?dt_time_source=douban-msite_shortcut\">豆瓣时间</a>\\n            </li>\\n            <li>\\n                <a href=\"https://www.douban.com/doubanapp/app?channel=card_home&direct_dl=1\">使用豆瓣App</a>\\n            </li>\\n        </ul>\\n        <section id=\"recommend-feed\"></section>\\n    </div>\\n\\n        </div>\\n\\n        <script src=\"https://img3.doubanio.com/f/talion/ee8e0c54293aefb5709ececbdf082f8091ad5e49/js/card/zepto.min.js\"></script>\\n        <script src=\"https://img3.doubanio.com/f/talion/202dc615b9dd718d666398130056b76b4bec48ad/js/card/main.js\"></script>\\n        <script src=\"https://img3.doubanio.com/f/talion/f53cc45d4a16969b8592d776f476d9784a283e4a/js/lib/douban-ad-helper.js\"></script>\\n\\n\\n\\n        \\n    \\n  \\n\\n\\n        \\n  \\n\\n  \\n        <script src=\"https://img3.doubanio.com/f/talion/88fc2b21c8dda5c93aa4c011eb15b74f8850978f/js/lib/react/15.3.0/react-all.min.js\"></script>\\n\\n\\n  <script type=\"text/javascript\">\\n    var userCfg = {}\\n  </script>\\n\\n  \\n\\n  \\n  \\n\\n\\n\\n        <script type=\"text/javascript\" src=\"https://img3.doubanio.com/misc/mixed_static/1548c452c9748d0a.js\"></script>\\n        \\n\\n\\n<script type=\"text/javascript\" data-mobile=\"true\">\\n    (function (global) {\\n        var newNode = global.document.createElement(\\'script\\'),\\n            existingNode = global.document.getElementsByTagName(\\'script\\')[0],\\n            adSource = \\'//erebor.douban.com/\\',\\n            userId = \\'\\',\\n            browserId = \\'yWM7QwMjajE\\',\\n            criteria = \\'3:/\\',\\n            preview = \\'\\',\\n            debug = false;\\n\\n        global.DoubanAdRequest = {src: adSource, uid: userId, bid: browserId, crtr: criteria, prv: preview, debug: debug};\\n\\n        newNode.setAttribute(\\'type\\', \\'text/javascript\\');\\n        newNode.setAttribute(\\'src\\', \\'https://img3.doubanio.com/f/adjs/039f4c0c15b5aa50e8bb29995dd17286658d78b5/ad.release.js\\');\\n        newNode.setAttribute(\\'async\\', true);\\n        existingNode.parentNode.insertBefore(newNode, existingNode);\\n    })(this);\\n</script>\\n\\n\\n        \\n  \\n\\n\\n        <script type=\\'text/javascript\\'>\\n            \\n            ;(function(global) {\\n                if (window.DoubanAdRequest) {\\n                    window.DoubanAdRequest.filter = []\\n                }\\n                global.DoubanAdSlots = global.DoubanAdSlots || []\\n            })(window);\\n        </script>\\n            <!-- Google Tag Manager -->\\n<noscript><iframe src=\"//www.googletagmanager.com/ns.html?id=GTM-NZHN7H\" height=\"0\" width=\"0\" style=\"display:none;visibility:hidden\"></iframe></noscript>\\n<script>(function(w,d,s,l,i){w[l]=w[l]||[];w[l].push({\\'gtm.start\\':new Date().getTime(),event:\\'gtm.js\\'});var f=d.getElementsByTagName(s)[0],j=d.createElement(s),dl=l!=\\'dataLayer\\'?\\'&l=\\'+l:\\'\\';j.async=true;j.src=\\'//www.googletagmanager.com/gtm.js?id=\\'+i+dl;f.parentNode.insertBefore(j,f);})(window,document,\\'script\\',\\'dataLayer\\',\\'GTM-NZHN7H\\');</script>\\n<!-- End Google Tag Manager -->\\n<!-- Google Analytics -->\\n<script>\\nwindow.ga=window.ga||function(){(ga.q=ga.q||[]).push(arguments)};ga.l=+new Date;\\nga(\\'create\\', \\'UA-53594431-3\\', {\\'sampleRate\\': 4});\\nga(\\'send\\', \\'pageview\\');\\n</script>\\n<script async src=\\'//www.google-analytics.com/analytics.js\\'></script>\\n<!-- End Google Analytics -->\\n\\n        \\n\\n\\n\\n\\n\\n\\n        <script type=\\'text/javascript\\'>\\n        (function(){\\n            var site_list = window.white_site_list || new RegExp ([\\n                \\'^https?://(.+\\\\\\\\.douban\\\\\\\\.com\\',\\n                \\'|web[0-9]?\\\\\\\\.qq\\\\\\\\.com\\',\\n                \\'|hao\\\\\\\\.qq\\\\\\\\.com\\',\\n                \\'|(hao\\\\\\\\.)*360\\\\\\\\.cn\\',\\n                \\'|so\\\\\\\\.com\\',\\n                \\'|www\\\\\\\\.soso\\\\\\\\.com\\',\\n                \\'|(www\\\\\\\\.)?growingio\\\\\\\\.com\\',\\n                \\'|m-douban-com\\\\\\\\.mipcdn\\\\\\\\.com\\',\\n                \\'|.+\\\\\\\\.baidu\\\\\\\\.com\\',\\n                \\')(\\\\\\\\:[\\\\\\\\d]+)?/\\'\\n            ].join(\\'\\'));\\n            if (self !== top && document.referrer.search(site_list) === -1) {\\n                top.location = self.location;\\n            }\\n        })();\\n        </script>\\n    </body>\\n</html>\\n\\n\\n\\n\\n\\n\\n\\n\\n\\n\\n\\n\\n\\n\\n'"
      ]
     },
     "execution_count": 37,
     "metadata": {},
     "output_type": "execute_result"
    }
   ],
   "source": [
    "r.text"
   ]
  },
  {
   "cell_type": "code",
   "execution_count": 38,
   "metadata": {
    "collapsed": true
   },
   "outputs": [],
   "source": [
    " r = requests.post('https://accounts.douban.com/login', data={'form_email': 'abc@example.com', 'form_password': '123456'})"
   ]
  },
  {
   "cell_type": "code",
   "execution_count": 40,
   "metadata": {},
   "outputs": [
    {
     "ename": "NameError",
     "evalue": "name 'url' is not defined",
     "output_type": "error",
     "traceback": [
      "\u001b[0;31m---------------------------------------------------------------------------\u001b[0m",
      "\u001b[0;31mNameError\u001b[0m                                 Traceback (most recent call last)",
      "\u001b[0;32m<ipython-input-40-903d5cbb4e61>\u001b[0m in \u001b[0;36m<module>\u001b[0;34m()\u001b[0m\n\u001b[1;32m      1\u001b[0m \u001b[0mr\u001b[0m \u001b[0;34m=\u001b[0m \u001b[0mrequests\u001b[0m\u001b[0;34m.\u001b[0m\u001b[0mpost\u001b[0m\u001b[0;34m(\u001b[0m\u001b[0;34m'https://accounts.douban.com/login'\u001b[0m\u001b[0;34m,\u001b[0m \u001b[0mdata\u001b[0m\u001b[0;34m=\u001b[0m\u001b[0;34m{\u001b[0m\u001b[0;34m'form_email'\u001b[0m\u001b[0;34m:\u001b[0m \u001b[0;34m'abc@example.com'\u001b[0m\u001b[0;34m,\u001b[0m \u001b[0;34m'form_password'\u001b[0m\u001b[0;34m:\u001b[0m \u001b[0;34m'123456'\u001b[0m\u001b[0;34m}\u001b[0m\u001b[0;34m)\u001b[0m\u001b[0;34m\u001b[0m\u001b[0m\n\u001b[1;32m      2\u001b[0m \u001b[0mparams\u001b[0m \u001b[0;34m=\u001b[0m \u001b[0;34m{\u001b[0m\u001b[0;34m'key'\u001b[0m\u001b[0;34m:\u001b[0m \u001b[0;34m'value'\u001b[0m\u001b[0;34m}\u001b[0m\u001b[0;34m\u001b[0m\u001b[0m\n\u001b[0;32m----> 3\u001b[0;31m \u001b[0mr\u001b[0m \u001b[0;34m=\u001b[0m \u001b[0mrequests\u001b[0m\u001b[0;34m.\u001b[0m\u001b[0mpost\u001b[0m\u001b[0;34m(\u001b[0m\u001b[0murl\u001b[0m\u001b[0;34m,\u001b[0m \u001b[0mjson\u001b[0m\u001b[0;34m=\u001b[0m\u001b[0mparams\u001b[0m\u001b[0;34m)\u001b[0m\u001b[0;34m\u001b[0m\u001b[0m\n\u001b[0m",
      "\u001b[0;31mNameError\u001b[0m: name 'url' is not defined"
     ]
    }
   ],
   "source": [
    " r = requests.post('https://accounts.douban.com/login', data={'form_email': 'abc@example.com', 'form_password': '123456'})\n",
    "params = {'key': 'value'}\n",
    "r = requests.post(url, json=params)"
   ]
  },
  {
   "cell_type": "code",
   "execution_count": 42,
   "metadata": {},
   "outputs": [
    {
     "data": {
      "text/plain": [
       "{'confidence': 1.0, 'encoding': 'ascii', 'language': ''}"
      ]
     },
     "execution_count": 42,
     "metadata": {},
     "output_type": "execute_result"
    }
   ],
   "source": [
    "import chardet\n",
    "chardet.detect(b'Hello, world!')"
   ]
  },
  {
   "cell_type": "code",
   "execution_count": 43,
   "metadata": {
    "collapsed": true
   },
   "outputs": [],
   "source": [
    "data = '离离原上草，一岁一枯荣'.encode('gbk')"
   ]
  },
  {
   "cell_type": "code",
   "execution_count": 44,
   "metadata": {},
   "outputs": [
    {
     "data": {
      "text/plain": [
       "{'confidence': 0.7407407407407407, 'encoding': 'GB2312', 'language': 'Chinese'}"
      ]
     },
     "execution_count": 44,
     "metadata": {},
     "output_type": "execute_result"
    }
   ],
   "source": [
    "chardet.detect(data)"
   ]
  },
  {
   "cell_type": "code",
   "execution_count": 45,
   "metadata": {},
   "outputs": [
    {
     "data": {
      "text/plain": [
       "{'confidence': 0.99, 'encoding': 'EUC-JP', 'language': 'Japanese'}"
      ]
     },
     "execution_count": 45,
     "metadata": {},
     "output_type": "execute_result"
    }
   ],
   "source": [
    "data = '最新の主要ニュース'.encode('euc-jp')\n",
    "chardet.detect(data)"
   ]
  },
  {
   "cell_type": "code",
   "execution_count": 46,
   "metadata": {
    "collapsed": true
   },
   "outputs": [],
   "source": [
    "import psutil"
   ]
  },
  {
   "cell_type": "code",
   "execution_count": 47,
   "metadata": {},
   "outputs": [
    {
     "data": {
      "text/plain": [
       "8"
      ]
     },
     "execution_count": 47,
     "metadata": {},
     "output_type": "execute_result"
    }
   ],
   "source": [
    "psutil.cpu_count() "
   ]
  },
  {
   "cell_type": "code",
   "execution_count": 48,
   "metadata": {},
   "outputs": [
    {
     "data": {
      "text/plain": [
       "4"
      ]
     },
     "execution_count": 48,
     "metadata": {},
     "output_type": "execute_result"
    }
   ],
   "source": [
    "psutil.cpu_count(logical=False)"
   ]
  },
  {
   "cell_type": "code",
   "execution_count": 49,
   "metadata": {},
   "outputs": [
    {
     "data": {
      "text/plain": [
       "scputimes(user=73558.54, nice=0.0, system=58906.61, idle=1124644.98)"
      ]
     },
     "execution_count": 49,
     "metadata": {},
     "output_type": "execute_result"
    }
   ],
   "source": [
    "psutil.cpu_times()"
   ]
  },
  {
   "cell_type": "code",
   "execution_count": 50,
   "metadata": {
    "collapsed": true
   },
   "outputs": [],
   "source": [
    "for x in range(10):\n",
    "     psutil.cpu_percent(interval=1, percpu=True)"
   ]
  },
  {
   "cell_type": "code",
   "execution_count": 51,
   "metadata": {},
   "outputs": [
    {
     "data": {
      "text/plain": [
       "svmem(total=17179869184, available=9121853440, percent=46.9, used=7907893248, free=7081177088, active=3375370240, inactive=2040676352, wired=2491846656)"
      ]
     },
     "execution_count": 51,
     "metadata": {},
     "output_type": "execute_result"
    }
   ],
   "source": [
    "psutil.virtual_memory()"
   ]
  },
  {
   "cell_type": "code",
   "execution_count": 52,
   "metadata": {},
   "outputs": [
    {
     "data": {
      "text/plain": [
       "snetio(bytes_sent=586663936, bytes_recv=11326371840, packets_sent=3454631, packets_recv=9902852, errin=0, errout=0, dropin=0, dropout=0)"
      ]
     },
     "execution_count": 52,
     "metadata": {},
     "output_type": "execute_result"
    }
   ],
   "source": [
    "psutil.net_io_counters()"
   ]
  },
  {
   "cell_type": "code",
   "execution_count": 53,
   "metadata": {},
   "outputs": [
    {
     "data": {
      "text/plain": [
       "{'awdl0': [snic(family=<AddressFamily.AF_LINK: 18>, address='2e:70:3e:e8:d8:a3', netmask=None, broadcast=None, ptp=None),\n",
       "  snic(family=<AddressFamily.AF_INET6: 30>, address='fe80::2c70:3eff:fee8:d8a3%awdl0', netmask='ffff:ffff:ffff:ffff::', broadcast=None, ptp=None)],\n",
       " 'bridge0': [snic(family=<AddressFamily.AF_LINK: 18>, address='6a:00:02:9c:24:c0', netmask=None, broadcast=None, ptp=None)],\n",
       " 'en0': [snic(family=<AddressFamily.AF_INET: 2>, address='192.168.1.89', netmask='255.255.255.0', broadcast='192.168.1.255', ptp=None),\n",
       "  snic(family=<AddressFamily.AF_LINK: 18>, address='c4:b3:01:d0:03:65', netmask=None, broadcast=None, ptp=None),\n",
       "  snic(family=<AddressFamily.AF_INET6: 30>, address='fe80::5c:4d89:b025:676f%en0', netmask='ffff:ffff:ffff:ffff::', broadcast=None, ptp=None),\n",
       "  snic(family=<AddressFamily.AF_INET6: 30>, address='2600:1700:e680:f030:1828:202f:fcd5:5511', netmask='ffff:ffff:ffff:ffff::', broadcast=None, ptp=None),\n",
       "  snic(family=<AddressFamily.AF_INET6: 30>, address='2600:1700:e680:f030:9583:41dc:a147:ba93', netmask='ffff:ffff:ffff:ffff::', broadcast=None, ptp=None),\n",
       "  snic(family=<AddressFamily.AF_INET6: 30>, address='2600:1700:e680:f030::10', netmask='ffff:ffff:ffff:ffff::', broadcast=None, ptp=None)],\n",
       " 'en1': [snic(family=<AddressFamily.AF_LINK: 18>, address='6a:00:02:9c:24:c0', netmask=None, broadcast=None, ptp=None)],\n",
       " 'en2': [snic(family=<AddressFamily.AF_LINK: 18>, address='6a:00:02:9c:24:c1', netmask=None, broadcast=None, ptp=None)],\n",
       " 'lo0': [snic(family=<AddressFamily.AF_INET: 2>, address='127.0.0.1', netmask='255.0.0.0', broadcast=None, ptp=None),\n",
       "  snic(family=<AddressFamily.AF_INET6: 30>, address='::1', netmask='ffff:ffff:ffff:ffff:ffff:ffff:ffff:ffff', broadcast=None, ptp=None),\n",
       "  snic(family=<AddressFamily.AF_INET6: 30>, address='fe80::1%lo0', netmask='ffff:ffff:ffff:ffff::', broadcast=None, ptp=None)],\n",
       " 'p2p0': [snic(family=<AddressFamily.AF_LINK: 18>, address='06:b3:01:d0:03:65', netmask=None, broadcast=None, ptp=None)],\n",
       " 'utun0': [snic(family=<AddressFamily.AF_INET6: 30>, address='fe80::1341:9374:3a34:287a%utun0', netmask='ffff:ffff:ffff:ffff::', broadcast=None, ptp=None)],\n",
       " 'utun1': [snic(family=<AddressFamily.AF_INET6: 30>, address='fe80::fe2c:7d71:e44d:ec1f%utun1', netmask='ffff:ffff:ffff:ffff::', broadcast=None, ptp=None)]}"
      ]
     },
     "execution_count": 53,
     "metadata": {},
     "output_type": "execute_result"
    }
   ],
   "source": [
    "psutil.net_if_addrs()"
   ]
  },
  {
   "cell_type": "code",
   "execution_count": 54,
   "metadata": {},
   "outputs": [
    {
     "data": {
      "text/plain": [
       "{'XHC20': snicstats(isup=False, duplex=<NicDuplex.NIC_DUPLEX_UNKNOWN: 0>, speed=0, mtu=0),\n",
       " 'awdl0': snicstats(isup=True, duplex=<NicDuplex.NIC_DUPLEX_UNKNOWN: 0>, speed=0, mtu=1484),\n",
       " 'bridge0': snicstats(isup=True, duplex=<NicDuplex.NIC_DUPLEX_UNKNOWN: 0>, speed=0, mtu=1500),\n",
       " 'en0': snicstats(isup=True, duplex=<NicDuplex.NIC_DUPLEX_UNKNOWN: 0>, speed=0, mtu=1500),\n",
       " 'en1': snicstats(isup=True, duplex=<NicDuplex.NIC_DUPLEX_FULL: 2>, speed=0, mtu=1500),\n",
       " 'en2': snicstats(isup=True, duplex=<NicDuplex.NIC_DUPLEX_FULL: 2>, speed=0, mtu=1500),\n",
       " 'gif0': snicstats(isup=False, duplex=<NicDuplex.NIC_DUPLEX_UNKNOWN: 0>, speed=0, mtu=1280),\n",
       " 'lo0': snicstats(isup=True, duplex=<NicDuplex.NIC_DUPLEX_UNKNOWN: 0>, speed=0, mtu=16384),\n",
       " 'p2p0': snicstats(isup=True, duplex=<NicDuplex.NIC_DUPLEX_UNKNOWN: 0>, speed=0, mtu=2304),\n",
       " 'stf0': snicstats(isup=False, duplex=<NicDuplex.NIC_DUPLEX_UNKNOWN: 0>, speed=0, mtu=1280),\n",
       " 'utun0': snicstats(isup=True, duplex=<NicDuplex.NIC_DUPLEX_UNKNOWN: 0>, speed=0, mtu=2000),\n",
       " 'utun1': snicstats(isup=True, duplex=<NicDuplex.NIC_DUPLEX_UNKNOWN: 0>, speed=0, mtu=1380)}"
      ]
     },
     "execution_count": 54,
     "metadata": {},
     "output_type": "execute_result"
    }
   ],
   "source": [
    "psutil.net_if_stats() "
   ]
  },
  {
   "cell_type": "code",
   "execution_count": 55,
   "metadata": {},
   "outputs": [
    {
     "data": {
      "text/plain": [
       "[60142,\n",
       " 60122,\n",
       " 60121,\n",
       " 60120,\n",
       " 60050,\n",
       " 60049,\n",
       " 60017,\n",
       " 59908,\n",
       " 59865,\n",
       " 59791,\n",
       " 59765,\n",
       " 59764,\n",
       " 59751,\n",
       " 59726,\n",
       " 59725,\n",
       " 59693,\n",
       " 59692,\n",
       " 59691,\n",
       " 59537,\n",
       " 59408,\n",
       " 59406,\n",
       " 58915,\n",
       " 58909,\n",
       " 58903,\n",
       " 58645,\n",
       " 58517,\n",
       " 58447,\n",
       " 56823,\n",
       " 56409,\n",
       " 56018,\n",
       " 54660,\n",
       " 54659,\n",
       " 54635,\n",
       " 51921,\n",
       " 50362,\n",
       " 49951,\n",
       " 49671,\n",
       " 49622,\n",
       " 49479,\n",
       " 48147,\n",
       " 48146,\n",
       " 47570,\n",
       " 47564,\n",
       " 40005,\n",
       " 40004,\n",
       " 39721,\n",
       " 39340,\n",
       " 39339,\n",
       " 39126,\n",
       " 38622,\n",
       " 38621,\n",
       " 38491,\n",
       " 38408,\n",
       " 38386,\n",
       " 38066,\n",
       " 37968,\n",
       " 37967,\n",
       " 37964,\n",
       " 37354,\n",
       " 37353,\n",
       " 36522,\n",
       " 34300,\n",
       " 34299,\n",
       " 34298,\n",
       " 34297,\n",
       " 34290,\n",
       " 32193,\n",
       " 32191,\n",
       " 32177,\n",
       " 27716,\n",
       " 27715,\n",
       " 27714,\n",
       " 27713,\n",
       " 27664,\n",
       " 27658,\n",
       " 26085,\n",
       " 26074,\n",
       " 21253,\n",
       " 21094,\n",
       " 21067,\n",
       " 20373,\n",
       " 19788,\n",
       " 19066,\n",
       " 19012,\n",
       " 18958,\n",
       " 18297,\n",
       " 6571,\n",
       " 6554,\n",
       " 6448,\n",
       " 6446,\n",
       " 6419,\n",
       " 6410,\n",
       " 6409,\n",
       " 6405,\n",
       " 5094,\n",
       " 5093,\n",
       " 5087,\n",
       " 5085,\n",
       " 5084,\n",
       " 5080,\n",
       " 5013,\n",
       " 5012,\n",
       " 5005,\n",
       " 5001,\n",
       " 4998,\n",
       " 4997,\n",
       " 4171,\n",
       " 3937,\n",
       " 3935,\n",
       " 3931,\n",
       " 3929,\n",
       " 3923,\n",
       " 3922,\n",
       " 3920,\n",
       " 3082,\n",
       " 2979,\n",
       " 1358,\n",
       " 1301,\n",
       " 1177,\n",
       " 836,\n",
       " 712,\n",
       " 708,\n",
       " 707,\n",
       " 706,\n",
       " 702,\n",
       " 700,\n",
       " 696,\n",
       " 695,\n",
       " 694,\n",
       " 693,\n",
       " 692,\n",
       " 689,\n",
       " 686,\n",
       " 654,\n",
       " 652,\n",
       " 651,\n",
       " 648,\n",
       " 644,\n",
       " 638,\n",
       " 636,\n",
       " 631,\n",
       " 562,\n",
       " 556,\n",
       " 546,\n",
       " 528,\n",
       " 526,\n",
       " 525,\n",
       " 524,\n",
       " 521,\n",
       " 519,\n",
       " 514,\n",
       " 510,\n",
       " 504,\n",
       " 498,\n",
       " 497,\n",
       " 487,\n",
       " 485,\n",
       " 484,\n",
       " 483,\n",
       " 480,\n",
       " 479,\n",
       " 478,\n",
       " 477,\n",
       " 476,\n",
       " 473,\n",
       " 472,\n",
       " 471,\n",
       " 469,\n",
       " 459,\n",
       " 458,\n",
       " 441,\n",
       " 440,\n",
       " 436,\n",
       " 433,\n",
       " 431,\n",
       " 430,\n",
       " 425,\n",
       " 424,\n",
       " 421,\n",
       " 420,\n",
       " 419,\n",
       " 416,\n",
       " 411,\n",
       " 410,\n",
       " 407,\n",
       " 406,\n",
       " 405,\n",
       " 404,\n",
       " 403,\n",
       " 402,\n",
       " 400,\n",
       " 399,\n",
       " 397,\n",
       " 396,\n",
       " 395,\n",
       " 394,\n",
       " 388,\n",
       " 387,\n",
       " 386,\n",
       " 385,\n",
       " 384,\n",
       " 381,\n",
       " 380,\n",
       " 376,\n",
       " 374,\n",
       " 373,\n",
       " 369,\n",
       " 367,\n",
       " 366,\n",
       " 364,\n",
       " 363,\n",
       " 360,\n",
       " 354,\n",
       " 353,\n",
       " 351,\n",
       " 350,\n",
       " 346,\n",
       " 345,\n",
       " 344,\n",
       " 339,\n",
       " 338,\n",
       " 336,\n",
       " 335,\n",
       " 334,\n",
       " 333,\n",
       " 332,\n",
       " 331,\n",
       " 330,\n",
       " 329,\n",
       " 328,\n",
       " 327,\n",
       " 326,\n",
       " 325,\n",
       " 324,\n",
       " 322,\n",
       " 321,\n",
       " 320,\n",
       " 319,\n",
       " 318,\n",
       " 317,\n",
       " 316,\n",
       " 315,\n",
       " 314,\n",
       " 312,\n",
       " 311,\n",
       " 310,\n",
       " 309,\n",
       " 308,\n",
       " 307,\n",
       " 306,\n",
       " 305,\n",
       " 304,\n",
       " 303,\n",
       " 302,\n",
       " 301,\n",
       " 300,\n",
       " 299,\n",
       " 298,\n",
       " 297,\n",
       " 296,\n",
       " 295,\n",
       " 294,\n",
       " 293,\n",
       " 292,\n",
       " 291,\n",
       " 290,\n",
       " 289,\n",
       " 288,\n",
       " 286,\n",
       " 285,\n",
       " 284,\n",
       " 283,\n",
       " 282,\n",
       " 281,\n",
       " 280,\n",
       " 278,\n",
       " 277,\n",
       " 276,\n",
       " 274,\n",
       " 273,\n",
       " 272,\n",
       " 271,\n",
       " 269,\n",
       " 267,\n",
       " 266,\n",
       " 265,\n",
       " 264,\n",
       " 259,\n",
       " 254,\n",
       " 252,\n",
       " 249,\n",
       " 245,\n",
       " 242,\n",
       " 241,\n",
       " 239,\n",
       " 238,\n",
       " 230,\n",
       " 229,\n",
       " 228,\n",
       " 227,\n",
       " 224,\n",
       " 223,\n",
       " 221,\n",
       " 220,\n",
       " 219,\n",
       " 218,\n",
       " 217,\n",
       " 216,\n",
       " 215,\n",
       " 213,\n",
       " 212,\n",
       " 211,\n",
       " 208,\n",
       " 207,\n",
       " 206,\n",
       " 205,\n",
       " 203,\n",
       " 197,\n",
       " 189,\n",
       " 187,\n",
       " 186,\n",
       " 184,\n",
       " 183,\n",
       " 182,\n",
       " 180,\n",
       " 176,\n",
       " 169,\n",
       " 162,\n",
       " 153,\n",
       " 137,\n",
       " 124,\n",
       " 123,\n",
       " 122,\n",
       " 121,\n",
       " 120,\n",
       " 118,\n",
       " 117,\n",
       " 115,\n",
       " 114,\n",
       " 113,\n",
       " 112,\n",
       " 106,\n",
       " 105,\n",
       " 104,\n",
       " 103,\n",
       " 101,\n",
       " 100,\n",
       " 99,\n",
       " 98,\n",
       " 97,\n",
       " 96,\n",
       " 95,\n",
       " 94,\n",
       " 91,\n",
       " 90,\n",
       " 87,\n",
       " 86,\n",
       " 84,\n",
       " 78,\n",
       " 77,\n",
       " 74,\n",
       " 73,\n",
       " 72,\n",
       " 70,\n",
       " 69,\n",
       " 66,\n",
       " 64,\n",
       " 63,\n",
       " 62,\n",
       " 60,\n",
       " 58,\n",
       " 57,\n",
       " 1,\n",
       " 0,\n",
       " 534]"
      ]
     },
     "execution_count": 55,
     "metadata": {},
     "output_type": "execute_result"
    }
   ],
   "source": [
    "psutil.pids() "
   ]
  },
  {
   "cell_type": "code",
   "execution_count": 56,
   "metadata": {
    "collapsed": true
   },
   "outputs": [],
   "source": [
    "from tkinter import *"
   ]
  },
  {
   "cell_type": "code",
   "execution_count": 57,
   "metadata": {
    "collapsed": true
   },
   "outputs": [],
   "source": [
    "class Application(Frame):\n",
    "    def __init__(self, master=None):\n",
    "        Frame.__init__(self, master)\n",
    "        self.pack()\n",
    "        self.createWidgets()\n",
    "\n",
    "    def createWidgets(self):\n",
    "        self.helloLabel = Label(self, text='Hello, world!')\n",
    "        self.helloLabel.pack()\n",
    "        self.quitButton = Button(self, text='Quit', command=self.quit)\n",
    "        self.quitButton.pack()"
   ]
  },
  {
   "cell_type": "code",
   "execution_count": 58,
   "metadata": {
    "collapsed": true
   },
   "outputs": [],
   "source": [
    "app = Application()\n",
    "# 设置窗口标题:\n",
    "app.master.title('Hello World')\n",
    "# 主消息循环:\n",
    "app.mainloop()\n"
   ]
  },
  {
   "cell_type": "code",
   "execution_count": 1,
   "metadata": {
    "collapsed": true
   },
   "outputs": [],
   "source": [
    "from tkinter import *\n",
    "import tkinter.messagebox as messagebox\n",
    "\n",
    "class Application(Frame):\n",
    "    def __init__(self, master=None):\n",
    "        Frame.__init__(self, master)\n",
    "        self.pack()\n",
    "        self.createWidgets()\n",
    "\n",
    "    def createWidgets(self):\n",
    "        self.nameInput = Entry(self)\n",
    "        self.nameInput.pack()\n",
    "        self.alertButton = Button(self, text='Hello', command=self.hello)\n",
    "        self.alertButton.pack()\n",
    "\n",
    "    def hello(self):\n",
    "        name = self.nameInput.get() or 'world'\n",
    "        messagebox.showinfo('Message', 'Hello, %s' % name)\n",
    "\n",
    "app = Application()\n",
    "# 设置窗口标题:\n",
    "app.master.title('Hello World')\n",
    "# 主消息循环:\n",
    "app.mainloop()\n"
   ]
  },
  {
   "cell_type": "code",
   "execution_count": 4,
   "metadata": {},
   "outputs": [],
   "source": [
    "# 导入turtle包的所有内容:\n",
    "from turtle import *\n",
    "\n",
    "# 设置笔刷宽度:\n",
    "width(4)\n",
    "\n",
    "# 前进:\n",
    "forward(200)\n",
    "# 右转90度:\n",
    "right(90)\n",
    "\n",
    "# 笔刷颜色:\n",
    "pencolor('red')\n",
    "forward(100)\n",
    "right(90)\n",
    "\n",
    "pencolor('green')\n",
    "forward(200)\n",
    "right(90)\n",
    "\n",
    "pencolor('blue')\n",
    "forward(100)\n",
    "right(90)\n",
    "\n",
    "# 调用done()使得窗口等待被关闭，否则将立刻关闭窗口:\n",
    "done()"
   ]
  },
  {
   "cell_type": "code",
   "execution_count": 1,
   "metadata": {},
   "outputs": [
    {
     "ename": "Terminator",
     "evalue": "",
     "output_type": "error",
     "traceback": [
      "\u001b[0;31m---------------------------------------------------------------------------\u001b[0m",
      "\u001b[0;31mTerminator\u001b[0m                                Traceback (most recent call last)",
      "\u001b[0;32m<ipython-input-1-7d6e16d55437>\u001b[0m in \u001b[0;36m<module>\u001b[0;34m()\u001b[0m\n\u001b[1;32m     57\u001b[0m \u001b[0mspeed\u001b[0m\u001b[0;34m(\u001b[0m\u001b[0;34m\"fastest\"\u001b[0m\u001b[0;34m)\u001b[0m\u001b[0;34m\u001b[0m\u001b[0m\n\u001b[1;32m     58\u001b[0m \u001b[0;34m\u001b[0m\u001b[0m\n\u001b[0;32m---> 59\u001b[0;31m \u001b[0mdraw_tree\u001b[0m\u001b[0;34m(\u001b[0m\u001b[0ml\u001b[0m\u001b[0;34m,\u001b[0m \u001b[0;36m4\u001b[0m\u001b[0;34m)\u001b[0m\u001b[0;34m\u001b[0m\u001b[0m\n\u001b[0m\u001b[1;32m     60\u001b[0m \u001b[0;34m\u001b[0m\u001b[0m\n\u001b[1;32m     61\u001b[0m \u001b[0mdone\u001b[0m\u001b[0;34m(\u001b[0m\u001b[0;34m)\u001b[0m\u001b[0;34m\u001b[0m\u001b[0m\n",
      "\u001b[0;32m<ipython-input-1-7d6e16d55437>\u001b[0m in \u001b[0;36mdraw_tree\u001b[0;34m(l, level)\u001b[0m\n\u001b[1;32m     42\u001b[0m \u001b[0;34m\u001b[0m\u001b[0m\n\u001b[1;32m     43\u001b[0m     \u001b[0;32mif\u001b[0m \u001b[0mlevel\u001b[0m \u001b[0;34m<\u001b[0m \u001b[0mlv\u001b[0m\u001b[0;34m:\u001b[0m\u001b[0;34m\u001b[0m\u001b[0m\n\u001b[0;32m---> 44\u001b[0;31m         \u001b[0mdraw_tree\u001b[0m\u001b[0;34m(\u001b[0m\u001b[0ml\u001b[0m\u001b[0;34m,\u001b[0m \u001b[0mlevel\u001b[0m \u001b[0;34m+\u001b[0m \u001b[0;36m1\u001b[0m\u001b[0;34m)\u001b[0m\u001b[0;34m\u001b[0m\u001b[0m\n\u001b[0m\u001b[1;32m     45\u001b[0m     \u001b[0mbk\u001b[0m\u001b[0;34m(\u001b[0m\u001b[0ml\u001b[0m\u001b[0;34m)\u001b[0m\u001b[0;34m\u001b[0m\u001b[0m\n\u001b[1;32m     46\u001b[0m     \u001b[0mrt\u001b[0m\u001b[0;34m(\u001b[0m\u001b[0;36m2\u001b[0m \u001b[0;34m*\u001b[0m \u001b[0ms\u001b[0m\u001b[0;34m)\u001b[0m\u001b[0;34m\u001b[0m\u001b[0m\n",
      "\u001b[0;32m<ipython-input-1-7d6e16d55437>\u001b[0m in \u001b[0;36mdraw_tree\u001b[0;34m(l, level)\u001b[0m\n\u001b[1;32m     42\u001b[0m \u001b[0;34m\u001b[0m\u001b[0m\n\u001b[1;32m     43\u001b[0m     \u001b[0;32mif\u001b[0m \u001b[0mlevel\u001b[0m \u001b[0;34m<\u001b[0m \u001b[0mlv\u001b[0m\u001b[0;34m:\u001b[0m\u001b[0;34m\u001b[0m\u001b[0m\n\u001b[0;32m---> 44\u001b[0;31m         \u001b[0mdraw_tree\u001b[0m\u001b[0;34m(\u001b[0m\u001b[0ml\u001b[0m\u001b[0;34m,\u001b[0m \u001b[0mlevel\u001b[0m \u001b[0;34m+\u001b[0m \u001b[0;36m1\u001b[0m\u001b[0;34m)\u001b[0m\u001b[0;34m\u001b[0m\u001b[0m\n\u001b[0m\u001b[1;32m     45\u001b[0m     \u001b[0mbk\u001b[0m\u001b[0;34m(\u001b[0m\u001b[0ml\u001b[0m\u001b[0;34m)\u001b[0m\u001b[0;34m\u001b[0m\u001b[0m\n\u001b[1;32m     46\u001b[0m     \u001b[0mrt\u001b[0m\u001b[0;34m(\u001b[0m\u001b[0;36m2\u001b[0m \u001b[0;34m*\u001b[0m \u001b[0ms\u001b[0m\u001b[0;34m)\u001b[0m\u001b[0;34m\u001b[0m\u001b[0m\n",
      "\u001b[0;32m<ipython-input-1-7d6e16d55437>\u001b[0m in \u001b[0;36mdraw_tree\u001b[0;34m(l, level)\u001b[0m\n\u001b[1;32m     42\u001b[0m \u001b[0;34m\u001b[0m\u001b[0m\n\u001b[1;32m     43\u001b[0m     \u001b[0;32mif\u001b[0m \u001b[0mlevel\u001b[0m \u001b[0;34m<\u001b[0m \u001b[0mlv\u001b[0m\u001b[0;34m:\u001b[0m\u001b[0;34m\u001b[0m\u001b[0m\n\u001b[0;32m---> 44\u001b[0;31m         \u001b[0mdraw_tree\u001b[0m\u001b[0;34m(\u001b[0m\u001b[0ml\u001b[0m\u001b[0;34m,\u001b[0m \u001b[0mlevel\u001b[0m \u001b[0;34m+\u001b[0m \u001b[0;36m1\u001b[0m\u001b[0;34m)\u001b[0m\u001b[0;34m\u001b[0m\u001b[0m\n\u001b[0m\u001b[1;32m     45\u001b[0m     \u001b[0mbk\u001b[0m\u001b[0;34m(\u001b[0m\u001b[0ml\u001b[0m\u001b[0;34m)\u001b[0m\u001b[0;34m\u001b[0m\u001b[0m\n\u001b[1;32m     46\u001b[0m     \u001b[0mrt\u001b[0m\u001b[0;34m(\u001b[0m\u001b[0;36m2\u001b[0m \u001b[0;34m*\u001b[0m \u001b[0ms\u001b[0m\u001b[0;34m)\u001b[0m\u001b[0;34m\u001b[0m\u001b[0m\n",
      "\u001b[0;32m<ipython-input-1-7d6e16d55437>\u001b[0m in \u001b[0;36mdraw_tree\u001b[0;34m(l, level)\u001b[0m\n\u001b[1;32m     48\u001b[0m \u001b[0;34m\u001b[0m\u001b[0m\n\u001b[1;32m     49\u001b[0m     \u001b[0;32mif\u001b[0m \u001b[0mlevel\u001b[0m \u001b[0;34m<\u001b[0m \u001b[0mlv\u001b[0m\u001b[0;34m:\u001b[0m\u001b[0;34m\u001b[0m\u001b[0m\n\u001b[0;32m---> 50\u001b[0;31m         \u001b[0mdraw_tree\u001b[0m\u001b[0;34m(\u001b[0m\u001b[0ml\u001b[0m\u001b[0;34m,\u001b[0m \u001b[0mlevel\u001b[0m \u001b[0;34m+\u001b[0m \u001b[0;36m1\u001b[0m\u001b[0;34m)\u001b[0m\u001b[0;34m\u001b[0m\u001b[0m\n\u001b[0m\u001b[1;32m     51\u001b[0m     \u001b[0mbk\u001b[0m\u001b[0;34m(\u001b[0m\u001b[0ml\u001b[0m\u001b[0;34m)\u001b[0m\u001b[0;34m\u001b[0m\u001b[0m\n\u001b[1;32m     52\u001b[0m     \u001b[0mlt\u001b[0m\u001b[0;34m(\u001b[0m\u001b[0ms\u001b[0m\u001b[0;34m)\u001b[0m\u001b[0;34m\u001b[0m\u001b[0m\n",
      "\u001b[0;32m<ipython-input-1-7d6e16d55437>\u001b[0m in \u001b[0;36mdraw_tree\u001b[0;34m(l, level)\u001b[0m\n\u001b[1;32m     42\u001b[0m \u001b[0;34m\u001b[0m\u001b[0m\n\u001b[1;32m     43\u001b[0m     \u001b[0;32mif\u001b[0m \u001b[0mlevel\u001b[0m \u001b[0;34m<\u001b[0m \u001b[0mlv\u001b[0m\u001b[0;34m:\u001b[0m\u001b[0;34m\u001b[0m\u001b[0m\n\u001b[0;32m---> 44\u001b[0;31m         \u001b[0mdraw_tree\u001b[0m\u001b[0;34m(\u001b[0m\u001b[0ml\u001b[0m\u001b[0;34m,\u001b[0m \u001b[0mlevel\u001b[0m \u001b[0;34m+\u001b[0m \u001b[0;36m1\u001b[0m\u001b[0;34m)\u001b[0m\u001b[0;34m\u001b[0m\u001b[0m\n\u001b[0m\u001b[1;32m     45\u001b[0m     \u001b[0mbk\u001b[0m\u001b[0;34m(\u001b[0m\u001b[0ml\u001b[0m\u001b[0;34m)\u001b[0m\u001b[0;34m\u001b[0m\u001b[0m\n\u001b[1;32m     46\u001b[0m     \u001b[0mrt\u001b[0m\u001b[0;34m(\u001b[0m\u001b[0;36m2\u001b[0m \u001b[0;34m*\u001b[0m \u001b[0ms\u001b[0m\u001b[0;34m)\u001b[0m\u001b[0;34m\u001b[0m\u001b[0m\n",
      "\u001b[0;32m<ipython-input-1-7d6e16d55437>\u001b[0m in \u001b[0;36mdraw_tree\u001b[0;34m(l, level)\u001b[0m\n\u001b[1;32m     42\u001b[0m \u001b[0;34m\u001b[0m\u001b[0m\n\u001b[1;32m     43\u001b[0m     \u001b[0;32mif\u001b[0m \u001b[0mlevel\u001b[0m \u001b[0;34m<\u001b[0m \u001b[0mlv\u001b[0m\u001b[0;34m:\u001b[0m\u001b[0;34m\u001b[0m\u001b[0m\n\u001b[0;32m---> 44\u001b[0;31m         \u001b[0mdraw_tree\u001b[0m\u001b[0;34m(\u001b[0m\u001b[0ml\u001b[0m\u001b[0;34m,\u001b[0m \u001b[0mlevel\u001b[0m \u001b[0;34m+\u001b[0m \u001b[0;36m1\u001b[0m\u001b[0;34m)\u001b[0m\u001b[0;34m\u001b[0m\u001b[0m\n\u001b[0m\u001b[1;32m     45\u001b[0m     \u001b[0mbk\u001b[0m\u001b[0;34m(\u001b[0m\u001b[0ml\u001b[0m\u001b[0;34m)\u001b[0m\u001b[0;34m\u001b[0m\u001b[0m\n\u001b[1;32m     46\u001b[0m     \u001b[0mrt\u001b[0m\u001b[0;34m(\u001b[0m\u001b[0;36m2\u001b[0m \u001b[0;34m*\u001b[0m \u001b[0ms\u001b[0m\u001b[0;34m)\u001b[0m\u001b[0;34m\u001b[0m\u001b[0m\n",
      "\u001b[0;32m<ipython-input-1-7d6e16d55437>\u001b[0m in \u001b[0;36mdraw_tree\u001b[0;34m(l, level)\u001b[0m\n\u001b[1;32m     48\u001b[0m \u001b[0;34m\u001b[0m\u001b[0m\n\u001b[1;32m     49\u001b[0m     \u001b[0;32mif\u001b[0m \u001b[0mlevel\u001b[0m \u001b[0;34m<\u001b[0m \u001b[0mlv\u001b[0m\u001b[0;34m:\u001b[0m\u001b[0;34m\u001b[0m\u001b[0m\n\u001b[0;32m---> 50\u001b[0;31m         \u001b[0mdraw_tree\u001b[0m\u001b[0;34m(\u001b[0m\u001b[0ml\u001b[0m\u001b[0;34m,\u001b[0m \u001b[0mlevel\u001b[0m \u001b[0;34m+\u001b[0m \u001b[0;36m1\u001b[0m\u001b[0;34m)\u001b[0m\u001b[0;34m\u001b[0m\u001b[0m\n\u001b[0m\u001b[1;32m     51\u001b[0m     \u001b[0mbk\u001b[0m\u001b[0;34m(\u001b[0m\u001b[0ml\u001b[0m\u001b[0;34m)\u001b[0m\u001b[0;34m\u001b[0m\u001b[0m\n\u001b[1;32m     52\u001b[0m     \u001b[0mlt\u001b[0m\u001b[0;34m(\u001b[0m\u001b[0ms\u001b[0m\u001b[0;34m)\u001b[0m\u001b[0;34m\u001b[0m\u001b[0m\n",
      "\u001b[0;32m<ipython-input-1-7d6e16d55437>\u001b[0m in \u001b[0;36mdraw_tree\u001b[0;34m(l, level)\u001b[0m\n\u001b[1;32m     42\u001b[0m \u001b[0;34m\u001b[0m\u001b[0m\n\u001b[1;32m     43\u001b[0m     \u001b[0;32mif\u001b[0m \u001b[0mlevel\u001b[0m \u001b[0;34m<\u001b[0m \u001b[0mlv\u001b[0m\u001b[0;34m:\u001b[0m\u001b[0;34m\u001b[0m\u001b[0m\n\u001b[0;32m---> 44\u001b[0;31m         \u001b[0mdraw_tree\u001b[0m\u001b[0;34m(\u001b[0m\u001b[0ml\u001b[0m\u001b[0;34m,\u001b[0m \u001b[0mlevel\u001b[0m \u001b[0;34m+\u001b[0m \u001b[0;36m1\u001b[0m\u001b[0;34m)\u001b[0m\u001b[0;34m\u001b[0m\u001b[0m\n\u001b[0m\u001b[1;32m     45\u001b[0m     \u001b[0mbk\u001b[0m\u001b[0;34m(\u001b[0m\u001b[0ml\u001b[0m\u001b[0;34m)\u001b[0m\u001b[0;34m\u001b[0m\u001b[0m\n\u001b[1;32m     46\u001b[0m     \u001b[0mrt\u001b[0m\u001b[0;34m(\u001b[0m\u001b[0;36m2\u001b[0m \u001b[0;34m*\u001b[0m \u001b[0ms\u001b[0m\u001b[0;34m)\u001b[0m\u001b[0;34m\u001b[0m\u001b[0m\n",
      "\u001b[0;32m<ipython-input-1-7d6e16d55437>\u001b[0m in \u001b[0;36mdraw_tree\u001b[0;34m(l, level)\u001b[0m\n\u001b[1;32m     42\u001b[0m \u001b[0;34m\u001b[0m\u001b[0m\n\u001b[1;32m     43\u001b[0m     \u001b[0;32mif\u001b[0m \u001b[0mlevel\u001b[0m \u001b[0;34m<\u001b[0m \u001b[0mlv\u001b[0m\u001b[0;34m:\u001b[0m\u001b[0;34m\u001b[0m\u001b[0m\n\u001b[0;32m---> 44\u001b[0;31m         \u001b[0mdraw_tree\u001b[0m\u001b[0;34m(\u001b[0m\u001b[0ml\u001b[0m\u001b[0;34m,\u001b[0m \u001b[0mlevel\u001b[0m \u001b[0;34m+\u001b[0m \u001b[0;36m1\u001b[0m\u001b[0;34m)\u001b[0m\u001b[0;34m\u001b[0m\u001b[0m\n\u001b[0m\u001b[1;32m     45\u001b[0m     \u001b[0mbk\u001b[0m\u001b[0;34m(\u001b[0m\u001b[0ml\u001b[0m\u001b[0;34m)\u001b[0m\u001b[0;34m\u001b[0m\u001b[0m\n\u001b[1;32m     46\u001b[0m     \u001b[0mrt\u001b[0m\u001b[0;34m(\u001b[0m\u001b[0;36m2\u001b[0m \u001b[0;34m*\u001b[0m \u001b[0ms\u001b[0m\u001b[0;34m)\u001b[0m\u001b[0;34m\u001b[0m\u001b[0m\n",
      "\u001b[0;32m<ipython-input-1-7d6e16d55437>\u001b[0m in \u001b[0;36mdraw_tree\u001b[0;34m(l, level)\u001b[0m\n\u001b[1;32m     48\u001b[0m \u001b[0;34m\u001b[0m\u001b[0m\n\u001b[1;32m     49\u001b[0m     \u001b[0;32mif\u001b[0m \u001b[0mlevel\u001b[0m \u001b[0;34m<\u001b[0m \u001b[0mlv\u001b[0m\u001b[0;34m:\u001b[0m\u001b[0;34m\u001b[0m\u001b[0m\n\u001b[0;32m---> 50\u001b[0;31m         \u001b[0mdraw_tree\u001b[0m\u001b[0;34m(\u001b[0m\u001b[0ml\u001b[0m\u001b[0;34m,\u001b[0m \u001b[0mlevel\u001b[0m \u001b[0;34m+\u001b[0m \u001b[0;36m1\u001b[0m\u001b[0;34m)\u001b[0m\u001b[0;34m\u001b[0m\u001b[0m\n\u001b[0m\u001b[1;32m     51\u001b[0m     \u001b[0mbk\u001b[0m\u001b[0;34m(\u001b[0m\u001b[0ml\u001b[0m\u001b[0;34m)\u001b[0m\u001b[0;34m\u001b[0m\u001b[0m\n\u001b[1;32m     52\u001b[0m     \u001b[0mlt\u001b[0m\u001b[0;34m(\u001b[0m\u001b[0ms\u001b[0m\u001b[0;34m)\u001b[0m\u001b[0;34m\u001b[0m\u001b[0m\n",
      "\u001b[0;32m<ipython-input-1-7d6e16d55437>\u001b[0m in \u001b[0;36mdraw_tree\u001b[0;34m(l, level)\u001b[0m\n\u001b[1;32m     34\u001b[0m     \u001b[0mg\u001b[0m \u001b[0;34m=\u001b[0m \u001b[0mg\u001b[0m \u001b[0;34m+\u001b[0m \u001b[0;36m2\u001b[0m\u001b[0;34m\u001b[0m\u001b[0m\n\u001b[1;32m     35\u001b[0m     \u001b[0mb\u001b[0m \u001b[0;34m=\u001b[0m \u001b[0mb\u001b[0m \u001b[0;34m+\u001b[0m \u001b[0;36m3\u001b[0m\u001b[0;34m\u001b[0m\u001b[0m\n\u001b[0;32m---> 36\u001b[0;31m     \u001b[0mpencolor\u001b[0m\u001b[0;34m(\u001b[0m\u001b[0mr\u001b[0m \u001b[0;34m%\u001b[0m \u001b[0;36m200\u001b[0m\u001b[0;34m,\u001b[0m \u001b[0mg\u001b[0m \u001b[0;34m%\u001b[0m \u001b[0;36m200\u001b[0m\u001b[0;34m,\u001b[0m \u001b[0mb\u001b[0m \u001b[0;34m%\u001b[0m \u001b[0;36m200\u001b[0m\u001b[0;34m)\u001b[0m\u001b[0;34m\u001b[0m\u001b[0m\n\u001b[0m\u001b[1;32m     37\u001b[0m \u001b[0;34m\u001b[0m\u001b[0m\n\u001b[1;32m     38\u001b[0m     \u001b[0ml\u001b[0m \u001b[0;34m=\u001b[0m \u001b[0;36m3.0\u001b[0m \u001b[0;34m/\u001b[0m \u001b[0;36m4.0\u001b[0m \u001b[0;34m*\u001b[0m \u001b[0ml\u001b[0m\u001b[0;34m\u001b[0m\u001b[0m\n",
      "\u001b[0;32m~/anaconda3/lib/python3.6/turtle.py\u001b[0m in \u001b[0;36mpencolor\u001b[0;34m(*args)\u001b[0m\n",
      "\u001b[0;31mTerminator\u001b[0m: "
     ]
    }
   ],
   "source": [
    "from turtle import *\n",
    "\n",
    "# 设置色彩模式是RGB:\n",
    "colormode(255)\n",
    "\n",
    "lt(90)\n",
    "\n",
    "lv = 14\n",
    "l = 120\n",
    "s = 45\n",
    "\n",
    "width(lv)\n",
    "\n",
    "# 初始化RGB颜色:\n",
    "r = 0\n",
    "g = 0\n",
    "b = 0\n",
    "pencolor(r, g, b)\n",
    "\n",
    "penup()\n",
    "bk(l)\n",
    "pendown()\n",
    "fd(l)\n",
    "\n",
    "def draw_tree(l, level):\n",
    "    global r, g, b\n",
    "    # save the current pen width\n",
    "    w = width()\n",
    "\n",
    "    # narrow the pen width\n",
    "    width(w * 3.0 / 4.0)\n",
    "    # set color:\n",
    "    r = r + 1\n",
    "    g = g + 2\n",
    "    b = b + 3\n",
    "    pencolor(r % 200, g % 200, b % 200)\n",
    "\n",
    "    l = 3.0 / 4.0 * l\n",
    "\n",
    "    lt(s)\n",
    "    fd(l)\n",
    "\n",
    "    if level < lv:\n",
    "        draw_tree(l, level + 1)\n",
    "    bk(l)\n",
    "    rt(2 * s)\n",
    "    fd(l)\n",
    "\n",
    "    if level < lv:\n",
    "        draw_tree(l, level + 1)\n",
    "    bk(l)\n",
    "    lt(s)\n",
    "\n",
    "    # restore the previous pen width\n",
    "    width(w)\n",
    "\n",
    "speed(\"fastest\")\n",
    "\n",
    "draw_tree(l, 4)\n",
    "\n",
    "done()"
   ]
  },
  {
   "cell_type": "code",
   "execution_count": 1,
   "metadata": {
    "collapsed": true
   },
   "outputs": [],
   "source": [
    "# 导入socket库:\n",
    "import socket\n",
    "\n",
    "# 创建一个socket:\n",
    "s = socket.socket(socket.AF_INET, socket.SOCK_STREAM)\n",
    "# 建立连接:\n",
    "s.connect(('www.sina.com.cn', 80))"
   ]
  },
  {
   "cell_type": "code",
   "execution_count": 2,
   "metadata": {},
   "outputs": [
    {
     "data": {
      "text/plain": [
       "60"
      ]
     },
     "execution_count": 2,
     "metadata": {},
     "output_type": "execute_result"
    }
   ],
   "source": [
    "s.send(b'GET / HTTP/1.1\\r\\nHost: www.sina.com.cn\\r\\nConnection: close\\r\\n\\r\\n')\n"
   ]
  },
  {
   "cell_type": "code",
   "execution_count": 3,
   "metadata": {
    "collapsed": true
   },
   "outputs": [],
   "source": [
    "buffer = []\n",
    "while True:\n",
    "    # 每次最多接收1k字节:\n",
    "    d = s.recv(1024)\n",
    "    if d:\n",
    "        buffer.append(d)\n",
    "    else:\n",
    "        break\n",
    "data = b''.join(buffer)"
   ]
  },
  {
   "cell_type": "code",
   "execution_count": 4,
   "metadata": {
    "collapsed": true
   },
   "outputs": [],
   "source": [
    "s.close()"
   ]
  },
  {
   "cell_type": "code",
   "execution_count": 5,
   "metadata": {},
   "outputs": [
    {
     "name": "stdout",
     "output_type": "stream",
     "text": [
      "HTTP/1.1 302 Moved Temporarily\r\n",
      "Server: nginx\r\n",
      "Date: Sat, 01 Dec 2018 17:34:26 GMT\r\n",
      "Content-Type: text/html\r\n",
      "Content-Length: 154\r\n",
      "Connection: close\r\n",
      "Location: https://www.sina.com.cn/\r\n",
      "X-Via-CDN: f=edge,s=hgc.hk.ha2ts4.175.nb.sinaedge.com,c=172.8.130.234;\r\n",
      "X-Via-Edge: 1543685666318ea8208ac25fe33247f89ad2c\n"
     ]
    }
   ],
   "source": [
    "header, html = data.split(b'\\r\\n\\r\\n', 1)\n",
    "print(header.decode('utf-8'))\n",
    "# 把接收的数据写入文件:\n",
    "with open('sina.html', 'wb') as f:\n",
    "    f.write(html)"
   ]
  },
  {
   "cell_type": "code",
   "execution_count": 6,
   "metadata": {
    "collapsed": true
   },
   "outputs": [],
   "source": [
    "s = socket.socket(socket.AF_INET, socket.SOCK_STREAM)\n"
   ]
  },
  {
   "cell_type": "code",
   "execution_count": 7,
   "metadata": {
    "collapsed": true
   },
   "outputs": [],
   "source": [
    "s.bind(('127.0.0.1', 9999))\n"
   ]
  },
  {
   "cell_type": "code",
   "execution_count": 8,
   "metadata": {},
   "outputs": [
    {
     "name": "stdout",
     "output_type": "stream",
     "text": [
      "Waiting for connection...\n"
     ]
    }
   ],
   "source": [
    "s.listen(5)\n",
    "print('Waiting for connection...')\n"
   ]
  },
  {
   "cell_type": "code",
   "execution_count": 9,
   "metadata": {},
   "outputs": [
    {
     "ename": "KeyboardInterrupt",
     "evalue": "",
     "output_type": "error",
     "traceback": [
      "\u001b[0;31m---------------------------------------------------------------------------\u001b[0m",
      "\u001b[0;31mKeyboardInterrupt\u001b[0m                         Traceback (most recent call last)",
      "\u001b[0;32m<ipython-input-9-b144dc5a888d>\u001b[0m in \u001b[0;36m<module>\u001b[0;34m()\u001b[0m\n\u001b[1;32m      1\u001b[0m \u001b[0;32mwhile\u001b[0m \u001b[0;32mTrue\u001b[0m\u001b[0;34m:\u001b[0m\u001b[0;34m\u001b[0m\u001b[0m\n\u001b[1;32m      2\u001b[0m     \u001b[0;31m# 接受一个新连接:\u001b[0m\u001b[0;34m\u001b[0m\u001b[0;34m\u001b[0m\u001b[0m\n\u001b[0;32m----> 3\u001b[0;31m     \u001b[0msock\u001b[0m\u001b[0;34m,\u001b[0m \u001b[0maddr\u001b[0m \u001b[0;34m=\u001b[0m \u001b[0ms\u001b[0m\u001b[0;34m.\u001b[0m\u001b[0maccept\u001b[0m\u001b[0;34m(\u001b[0m\u001b[0;34m)\u001b[0m\u001b[0;34m\u001b[0m\u001b[0m\n\u001b[0m\u001b[1;32m      4\u001b[0m     \u001b[0;31m# 创建新线程来处理TCP连接:\u001b[0m\u001b[0;34m\u001b[0m\u001b[0;34m\u001b[0m\u001b[0m\n\u001b[1;32m      5\u001b[0m     \u001b[0mt\u001b[0m \u001b[0;34m=\u001b[0m \u001b[0mthreading\u001b[0m\u001b[0;34m.\u001b[0m\u001b[0mThread\u001b[0m\u001b[0;34m(\u001b[0m\u001b[0mtarget\u001b[0m\u001b[0;34m=\u001b[0m\u001b[0mtcplink\u001b[0m\u001b[0;34m,\u001b[0m \u001b[0margs\u001b[0m\u001b[0;34m=\u001b[0m\u001b[0;34m(\u001b[0m\u001b[0msock\u001b[0m\u001b[0;34m,\u001b[0m \u001b[0maddr\u001b[0m\u001b[0;34m)\u001b[0m\u001b[0;34m)\u001b[0m\u001b[0;34m\u001b[0m\u001b[0m\n",
      "\u001b[0;32m~/anaconda3/lib/python3.6/socket.py\u001b[0m in \u001b[0;36maccept\u001b[0;34m(self)\u001b[0m\n\u001b[1;32m    203\u001b[0m         \u001b[0mFor\u001b[0m \u001b[0mIP\u001b[0m \u001b[0msockets\u001b[0m\u001b[0;34m,\u001b[0m \u001b[0mthe\u001b[0m \u001b[0maddress\u001b[0m \u001b[0minfo\u001b[0m \u001b[0;32mis\u001b[0m \u001b[0ma\u001b[0m \u001b[0mpair\u001b[0m \u001b[0;34m(\u001b[0m\u001b[0mhostaddr\u001b[0m\u001b[0;34m,\u001b[0m \u001b[0mport\u001b[0m\u001b[0;34m)\u001b[0m\u001b[0;34m.\u001b[0m\u001b[0;34m\u001b[0m\u001b[0m\n\u001b[1;32m    204\u001b[0m         \"\"\"\n\u001b[0;32m--> 205\u001b[0;31m         \u001b[0mfd\u001b[0m\u001b[0;34m,\u001b[0m \u001b[0maddr\u001b[0m \u001b[0;34m=\u001b[0m \u001b[0mself\u001b[0m\u001b[0;34m.\u001b[0m\u001b[0m_accept\u001b[0m\u001b[0;34m(\u001b[0m\u001b[0;34m)\u001b[0m\u001b[0;34m\u001b[0m\u001b[0m\n\u001b[0m\u001b[1;32m    206\u001b[0m         \u001b[0;31m# If our type has the SOCK_NONBLOCK flag, we shouldn't pass it onto the\u001b[0m\u001b[0;34m\u001b[0m\u001b[0;34m\u001b[0m\u001b[0m\n\u001b[1;32m    207\u001b[0m         \u001b[0;31m# new socket. We do not currently allow passing SOCK_NONBLOCK to\u001b[0m\u001b[0;34m\u001b[0m\u001b[0;34m\u001b[0m\u001b[0m\n",
      "\u001b[0;31mKeyboardInterrupt\u001b[0m: "
     ]
    }
   ],
   "source": [
    "while True:\n",
    "    # 接受一个新连接:\n",
    "    sock, addr = s.accept()\n",
    "    # 创建新线程来处理TCP连接:\n",
    "    t = threading.Thread(target=tcplink, args=(sock, addr))\n",
    "    t.start()"
   ]
  },
  {
   "cell_type": "code",
   "execution_count": null,
   "metadata": {
    "collapsed": true
   },
   "outputs": [],
   "source": [
    "def tcplink(sock, addr):\n",
    "    print('Accept new connection from %s:%s...' % addr)\n",
    "    sock.send(b'Welcome!')\n",
    "    while True:\n",
    "        data = sock.recv(1024)\n",
    "        time.sleep(1)\n",
    "        if not data or data.decode('utf-8') == 'exit':\n",
    "            break\n",
    "        sock.send(('Hello, %s!' % data.decode('utf-8')).encode('utf-8'))\n",
    "    sock.close()\n",
    "    print('Connection from %s:%s closed.' % addr)"
   ]
  },
  {
   "cell_type": "code",
   "execution_count": null,
   "metadata": {
    "collapsed": true
   },
   "outputs": [],
   "source": [
    "s = socket.socket(socket.AF_INET, socket.SOCK_STREAM)\n",
    "# 建立连接:\n",
    "s.connect(('127.0.0.1', 9999))\n",
    "# 接收欢迎消息:\n",
    "print(s.recv(1024).decode('utf-8'))\n",
    "for data in [b'Michael', b'Tracy', b'Sarah']:\n",
    "    # 发送数据:\n",
    "    s.send(data)\n",
    "    print(s.recv(1024).decode('utf-8'))\n",
    "s.send(b'exit')\n",
    "s.close()"
   ]
  },
  {
   "cell_type": "code",
   "execution_count": 10,
   "metadata": {},
   "outputs": [
    {
     "name": "stdout",
     "output_type": "stream",
     "text": [
      "/Users/michael/play\n"
     ]
    }
   ],
   "source": [
    "import os\n",
    "\n",
    "print(os.path.abspath('.'))"
   ]
  },
  {
   "cell_type": "code",
   "execution_count": 11,
   "metadata": {},
   "outputs": [
    {
     "ename": "NameError",
     "evalue": "name '__file__' is not defined",
     "output_type": "error",
     "traceback": [
      "\u001b[0;31m---------------------------------------------------------------------------\u001b[0m",
      "\u001b[0;31mNameError\u001b[0m                                 Traceback (most recent call last)",
      "\u001b[0;32m<ipython-input-11-cf64dc7fb808>\u001b[0m in \u001b[0;36m<module>\u001b[0;34m()\u001b[0m\n\u001b[0;32m----> 1\u001b[0;31m \u001b[0mprint\u001b[0m\u001b[0;34m(\u001b[0m\u001b[0m__file__\u001b[0m\u001b[0;34m)\u001b[0m\u001b[0;34m\u001b[0m\u001b[0m\n\u001b[0m",
      "\u001b[0;31mNameError\u001b[0m: name '__file__' is not defined"
     ]
    }
   ],
   "source": [
    "print(__file__)"
   ]
  },
  {
   "cell_type": "code",
   "execution_count": 12,
   "metadata": {},
   "outputs": [
    {
     "name": "stdout",
     "output_type": "stream",
     "text": [
      "['/Users/michael/anaconda3/lib/python3.6/site-packages/ipykernel_launcher.py', '-f', '/Users/michael/Library/Jupyter/runtime/kernel-e443d297-5a3e-4818-afca-8346f906a84d.json']\n"
     ]
    }
   ],
   "source": [
    "import sys\n",
    "\n",
    "print(sys.argv)"
   ]
  },
  {
   "cell_type": "code",
   "execution_count": 13,
   "metadata": {},
   "outputs": [
    {
     "name": "stdout",
     "output_type": "stream",
     "text": [
      "/Users/michael/anaconda3/bin/python\n"
     ]
    }
   ],
   "source": [
    "import sys\n",
    "\n",
    "print(sys.executable)"
   ]
  },
  {
   "cell_type": "code",
   "execution_count": null,
   "metadata": {
    "collapsed": true
   },
   "outputs": [],
   "source": []
  }
 ],
 "metadata": {
  "kernelspec": {
   "display_name": "Python 3",
   "language": "python",
   "name": "python3"
  },
  "language_info": {
   "codemirror_mode": {
    "name": "ipython",
    "version": 3
   },
   "file_extension": ".py",
   "mimetype": "text/x-python",
   "name": "python",
   "nbconvert_exporter": "python",
   "pygments_lexer": "ipython3",
   "version": "3.6.3"
  }
 },
 "nbformat": 4,
 "nbformat_minor": 2
}
